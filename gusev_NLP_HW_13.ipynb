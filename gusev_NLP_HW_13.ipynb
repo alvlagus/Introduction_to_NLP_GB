{
  "cells": [
    {
      "cell_type": "markdown",
      "metadata": {
        "id": "Kmb8UhIzOnfK"
      },
      "source": [
        "<h1 align='center'>Введение в обработку естественного языка</h1>  \n",
        "<h2 align='center'>Урок 13. Модель BERT и GPT</h2>  \n",
        "Практическое задание:  \n",
        "\n",
        "Взять датасет https://huggingface.co/datasets/merionum/ru_paraphraser решить задачу парафраза\n",
        "\n",
        "(дополнительно необязательная задача)на выбор взять https://huggingface.co/datasets/sberquad https://huggingface.co/datasets/blinoff/medical_qa_ru_data натренировать любую модель для вопросно ответной системы как альтернатива можно взять любой NER датасет из https://github.com/natasha/corus#reference и обучить NER\n",
        "\n",
        "\n"
      ]
    },
    {
      "cell_type": "markdown",
      "source": [
        "Загрузим датасет и необходимые библиотеки"
      ],
      "metadata": {
        "id": "AuNjAoq7oluE"
      }
    },
    {
      "cell_type": "code",
      "execution_count": null,
      "metadata": {
        "id": "OqkLTkFRfXvA"
      },
      "outputs": [],
      "source": [
        "!pip install -qq datasets"
      ]
    },
    {
      "cell_type": "code",
      "execution_count": null,
      "metadata": {
        "id": "-hpbNXiADPqN"
      },
      "outputs": [],
      "source": [
        "# !pip install -q transformers==4.28.0"
      ]
    },
    {
      "cell_type": "code",
      "source": [
        "!pip install -q git+https://github.com/huggingface/accelerate"
      ],
      "metadata": {
        "colab": {
          "base_uri": "https://localhost:8080/"
        },
        "id": "-1XQtVOniTVS",
        "outputId": "b149ac12-a679-4953-ad62-b50154ff3cdd"
      },
      "execution_count": null,
      "outputs": [
        {
          "output_type": "stream",
          "name": "stdout",
          "text": [
            "  Installing build dependencies ... \u001b[?25l\u001b[?25hdone\n",
            "  Getting requirements to build wheel ... \u001b[?25l\u001b[?25hdone\n",
            "  Preparing metadata (pyproject.toml) ... \u001b[?25l\u001b[?25hdone\n"
          ]
        }
      ]
    },
    {
      "cell_type": "code",
      "execution_count": null,
      "metadata": {
        "id": "SXS1sdYZCluU"
      },
      "outputs": [],
      "source": [
        "import numpy as np\n",
        "import pandas as pd\n",
        "\n",
        "import torch\n",
        "from torch.utils.data import DataLoader, Dataset\n",
        "\n",
        "from datasets import load_dataset\n",
        "\n",
        "from transformers import GPT2LMHeadModel, GPT2Tokenizer, DataCollatorForLanguageModeling, TextDataset, TrainingArguments, Trainer"
      ]
    },
    {
      "cell_type": "markdown",
      "metadata": {
        "id": "cCg5QbJmEtJ9"
      },
      "source": [
        "## Загрузим данные с помощью библиотеки datasets"
      ]
    },
    {
      "cell_type": "code",
      "execution_count": null,
      "metadata": {
        "colab": {
          "base_uri": "https://localhost:8080/",
          "height": 66,
          "referenced_widgets": [
            "e130bef6e3384e548138e1a602039c1d",
            "e08f90d9ea2a419ba4259bf9fc9bcf8a",
            "4922b908631946e497065d973aca0616",
            "99f801ab46694cf2b6e1d9ab3dceda12",
            "175f987c0735436a8acbfb46af9d8d40",
            "82690792576b4bcab94e5a40b599c161",
            "657af611c9d942be9e080af86a41a0e6",
            "342c1450ba304c62afaf1ecd99e0935a",
            "cb4e7ea9a5a64c35b63cf9ec2c70a688",
            "a13dfc04fb954b7987e66e75049531e7",
            "deff66c361744737863ac1991a6dffa4"
          ]
        },
        "id": "q5v_CgWVEs4Q",
        "outputId": "0a1120c6-5958-459d-8522-f786a0bd7cd9"
      },
      "outputs": [
        {
          "output_type": "stream",
          "name": "stderr",
          "text": [
            "WARNING:datasets.builder:Found cached dataset json (/root/.cache/huggingface/datasets/merionum___json/merionum--ru_paraphraser-e39dafb2b050eb83/0.0.0/e347ab1c932092252e717ff3f949105a4dd28b27e842dd53157d2f72e276c2e4)\n"
          ]
        },
        {
          "output_type": "display_data",
          "data": {
            "text/plain": [
              "  0%|          | 0/2 [00:00<?, ?it/s]"
            ],
            "application/vnd.jupyter.widget-view+json": {
              "version_major": 2,
              "version_minor": 0,
              "model_id": "e130bef6e3384e548138e1a602039c1d"
            }
          },
          "metadata": {}
        }
      ],
      "source": [
        "dataset = load_dataset('merionum/ru_paraphraser')"
      ]
    },
    {
      "cell_type": "markdown",
      "source": [
        "Dataset Summary  \n",
        "ParaPhraser — это корпус заголовков новостей, аннотированный по следующей схеме:\n",
        "\n",
        "1: precise paraphrases (точныq пересказ)  \n",
        "0: near paraphrases (близкий пересказ)  \n",
        "-1: non-paraphrases (не перезсказ)  "
      ],
      "metadata": {
        "id": "ZO_retDJErTT"
      }
    },
    {
      "cell_type": "code",
      "source": [
        "train = dataset['train']\n",
        "test = dataset['test']\n",
        "train"
      ],
      "metadata": {
        "colab": {
          "base_uri": "https://localhost:8080/"
        },
        "id": "LsHdEysq8JMG",
        "outputId": "c089a7c8-17a7-436a-b257-361258d56fe3"
      },
      "execution_count": null,
      "outputs": [
        {
          "output_type": "execute_result",
          "data": {
            "text/plain": [
              "Dataset({\n",
              "    features: ['id', 'id_1', 'id_2', 'text_1', 'text_2', 'class'],\n",
              "    num_rows: 7227\n",
              "})"
            ]
          },
          "metadata": {},
          "execution_count": 6
        }
      ]
    },
    {
      "cell_type": "code",
      "source": [
        "train[10]"
      ],
      "metadata": {
        "colab": {
          "base_uri": "https://localhost:8080/"
        },
        "id": "awcjI2EXHLqM",
        "outputId": "b4f401e6-8912-4b46-da90-b65e10f93a17"
      },
      "execution_count": null,
      "outputs": [
        {
          "output_type": "execute_result",
          "data": {
            "text/plain": [
              "{'id': '11',\n",
              " 'id_1': '246',\n",
              " 'id_2': '8165',\n",
              " 'text_1': 'Москвичи смогут забронировать в Интернете место на кладбище.',\n",
              " 'text_2': 'В Москве можно будет забронировать место на кладбище через интернет.',\n",
              " 'class': '1'}"
            ]
          },
          "metadata": {},
          "execution_count": 7
        }
      ]
    },
    {
      "cell_type": "markdown",
      "source": [
        "Берём только точные paraphrases"
      ],
      "metadata": {
        "id": "HKz4Mbj_LmlA"
      }
    },
    {
      "cell_type": "code",
      "source": [
        "threshold = 0\n",
        "train_x = np.array(train['text_1'])[np.array(train['class']).astype(int)>threshold]\n",
        "train_y = np.array(train['text_2'])[np.array(train['class']).astype(int)>threshold]\n",
        "test_x = np.array(test['text_1'])[np.array(test['class']).astype(int)>threshold]\n",
        "test_y = np.array(test['text_2'])[np.array(test['class']).astype(int)>threshold]\n",
        "train_x[0], train_y[0]"
      ],
      "metadata": {
        "colab": {
          "base_uri": "https://localhost:8080/"
        },
        "id": "Nz-8TniO8JKB",
        "outputId": "92b235eb-b91b-4ee1-80bc-8d95ac91a45f"
      },
      "execution_count": null,
      "outputs": [
        {
          "output_type": "execute_result",
          "data": {
            "text/plain": [
              "('Приставы соберут отпечатки пальцев российских должников.',\n",
              " 'Приставы снимут отпечатки пальцев у злостных неплательщиков.')"
            ]
          },
          "metadata": {},
          "execution_count": 8
        }
      ]
    },
    {
      "cell_type": "markdown",
      "source": [
        "Так как оценка будет визуальной, то для теста возьмём только 15 примеров"
      ],
      "metadata": {
        "id": "68TUXd47HtN8"
      }
    },
    {
      "cell_type": "code",
      "source": [
        "df = pd.DataFrame({'original_text': list(train_x)+list(test_x)[:15], 'paraphrased_text': list(train_y)+list(test_y)[:15]})\n",
        "df.head()"
      ],
      "metadata": {
        "colab": {
          "base_uri": "https://localhost:8080/",
          "height": 206
        },
        "id": "Qug3RpSv8JIB",
        "outputId": "809577db-0c80-4467-8391-f963482125ef"
      },
      "execution_count": null,
      "outputs": [
        {
          "output_type": "execute_result",
          "data": {
            "text/plain": [
              "                                       original_text  \\\n",
              "0  Приставы соберут отпечатки пальцев российских ...   \n",
              "1  Москвичи смогут забронировать в Интернете мест...   \n",
              "2  Северокорейский лидер впервые за 19 лет поздра...   \n",
              "3  Мужчина из Подмосковья случайно убил жену в Но...   \n",
              "4        Житель Украины расстрелял посетителей кафе.   \n",
              "\n",
              "                                    paraphrased_text  \n",
              "0  Приставы снимут отпечатки пальцев у злостных н...  \n",
              "1  В Москве можно будет забронировать место на кл...  \n",
              "2  Лидер КНДР впервые за 19 лет поздравил согражд...  \n",
              "3  Житель Подмосковья случайно убил жену на новог...  \n",
              "4  На Украине мужчина через окно расстрелял посет...  "
            ],
            "text/html": [
              "\n",
              "  <div id=\"df-e2faa615-ddcf-4405-98f1-6db5dd1ed57f\">\n",
              "    <div class=\"colab-df-container\">\n",
              "      <div>\n",
              "<style scoped>\n",
              "    .dataframe tbody tr th:only-of-type {\n",
              "        vertical-align: middle;\n",
              "    }\n",
              "\n",
              "    .dataframe tbody tr th {\n",
              "        vertical-align: top;\n",
              "    }\n",
              "\n",
              "    .dataframe thead th {\n",
              "        text-align: right;\n",
              "    }\n",
              "</style>\n",
              "<table border=\"1\" class=\"dataframe\">\n",
              "  <thead>\n",
              "    <tr style=\"text-align: right;\">\n",
              "      <th></th>\n",
              "      <th>original_text</th>\n",
              "      <th>paraphrased_text</th>\n",
              "    </tr>\n",
              "  </thead>\n",
              "  <tbody>\n",
              "    <tr>\n",
              "      <th>0</th>\n",
              "      <td>Приставы соберут отпечатки пальцев российских ...</td>\n",
              "      <td>Приставы снимут отпечатки пальцев у злостных н...</td>\n",
              "    </tr>\n",
              "    <tr>\n",
              "      <th>1</th>\n",
              "      <td>Москвичи смогут забронировать в Интернете мест...</td>\n",
              "      <td>В Москве можно будет забронировать место на кл...</td>\n",
              "    </tr>\n",
              "    <tr>\n",
              "      <th>2</th>\n",
              "      <td>Северокорейский лидер впервые за 19 лет поздра...</td>\n",
              "      <td>Лидер КНДР впервые за 19 лет поздравил согражд...</td>\n",
              "    </tr>\n",
              "    <tr>\n",
              "      <th>3</th>\n",
              "      <td>Мужчина из Подмосковья случайно убил жену в Но...</td>\n",
              "      <td>Житель Подмосковья случайно убил жену на новог...</td>\n",
              "    </tr>\n",
              "    <tr>\n",
              "      <th>4</th>\n",
              "      <td>Житель Украины расстрелял посетителей кафе.</td>\n",
              "      <td>На Украине мужчина через окно расстрелял посет...</td>\n",
              "    </tr>\n",
              "  </tbody>\n",
              "</table>\n",
              "</div>\n",
              "      <button class=\"colab-df-convert\" onclick=\"convertToInteractive('df-e2faa615-ddcf-4405-98f1-6db5dd1ed57f')\"\n",
              "              title=\"Convert this dataframe to an interactive table.\"\n",
              "              style=\"display:none;\">\n",
              "        \n",
              "  <svg xmlns=\"http://www.w3.org/2000/svg\" height=\"24px\"viewBox=\"0 0 24 24\"\n",
              "       width=\"24px\">\n",
              "    <path d=\"M0 0h24v24H0V0z\" fill=\"none\"/>\n",
              "    <path d=\"M18.56 5.44l.94 2.06.94-2.06 2.06-.94-2.06-.94-.94-2.06-.94 2.06-2.06.94zm-11 1L8.5 8.5l.94-2.06 2.06-.94-2.06-.94L8.5 2.5l-.94 2.06-2.06.94zm10 10l.94 2.06.94-2.06 2.06-.94-2.06-.94-.94-2.06-.94 2.06-2.06.94z\"/><path d=\"M17.41 7.96l-1.37-1.37c-.4-.4-.92-.59-1.43-.59-.52 0-1.04.2-1.43.59L10.3 9.45l-7.72 7.72c-.78.78-.78 2.05 0 2.83L4 21.41c.39.39.9.59 1.41.59.51 0 1.02-.2 1.41-.59l7.78-7.78 2.81-2.81c.8-.78.8-2.07 0-2.86zM5.41 20L4 18.59l7.72-7.72 1.47 1.35L5.41 20z\"/>\n",
              "  </svg>\n",
              "      </button>\n",
              "      \n",
              "  <style>\n",
              "    .colab-df-container {\n",
              "      display:flex;\n",
              "      flex-wrap:wrap;\n",
              "      gap: 12px;\n",
              "    }\n",
              "\n",
              "    .colab-df-convert {\n",
              "      background-color: #E8F0FE;\n",
              "      border: none;\n",
              "      border-radius: 50%;\n",
              "      cursor: pointer;\n",
              "      display: none;\n",
              "      fill: #1967D2;\n",
              "      height: 32px;\n",
              "      padding: 0 0 0 0;\n",
              "      width: 32px;\n",
              "    }\n",
              "\n",
              "    .colab-df-convert:hover {\n",
              "      background-color: #E2EBFA;\n",
              "      box-shadow: 0px 1px 2px rgba(60, 64, 67, 0.3), 0px 1px 3px 1px rgba(60, 64, 67, 0.15);\n",
              "      fill: #174EA6;\n",
              "    }\n",
              "\n",
              "    [theme=dark] .colab-df-convert {\n",
              "      background-color: #3B4455;\n",
              "      fill: #D2E3FC;\n",
              "    }\n",
              "\n",
              "    [theme=dark] .colab-df-convert:hover {\n",
              "      background-color: #434B5C;\n",
              "      box-shadow: 0px 1px 3px 1px rgba(0, 0, 0, 0.15);\n",
              "      filter: drop-shadow(0px 1px 2px rgba(0, 0, 0, 0.3));\n",
              "      fill: #FFFFFF;\n",
              "    }\n",
              "  </style>\n",
              "\n",
              "      <script>\n",
              "        const buttonEl =\n",
              "          document.querySelector('#df-e2faa615-ddcf-4405-98f1-6db5dd1ed57f button.colab-df-convert');\n",
              "        buttonEl.style.display =\n",
              "          google.colab.kernel.accessAllowed ? 'block' : 'none';\n",
              "\n",
              "        async function convertToInteractive(key) {\n",
              "          const element = document.querySelector('#df-e2faa615-ddcf-4405-98f1-6db5dd1ed57f');\n",
              "          const dataTable =\n",
              "            await google.colab.kernel.invokeFunction('convertToInteractive',\n",
              "                                                     [key], {});\n",
              "          if (!dataTable) return;\n",
              "\n",
              "          const docLinkHtml = 'Like what you see? Visit the ' +\n",
              "            '<a target=\"_blank\" href=https://colab.research.google.com/notebooks/data_table.ipynb>data table notebook</a>'\n",
              "            + ' to learn more about interactive tables.';\n",
              "          element.innerHTML = '';\n",
              "          dataTable['output_type'] = 'display_data';\n",
              "          await google.colab.output.renderOutput(dataTable, element);\n",
              "          const docLink = document.createElement('div');\n",
              "          docLink.innerHTML = docLinkHtml;\n",
              "          element.appendChild(docLink);\n",
              "        }\n",
              "      </script>\n",
              "    </div>\n",
              "  </div>\n",
              "  "
            ]
          },
          "metadata": {},
          "execution_count": 9
        }
      ]
    },
    {
      "cell_type": "code",
      "source": [
        "test=list(zip(list(test_x)[-15:], list(test_y)[-15:]))\n",
        "test[0]"
      ],
      "metadata": {
        "colab": {
          "base_uri": "https://localhost:8080/"
        },
        "id": "FcBQ7luKrxKu",
        "outputId": "b9b3b168-ddd1-460e-b453-5ebd8641c295"
      },
      "execution_count": null,
      "outputs": [
        {
          "output_type": "execute_result",
          "data": {
            "text/plain": [
              "('США исключили Кубу из списка государств, спонсирующих терроризм',\n",
              " 'США исключили Кубу из списка государств-спонсоров терроризма')"
            ]
          },
          "metadata": {},
          "execution_count": 10
        }
      ]
    },
    {
      "cell_type": "markdown",
      "source": [
        "Добавим спец символы, обозначающие начало и конецфраз, а так же их разделение"
      ],
      "metadata": {
        "id": "nNXRApzxNfNz"
      }
    },
    {
      "cell_type": "code",
      "source": [
        "df['combined'] = '<s>' + df['original_text'] + '<s>'+' --> '+'<p>'+df['paraphrased_text']+'</p>'\n",
        "df.head()"
      ],
      "metadata": {
        "colab": {
          "base_uri": "https://localhost:8080/",
          "height": 206
        },
        "id": "Qfrx18vW8JDO",
        "outputId": "15ef68f3-584c-464e-971d-81903d8c9c61"
      },
      "execution_count": null,
      "outputs": [
        {
          "output_type": "execute_result",
          "data": {
            "text/plain": [
              "                                       original_text  \\\n",
              "0  Приставы соберут отпечатки пальцев российских ...   \n",
              "1  Москвичи смогут забронировать в Интернете мест...   \n",
              "2  Северокорейский лидер впервые за 19 лет поздра...   \n",
              "3  Мужчина из Подмосковья случайно убил жену в Но...   \n",
              "4        Житель Украины расстрелял посетителей кафе.   \n",
              "\n",
              "                                    paraphrased_text  \\\n",
              "0  Приставы снимут отпечатки пальцев у злостных н...   \n",
              "1  В Москве можно будет забронировать место на кл...   \n",
              "2  Лидер КНДР впервые за 19 лет поздравил согражд...   \n",
              "3  Житель Подмосковья случайно убил жену на новог...   \n",
              "4  На Украине мужчина через окно расстрелял посет...   \n",
              "\n",
              "                                            combined  \n",
              "0  <s>Приставы соберут отпечатки пальцев российск...  \n",
              "1  <s>Москвичи смогут забронировать в Интернете м...  \n",
              "2  <s>Северокорейский лидер впервые за 19 лет поз...  \n",
              "3  <s>Мужчина из Подмосковья случайно убил жену в...  \n",
              "4  <s>Житель Украины расстрелял посетителей кафе....  "
            ],
            "text/html": [
              "\n",
              "  <div id=\"df-72e87572-eca7-4347-be4d-102d3eeeb951\">\n",
              "    <div class=\"colab-df-container\">\n",
              "      <div>\n",
              "<style scoped>\n",
              "    .dataframe tbody tr th:only-of-type {\n",
              "        vertical-align: middle;\n",
              "    }\n",
              "\n",
              "    .dataframe tbody tr th {\n",
              "        vertical-align: top;\n",
              "    }\n",
              "\n",
              "    .dataframe thead th {\n",
              "        text-align: right;\n",
              "    }\n",
              "</style>\n",
              "<table border=\"1\" class=\"dataframe\">\n",
              "  <thead>\n",
              "    <tr style=\"text-align: right;\">\n",
              "      <th></th>\n",
              "      <th>original_text</th>\n",
              "      <th>paraphrased_text</th>\n",
              "      <th>combined</th>\n",
              "    </tr>\n",
              "  </thead>\n",
              "  <tbody>\n",
              "    <tr>\n",
              "      <th>0</th>\n",
              "      <td>Приставы соберут отпечатки пальцев российских ...</td>\n",
              "      <td>Приставы снимут отпечатки пальцев у злостных н...</td>\n",
              "      <td>&lt;s&gt;Приставы соберут отпечатки пальцев российск...</td>\n",
              "    </tr>\n",
              "    <tr>\n",
              "      <th>1</th>\n",
              "      <td>Москвичи смогут забронировать в Интернете мест...</td>\n",
              "      <td>В Москве можно будет забронировать место на кл...</td>\n",
              "      <td>&lt;s&gt;Москвичи смогут забронировать в Интернете м...</td>\n",
              "    </tr>\n",
              "    <tr>\n",
              "      <th>2</th>\n",
              "      <td>Северокорейский лидер впервые за 19 лет поздра...</td>\n",
              "      <td>Лидер КНДР впервые за 19 лет поздравил согражд...</td>\n",
              "      <td>&lt;s&gt;Северокорейский лидер впервые за 19 лет поз...</td>\n",
              "    </tr>\n",
              "    <tr>\n",
              "      <th>3</th>\n",
              "      <td>Мужчина из Подмосковья случайно убил жену в Но...</td>\n",
              "      <td>Житель Подмосковья случайно убил жену на новог...</td>\n",
              "      <td>&lt;s&gt;Мужчина из Подмосковья случайно убил жену в...</td>\n",
              "    </tr>\n",
              "    <tr>\n",
              "      <th>4</th>\n",
              "      <td>Житель Украины расстрелял посетителей кафе.</td>\n",
              "      <td>На Украине мужчина через окно расстрелял посет...</td>\n",
              "      <td>&lt;s&gt;Житель Украины расстрелял посетителей кафе....</td>\n",
              "    </tr>\n",
              "  </tbody>\n",
              "</table>\n",
              "</div>\n",
              "      <button class=\"colab-df-convert\" onclick=\"convertToInteractive('df-72e87572-eca7-4347-be4d-102d3eeeb951')\"\n",
              "              title=\"Convert this dataframe to an interactive table.\"\n",
              "              style=\"display:none;\">\n",
              "        \n",
              "  <svg xmlns=\"http://www.w3.org/2000/svg\" height=\"24px\"viewBox=\"0 0 24 24\"\n",
              "       width=\"24px\">\n",
              "    <path d=\"M0 0h24v24H0V0z\" fill=\"none\"/>\n",
              "    <path d=\"M18.56 5.44l.94 2.06.94-2.06 2.06-.94-2.06-.94-.94-2.06-.94 2.06-2.06.94zm-11 1L8.5 8.5l.94-2.06 2.06-.94-2.06-.94L8.5 2.5l-.94 2.06-2.06.94zm10 10l.94 2.06.94-2.06 2.06-.94-2.06-.94-.94-2.06-.94 2.06-2.06.94z\"/><path d=\"M17.41 7.96l-1.37-1.37c-.4-.4-.92-.59-1.43-.59-.52 0-1.04.2-1.43.59L10.3 9.45l-7.72 7.72c-.78.78-.78 2.05 0 2.83L4 21.41c.39.39.9.59 1.41.59.51 0 1.02-.2 1.41-.59l7.78-7.78 2.81-2.81c.8-.78.8-2.07 0-2.86zM5.41 20L4 18.59l7.72-7.72 1.47 1.35L5.41 20z\"/>\n",
              "  </svg>\n",
              "      </button>\n",
              "      \n",
              "  <style>\n",
              "    .colab-df-container {\n",
              "      display:flex;\n",
              "      flex-wrap:wrap;\n",
              "      gap: 12px;\n",
              "    }\n",
              "\n",
              "    .colab-df-convert {\n",
              "      background-color: #E8F0FE;\n",
              "      border: none;\n",
              "      border-radius: 50%;\n",
              "      cursor: pointer;\n",
              "      display: none;\n",
              "      fill: #1967D2;\n",
              "      height: 32px;\n",
              "      padding: 0 0 0 0;\n",
              "      width: 32px;\n",
              "    }\n",
              "\n",
              "    .colab-df-convert:hover {\n",
              "      background-color: #E2EBFA;\n",
              "      box-shadow: 0px 1px 2px rgba(60, 64, 67, 0.3), 0px 1px 3px 1px rgba(60, 64, 67, 0.15);\n",
              "      fill: #174EA6;\n",
              "    }\n",
              "\n",
              "    [theme=dark] .colab-df-convert {\n",
              "      background-color: #3B4455;\n",
              "      fill: #D2E3FC;\n",
              "    }\n",
              "\n",
              "    [theme=dark] .colab-df-convert:hover {\n",
              "      background-color: #434B5C;\n",
              "      box-shadow: 0px 1px 3px 1px rgba(0, 0, 0, 0.15);\n",
              "      filter: drop-shadow(0px 1px 2px rgba(0, 0, 0, 0.3));\n",
              "      fill: #FFFFFF;\n",
              "    }\n",
              "  </style>\n",
              "\n",
              "      <script>\n",
              "        const buttonEl =\n",
              "          document.querySelector('#df-72e87572-eca7-4347-be4d-102d3eeeb951 button.colab-df-convert');\n",
              "        buttonEl.style.display =\n",
              "          google.colab.kernel.accessAllowed ? 'block' : 'none';\n",
              "\n",
              "        async function convertToInteractive(key) {\n",
              "          const element = document.querySelector('#df-72e87572-eca7-4347-be4d-102d3eeeb951');\n",
              "          const dataTable =\n",
              "            await google.colab.kernel.invokeFunction('convertToInteractive',\n",
              "                                                     [key], {});\n",
              "          if (!dataTable) return;\n",
              "\n",
              "          const docLinkHtml = 'Like what you see? Visit the ' +\n",
              "            '<a target=\"_blank\" href=https://colab.research.google.com/notebooks/data_table.ipynb>data table notebook</a>'\n",
              "            + ' to learn more about interactive tables.';\n",
              "          element.innerHTML = '';\n",
              "          dataTable['output_type'] = 'display_data';\n",
              "          await google.colab.output.renderOutput(dataTable, element);\n",
              "          const docLink = document.createElement('div');\n",
              "          docLink.innerHTML = docLinkHtml;\n",
              "          element.appendChild(docLink);\n",
              "        }\n",
              "      </script>\n",
              "    </div>\n",
              "  </div>\n",
              "  "
            ]
          },
          "metadata": {},
          "execution_count": 11
        }
      ]
    },
    {
      "cell_type": "code",
      "source": [
        "df['combined'][0]"
      ],
      "metadata": {
        "colab": {
          "base_uri": "https://localhost:8080/",
          "height": 35
        },
        "id": "sWkqgWPE8JAn",
        "outputId": "945d9a32-8c68-430c-9a76-910d8b62daac"
      },
      "execution_count": null,
      "outputs": [
        {
          "output_type": "execute_result",
          "data": {
            "text/plain": [
              "'<s>Приставы соберут отпечатки пальцев российских должников.<s> --> <p>Приставы снимут отпечатки пальцев у злостных неплательщиков.</p>'"
            ],
            "application/vnd.google.colaboratory.intrinsic+json": {
              "type": "string"
            }
          },
          "metadata": {},
          "execution_count": 12
        }
      ]
    },
    {
      "cell_type": "markdown",
      "source": [
        "Сохраним в текстовый файл наши данные"
      ],
      "metadata": {
        "id": "3VlMwYWOOgzw"
      }
    },
    {
      "cell_type": "code",
      "source": [
        "df.combined.to_csv('combined.txt', sep='\\n', index=False)"
      ],
      "metadata": {
        "id": "F1P1UstC8I7h"
      },
      "execution_count": null,
      "outputs": []
    },
    {
      "cell_type": "markdown",
      "source": [
        "### Модель"
      ],
      "metadata": {
        "id": "6y6WmPdaOxT-"
      }
    },
    {
      "cell_type": "markdown",
      "source": [
        "Используем gpt2 модель, которую проходили на вебинаре"
      ],
      "metadata": {
        "id": "FXzmTZVQOxKk"
      }
    },
    {
      "cell_type": "code",
      "source": [
        "tokenizer = GPT2Tokenizer.from_pretrained(\"sberbank-ai/rugpt3small_based_on_gpt2\", eos_token='</p>')\n",
        "ru_gpt = GPT2LMHeadModel.from_pretrained(\"sberbank-ai/rugpt3small_based_on_gpt2\", output_attentions=True)"
      ],
      "metadata": {
        "colab": {
          "base_uri": "https://localhost:8080/"
        },
        "id": "a-54LTDB8I4e",
        "outputId": "242e3e28-9b0c-417f-9c97-67702362bd18"
      },
      "execution_count": null,
      "outputs": [
        {
          "output_type": "stream",
          "name": "stderr",
          "text": [
            "Special tokens have been added in the vocabulary, make sure the associated word embeddings are fine-tuned or trained.\n"
          ]
        }
      ]
    },
    {
      "cell_type": "code",
      "source": [
        "device = \"cuda:0\"\n",
        "ru_gpt.to(device);"
      ],
      "metadata": {
        "id": "W6wagcP98Ia0"
      },
      "execution_count": null,
      "outputs": []
    },
    {
      "cell_type": "markdown",
      "source": [
        "Подготовка к тренировке модели"
      ],
      "metadata": {
        "id": "W_23XxZMSpME"
      }
    },
    {
      "cell_type": "code",
      "source": [
        "data_collator = DataCollatorForLanguageModeling(tokenizer=tokenizer, mlm=False)"
      ],
      "metadata": {
        "id": "eLYJrWJKPTar"
      },
      "execution_count": null,
      "outputs": []
    },
    {
      "cell_type": "code",
      "source": [
        "train_path='/content/combined.txt'\n",
        "train_dataset=TextDataset(tokenizer=tokenizer,\n",
        "          file_path=train_path,\n",
        "          block_size=128)"
      ],
      "metadata": {
        "colab": {
          "base_uri": "https://localhost:8080/"
        },
        "id": "rh5IDWJXTD4C",
        "outputId": "10bc3e9b-e37a-493e-db4a-8e120c6ed3ed"
      },
      "execution_count": null,
      "outputs": [
        {
          "output_type": "stream",
          "name": "stderr",
          "text": [
            "/usr/local/lib/python3.10/dist-packages/transformers/data/datasets/language_modeling.py:53: FutureWarning: This dataset will be removed from the library soon, preprocessing should be handled with the 🤗 Datasets library. You can have a look at this example script for pointers: https://github.com/huggingface/transformers/blob/main/examples/pytorch/language-modeling/run_mlm.py\n",
            "  warnings.warn(\n"
          ]
        }
      ]
    },
    {
      "cell_type": "markdown",
      "source": [
        "Настройка параметров обучения"
      ],
      "metadata": {
        "id": "frblBkJVZXDI"
      }
    },
    {
      "cell_type": "code",
      "source": [
        "training_args = TrainingArguments(\n",
        "    output_dir=\"./gpt2-chief\", #The output directory\n",
        "    overwrite_output_dir=True, #overwrite the content of the output directory\n",
        "    num_train_epochs=3, # number of training epochs\n",
        "    per_device_train_batch_size=4, # batch size for training\n",
        "    per_device_eval_batch_size=4,  # batch size for evaluation\n",
        "    eval_steps = 100, # Number of update steps between two evaluations.\n",
        "    save_steps=100, # after # steps model is saved\n",
        "    warmup_steps=100,# number of warmup steps for learning rate scheduler\n",
        "    logging_steps=100\n",
        "    )"
      ],
      "metadata": {
        "id": "SSLeJWPXZUFY"
      },
      "execution_count": null,
      "outputs": []
    },
    {
      "cell_type": "code",
      "source": [
        "trainer = Trainer(\n",
        "    model=ru_gpt,\n",
        "    args=training_args,\n",
        "    train_dataset=train_dataset,\n",
        "    data_collator=data_collator\n",
        ")"
      ],
      "metadata": {
        "id": "5Sp0tsFaaBdw"
      },
      "execution_count": null,
      "outputs": []
    },
    {
      "cell_type": "markdown",
      "source": [
        "Но сначала посмотрим, что модель генерирует без обучения"
      ],
      "metadata": {
        "id": "g1GtCEZfbNHz"
      }
    },
    {
      "cell_type": "code",
      "source": [
        "# def paraphrase(text, repetition_penalty=5., temperature=0.5, num_beams=10):\n",
        "def paraphrase(text, repetition_penalty, temperature, num_beams):    \n",
        "    ru_gpt.eval()\n",
        "    spec_text = '<s>'+text+'</s>'+' --> '+'<p>'\n",
        "    tokens = tokenizer(spec_text, return_tensors='pt').to('cuda:0')\n",
        "    size = tokens['input_ids'].shape[1]\n",
        "    output = ru_gpt.generate(\n",
        "        **tokens,\n",
        "        do_sample=False,\n",
        "        max_length=size+50, \n",
        "        repetition_penalty=repetition_penalty, \n",
        "        temperature=temperature,\n",
        "        num_beams=num_beams,\n",
        "        pad_token_id=tokenizer.eos_token_id,\n",
        "        eos_token_id=tokenizer.eos_token_id\n",
        "    )\n",
        "\n",
        "    decoded = tokenizer.decode(output[0])\n",
        "    result = decoded[len(spec_text):]\n",
        "    stop_indx = result.index('</p>') if '</p>' in result else None\n",
        "    result = result[:stop_indx]\n",
        "    return result"
      ],
      "metadata": {
        "id": "etSJ6T1ObNwI"
      },
      "execution_count": null,
      "outputs": []
    },
    {
      "cell_type": "code",
      "source": [
        "for text in test[:3]:\n",
        "  print(f'Input: {text[0]}')\n",
        "  print(f'Paraphrase: {paraphrase(text[0], repetition_penalty=5., temperature=0.5, num_beams=10)}')\n",
        "  print(f'True: {text[1]}')\n",
        "  print()"
      ],
      "metadata": {
        "colab": {
          "base_uri": "https://localhost:8080/"
        },
        "id": "558k2fz8bpSZ",
        "outputId": "ed3fb0dd-be49-4c46-e306-b7c7dc775c03"
      },
      "execution_count": null,
      "outputs": [
        {
          "output_type": "stream",
          "name": "stdout",
          "text": [
            "Input: США исключили Кубу из списка государств, спонсирующих терроризм\n",
            "Paraphrase: \n",
            "&nbsp;&nbsp;&nbsp;&nbsp;&nbsp;&nbsp;&nbsp;&nbsp;&nbsp;&nbsp;&nbsp;&nbsp;&nbsp;&nbsp;&nbsp;&nbsp;&nbsp;&nbsp;&nbsp;&nbsp;&nbsp;&nbsp;&nbsp;&nbsp;&\n",
            "True: США исключили Кубу из списка государств-спонсоров терроризма\n",
            "\n",
            "Input: СМИ: налоговая служба США готовит новые обвинения по делу ФИФА\n",
            "Paraphrase: \n",
            "http://www.gazeta.ru/business/news/2015/08/31/n_14623949.shtml\n",
            "\n",
            "\n",
            "31382471\tmakowkina-nata\n",
            "True: Налоговая служба США пообещала новые обвинения по делу о коррупции в ФИФА\n",
            "\n",
            "Input: Около 20 стран будут участвовать в армейских играх в России в августе\n",
            "Paraphrase: http://www.youtube.com/...✂ http://www.youtube.com/...✂ http://www.youtube.com/...✂ http://www.youtube.com/...✂ http://www.youtube.com/...✂ http://www.y\n",
            "True: В армейских играх в России примут участие около 20 стран\n",
            "\n"
          ]
        }
      ]
    },
    {
      "cell_type": "markdown",
      "source": [
        "Как видно, модель совсем необучена на задачу Paraphrase.  \n",
        "Займёмся её тренеровкой"
      ],
      "metadata": {
        "id": "zBec6pzycCTy"
      }
    },
    {
      "cell_type": "code",
      "source": [
        "trainer.train()"
      ],
      "metadata": {
        "colab": {
          "base_uri": "https://localhost:8080/",
          "height": 259
        },
        "id": "NPPzPjCtbpOQ",
        "outputId": "d0b06fcb-72ca-4cc5-8491-6039ac5d36de"
      },
      "execution_count": null,
      "outputs": [
        {
          "output_type": "stream",
          "name": "stderr",
          "text": [
            "/usr/local/lib/python3.10/dist-packages/transformers/optimization.py:407: FutureWarning: This implementation of AdamW is deprecated and will be removed in a future version. Use the PyTorch implementation torch.optim.AdamW instead, or set `no_deprecation_warning=True` to disable this warning\n",
            "  warnings.warn(\n"
          ]
        },
        {
          "output_type": "display_data",
          "data": {
            "text/plain": [
              "<IPython.core.display.HTML object>"
            ],
            "text/html": [
              "\n",
              "    <div>\n",
              "      \n",
              "      <progress value='378' max='378' style='width:300px; height:20px; vertical-align: middle;'></progress>\n",
              "      [378/378 01:22, Epoch 3/3]\n",
              "    </div>\n",
              "    <table border=\"1\" class=\"dataframe\">\n",
              "  <thead>\n",
              " <tr style=\"text-align: left;\">\n",
              "      <th>Step</th>\n",
              "      <th>Training Loss</th>\n",
              "    </tr>\n",
              "  </thead>\n",
              "  <tbody>\n",
              "    <tr>\n",
              "      <td>100</td>\n",
              "      <td>2.384100</td>\n",
              "    </tr>\n",
              "    <tr>\n",
              "      <td>200</td>\n",
              "      <td>1.569000</td>\n",
              "    </tr>\n",
              "    <tr>\n",
              "      <td>300</td>\n",
              "      <td>1.346600</td>\n",
              "    </tr>\n",
              "  </tbody>\n",
              "</table><p>"
            ]
          },
          "metadata": {}
        },
        {
          "output_type": "execute_result",
          "data": {
            "text/plain": [
              "TrainOutput(global_step=378, training_loss=1.6469452873108879, metrics={'train_runtime': 83.1385, 'train_samples_per_second': 18.187, 'train_steps_per_second': 4.547, 'total_flos': 98768388096000.0, 'train_loss': 1.6469452873108879, 'epoch': 3.0})"
            ]
          },
          "metadata": {},
          "execution_count": 22
        }
      ]
    },
    {
      "cell_type": "markdown",
      "source": [
        "Посмотрим какие теперь результаты:"
      ],
      "metadata": {
        "id": "eCCHI0q4cMx-"
      }
    },
    {
      "cell_type": "code",
      "source": [
        "for text in test[:3]:\n",
        "  print(f'Input: {text[0]}')\n",
        "  print(f'Paraphrase: {paraphrase(text[0], repetition_penalty=5., temperature=0.5, num_beams=10)}')\n",
        "  print(f'True: {text[1]}')\n",
        "  print()"
      ],
      "metadata": {
        "colab": {
          "base_uri": "https://localhost:8080/"
        },
        "id": "RD7chVI0bpJY",
        "outputId": "25b7a91b-984c-491e-9728-d000472db795"
      },
      "execution_count": null,
      "outputs": [
        {
          "output_type": "stream",
          "name": "stdout",
          "text": [
            "Input: США исключили Кубу из списка государств, спонсирующих терроризм\n",
            "Paraphrase: США исключили Кубу из списка стран, запрещенных в России \n",
            "True: США исключили Кубу из списка государств-спонсоров терроризма\n",
            "\n",
            "Input: СМИ: налоговая служба США готовит новые обвинения по делу ФИФА\n",
            "Paraphrase: Американская налоговая служба заявила о новых обвинениях в адрес ФИФА \n",
            "True: Налоговая служба США пообещала новые обвинения по делу о коррупции в ФИФА\n",
            "\n",
            "Input: Около 20 стран будут участвовать в армейских играх в России в августе\n",
            "Paraphrase: КНДР объявила о проведении военных игр в России в августе \n",
            "True: В армейских играх в России примут участие около 20 стран\n",
            "\n"
          ]
        }
      ]
    },
    {
      "cell_type": "markdown",
      "source": [
        "Результаты очень даже неплохие"
      ],
      "metadata": {
        "id": "hDUjF1oIcdm4"
      }
    },
    {
      "cell_type": "markdown",
      "source": [
        "Попробуем улучшить генерацию увеличивая параметр beem"
      ],
      "metadata": {
        "id": "4QWzCwfFcdSN"
      }
    },
    {
      "cell_type": "code",
      "source": [
        "for text in test[:3]:\n",
        "  print(f'Input: {text[0]}')\n",
        "  print(f'Paraphrase: {paraphrase(text[0], repetition_penalty=5., temperature=0.5, num_beams=150)}')\n",
        "  print(f'True: {text[1]}')\n",
        "  print()"
      ],
      "metadata": {
        "colab": {
          "base_uri": "https://localhost:8080/"
        },
        "id": "FKO7cRoSbpBI",
        "outputId": "b43933b6-6582-4adc-ad3e-e923f7ca6dce"
      },
      "execution_count": null,
      "outputs": [
        {
          "output_type": "stream",
          "name": "stdout",
          "text": [
            "Input: США исключили Кубу из списка государств, спонсирующих терроризм\n",
            "Paraphrase: США исключили Кубу из списка стран, запрещенных в России \n",
            "True: США исключили Кубу из списка государств-спонсоров терроризма\n",
            "\n",
            "Input: СМИ: налоговая служба США готовит новые обвинения по делу ФИФА\n",
            "Paraphrase: Биржевой курс доллара упал ниже 50 руб. \n",
            "True: Налоговая служба США пообещала новые обвинения по делу о коррупции в ФИФА\n",
            "\n",
            "Input: Около 20 стран будут участвовать в армейских играх в России в августе\n",
            "Paraphrase: Биржевой курс доллара упал ниже 50 руб. \n",
            "True: В армейских играх в России примут участие около 20 стран\n",
            "\n"
          ]
        }
      ]
    },
    {
      "cell_type": "markdown",
      "source": [
        "Теперь попробуем уменьшить температуру"
      ],
      "metadata": {
        "id": "2ROBLhrWctMd"
      }
    },
    {
      "cell_type": "code",
      "source": [
        "for text in test[:3]:\n",
        "  print(f'Input: {text[0]}')\n",
        "  print(f'Paraphrase: {paraphrase(text[0], repetition_penalty=5., temperature=0.1, num_beams=10)}')\n",
        "  print(f'True: {text[1]}')\n",
        "  print()"
      ],
      "metadata": {
        "colab": {
          "base_uri": "https://localhost:8080/"
        },
        "id": "-wlC2cIxbo48",
        "outputId": "2a334b92-6c51-49aa-a8d0-b7a36758ce8f"
      },
      "execution_count": null,
      "outputs": [
        {
          "output_type": "stream",
          "name": "stdout",
          "text": [
            "Input: США исключили Кубу из списка государств, спонсирующих терроризм\n",
            "Paraphrase: США исключили Кубу из списка стран, запрещенных в России \n",
            "True: США исключили Кубу из списка государств-спонсоров терроризма\n",
            "\n",
            "Input: СМИ: налоговая служба США готовит новые обвинения по делу ФИФА\n",
            "Paraphrase: Американская налоговая служба заявила о новых обвинениях в адрес ФИФА \n",
            "True: Налоговая служба США пообещала новые обвинения по делу о коррупции в ФИФА\n",
            "\n",
            "Input: Около 20 стран будут участвовать в армейских играх в России в августе\n",
            "Paraphrase: КНДР объявила о проведении военных игр в России в августе \n",
            "True: В армейских играх в России примут участие около 20 стран\n",
            "\n"
          ]
        }
      ]
    },
    {
      "cell_type": "code",
      "source": [
        "for text in test[:3]:\n",
        "  print(f'Input: {text[0]}')\n",
        "  print(f'Paraphrase: {paraphrase(text[0], repetition_penalty=5., temperature=1, num_beams=10)}')\n",
        "  print(f'True: {text[1]}')\n",
        "  print()"
      ],
      "metadata": {
        "colab": {
          "base_uri": "https://localhost:8080/"
        },
        "id": "YOW1vD5rzffQ",
        "outputId": "31e8a4f2-d963-41bc-9dfb-8d618d7ca7f4"
      },
      "execution_count": null,
      "outputs": [
        {
          "output_type": "stream",
          "name": "stdout",
          "text": [
            "Input: США исключили Кубу из списка государств, спонсирующих терроризм\n",
            "Paraphrase: США исключили Кубу из списка стран, запрещенных в России \n",
            "True: США исключили Кубу из списка государств-спонсоров терроризма\n",
            "\n",
            "Input: СМИ: налоговая служба США готовит новые обвинения по делу ФИФА\n",
            "Paraphrase: Американская налоговая служба заявила о новых обвинениях в адрес ФИФА \n",
            "True: Налоговая служба США пообещала новые обвинения по делу о коррупции в ФИФА\n",
            "\n",
            "Input: Около 20 стран будут участвовать в армейских играх в России в августе\n",
            "Paraphrase: КНДР объявила о проведении военных игр в России в августе \n",
            "True: В армейских играх в России примут участие около 20 стран\n",
            "\n"
          ]
        }
      ]
    },
    {
      "cell_type": "markdown",
      "source": [
        "По-моему, стало хуже"
      ],
      "metadata": {
        "id": "cSvJzFyCeD-K"
      }
    },
    {
      "cell_type": "markdown",
      "source": [
        "На самом деле gpt состоит только из декодера, что для данной задачи не очень хорошо, так как мы хотим не придумывать совсем что то новое, а больше ориентироваться на входные данные. \n",
        "\n",
        "Поэтому в этой задаче лучше подойдёт такая архитектура как Т5. В ней есть и энкодер и декодер."
      ],
      "metadata": {
        "id": "1Y2xtKp9d-1u"
      }
    },
    {
      "cell_type": "code",
      "source": [
        "!pip install -q transformers[SentencePiece]"
      ],
      "metadata": {
        "id": "vvICswYzrKLn"
      },
      "execution_count": null,
      "outputs": []
    },
    {
      "cell_type": "code",
      "source": [
        "from transformers import T5ForConditionalGeneration, T5Tokenizer"
      ],
      "metadata": {
        "id": "GiH237ystvsx"
      },
      "execution_count": null,
      "outputs": []
    },
    {
      "cell_type": "code",
      "source": [
        "tokenizer = T5Tokenizer.from_pretrained(\"cointegrated/rut5-base-paraphraser\")\n",
        "ru_t5 = T5ForConditionalGeneration.from_pretrained(\"cointegrated/rut5-base-paraphraser\", output_attentions=True)"
      ],
      "metadata": {
        "id": "ZkQDos4yuK6X"
      },
      "execution_count": null,
      "outputs": []
    },
    {
      "cell_type": "code",
      "source": [
        "ru_t5.to('cuda:0');"
      ],
      "metadata": {
        "id": "t1wx7cO6t_rT"
      },
      "execution_count": null,
      "outputs": []
    },
    {
      "cell_type": "code",
      "source": [
        "def paraphrase2(text, repetition_penalty, temperature, num_beams):\n",
        "  ru_t5.eval()\n",
        "  spec_text = '<s>'+text\n",
        "  tokens = tokenizer(spec_text, return_tensors='pt').to('cuda:0')\n",
        "  size = tokens['input_ids'].shape[1]\n",
        "  output = ru_t5.generate(\n",
        "    **tokens,\n",
        "    do_sample=False,\n",
        "    max_length=size+50, \n",
        "    repetition_penalty=repetition_penalty, \n",
        "    temperature=temperature,\n",
        "    num_beams=num_beams\n",
        "  )\n",
        "\n",
        "  result = tokenizer.decode(output[0])\n",
        "  pad_indx = result.index('<pad>')+5 if '<pad>' in result else None\n",
        "  stop_indx = result.index('</s>') if '</s>' in result else None\n",
        "  result = result[pad_indx:stop_indx]\n",
        "  return result"
      ],
      "metadata": {
        "id": "Gudkrgp8uCsJ"
      },
      "execution_count": null,
      "outputs": []
    },
    {
      "cell_type": "code",
      "source": [
        "for text in test:\n",
        "  print(f'Input: {text[0]}')\n",
        "  print(f'Paraphrase: {paraphrase2(text[0], repetition_penalty=5., temperature=0.5, num_beams=10)}')\n",
        "  print(f'True: {text[1]}')\n",
        "  print()"
      ],
      "metadata": {
        "colab": {
          "base_uri": "https://localhost:8080/"
        },
        "id": "zQYxqzVjw9Vf",
        "outputId": "4ecf527b-ae7e-41fb-9bcb-bbf2b653e961"
      },
      "execution_count": null,
      "outputs": [
        {
          "output_type": "stream",
          "name": "stdout",
          "text": [
            "Input: США исключили Кубу из списка государств, спонсирующих терроризм\n",
            "Paraphrase:  США исключили Кубу из списка государств, спонсирующих терроризм\n",
            "True: США исключили Кубу из списка государств-спонсоров терроризма\n",
            "\n",
            "Input: СМИ: налоговая служба США готовит новые обвинения по делу ФИФА\n",
            "Paraphrase:  В МИД РФ заявили, что налоговая служба США готова принять новые обвинения по делу ФИФА\n",
            "True: Налоговая служба США пообещала новые обвинения по делу о коррупции в ФИФА\n",
            "\n",
            "Input: Около 20 стран будут участвовать в армейских играх в России в августе\n",
            "Paraphrase:  <s>Около 20 стран будут участвовать в армейских играх в России\n",
            "True: В армейских играх в России примут участие около 20 стран\n",
            "\n",
            "Input: Порошенко назначил Саакашвили губернатором Одесской области\n",
            "Paraphrase:  Порошенко назначил Саакашвили губернатором Одесской области\n",
            "True: Порошенко объявил о назначении Саакашвили одесским губернатором\n",
            "\n",
            "Input: Порошенко назначил Саакашвили главой Одесской области\n",
            "Paraphrase:  Порошенко назначил Саакашвили главой Одесской области\n",
            "True: Порошенко объявил о назначении Саакашвили одесским губернатором\n",
            "\n",
            "Input: СК: ошибка пилота могла стать причиной падения самолета на Ставрополье\n",
            "Paraphrase:  Названа возможная причина падения самолета на Ставрополье\n",
            "True: СК: На Ставрополье самолет мог упасть из-за ошибки пилота\n",
            "\n",
            "Input: СМИ: Россия передала ЕС свой санкционный \"черный список\"\n",
            "Paraphrase:  СМИ: Россия передала ЕС санкционный \"черный список\"\n",
            "True: МИД России передал в представительство ЕС список персон нон грата\n",
            "\n",
            "Input: Медведев о назначении Саакашвили: шапито-шоу продолжается\n",
            "Paraphrase:  В Кремле прокомментировали кандидатуру Саакашвили на пост премьера\n",
            "True: Медведев назвал назвачение Саакашвили одесским губернатором шапито-шоу\n",
            "\n",
            "Input: Трое зрителей погибли во время авторалли в Эстонии\n",
            "Paraphrase:  Во время авторалли в Эстонии погибли три человека\n",
            "True: Трое зрителей погибли в ходе авторалли в Эстонии\n",
            "\n",
            "Input: Аракчи: очередная встреча \"шестерки\" и Ирана состоится в Вене 4 июня\n",
            "Paraphrase:  В Вене пройдет очередная встреча \"шестерки\" и Ирана\n",
            "True: Новые переговоры Ирана и \"шестерки\" состоятся в Вене 4 июня\n",
            "\n",
            "Input: Источник в МИД: Россия ввела визовые ограничения в ответ на санкции\n",
            "Paraphrase:  Источник: Россия ввела визовые ограничения в ответ на санкции\n",
            "True: Визовые ограничения со стороны России стали ответом Москвы на санкции ЕС\n",
            "\n",
            "Input: Саркози раскритиковал Олланда за отказ от посещения Парада Победы\n",
            "Paraphrase:  Саркози раскритиковал Олланда за отказ от посещения Парада Победы\n",
            "True: Саркози осудил отказ Олланда приехать в Москву на День Победы\n",
            "\n",
            "Input: Почти 30 человек стали жертвами взрыва в мечети в Нигерии\n",
            "Paraphrase:  Опубликовано видео взрыва в мечети в Нигерии\n",
            "True: Не менее 26 человек погибли в результате теракта в мечети в Нигерии\n",
            "\n",
            "Input: Пушков: Саакашвили в Грузии мог бы возглавить колонну заключенных\n",
            "Paraphrase:  СМИ: Саакашвили может возглавить колонну заключенных в Грузии\n",
            "True: Пушков заявил о способности Саакашвили возглавить только колонну заключенных\n",
            "\n",
            "Input: Девять человек пострадали при пожаре в жилом доме в Петербурге\n",
            "Paraphrase:  Опубликовано видео пожара в жилом доме в Санкт-Петербурге\n",
            "True: При пожаре в жилом доме в центре Санкт-Петербурга пострадали 9 человек\n",
            "\n"
          ]
        }
      ]
    },
    {
      "cell_type": "markdown",
      "source": [
        "Как видно, это модель намного точнее, но при этом менее вариативнее."
      ],
      "metadata": {
        "id": "dXnbEXDGyCjk"
      }
    }
  ],
  "metadata": {
    "accelerator": "GPU",
    "colab": {
      "provenance": [],
      "gpuType": "T4"
    },
    "kernelspec": {
      "display_name": "Python 3",
      "name": "python3"
    },
    "language_info": {
      "codemirror_mode": {
        "name": "ipython",
        "version": 3
      },
      "file_extension": ".py",
      "mimetype": "text/x-python",
      "name": "python",
      "nbconvert_exporter": "python",
      "pygments_lexer": "ipython3",
      "version": "3.10.9"
    },
    "widgets": {
      "application/vnd.jupyter.widget-state+json": {
        "e130bef6e3384e548138e1a602039c1d": {
          "model_module": "@jupyter-widgets/controls",
          "model_name": "HBoxModel",
          "model_module_version": "1.5.0",
          "state": {
            "_dom_classes": [],
            "_model_module": "@jupyter-widgets/controls",
            "_model_module_version": "1.5.0",
            "_model_name": "HBoxModel",
            "_view_count": null,
            "_view_module": "@jupyter-widgets/controls",
            "_view_module_version": "1.5.0",
            "_view_name": "HBoxView",
            "box_style": "",
            "children": [
              "IPY_MODEL_e08f90d9ea2a419ba4259bf9fc9bcf8a",
              "IPY_MODEL_4922b908631946e497065d973aca0616",
              "IPY_MODEL_99f801ab46694cf2b6e1d9ab3dceda12"
            ],
            "layout": "IPY_MODEL_175f987c0735436a8acbfb46af9d8d40"
          }
        },
        "e08f90d9ea2a419ba4259bf9fc9bcf8a": {
          "model_module": "@jupyter-widgets/controls",
          "model_name": "HTMLModel",
          "model_module_version": "1.5.0",
          "state": {
            "_dom_classes": [],
            "_model_module": "@jupyter-widgets/controls",
            "_model_module_version": "1.5.0",
            "_model_name": "HTMLModel",
            "_view_count": null,
            "_view_module": "@jupyter-widgets/controls",
            "_view_module_version": "1.5.0",
            "_view_name": "HTMLView",
            "description": "",
            "description_tooltip": null,
            "layout": "IPY_MODEL_82690792576b4bcab94e5a40b599c161",
            "placeholder": "​",
            "style": "IPY_MODEL_657af611c9d942be9e080af86a41a0e6",
            "value": "100%"
          }
        },
        "4922b908631946e497065d973aca0616": {
          "model_module": "@jupyter-widgets/controls",
          "model_name": "FloatProgressModel",
          "model_module_version": "1.5.0",
          "state": {
            "_dom_classes": [],
            "_model_module": "@jupyter-widgets/controls",
            "_model_module_version": "1.5.0",
            "_model_name": "FloatProgressModel",
            "_view_count": null,
            "_view_module": "@jupyter-widgets/controls",
            "_view_module_version": "1.5.0",
            "_view_name": "ProgressView",
            "bar_style": "success",
            "description": "",
            "description_tooltip": null,
            "layout": "IPY_MODEL_342c1450ba304c62afaf1ecd99e0935a",
            "max": 2,
            "min": 0,
            "orientation": "horizontal",
            "style": "IPY_MODEL_cb4e7ea9a5a64c35b63cf9ec2c70a688",
            "value": 2
          }
        },
        "99f801ab46694cf2b6e1d9ab3dceda12": {
          "model_module": "@jupyter-widgets/controls",
          "model_name": "HTMLModel",
          "model_module_version": "1.5.0",
          "state": {
            "_dom_classes": [],
            "_model_module": "@jupyter-widgets/controls",
            "_model_module_version": "1.5.0",
            "_model_name": "HTMLModel",
            "_view_count": null,
            "_view_module": "@jupyter-widgets/controls",
            "_view_module_version": "1.5.0",
            "_view_name": "HTMLView",
            "description": "",
            "description_tooltip": null,
            "layout": "IPY_MODEL_a13dfc04fb954b7987e66e75049531e7",
            "placeholder": "​",
            "style": "IPY_MODEL_deff66c361744737863ac1991a6dffa4",
            "value": " 2/2 [00:00&lt;00:00, 77.11it/s]"
          }
        },
        "175f987c0735436a8acbfb46af9d8d40": {
          "model_module": "@jupyter-widgets/base",
          "model_name": "LayoutModel",
          "model_module_version": "1.2.0",
          "state": {
            "_model_module": "@jupyter-widgets/base",
            "_model_module_version": "1.2.0",
            "_model_name": "LayoutModel",
            "_view_count": null,
            "_view_module": "@jupyter-widgets/base",
            "_view_module_version": "1.2.0",
            "_view_name": "LayoutView",
            "align_content": null,
            "align_items": null,
            "align_self": null,
            "border": null,
            "bottom": null,
            "display": null,
            "flex": null,
            "flex_flow": null,
            "grid_area": null,
            "grid_auto_columns": null,
            "grid_auto_flow": null,
            "grid_auto_rows": null,
            "grid_column": null,
            "grid_gap": null,
            "grid_row": null,
            "grid_template_areas": null,
            "grid_template_columns": null,
            "grid_template_rows": null,
            "height": null,
            "justify_content": null,
            "justify_items": null,
            "left": null,
            "margin": null,
            "max_height": null,
            "max_width": null,
            "min_height": null,
            "min_width": null,
            "object_fit": null,
            "object_position": null,
            "order": null,
            "overflow": null,
            "overflow_x": null,
            "overflow_y": null,
            "padding": null,
            "right": null,
            "top": null,
            "visibility": null,
            "width": null
          }
        },
        "82690792576b4bcab94e5a40b599c161": {
          "model_module": "@jupyter-widgets/base",
          "model_name": "LayoutModel",
          "model_module_version": "1.2.0",
          "state": {
            "_model_module": "@jupyter-widgets/base",
            "_model_module_version": "1.2.0",
            "_model_name": "LayoutModel",
            "_view_count": null,
            "_view_module": "@jupyter-widgets/base",
            "_view_module_version": "1.2.0",
            "_view_name": "LayoutView",
            "align_content": null,
            "align_items": null,
            "align_self": null,
            "border": null,
            "bottom": null,
            "display": null,
            "flex": null,
            "flex_flow": null,
            "grid_area": null,
            "grid_auto_columns": null,
            "grid_auto_flow": null,
            "grid_auto_rows": null,
            "grid_column": null,
            "grid_gap": null,
            "grid_row": null,
            "grid_template_areas": null,
            "grid_template_columns": null,
            "grid_template_rows": null,
            "height": null,
            "justify_content": null,
            "justify_items": null,
            "left": null,
            "margin": null,
            "max_height": null,
            "max_width": null,
            "min_height": null,
            "min_width": null,
            "object_fit": null,
            "object_position": null,
            "order": null,
            "overflow": null,
            "overflow_x": null,
            "overflow_y": null,
            "padding": null,
            "right": null,
            "top": null,
            "visibility": null,
            "width": null
          }
        },
        "657af611c9d942be9e080af86a41a0e6": {
          "model_module": "@jupyter-widgets/controls",
          "model_name": "DescriptionStyleModel",
          "model_module_version": "1.5.0",
          "state": {
            "_model_module": "@jupyter-widgets/controls",
            "_model_module_version": "1.5.0",
            "_model_name": "DescriptionStyleModel",
            "_view_count": null,
            "_view_module": "@jupyter-widgets/base",
            "_view_module_version": "1.2.0",
            "_view_name": "StyleView",
            "description_width": ""
          }
        },
        "342c1450ba304c62afaf1ecd99e0935a": {
          "model_module": "@jupyter-widgets/base",
          "model_name": "LayoutModel",
          "model_module_version": "1.2.0",
          "state": {
            "_model_module": "@jupyter-widgets/base",
            "_model_module_version": "1.2.0",
            "_model_name": "LayoutModel",
            "_view_count": null,
            "_view_module": "@jupyter-widgets/base",
            "_view_module_version": "1.2.0",
            "_view_name": "LayoutView",
            "align_content": null,
            "align_items": null,
            "align_self": null,
            "border": null,
            "bottom": null,
            "display": null,
            "flex": null,
            "flex_flow": null,
            "grid_area": null,
            "grid_auto_columns": null,
            "grid_auto_flow": null,
            "grid_auto_rows": null,
            "grid_column": null,
            "grid_gap": null,
            "grid_row": null,
            "grid_template_areas": null,
            "grid_template_columns": null,
            "grid_template_rows": null,
            "height": null,
            "justify_content": null,
            "justify_items": null,
            "left": null,
            "margin": null,
            "max_height": null,
            "max_width": null,
            "min_height": null,
            "min_width": null,
            "object_fit": null,
            "object_position": null,
            "order": null,
            "overflow": null,
            "overflow_x": null,
            "overflow_y": null,
            "padding": null,
            "right": null,
            "top": null,
            "visibility": null,
            "width": null
          }
        },
        "cb4e7ea9a5a64c35b63cf9ec2c70a688": {
          "model_module": "@jupyter-widgets/controls",
          "model_name": "ProgressStyleModel",
          "model_module_version": "1.5.0",
          "state": {
            "_model_module": "@jupyter-widgets/controls",
            "_model_module_version": "1.5.0",
            "_model_name": "ProgressStyleModel",
            "_view_count": null,
            "_view_module": "@jupyter-widgets/base",
            "_view_module_version": "1.2.0",
            "_view_name": "StyleView",
            "bar_color": null,
            "description_width": ""
          }
        },
        "a13dfc04fb954b7987e66e75049531e7": {
          "model_module": "@jupyter-widgets/base",
          "model_name": "LayoutModel",
          "model_module_version": "1.2.0",
          "state": {
            "_model_module": "@jupyter-widgets/base",
            "_model_module_version": "1.2.0",
            "_model_name": "LayoutModel",
            "_view_count": null,
            "_view_module": "@jupyter-widgets/base",
            "_view_module_version": "1.2.0",
            "_view_name": "LayoutView",
            "align_content": null,
            "align_items": null,
            "align_self": null,
            "border": null,
            "bottom": null,
            "display": null,
            "flex": null,
            "flex_flow": null,
            "grid_area": null,
            "grid_auto_columns": null,
            "grid_auto_flow": null,
            "grid_auto_rows": null,
            "grid_column": null,
            "grid_gap": null,
            "grid_row": null,
            "grid_template_areas": null,
            "grid_template_columns": null,
            "grid_template_rows": null,
            "height": null,
            "justify_content": null,
            "justify_items": null,
            "left": null,
            "margin": null,
            "max_height": null,
            "max_width": null,
            "min_height": null,
            "min_width": null,
            "object_fit": null,
            "object_position": null,
            "order": null,
            "overflow": null,
            "overflow_x": null,
            "overflow_y": null,
            "padding": null,
            "right": null,
            "top": null,
            "visibility": null,
            "width": null
          }
        },
        "deff66c361744737863ac1991a6dffa4": {
          "model_module": "@jupyter-widgets/controls",
          "model_name": "DescriptionStyleModel",
          "model_module_version": "1.5.0",
          "state": {
            "_model_module": "@jupyter-widgets/controls",
            "_model_module_version": "1.5.0",
            "_model_name": "DescriptionStyleModel",
            "_view_count": null,
            "_view_module": "@jupyter-widgets/base",
            "_view_module_version": "1.2.0",
            "_view_name": "StyleView",
            "description_width": ""
          }
        }
      }
    }
  },
  "nbformat": 4,
  "nbformat_minor": 0
}