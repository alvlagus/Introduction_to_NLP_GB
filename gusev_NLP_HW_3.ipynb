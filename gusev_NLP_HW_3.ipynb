{
 "cells": [
  {
   "cell_type": "markdown",
   "metadata": {},
   "source": [
    "# <p style=\"background-color:lightgreen;font-family:newtimeroman;color:black;font-size:150%;text-align:center;border-radius:50px 50px;\">Введение в обработку естественного языка</p>"
   ]
  },
  {
   "cell_type": "markdown",
   "metadata": {},
   "source": [
    "<h2 align='center'>Урок 3. Embedding word2vec fasttext</h2>  "
   ]
  },
  {
   "cell_type": "markdown",
   "metadata": {
    "tags": []
   },
   "source": [
    "<h3 align='left'>Практическое задание:</h3>  \n",
    "\n",
    "Скачиваем датасет\n",
    "\n",
    "!wget https://github.com/ods-ai-ml4sg/proj_news_viz/releases/download/data/gazeta.csv.gz\n",
    "\n",
    "Или данные можно скачать тут https://github.com/IlyaGusev/gazeta\n",
    "\n",
    "Пример работы с ним:\n",
    "\n",
    "from corus import load_ods_gazeta  \n",
    "path = 'gazeta.csv.gz'  \n",
    "records = load_ods_gazeta(path)  \n",
    "next(records)  \n",
    "\n",
    "что надо сделать:\n",
    "\n",
    "на основе word2vec/fasttext реализовать метод поиска ближайших статей (на вход метода должен приходить запрос (какой-то вопрос) и количество вариантов вывода к примеру 5-ть, ваш метод должен возвращать 5-ть ближайших статей к этому запросу)\n",
    "Проверить насколько хорошо работают подходы"
   ]
  },
  {
   "cell_type": "markdown",
   "metadata": {},
   "source": [
    "### Библиотеки"
   ]
  },
  {
   "cell_type": "code",
   "execution_count": 1,
   "metadata": {
    "tags": []
   },
   "outputs": [],
   "source": [
    "# !pip -qq install pymorphy2\n",
    "# !pip -qq install stop_words\n",
    "# !pip install gensim"
   ]
  },
  {
   "cell_type": "code",
   "execution_count": 2,
   "metadata": {
    "tags": []
   },
   "outputs": [],
   "source": [
    "import numpy as np\n",
    "\n",
    "import tarfile\n",
    "import json\n",
    "\n",
    "from tqdm import tqdm\n",
    "\n",
    "import string\n",
    "from pymorphy2 import MorphAnalyzer\n",
    "from stop_words import get_stop_words\n",
    "\n",
    "from gensim.models import Word2Vec, FastText\n",
    "from sklearn.neighbors import NearestNeighbors"
   ]
  },
  {
   "cell_type": "markdown",
   "metadata": {},
   "source": [
    "### Данные:"
   ]
  },
  {
   "cell_type": "code",
   "execution_count": 3,
   "metadata": {
    "tags": []
   },
   "outputs": [],
   "source": [
    "data = []\n",
    "\n",
    "tar = tarfile.open(\"./data/gazeta_jsonl.tar.gz\", \"r:gz\")\n",
    "for member in tar.getmembers():\n",
    "     f = tar.extractfile(member)\n",
    "     if f is not None:\n",
    "         content = f.read().decode('utf-8')\n",
    "         content = content.split('\\n')\n",
    "         # последний элемент пустой, так как строка оканчивалась на \\n\n",
    "         content = content[:-1]\n",
    "         content = [json.loads(dic) for dic in content]\n",
    "         data.extend(content)"
   ]
  },
  {
   "cell_type": "code",
   "execution_count": 4,
   "metadata": {
    "tags": []
   },
   "outputs": [
    {
     "data": {
      "text/plain": [
       "63435"
      ]
     },
     "execution_count": 4,
     "metadata": {},
     "output_type": "execute_result"
    }
   ],
   "source": [
    "len(data)"
   ]
  },
  {
   "cell_type": "code",
   "execution_count": 5,
   "metadata": {
    "tags": []
   },
   "outputs": [
    {
     "data": {
      "text/plain": [
       "dict_keys(['url', 'text', 'title', 'summary', 'date'])"
      ]
     },
     "execution_count": 5,
     "metadata": {},
     "output_type": "execute_result"
    }
   ],
   "source": [
    "data[1].keys()"
   ]
  },
  {
   "cell_type": "code",
   "execution_count": 6,
   "metadata": {
    "tags": []
   },
   "outputs": [
    {
     "name": "stdout",
     "output_type": "stream",
     "text": [
      " https://www.gazeta.ru/business/2013/01/24/4939629.shtml\n",
      " Google закончил поиск\n",
      " Юлия Соловьева, экс-директор холдинга «Профмедиа», возглавила российский офис Google. Поиск американская интернет-корпорация вела полгода. Медиаменеджер с опытом работы в международных компаниях найдет общий язык с акционерами, но прорыва можно было ждать от технического специалиста или маркетолога, говорят аналитики.\n"
     ]
    }
   ],
   "source": [
    "print(f\" {data[1]['url']}\\n {data[1]['title']}\\n {data[1]['summary']}\")"
   ]
  },
  {
   "cell_type": "code",
   "execution_count": 7,
   "metadata": {
    "tags": []
   },
   "outputs": [
    {
     "data": {
      "text/plain": [
       "'Российское подразделение интернет-корпорации Google возглавила Юлия Соловьева , экс-директор московс'"
      ]
     },
     "execution_count": 7,
     "metadata": {},
     "output_type": "execute_result"
    }
   ],
   "source": [
    "data[1]['text'][:100]"
   ]
  },
  {
   "cell_type": "code",
   "execution_count": 8,
   "metadata": {
    "tags": []
   },
   "outputs": [
    {
     "data": {
      "text/plain": [
       "'2013-01-24 18:20:09'"
      ]
     },
     "execution_count": 8,
     "metadata": {},
     "output_type": "execute_result"
    }
   ],
   "source": [
    "data[1]['date']"
   ]
  },
  {
   "cell_type": "markdown",
   "metadata": {},
   "source": [
    "### Обработаем данные"
   ]
  },
  {
   "cell_type": "code",
   "execution_count": 9,
   "metadata": {
    "tags": []
   },
   "outputs": [],
   "source": [
    "def preprocess_txt(line):\n",
    "    spls = \"\".join(i for i in line.strip() if i not in exclude).split()\n",
    "    spls = [morpher.parse(i.lower())[0].normal_form for i in spls]\n",
    "    spls = [i for i in spls if i not in sw and i != \"\"]\n",
    "    return spls"
   ]
  },
  {
   "cell_type": "code",
   "execution_count": 10,
   "metadata": {
    "tags": []
   },
   "outputs": [
    {
     "name": "stderr",
     "output_type": "stream",
     "text": [
      "100%|████████████████████████████████████████████████████████████████████████| 63435/63435 [06:42<00:00, 157.65it/s]\n"
     ]
    }
   ],
   "source": [
    "assert True\n",
    "\n",
    "# Preprocess for models fitting\n",
    "\n",
    "sentences = []\n",
    "\n",
    "morpher = MorphAnalyzer()\n",
    "sw = set(get_stop_words(\"ru\"))\n",
    "exclude = set(string.punctuation)\n",
    "c = 0\n",
    "\n",
    "\n",
    "for line in tqdm(data):\n",
    "    spls = preprocess_txt(line['summary'])\n",
    "    sentences.append(spls)\n",
    "    c += 1\n",
    "    if c > 100000:\n",
    "        break"
   ]
  },
  {
   "cell_type": "code",
   "execution_count": 11,
   "metadata": {
    "tags": []
   },
   "outputs": [],
   "source": [
    "sentences = [i for i in sentences if len(i) > 2]"
   ]
  },
  {
   "cell_type": "code",
   "execution_count": 12,
   "metadata": {
    "tags": []
   },
   "outputs": [
    {
     "data": {
      "text/plain": [
       "['юлия',\n",
       " 'соловьёв',\n",
       " 'эксдиректор',\n",
       " 'холдинг',\n",
       " '«профмедиа»',\n",
       " 'возглавить',\n",
       " 'российский',\n",
       " 'офис',\n",
       " 'google',\n",
       " 'поиск']"
      ]
     },
     "execution_count": 12,
     "metadata": {},
     "output_type": "execute_result"
    }
   ],
   "source": [
    "sentences[1][:10]"
   ]
  },
  {
   "cell_type": "markdown",
   "metadata": {},
   "source": [
    "### Обучим модели"
   ]
  },
  {
   "cell_type": "code",
   "execution_count": 13,
   "metadata": {
    "tags": []
   },
   "outputs": [],
   "source": [
    "modelW2V = Word2Vec(sentences=sentences, vector_size=300, window=5, min_count=1)"
   ]
  },
  {
   "cell_type": "code",
   "execution_count": 14,
   "metadata": {
    "tags": []
   },
   "outputs": [],
   "source": [
    "modelFT = FastText(sentences=sentences, vector_size=300, min_count=1, window=5, workers=8)"
   ]
  },
  {
   "cell_type": "code",
   "execution_count": 16,
   "metadata": {
    "tags": []
   },
   "outputs": [],
   "source": [
    "modelW2V.save('./models/modelW2V')"
   ]
  },
  {
   "cell_type": "code",
   "execution_count": 17,
   "metadata": {
    "tags": []
   },
   "outputs": [],
   "source": [
    "modelFT.save('./models/modelFT')"
   ]
  },
  {
   "cell_type": "code",
   "execution_count": 19,
   "metadata": {
    "tags": []
   },
   "outputs": [],
   "source": [
    "modelW2V = Word2Vec.load('./models/modelW2V')"
   ]
  },
  {
   "cell_type": "code",
   "execution_count": 20,
   "metadata": {
    "tags": []
   },
   "outputs": [],
   "source": [
    "modelFT = FastText.load('./models/modelFT')"
   ]
  },
  {
   "cell_type": "markdown",
   "metadata": {},
   "source": [
    "### Составим векторы"
   ]
  },
  {
   "cell_type": "code",
   "execution_count": 26,
   "metadata": {
    "tags": []
   },
   "outputs": [],
   "source": [
    "W2V_sentences_vectors = []\n",
    "FT_sentences_vectors = []\n",
    "\n",
    "for sentence in sentences:\n",
    "    W2V_vector = np.zeros(300)\n",
    "    W2V_c = 0\n",
    "    FT_vector = np.zeros(300)\n",
    "    for word in sentence:\n",
    "        if word in modelW2V.wv:\n",
    "            W2V_vector += modelW2V.wv[word]  # get numpy vector of a word\n",
    "            W2V_c += 1\n",
    "        FT_vector += modelFT.wv[word]\n",
    "    if W2V_c>0:\n",
    "        W2V_vector = W2V_vector/W2V_c  # нормализация\n",
    "    W2V_sentences_vectors.append(W2V_vector)\n",
    "    FT_vector = FT_vector/len(sentence)\n",
    "    FT_sentences_vectors.append(FT_vector)"
   ]
  },
  {
   "cell_type": "code",
   "execution_count": 30,
   "metadata": {
    "tags": []
   },
   "outputs": [
    {
     "data": {
      "text/plain": [
       "array([-0.22351677,  0.30044088,  0.19219234,  0.27692538, -0.30145015,\n",
       "       -0.44695619,  0.17514304,  0.72611031, -0.25467916, -0.13125373])"
      ]
     },
     "execution_count": 30,
     "metadata": {},
     "output_type": "execute_result"
    }
   ],
   "source": [
    "W2V_sentences_vectors[1][:10]"
   ]
  },
  {
   "cell_type": "code",
   "execution_count": 31,
   "metadata": {
    "tags": []
   },
   "outputs": [
    {
     "data": {
      "text/plain": [
       "array([-0.01668978,  0.07741924, -0.11366574, -0.00528717,  0.04816609,\n",
       "       -0.1355478 ,  0.4453918 ,  0.1419937 , -0.09991112, -0.3055655 ])"
      ]
     },
     "execution_count": 31,
     "metadata": {},
     "output_type": "execute_result"
    }
   ],
   "source": [
    "FT_sentences_vectors[1][:10]"
   ]
  },
  {
   "cell_type": "markdown",
   "metadata": {},
   "source": [
    "### Поиск"
   ]
  },
  {
   "cell_type": "code",
   "execution_count": 49,
   "metadata": {
    "tags": []
   },
   "outputs": [],
   "source": [
    "N_NEIGHBORS = 5 "
   ]
  },
  {
   "cell_type": "code",
   "execution_count": 50,
   "metadata": {
    "colab": {
     "base_uri": "https://localhost:8080/"
    },
    "id": "v4xy0kD7YqU9",
    "outputId": "5b89dff3-9903-4ed2-90b7-18c6ba873fc7",
    "tags": []
   },
   "outputs": [
    {
     "data": {
      "text/html": [
       "<style>#sk-container-id-4 {color: black;background-color: white;}#sk-container-id-4 pre{padding: 0;}#sk-container-id-4 div.sk-toggleable {background-color: white;}#sk-container-id-4 label.sk-toggleable__label {cursor: pointer;display: block;width: 100%;margin-bottom: 0;padding: 0.3em;box-sizing: border-box;text-align: center;}#sk-container-id-4 label.sk-toggleable__label-arrow:before {content: \"▸\";float: left;margin-right: 0.25em;color: #696969;}#sk-container-id-4 label.sk-toggleable__label-arrow:hover:before {color: black;}#sk-container-id-4 div.sk-estimator:hover label.sk-toggleable__label-arrow:before {color: black;}#sk-container-id-4 div.sk-toggleable__content {max-height: 0;max-width: 0;overflow: hidden;text-align: left;background-color: #f0f8ff;}#sk-container-id-4 div.sk-toggleable__content pre {margin: 0.2em;color: black;border-radius: 0.25em;background-color: #f0f8ff;}#sk-container-id-4 input.sk-toggleable__control:checked~div.sk-toggleable__content {max-height: 200px;max-width: 100%;overflow: auto;}#sk-container-id-4 input.sk-toggleable__control:checked~label.sk-toggleable__label-arrow:before {content: \"▾\";}#sk-container-id-4 div.sk-estimator input.sk-toggleable__control:checked~label.sk-toggleable__label {background-color: #d4ebff;}#sk-container-id-4 div.sk-label input.sk-toggleable__control:checked~label.sk-toggleable__label {background-color: #d4ebff;}#sk-container-id-4 input.sk-hidden--visually {border: 0;clip: rect(1px 1px 1px 1px);clip: rect(1px, 1px, 1px, 1px);height: 1px;margin: -1px;overflow: hidden;padding: 0;position: absolute;width: 1px;}#sk-container-id-4 div.sk-estimator {font-family: monospace;background-color: #f0f8ff;border: 1px dotted black;border-radius: 0.25em;box-sizing: border-box;margin-bottom: 0.5em;}#sk-container-id-4 div.sk-estimator:hover {background-color: #d4ebff;}#sk-container-id-4 div.sk-parallel-item::after {content: \"\";width: 100%;border-bottom: 1px solid gray;flex-grow: 1;}#sk-container-id-4 div.sk-label:hover label.sk-toggleable__label {background-color: #d4ebff;}#sk-container-id-4 div.sk-serial::before {content: \"\";position: absolute;border-left: 1px solid gray;box-sizing: border-box;top: 0;bottom: 0;left: 50%;z-index: 0;}#sk-container-id-4 div.sk-serial {display: flex;flex-direction: column;align-items: center;background-color: white;padding-right: 0.2em;padding-left: 0.2em;position: relative;}#sk-container-id-4 div.sk-item {position: relative;z-index: 1;}#sk-container-id-4 div.sk-parallel {display: flex;align-items: stretch;justify-content: center;background-color: white;position: relative;}#sk-container-id-4 div.sk-item::before, #sk-container-id-4 div.sk-parallel-item::before {content: \"\";position: absolute;border-left: 1px solid gray;box-sizing: border-box;top: 0;bottom: 0;left: 50%;z-index: -1;}#sk-container-id-4 div.sk-parallel-item {display: flex;flex-direction: column;z-index: 1;position: relative;background-color: white;}#sk-container-id-4 div.sk-parallel-item:first-child::after {align-self: flex-end;width: 50%;}#sk-container-id-4 div.sk-parallel-item:last-child::after {align-self: flex-start;width: 50%;}#sk-container-id-4 div.sk-parallel-item:only-child::after {width: 0;}#sk-container-id-4 div.sk-dashed-wrapped {border: 1px dashed gray;margin: 0 0.4em 0.5em 0.4em;box-sizing: border-box;padding-bottom: 0.4em;background-color: white;}#sk-container-id-4 div.sk-label label {font-family: monospace;font-weight: bold;display: inline-block;line-height: 1.2em;}#sk-container-id-4 div.sk-label-container {text-align: center;}#sk-container-id-4 div.sk-container {/* jupyter's `normalize.less` sets `[hidden] { display: none; }` but bootstrap.min.css set `[hidden] { display: none !important; }` so we also need the `!important` here to be able to override the default hidden behavior on the sphinx rendered scikit-learn.org. See: https://github.com/scikit-learn/scikit-learn/issues/21755 */display: inline-block !important;position: relative;}#sk-container-id-4 div.sk-text-repr-fallback {display: none;}</style><div id=\"sk-container-id-4\" class=\"sk-top-container\"><div class=\"sk-text-repr-fallback\"><pre>NearestNeighbors()</pre><b>In a Jupyter environment, please rerun this cell to show the HTML representation or trust the notebook. <br />On GitHub, the HTML representation is unable to render, please try loading this page with nbviewer.org.</b></div><div class=\"sk-container\" hidden><div class=\"sk-item\"><div class=\"sk-estimator sk-toggleable\"><input class=\"sk-toggleable__control sk-hidden--visually\" id=\"sk-estimator-id-4\" type=\"checkbox\" checked><label for=\"sk-estimator-id-4\" class=\"sk-toggleable__label sk-toggleable__label-arrow\">NearestNeighbors</label><div class=\"sk-toggleable__content\"><pre>NearestNeighbors()</pre></div></div></div></div></div>"
      ],
      "text/plain": [
       "NearestNeighbors()"
      ]
     },
     "execution_count": 50,
     "metadata": {},
     "output_type": "execute_result"
    }
   ],
   "source": [
    "W2V_neighbour = NearestNeighbors(n_neighbors=N_NEIGHBORS)\n",
    "W2V_neighbour.fit(W2V_sentences_vectors)\n",
    "FT_neighbour = NearestNeighbors(n_neighbors=N_NEIGHBORS)\n",
    "FT_neighbour.fit(FT_sentences_vectors)"
   ]
  },
  {
   "cell_type": "code",
   "execution_count": 87,
   "metadata": {
    "tags": []
   },
   "outputs": [],
   "source": [
    "def get_response(question, model, neighbourhood):\n",
    "    question = preprocess_txt(question)\n",
    "    vector = np.zeros(300)\n",
    "    norm = 0\n",
    "    for word in question:\n",
    "        if word in model.wv:\n",
    "            vector += model.wv[word]\n",
    "            norm += 1\n",
    "    if norm > 0:\n",
    "        vector = vector / norm\n",
    "    answers = neighbourhood.kneighbors([vector], return_distance=False)\n",
    "    return [data[i] for i in answers[0]]   "
   ]
  },
  {
   "cell_type": "markdown",
   "metadata": {},
   "source": [
    "Выведим краткое содержание для сравнения, а так можно получить доступ и ко всему тексту, если указать 'text' вместо 'summary'"
   ]
  },
  {
   "cell_type": "markdown",
   "metadata": {},
   "source": [
    "Погода"
   ]
  },
  {
   "cell_type": "code",
   "execution_count": 100,
   "metadata": {
    "tags": []
   },
   "outputs": [],
   "source": [
    "TEXT1 = 'Погода на завтра'\n",
    "FULL = 'summary' # text - полное содержание новости, summary - заголовок"
   ]
  },
  {
   "cell_type": "code",
   "execution_count": 101,
   "metadata": {
    "tags": []
   },
   "outputs": [
    {
     "name": "stdout",
     "output_type": "stream",
     "text": [
      "1. До выходных в столичном регионе будет сохраняться аномально теплая погода. О плюсовой температуре, дожде и сильном ветре москвичи смогут забыть только в середине следующей недели, когда столбики термометров поползут вниз и выпадет снег. Тогда же, по прогнозам синоптиков, погода вернется к климатической норме, то есть легкому морозцу.\n",
      "2. Ровно через неделю москвичей и гостей столицы ожидает 20-градусное тепло. А уже в эту пятницу температура приблизится к климатической норме. Как прогнозируют метеорологи, температура воздуха в течение недели будет повышаться постепенно, при этом погода будет иметь неустойчивый характер.\n",
      "3. Столичный регион в выходные и на следующей неделе попеременно будут проходить холодные и теплые атмосферные фронты. Температура в выходные будет немного выше нормы. В будни воздух будет прогреваться не так сильно, но погода будет стоять сухая и ясная.\n",
      "4. На протяжении всей недели температура будет понижаться. К следующим выходным кратковременные дожди сменят заморозки. Москвичей ждут прохладные, но солнечные дни.\n",
      "5. В предстоящие выходные в столичном регионе ожидается не по-ноябрьски теплая погода. Ночи с плюсовыми температурами будут сменять туманные утра и дождливые дни.\n",
      "CPU times: user 403 ms, sys: 0 ns, total: 403 ms\n",
      "Wall time: 64.3 ms\n"
     ]
    }
   ],
   "source": [
    "%%time\n",
    "\n",
    "result = get_response(TEXT1, modelW2V, W2V_neighbour)\n",
    "for i in range(len(result)):\n",
    "  print(f'{i+1}.', result[i][FULL])"
   ]
  },
  {
   "cell_type": "code",
   "execution_count": 102,
   "metadata": {
    "tags": []
   },
   "outputs": [
    {
     "name": "stdout",
     "output_type": "stream",
     "text": [
      "1. Погода в Москве и Подмосковье немного ухудшится: в выходные будет хоть и тепло, но местами пройдут дожди. На следующей неделе погода также будет неустойчивой, а ближе к концу апреля прогремят грозы. Температура, впрочем, порадует: она будет на несколько градусов выше нормы.\n",
      "2. В ближайшие пятницу и выходные в столице ожидается выпадение почти трети месячной нормы осадков, или, как сформулировали синоптики, по два ведра дождевой воды на квадратный метр поверхности. Впрочем, к концу следующей недели москвичам обещают несколько сухих и не по сезону теплых дней.\n",
      "3. До выходных в столичном регионе будет сохраняться аномально теплая погода. О плюсовой температуре, дожде и сильном ветре москвичи смогут забыть только в середине следующей недели, когда столбики термометров поползут вниз и выпадет снег. Тогда же, по прогнозам синоптиков, погода вернется к климатической норме, то есть легкому морозцу.\n",
      "4. Метеорологи предупредили москвичей об ухудшении погоды в начале зимы. После краткосрочного потепления в столицу придут ледяные дожди и ощутимые морозы. Кроме того, ожидается сильный снег: до конца недели в городе может выпасть до 30% месячной нормы осадков.\n",
      "5. Ровно через неделю москвичей и гостей столицы ожидает 20-градусное тепло. А уже в эту пятницу температура приблизится к климатической норме. Как прогнозируют метеорологи, температура воздуха в течение недели будет повышаться постепенно, при этом погода будет иметь неустойчивый характер.\n",
      "CPU times: user 402 ms, sys: 60 µs, total: 402 ms\n",
      "Wall time: 62.9 ms\n"
     ]
    }
   ],
   "source": [
    "%%time\n",
    "\n",
    "result = get_response(TEXT1, modelFT, FT_neighbour)\n",
    "for i in range(len(result)):\n",
    "  print(f'{i+1}.', result[i][FULL])"
   ]
  },
  {
   "cell_type": "markdown",
   "metadata": {},
   "source": [
    "Общество"
   ]
  },
  {
   "cell_type": "code",
   "execution_count": 105,
   "metadata": {
    "tags": []
   },
   "outputs": [],
   "source": [
    "TEXT2 = 'Жизнь замечательных людей'\n",
    "FULL = 'summary' # text - полное содержание новости, summary - заголовок"
   ]
  },
  {
   "cell_type": "code",
   "execution_count": 106,
   "metadata": {
    "tags": []
   },
   "outputs": [
    {
     "name": "stdout",
     "output_type": "stream",
     "text": [
      "1. Вчера опять прибежала какая-то однокурсница, которую я видел пару раз, да и то мельком, и слёзно умоляла «спасти его». И я возвращал ей ее «его» к жизни до четырёх утра (!!!).\n",
      "2. Дневник ММКФ: Годар и Трюффо работают кинокритиками, сентиментальные мадьярки тоскуют по родине, Шаброль снова приглашает в «Ад».\n",
      "3. Термин «офисный компьютер» сегодня всё чаще означает именно «ноутбук», а не более привычный конторским труженикам со стажем светло-серый «мини-тауэр» с замызганными клавиатурой, мышкой и подслеповатым монитором на 17 дюймов.\n",
      "4. Ренуар и Суриков, Моне и Репин, Писсаро и Коровин, Пикассо и Серов, Менье и Архипов — в ГМИИ им.А.С. Пушкина открылась выставка-квест «Передвижники и импрессионисты. На пути в XX век».\n",
      "5. Концерт Ника Кейва с проектом Grinderman в полупустом «Крокус Сити Холле» превратился в инфернальную мистерию с надеванием заячьих ушек, похабными блюзами и красноволосыми танцовщицами.\n",
      "CPU times: user 475 ms, sys: 0 ns, total: 475 ms\n",
      "Wall time: 73 ms\n"
     ]
    }
   ],
   "source": [
    "%%time\n",
    "\n",
    "result = get_response(TEXT2, modelW2V, W2V_neighbour)\n",
    "for i in range(len(result)):\n",
    "  print(f'{i+1}.', result[i][FULL])"
   ]
  },
  {
   "cell_type": "code",
   "execution_count": 107,
   "metadata": {
    "tags": []
   },
   "outputs": [
    {
     "name": "stdout",
     "output_type": "stream",
     "text": [
      "1. В России могут ввести новый обязательный школьный курс «Нравственные основы семейной жизни». В министерстве образования и науки эту идею обещали рассмотреть и оценить. Современная школа в последние годы стала чуть ли не главной экспериментальной площадкой поиска некоей новой национальной идеологии. Вот только раз за разом эта идеология сводится к желанию залезть в личную жизнь граждан – как взрослых, так и детей.\n",
      "2. Наш общественный строй исключает получение школьниками современного, равнодоступного и уж тем более бесплатного образования.\n",
      "3. Моральные стимулы неплохо оправдывают себя в тех социальных системах, где есть мораль и моральные авторитеты. Но возможна ли в принципе новая эффективная система моральных поощрений в стране, где люди любого осмысленного и честного труда с нищенской зарплатой являются в бытовом сознании не столько героями, сколько «лузерами». Причем как для власти, так и для молодежи, которую, по идее, с помощью этих самых моральных поощрений и надо воспитывать на неких высоких духовных идеалах.\n",
      "4. Мне в последнее время попадаются исключительно положительные отзывы о букридерах и планшетах, что конечно вызывает некоторые подозрения в искренности и непредвзятости авторов. Сам я, до сих пор уверен что, обычная, бумажная книга намного приятнее удобнее.\n",
      "5. Столичные депутаты предлагают сделать обследование на наркотическую зависимость обязательным для школьников и студентов и разрешить открывать информацию, составляющую врачебную тайну. По мнению экспертов, обязательное тестирование нарушит конституционные права граждан, эффективность добровольного тоже мала, и оно лишь отвлечет большие бюджетные средства от реальных программ.\n",
      "CPU times: user 912 ms, sys: 0 ns, total: 912 ms\n",
      "Wall time: 156 ms\n"
     ]
    }
   ],
   "source": [
    "%%time\n",
    "\n",
    "result = get_response(TEXT2, modelFT, FT_neighbour)\n",
    "for i in range(len(result)):\n",
    "  print(f'{i+1}.', result[i][FULL])"
   ]
  },
  {
   "cell_type": "markdown",
   "metadata": {},
   "source": [
    "Армия"
   ]
  },
  {
   "cell_type": "code",
   "execution_count": 108,
   "metadata": {
    "tags": []
   },
   "outputs": [],
   "source": [
    "TEXT3 = 'Современный солдат'\n",
    "FULL = 'summary' # text - полное содержание новости, summary - заголовок"
   ]
  },
  {
   "cell_type": "code",
   "execution_count": 109,
   "metadata": {
    "tags": []
   },
   "outputs": [
    {
     "name": "stdout",
     "output_type": "stream",
     "text": [
      "1. В музее современного искусства PERMM открылась выставка «Лицо невесты», представляющая современное искусство Казахстана, популярное на Западе, неизвестное в России и совершенно не стремящееся соответствовать европейским стандартам contemporary art.\n",
      "2. В Музее современного искусства «Гараж» стартовала триеннале современного искусства — масштабный смотр произведений художников из российских регионов, который должен разрушить монополию Москвы на современное искусство.\n",
      "3. В шоколадном цеху на «Красном Октябре» открылась выставка лауреатов World Press Photo-2013. В объективе авторов гражданские войны, вооруженные конфликты и социальные катастрофы третьего мира.\n",
      "4. Картина Малевича, испорченная Александром Бренером, фильм об угнанных самолетах и виртуальное государство словенских художников: в Музее современного искусства «Гараж» проходит выставка The New International – выборка искусства 1990-х.\n",
      "5. Сильнее, чем фотография: в Третьяковской галерее открылась выставка «Гиперреализм. Когда реальность становится иллюзией» — первая масштабная попытка очертить границы направления и структурировать его отечественное наследие.\n",
      "CPU times: user 142 ms, sys: 3.87 ms, total: 145 ms\n",
      "Wall time: 21.3 ms\n"
     ]
    }
   ],
   "source": [
    "%%time\n",
    "\n",
    "result = get_response(TEXT3, modelW2V, W2V_neighbour)\n",
    "for i in range(len(result)):\n",
    "  print(f'{i+1}.', result[i][FULL])"
   ]
  },
  {
   "cell_type": "code",
   "execution_count": 110,
   "metadata": {
    "tags": []
   },
   "outputs": [
    {
     "name": "stdout",
     "output_type": "stream",
     "text": [
      "1. Редкие снимки советских полководцев Великой Отечественной войны опубликовало российское военное ведомство. Фотографы запечатлели победителей нацизма во время торжественных парадов в Москве и других городах СССР. Многие фотографии сопровождены выдержками из воспоминаний военных и комментариями их родственников.\n",
      "2. Копилка идей по реформированию Российской армии обогатилась новым экзотическим предложением. Вузы должны воспитывать не только квалифицированных физиков и лириков, но и боевых офицеров, отправляя студентов-мужчин на летний семестр на военные полигоны. Как ни странно, авторство идеи принадлежит не военным, а ученым.\n",
      "3. Дмитрий Хворостовский представит в Москве новую программу «Песни военных лет – 2». Кроме знакомой всем песенной классики военных лет он исполнит русские народные песни, а также композицию из репертуара группы «Любэ».\n",
      "4. 100 лет назад приказом Льва Троцкого в Рязани были созданы Пехотные курсы командного состава Красной армии, позднее преобразованные в известное на всю Россию училище Воздушно-десантных войск. К юбилею легендарного вуза Минобороны рассекретило исторические документы.\n",
      "5. Президент РФ предлагает предупреждать инциденты со стрельбой в школах воспитанием художественного вкуса через воссоздание театров юного зрителя, а также возродить советскую систему гастролей крупных театров в малых и средних городах страны.\n",
      "CPU times: user 378 ms, sys: 0 ns, total: 378 ms\n",
      "Wall time: 63.1 ms\n"
     ]
    }
   ],
   "source": [
    "%%time\n",
    "\n",
    "result = get_response(TEXT3, modelFT, FT_neighbour)\n",
    "for i in range(len(result)):\n",
    "  print(f'{i+1}.', result[i][FULL])"
   ]
  },
  {
   "cell_type": "markdown",
   "metadata": {},
   "source": [
    "Спорт"
   ]
  },
  {
   "cell_type": "code",
   "execution_count": 113,
   "metadata": {
    "tags": []
   },
   "outputs": [],
   "source": [
    "TEXT4 = 'Футбольный клуб Спартак'\n",
    "FULL = 'summary' # text - полное содержание новости, summary - заголовок"
   ]
  },
  {
   "cell_type": "code",
   "execution_count": 114,
   "metadata": {
    "tags": []
   },
   "outputs": [
    {
     "name": "stdout",
     "output_type": "stream",
     "text": [
      "1. Главный тренер ПСЖ Карло Анчелотти хочет переманить в парижскую команду полузащитника «Челси» Фрэнка Лэмпарда. Контракт 33-летнего футболиста с лондонским клубом заканчивается в 2013 году.\n",
      "2. Владелец «Челси» Роман Абрамович в свете последних не слишком удачных матчей клуба провел беседу с главным тренером команды Андре Виллаш-Боашем, в которой потребовал улучшить результаты клуба.\n",
      "3. Форвард ЦСКА Андрей Воронцевич останется в клубе в следующем году. Тем не менее, агент игрока поведал, что баскетболист может уехать в НБА через год.\n",
      "4. Нападающий мадридского «Реала» Криштиану Роналду дисквалифицирован Королевской испанской футбольной федерацией на пять матчей за толчок в спину главного арбитра встречи в рамках Суперкубка Испании между столичным клубом и «Барселоной».\n",
      "5. Минское «Динамо» опровергло информацию о том, что клуб покинут новички команды и главный тренер Марек Сикора. Екатеринбургский «Автомобилист» допущен к участию в КХЛ в следующем сезоне, а в лигу поступают угрозы.\n",
      "CPU times: user 373 ms, sys: 0 ns, total: 373 ms\n",
      "Wall time: 55.8 ms\n"
     ]
    }
   ],
   "source": [
    "%%time\n",
    "\n",
    "result = get_response(TEXT4, modelW2V, W2V_neighbour)\n",
    "for i in range(len(result)):\n",
    "  print(f'{i+1}.', result[i][FULL])"
   ]
  },
  {
   "cell_type": "code",
   "execution_count": 115,
   "metadata": {
    "tags": []
   },
   "outputs": [
    {
     "name": "stdout",
     "output_type": "stream",
     "text": [
      "1. Главный тренер ЦСКА Юлиус Шуплер извинился перед армейскими болельщиками за игру его команды в матче против СКА. Наставник клуба из Санкт-Петербурга Милош Ржига, несмотря на победу, остался недоволен игрой своих подопечных в этом матче.\n",
      "2. Владелец московского «Спартака» Леонид Федун остался недоволен игрой команды в матче против «Кубани».\n",
      "3. Главный тренер московского «Спартака» Массимо Каррера после разгрома испанской «Севильи» в матче Лиги чемпионов отметил, что команда провела идеальный матч против сильного соперника, а владелец красно-белых Леонид Федун пообещал, что мяч с этой игры будет выставлен в музее «Спартака».\n",
      "4. Главный тренер «Зенита» Лучано Спаллетти после матча с «Твенте» сказал, что эту игру питерская команда посвятила Вячеславу Малафееву. Рулевой голландского клуба Мишель Прюдомм заметил, что после побед над «Рубином» и «Зенитом» не против получить в соперники «Спартак».\n",
      "5. Главный тренер СКА Милош Ржига после поражения в третьем матче полуфинальной серии Кубка Гагарина от московского «Динамо» посетовал на проблемы с дисциплиной у команды. Наставник бело-голубых Олег Знарок остался доволен игрой подопечных.\n",
      "CPU times: user 427 ms, sys: 0 ns, total: 427 ms\n",
      "Wall time: 65.8 ms\n"
     ]
    }
   ],
   "source": [
    "%%time\n",
    "\n",
    "result = get_response(TEXT4, modelFT, FT_neighbour)\n",
    "for i in range(len(result)):\n",
    "  print(f'{i+1}.', result[i][FULL])"
   ]
  },
  {
   "cell_type": "markdown",
   "metadata": {},
   "source": [
    "Сообщение с очепятками"
   ]
  },
  {
   "cell_type": "code",
   "execution_count": 116,
   "metadata": {
    "tags": []
   },
   "outputs": [],
   "source": [
    "TEXT5 = 'Футбальный клуп Спыртак'\n",
    "FULL = 'summary' # text - полное содержание новости, summary - заголовок"
   ]
  },
  {
   "cell_type": "code",
   "execution_count": 117,
   "metadata": {
    "tags": []
   },
   "outputs": [
    {
     "name": "stdout",
     "output_type": "stream",
     "text": [
      "1. Вчера опять прибежала какая-то однокурсница, которую я видел пару раз, да и то мельком, и слёзно умоляла «спасти его». И я возвращал ей ее «его» к жизни до четырёх утра (!!!).\n",
      "2. Термин «офисный компьютер» сегодня всё чаще означает именно «ноутбук», а не более привычный конторским труженикам со стажем светло-серый «мини-тауэр» с замызганными клавиатурой, мышкой и подслеповатым монитором на 17 дюймов.\n",
      "3. Дневник ММКФ: Годар и Трюффо работают кинокритиками, сентиментальные мадьярки тоскуют по родине, Шаброль снова приглашает в «Ад».\n",
      "4. Ренуар и Суриков, Моне и Репин, Писсаро и Коровин, Пикассо и Серов, Менье и Архипов — в ГМИИ им.А.С. Пушкина открылась выставка-квест «Передвижники и импрессионисты. На пути в XX век».\n",
      "5. Концерт Ника Кейва с проектом Grinderman в полупустом «Крокус Сити Холле» превратился в инфернальную мистерию с надеванием заячьих ушек, похабными блюзами и красноволосыми танцовщицами.\n",
      "CPU times: user 382 ms, sys: 3.96 ms, total: 386 ms\n",
      "Wall time: 60.9 ms\n"
     ]
    }
   ],
   "source": [
    "%%time\n",
    "\n",
    "result = get_response(TEXT5, modelW2V, W2V_neighbour)\n",
    "for i in range(len(result)):\n",
    "  print(f'{i+1}.', result[i][FULL])"
   ]
  },
  {
   "cell_type": "code",
   "execution_count": 118,
   "metadata": {
    "tags": []
   },
   "outputs": [
    {
     "name": "stdout",
     "output_type": "stream",
     "text": [
      "1. На своем аншлаговом московском концерте Roxette продемонстрировали отличную музыкальную форму, сыграли «Калинку-малинку», а зрители радовались встрече с кумирами, как любимой футбольной команде.\n",
      "2. Профессиональный хоккейный клуб ЦСКА раскрыл поставщиков одежды для команды – костюмов и других предметов гардероба от бренда Duca Sartoria, принадлежащего итальянскому дизайнеру Роберто Джиромбелли. Внешнему виду спортсменов по всему миру уделяют большое значение, ведь они представляют страну не только во время соревнований, но и на официальных мероприятиях.\n",
      "3. В опубликованном Центром футбольных исследований (CIES Football Observatory) списке ста лучших футбольных академий Европы оказались сразу две представительницы Российской футбольной премьер-лиги. Московский «Спартак» занял 47-е место, а другой столичный клуб, «Локомотив», разместился на 97-й строчке.\n",
      "4. В последнее время и футбольный, и хоккейный «Спартак» регулярно огорчают своих болельщиков. Остается радоваться лишь успехам молодежных команд – к традиционно сильному футбольному дублю подтянулась хоккейная молодежка, ярко стартовавшая в новом сезоне. Даже несмотря на два поражения от «Локо», спартаковцы уверенно идут в группе лидеров западной конференции МХЛ.\n",
      "5. «Апперкот, клинч, гандикап…». Эти слова прочно вошли в лексикон офисных сотрудников с появлением модных боксерских клубов. Похоже, бокс становится серьезной альтернативой привычному фитнесу. Уже можно подвести первые итоги раундов «белых воротничков».\n",
      "CPU times: user 370 ms, sys: 0 ns, total: 370 ms\n",
      "Wall time: 58.6 ms\n"
     ]
    }
   ],
   "source": [
    "%%time\n",
    "\n",
    "result = get_response(TEXT5, modelFT, FT_neighbour)\n",
    "for i in range(len(result)):\n",
    "  print(f'{i+1}.', result[i][FULL])"
   ]
  },
  {
   "cell_type": "markdown",
   "metadata": {},
   "source": [
    "### Вывод:\n",
    "На маой взгляд FT работает лучше. Предлагаемые им ответы точнее отражают задаваемый вопрос. Даже в варианте с опечатками, где W2V совсем ничего не показал, FT постарался сделать хоть что-то. Хотя FT работает немного медленее W2V, но результат это оправдывает."
   ]
  },
  {
   "cell_type": "code",
   "execution_count": null,
   "metadata": {},
   "outputs": [],
   "source": []
  }
 ],
 "metadata": {
  "kernelspec": {
   "display_name": "Python 3 (ipykernel)",
   "language": "python",
   "name": "python3"
  },
  "language_info": {
   "codemirror_mode": {
    "name": "ipython",
    "version": 3
   },
   "file_extension": ".py",
   "mimetype": "text/x-python",
   "name": "python",
   "nbconvert_exporter": "python",
   "pygments_lexer": "ipython3",
   "version": "3.10.9"
  }
 },
 "nbformat": 4,
 "nbformat_minor": 4
}
