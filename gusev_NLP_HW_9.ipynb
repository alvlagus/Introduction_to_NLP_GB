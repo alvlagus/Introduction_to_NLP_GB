{
  "cells": [
    {
      "cell_type": "markdown",
      "metadata": {
        "id": "view-in-github",
        "colab_type": "text"
      },
      "source": [
        "<a href=\"https://colab.research.google.com/github/alvlagus/Introduction_to_NLP_GB/blob/Lesson_9/gusev_NLP_HW_9.ipynb\" target=\"_parent\"><img src=\"https://colab.research.google.com/assets/colab-badge.svg\" alt=\"Open In Colab\"/></a>"
      ]
    },
    {
      "cell_type": "markdown",
      "metadata": {
        "id": "2NzKxbJYNUvi"
      },
      "source": [
        "<h1 align='center'>Введение в обработку естественного языка</h1>  "
      ]
    },
    {
      "cell_type": "markdown",
      "metadata": {
        "id": "0NQPkTf_NUvz"
      },
      "source": [
        "<h2 align='center'>Урок 9. Языковое моделирование</h2>  "
      ]
    },
    {
      "cell_type": "markdown",
      "metadata": {
        "tags": [],
        "id": "s7PfQR95NUv1"
      },
      "source": [
        "<h3 align='left'>Практическое задание:</h3>  \n",
        "\n",
        "Разобраться с моделькой генерации текста, собрать самим или взять датасет с вебинара и обучить генератор текстов\n",
        "\n"
      ]
    },
    {
      "cell_type": "markdown",
      "source": [
        "###Загружаем библиотеки:"
      ],
      "metadata": {
        "id": "STnArECqPFhK"
      }
    },
    {
      "cell_type": "code",
      "source": [
        "import tensorflow as tf\n",
        "import pandas as pd\n",
        "import numpy as np\n",
        "\n",
        "import os\n",
        "import time"
      ],
      "metadata": {
        "id": "O-J1CTQ8PCb_"
      },
      "execution_count": 36,
      "outputs": []
    },
    {
      "cell_type": "markdown",
      "source": [
        "###Загружаем данные:"
      ],
      "metadata": {
        "id": "j-gREqhIPZXk"
      }
    },
    {
      "cell_type": "code",
      "source": [
        "from google.colab import drive\n",
        "drive.mount('/content/drive')"
      ],
      "metadata": {
        "colab": {
          "base_uri": "https://localhost:8080/"
        },
        "id": "Dj63TnYPPW2n",
        "outputId": "8ea12afb-38b2-4d6f-d4aa-932a11927c02"
      },
      "execution_count": 3,
      "outputs": [
        {
          "output_type": "stream",
          "name": "stdout",
          "text": [
            "Mounted at /content/drive\n"
          ]
        }
      ]
    },
    {
      "cell_type": "code",
      "source": [
        "path_to_file = '/content/drive/MyDrive/Colab_Notebooks/25_NLP/work_9/data/evgenyi_onegin.txt'"
      ],
      "metadata": {
        "id": "6vwSyMWcPlw1"
      },
      "execution_count": 4,
      "outputs": []
    },
    {
      "cell_type": "code",
      "source": [
        "text = open(path_to_file, 'rb').read().decode(encoding='utf-8')\n",
        "# length of text is the number of characters in it\n",
        "print('Length of text: {} characters'.format(len(text)))"
      ],
      "metadata": {
        "id": "0vJFp9nqDEuf",
        "colab": {
          "base_uri": "https://localhost:8080/"
        },
        "outputId": "9a3bdf93-b6b2-49d7-a0f2-4d701a753bb5"
      },
      "execution_count": 5,
      "outputs": [
        {
          "output_type": "stream",
          "name": "stdout",
          "text": [
            "Length of text: 286984 characters\n"
          ]
        }
      ]
    },
    {
      "cell_type": "code",
      "source": [
        "print(text[:500])"
      ],
      "metadata": {
        "id": "sE0XALUbDEqJ",
        "colab": {
          "base_uri": "https://localhost:8080/"
        },
        "outputId": "d87afb75-dfb2-4211-cd42-22206a8d6719"
      },
      "execution_count": 6,
      "outputs": [
        {
          "output_type": "stream",
          "name": "stdout",
          "text": [
            "Александр Сергеевич Пушкин\n",
            "\n",
            "                                Евгений Онегин\n",
            "                                Роман в стихах\n",
            "\n",
            "                        Не мысля гордый свет забавить,\n",
            "                        Вниманье дружбы возлюбя,\n",
            "                        Хотел бы я тебе представить\n",
            "                        Залог достойнее тебя,\n",
            "                        Достойнее души прекрасной,\n",
            "                        Святой исполненной мечты,\n",
            "                        Поэзии живой и ясной,\n",
            "                        Высо\n"
          ]
        }
      ]
    },
    {
      "cell_type": "code",
      "source": [
        "text = text + text"
      ],
      "metadata": {
        "id": "9tmQM-6_DEkD"
      },
      "execution_count": 7,
      "outputs": []
    },
    {
      "cell_type": "code",
      "source": [
        "# The unique characters in the file\n",
        "vocab = sorted(set(text))\n",
        "print('{} unique characters'.format(len(vocab)))"
      ],
      "metadata": {
        "colab": {
          "base_uri": "https://localhost:8080/"
        },
        "id": "RO4Y7XPByVqG",
        "outputId": "0d3406e7-70d6-4c0b-a913-05cabbab27b0"
      },
      "execution_count": 8,
      "outputs": [
        {
          "output_type": "stream",
          "name": "stdout",
          "text": [
            "131 unique characters\n"
          ]
        }
      ]
    },
    {
      "cell_type": "code",
      "source": [
        "# Creating a mapping from unique characters to indices\n",
        "char2idx = {u:i for i, u in enumerate(vocab)}\n",
        "idx2char = np.array(vocab)\n",
        "\n",
        "text_as_int = np.array([char2idx[c] for c in text])"
      ],
      "metadata": {
        "id": "T7-4sJfWyYAy"
      },
      "execution_count": 9,
      "outputs": []
    },
    {
      "cell_type": "code",
      "source": [
        "# text_as_int, text, len(text_as_int), len(text)"
      ],
      "metadata": {
        "id": "AmUKaJqaybAO"
      },
      "execution_count": 11,
      "outputs": []
    },
    {
      "cell_type": "markdown",
      "source": [
        "## train and target"
      ],
      "metadata": {
        "id": "ECwc3zFKy0Gt"
      }
    },
    {
      "cell_type": "code",
      "source": [
        "# The maximum length sentence you want for a single input in characters\n",
        "seq_length = 100\n",
        "examples_per_epoch = len(text)//(seq_length+1)\n",
        "\n",
        "# Create training examples / targets\n",
        "char_dataset = tf.data.Dataset.from_tensor_slices(text_as_int)\n",
        "\n",
        "for i in char_dataset.take(5):\n",
        "    print(idx2char[i.numpy()])"
      ],
      "metadata": {
        "colab": {
          "base_uri": "https://localhost:8080/"
        },
        "id": "l8rfBZsnyczt",
        "outputId": "8652045a-f1ef-4dbf-a1ec-b301a7ca7132"
      },
      "execution_count": 12,
      "outputs": [
        {
          "output_type": "stream",
          "name": "stdout",
          "text": [
            "А\n",
            "л\n",
            "е\n",
            "к\n",
            "с\n"
          ]
        }
      ]
    },
    {
      "cell_type": "code",
      "source": [
        "sequences = char_dataset.batch(seq_length+1, drop_remainder=True)\n",
        "\n",
        "for item in sequences.take(5):\n",
        "    print(repr(''.join(idx2char[item.numpy()])))"
      ],
      "metadata": {
        "colab": {
          "base_uri": "https://localhost:8080/"
        },
        "id": "vakB-sjIy2Ns",
        "outputId": "0f096685-f50e-49c7-b963-ef6aace5d044"
      },
      "execution_count": 13,
      "outputs": [
        {
          "output_type": "stream",
          "name": "stdout",
          "text": [
            "'Александр Сергеевич Пушкин\\n\\n                                Евгений Онегин\\n                          '\n",
            "'      Роман в стихах\\n\\n                        Не мысля гордый свет забавить,\\n                        '\n",
            "'Вниманье дружбы возлюбя,\\n                        Хотел бы я тебе представить\\n                        '\n",
            "'Залог достойнее тебя,\\n                        Достойнее души прекрасной,\\n                        Свят'\n",
            "'ой исполненной мечты,\\n                        Поэзии живой и ясной,\\n                        Высоких д'\n"
          ]
        }
      ]
    },
    {
      "cell_type": "markdown",
      "source": [
        "Сместим предложения для организации тренировочных данных"
      ],
      "metadata": {
        "id": "h6tupobezADL"
      }
    },
    {
      "cell_type": "code",
      "source": [
        "def split_input_target(chunk):\n",
        "    input_text = chunk[:-1]\n",
        "    target_text = chunk[1:]\n",
        "    return input_text, target_text\n",
        "\n",
        "dataset = sequences.map(split_input_target)"
      ],
      "metadata": {
        "id": "TEUsNReGy5Sk"
      },
      "execution_count": 14,
      "outputs": []
    },
    {
      "cell_type": "code",
      "source": [
        "for input_example, target_example in  dataset.take(1):\n",
        "    print('Input data: ', repr(''.join(idx2char[input_example.numpy()])))\n",
        "    print('Target data:', repr(''.join(idx2char[target_example.numpy()])))"
      ],
      "metadata": {
        "colab": {
          "base_uri": "https://localhost:8080/"
        },
        "id": "Tfq0kMWezDmU",
        "outputId": "d18f0139-8d5b-4970-cfe7-b4b5ef631b02"
      },
      "execution_count": 15,
      "outputs": [
        {
          "output_type": "stream",
          "name": "stdout",
          "text": [
            "Input data:  'Александр Сергеевич Пушкин\\n\\n                                Евгений Онегин\\n                         '\n",
            "Target data: 'лександр Сергеевич Пушкин\\n\\n                                Евгений Онегин\\n                          '\n"
          ]
        }
      ]
    },
    {
      "cell_type": "code",
      "source": [
        "# Batch size\n",
        "BATCH_SIZE = 64\n",
        "\n",
        "# Buffer size to shuffle the dataset\n",
        "# (TF data is designed to work with possibly infinite sequences,\n",
        "# so it doesn't attempt to shuffle the entire sequence in memory. Instead,\n",
        "# it maintains a buffer in which it shuffles elements).\n",
        "BUFFER_SIZE = 10000\n",
        "\n",
        "dataset = dataset.shuffle(BUFFER_SIZE).batch(BATCH_SIZE, drop_remainder=True)\n",
        "\n",
        "dataset"
      ],
      "metadata": {
        "colab": {
          "base_uri": "https://localhost:8080/"
        },
        "id": "pFuJpqgYzI0y",
        "outputId": "86ae0108-bbfb-4a51-ff1a-3beac8669fa0"
      },
      "execution_count": 16,
      "outputs": [
        {
          "output_type": "execute_result",
          "data": {
            "text/plain": [
              "<_BatchDataset element_spec=(TensorSpec(shape=(64, 100), dtype=tf.int64, name=None), TensorSpec(shape=(64, 100), dtype=tf.int64, name=None))>"
            ]
          },
          "metadata": {},
          "execution_count": 16
        }
      ]
    },
    {
      "cell_type": "code",
      "source": [
        "# Length of the vocabulary in chars\n",
        "vocab_size = len(vocab)\n",
        "\n",
        "# The embedding dimension\n",
        "embedding_dim = 1024\n",
        "\n",
        "# Number of RNN units\n",
        "rnn_units = embedding_dim"
      ],
      "metadata": {
        "id": "yeaITvTFzZoR"
      },
      "execution_count": 18,
      "outputs": []
    },
    {
      "cell_type": "code",
      "source": [
        "class RNNgenerator(tf.keras.Model):\n",
        "    def __init__(self, vocab_size, embedding_dim, batch_size):\n",
        "        super(RNNgenerator, self).__init__()\n",
        "        \n",
        "        self.emb = tf.keras.layers.Embedding(vocab_size, embedding_dim)\n",
        "                                 \n",
        "        self.gru1 = tf.keras.layers.GRU(rnn_units,\n",
        "                            return_sequences=True,\n",
        "                            recurrent_initializer='glorot_uniform')\n",
        "        self.gru2 = tf.keras.layers.GRU(rnn_units,\n",
        "                            return_sequences=True,\n",
        "                            recurrent_initializer='glorot_uniform')\n",
        "                           \n",
        "        self.fc = tf.keras.layers.Dense(vocab_size)\n",
        "\n",
        "    def call(self, x):\n",
        "        emb_x = self.emb(x)\n",
        "        x1 = self.gru1(emb_x)\n",
        "        x = x1\n",
        "        for _ in range(3):\n",
        "            x = self.gru2(x)\n",
        "        #x = self.gru1(x)\n",
        "        x = (x + x1)/2\n",
        "        return self.fc(x)\n",
        "\n",
        "model = RNNgenerator(vocab_size, embedding_dim, BATCH_SIZE)"
      ],
      "metadata": {
        "id": "PLcPxN-5zg4W"
      },
      "execution_count": 19,
      "outputs": []
    },
    {
      "cell_type": "code",
      "source": [
        "for input_example_batch, target_example_batch in dataset.take(1):\n",
        "    example_batch_predictions = model(input_example_batch)\n",
        "    print(example_batch_predictions.shape, \"# (batch_size, sequence_length, vocab_size)\")"
      ],
      "metadata": {
        "colab": {
          "base_uri": "https://localhost:8080/"
        },
        "id": "_EdzJDnYzw8-",
        "outputId": "fffb1a89-19ba-4207-bbe8-683e7609c27f"
      },
      "execution_count": 20,
      "outputs": [
        {
          "output_type": "stream",
          "name": "stdout",
          "text": [
            "(64, 100, 131) # (batch_size, sequence_length, vocab_size)\n"
          ]
        }
      ]
    },
    {
      "cell_type": "code",
      "source": [
        "model.summary()"
      ],
      "metadata": {
        "colab": {
          "base_uri": "https://localhost:8080/"
        },
        "id": "8HY-1qQk0Coj",
        "outputId": "694aea60-0fd2-45ec-e367-0d5a9a98f800"
      },
      "execution_count": 21,
      "outputs": [
        {
          "output_type": "stream",
          "name": "stdout",
          "text": [
            "Model: \"rn_ngenerator\"\n",
            "_________________________________________________________________\n",
            " Layer (type)                Output Shape              Param #   \n",
            "=================================================================\n",
            " embedding (Embedding)       multiple                  134144    \n",
            "                                                                 \n",
            " gru (GRU)                   multiple                  6297600   \n",
            "                                                                 \n",
            " gru_1 (GRU)                 multiple                  6297600   \n",
            "                                                                 \n",
            " dense (Dense)               multiple                  134275    \n",
            "                                                                 \n",
            "=================================================================\n",
            "Total params: 12,863,619\n",
            "Trainable params: 12,863,619\n",
            "Non-trainable params: 0\n",
            "_________________________________________________________________\n"
          ]
        }
      ]
    },
    {
      "cell_type": "code",
      "source": [
        "example_batch_predictions[0]"
      ],
      "metadata": {
        "colab": {
          "base_uri": "https://localhost:8080/"
        },
        "id": "OoR4uOFV0Gcf",
        "outputId": "3abc3763-bf2d-46f1-fda1-9ba6bd929f7b"
      },
      "execution_count": 22,
      "outputs": [
        {
          "output_type": "execute_result",
          "data": {
            "text/plain": [
              "<tf.Tensor: shape=(100, 131), dtype=float32, numpy=\n",
              "array([[-0.00063004,  0.00221605, -0.00644166, ..., -0.01061852,\n",
              "         0.00183544, -0.0039487 ],\n",
              "       [-0.00057896,  0.00594268, -0.00965196, ..., -0.01359057,\n",
              "         0.00169725, -0.00373325],\n",
              "       [-0.00038774,  0.00930386, -0.01145609, ..., -0.01336055,\n",
              "         0.00120511, -0.00222342],\n",
              "       ...,\n",
              "       [-0.00013104,  0.01319372, -0.0134996 , ..., -0.01162102,\n",
              "         0.00032073,  0.00013022],\n",
              "       [ 0.00056437,  0.01462831, -0.01425424, ..., -0.01056289,\n",
              "         0.00066104,  0.00203356],\n",
              "       [ 0.00097939,  0.01570242, -0.01493575, ..., -0.0097827 ,\n",
              "         0.00094089,  0.00355276]], dtype=float32)>"
            ]
          },
          "metadata": {},
          "execution_count": 22
        }
      ]
    },
    {
      "cell_type": "code",
      "source": [
        "sampled_indices = tf.random.categorical(example_batch_predictions[0], num_samples=1)\n",
        "sampled_indices = tf.squeeze(sampled_indices,axis=-1).numpy()"
      ],
      "metadata": {
        "id": "xVK8e1S20JZ9"
      },
      "execution_count": 23,
      "outputs": []
    },
    {
      "cell_type": "code",
      "source": [
        "print(\"Input: \\n\", repr(\"\".join(idx2char[input_example_batch[0]])))\n",
        "print()\n",
        "print(\"Next Char Predictions: \\n\", repr(\"\".join(idx2char[sampled_indices ])))"
      ],
      "metadata": {
        "colab": {
          "base_uri": "https://localhost:8080/"
        },
        "id": "pvJegkRD0Lq_",
        "outputId": "9d51cb87-82dd-48f6-f343-c077f7578cd7"
      },
      "execution_count": 24,
      "outputs": [
        {
          "output_type": "stream",
          "name": "stdout",
          "text": [
            "Input: \n",
            " '               Читать в глаза своим любезным\\n                        Свои творенья? Говорят,\\n       '\n",
            "\n",
            "Next Char Predictions: \n",
            " 'k:пЛnжXЦ!W9h-ЛУGHЦЯС7?с)mАВфHkШTк6леsжВЬЮ,ббАЖЦПжfкM FЮ 0НуEqфГЗДвм!3ФУ kэ3kMчФ!Yож?\"х?:ж}чucДИ6чЖщЛ'\n"
          ]
        }
      ]
    },
    {
      "cell_type": "markdown",
      "source": [
        "## Train the model"
      ],
      "metadata": {
        "id": "iIDapX0j0Sbm"
      }
    },
    {
      "cell_type": "code",
      "source": [
        "def loss(labels, logits):\n",
        "    return tf.keras.losses.sparse_categorical_crossentropy(labels, logits, from_logits=True)\n",
        "\n",
        "example_batch_loss = loss(target_example_batch, example_batch_predictions)\n",
        "print(\"Prediction shape: \", example_batch_predictions.shape, \" # (batch_size, sequence_length, vocab_size)\")\n",
        "print(\"scalar_loss:      \", example_batch_loss.numpy().mean())"
      ],
      "metadata": {
        "colab": {
          "base_uri": "https://localhost:8080/"
        },
        "id": "E0_-1Wv80Nhc",
        "outputId": "a095a8ff-4739-46e7-c3b4-7a4e2daecb3e"
      },
      "execution_count": 26,
      "outputs": [
        {
          "output_type": "stream",
          "name": "stdout",
          "text": [
            "Prediction shape:  (64, 100, 131)  # (batch_size, sequence_length, vocab_size)\n",
            "scalar_loss:       4.8686833\n"
          ]
        }
      ]
    },
    {
      "cell_type": "code",
      "source": [
        "model.compile(optimizer='adam', loss=loss)"
      ],
      "metadata": {
        "id": "MMg0PH5m0Q0R"
      },
      "execution_count": 27,
      "outputs": []
    },
    {
      "cell_type": "markdown",
      "source": [
        "### Configure checkpoints"
      ],
      "metadata": {
        "id": "PBJ00-R4068N"
      }
    },
    {
      "cell_type": "code",
      "source": [
        "!rm -rf ./training_checkpoints"
      ],
      "metadata": {
        "id": "n7dcSY980c65"
      },
      "execution_count": 33,
      "outputs": []
    },
    {
      "cell_type": "code",
      "source": [
        "!ls ./training_checkpoints"
      ],
      "metadata": {
        "colab": {
          "base_uri": "https://localhost:8080/"
        },
        "id": "XtSawWrm08s3",
        "outputId": "0799dbb8-486e-405c-b6fc-77108a4fff74"
      },
      "execution_count": 34,
      "outputs": [
        {
          "output_type": "stream",
          "name": "stdout",
          "text": [
            "ls: cannot access './training_checkpoints': No such file or directory\n"
          ]
        }
      ]
    },
    {
      "cell_type": "code",
      "source": [
        "# Directory where the checkpoints will be saved\n",
        "checkpoint_dir = './training_checkpoints'\n",
        "# Name of the checkpoint files\n",
        "checkpoint_prefix = os.path.join(checkpoint_dir, \"ckpt_{epoch}\")\n",
        "\n",
        "checkpoint_callback = tf.keras.callbacks.ModelCheckpoint(\n",
        "    filepath=checkpoint_prefix,\n",
        "    save_freq=88*3,\n",
        "    save_weights_only=True)"
      ],
      "metadata": {
        "id": "3QCoSQgU0-Es"
      },
      "execution_count": 37,
      "outputs": []
    },
    {
      "cell_type": "markdown",
      "source": [
        "## Execute the training"
      ],
      "metadata": {
        "id": "qaUHotva1DgL"
      }
    },
    {
      "cell_type": "code",
      "source": [
        "EPOCHS = 50"
      ],
      "metadata": {
        "id": "6hC7ydyC1AGW"
      },
      "execution_count": 70,
      "outputs": []
    },
    {
      "cell_type": "code",
      "source": [
        "history = model.fit(dataset, epochs=EPOCHS, callbacks=[checkpoint_callback])"
      ],
      "metadata": {
        "colab": {
          "base_uri": "https://localhost:8080/"
        },
        "id": "ySblH-d21Gu3",
        "outputId": "18c2d416-10c8-49d7-f784-56fa65ccb5b4"
      },
      "execution_count": 71,
      "outputs": [
        {
          "output_type": "stream",
          "name": "stdout",
          "text": [
            "Epoch 1/50\n",
            "88/88 [==============================] - 29s 317ms/step - loss: 0.2296\n",
            "Epoch 2/50\n",
            "88/88 [==============================] - 29s 315ms/step - loss: 0.2110\n",
            "Epoch 3/50\n",
            "88/88 [==============================] - 28s 311ms/step - loss: 0.1978\n",
            "Epoch 4/50\n",
            "88/88 [==============================] - 29s 319ms/step - loss: 0.1802\n",
            "Epoch 5/50\n",
            "88/88 [==============================] - 29s 317ms/step - loss: 0.1594\n",
            "Epoch 6/50\n",
            "88/88 [==============================] - 29s 314ms/step - loss: 0.1428\n",
            "Epoch 7/50\n",
            "88/88 [==============================] - 30s 321ms/step - loss: 0.1541\n",
            "Epoch 8/50\n",
            "88/88 [==============================] - 29s 309ms/step - loss: 0.1386\n",
            "Epoch 9/50\n",
            "88/88 [==============================] - 28s 311ms/step - loss: 0.1286\n",
            "Epoch 10/50\n",
            "88/88 [==============================] - 29s 320ms/step - loss: 0.1201\n",
            "Epoch 11/50\n",
            "88/88 [==============================] - 29s 315ms/step - loss: 0.1145\n",
            "Epoch 12/50\n",
            "88/88 [==============================] - 29s 314ms/step - loss: 0.1106\n",
            "Epoch 13/50\n",
            "88/88 [==============================] - 29s 321ms/step - loss: 0.1082\n",
            "Epoch 14/50\n",
            "88/88 [==============================] - 28s 309ms/step - loss: 0.3370\n",
            "Epoch 15/50\n",
            "88/88 [==============================] - 28s 311ms/step - loss: 0.2872\n",
            "Epoch 16/50\n",
            "88/88 [==============================] - 29s 318ms/step - loss: 0.1997\n",
            "Epoch 17/50\n",
            "88/88 [==============================] - 28s 311ms/step - loss: 0.1550\n",
            "Epoch 18/50\n",
            "88/88 [==============================] - 28s 311ms/step - loss: 0.1521\n",
            "Epoch 19/50\n",
            "88/88 [==============================] - 30s 319ms/step - loss: 0.1475\n",
            "Epoch 20/50\n",
            "88/88 [==============================] - 30s 318ms/step - loss: 0.1177\n",
            "Epoch 21/50\n",
            "88/88 [==============================] - 29s 309ms/step - loss: 0.1064\n",
            "Epoch 22/50\n",
            "88/88 [==============================] - 30s 325ms/step - loss: 0.0996\n",
            "Epoch 23/50\n",
            "88/88 [==============================] - 28s 310ms/step - loss: 0.0948\n",
            "Epoch 24/50\n",
            "88/88 [==============================] - 29s 316ms/step - loss: 0.0922\n",
            "Epoch 25/50\n",
            "88/88 [==============================] - 29s 316ms/step - loss: 0.0909\n",
            "Epoch 26/50\n",
            "88/88 [==============================] - 29s 320ms/step - loss: 0.0891\n",
            "Epoch 27/50\n",
            "88/88 [==============================] - 28s 308ms/step - loss: 0.0880\n",
            "Epoch 28/50\n",
            "88/88 [==============================] - 29s 316ms/step - loss: 0.0872\n",
            "Epoch 29/50\n",
            "88/88 [==============================] - 29s 314ms/step - loss: 0.0866\n",
            "Epoch 30/50\n",
            "88/88 [==============================] - 29s 313ms/step - loss: 0.1970\n",
            "Epoch 31/50\n",
            "88/88 [==============================] - 30s 325ms/step - loss: 0.3377\n",
            "Epoch 32/50\n",
            "88/88 [==============================] - 28s 307ms/step - loss: 0.3089\n",
            "Epoch 33/50\n",
            "88/88 [==============================] - 29s 310ms/step - loss: 0.2312\n",
            "Epoch 34/50\n",
            "88/88 [==============================] - 30s 320ms/step - loss: 0.2357\n",
            "Epoch 35/50\n",
            "88/88 [==============================] - 29s 316ms/step - loss: 0.1773\n",
            "Epoch 36/50\n",
            "88/88 [==============================] - 28s 308ms/step - loss: 0.1427\n",
            "Epoch 37/50\n",
            "88/88 [==============================] - 29s 318ms/step - loss: 0.1515\n",
            "Epoch 38/50\n",
            "88/88 [==============================] - 28s 313ms/step - loss: 0.1259\n",
            "Epoch 39/50\n",
            "88/88 [==============================] - 28s 312ms/step - loss: 0.1107\n",
            "Epoch 40/50\n",
            "88/88 [==============================] - 30s 325ms/step - loss: 0.1022\n",
            "Epoch 41/50\n",
            "88/88 [==============================] - 28s 306ms/step - loss: 0.0958\n",
            "Epoch 42/50\n",
            "88/88 [==============================] - 29s 313ms/step - loss: 0.1078\n",
            "Epoch 43/50\n",
            "88/88 [==============================] - 29s 323ms/step - loss: 0.1007\n",
            "Epoch 44/50\n",
            "88/88 [==============================] - 28s 307ms/step - loss: 0.0933\n",
            "Epoch 45/50\n",
            "88/88 [==============================] - 29s 313ms/step - loss: 0.0897\n",
            "Epoch 46/50\n",
            "88/88 [==============================] - 30s 320ms/step - loss: 0.0870\n",
            "Epoch 47/50\n",
            "88/88 [==============================] - 29s 312ms/step - loss: 0.1359\n",
            "Epoch 48/50\n",
            "88/88 [==============================] - 30s 316ms/step - loss: 0.2750\n",
            "Epoch 49/50\n",
            "88/88 [==============================] - 30s 317ms/step - loss: 0.3372\n",
            "Epoch 50/50\n",
            "88/88 [==============================] - 29s 314ms/step - loss: 0.2897\n"
          ]
        }
      ]
    },
    {
      "cell_type": "markdown",
      "source": [
        "## Generate text"
      ],
      "metadata": {
        "id": "eoaMnuBO4Fkp"
      }
    },
    {
      "cell_type": "code",
      "source": [
        "tf.train.latest_checkpoint(checkpoint_dir)"
      ],
      "metadata": {
        "colab": {
          "base_uri": "https://localhost:8080/",
          "height": 35
        },
        "id": "VhvbHWF81IFm",
        "outputId": "bdc3e2fe-c89d-48ca-8c7d-87a7db0432bf"
      },
      "execution_count": 72,
      "outputs": [
        {
          "output_type": "execute_result",
          "data": {
            "text/plain": [
              "'./training_checkpoints/ckpt_49'"
            ],
            "application/vnd.google.colaboratory.intrinsic+json": {
              "type": "string"
            }
          },
          "metadata": {},
          "execution_count": 72
        }
      ]
    },
    {
      "cell_type": "code",
      "source": [
        "model.load_weights(tf.train.latest_checkpoint(checkpoint_dir))\n",
        "model.build(tf.TensorShape([1, None]))"
      ],
      "metadata": {
        "id": "9B3V2YrZ4HJW"
      },
      "execution_count": 73,
      "outputs": []
    },
    {
      "cell_type": "code",
      "source": [
        "model.summary()"
      ],
      "metadata": {
        "colab": {
          "base_uri": "https://localhost:8080/"
        },
        "id": "58fNXHVd4Nep",
        "outputId": "6e8c752e-4cc8-4662-a02a-dd7c151cf2f1"
      },
      "execution_count": 74,
      "outputs": [
        {
          "output_type": "stream",
          "name": "stdout",
          "text": [
            "Model: \"rn_ngenerator\"\n",
            "_________________________________________________________________\n",
            " Layer (type)                Output Shape              Param #   \n",
            "=================================================================\n",
            " embedding (Embedding)       multiple                  134144    \n",
            "                                                                 \n",
            " gru (GRU)                   multiple                  6297600   \n",
            "                                                                 \n",
            " gru_1 (GRU)                 multiple                  6297600   \n",
            "                                                                 \n",
            " dense (Dense)               multiple                  134275    \n",
            "                                                                 \n",
            "=================================================================\n",
            "Total params: 12,863,619\n",
            "Trainable params: 12,863,619\n",
            "Non-trainable params: 0\n",
            "_________________________________________________________________\n"
          ]
        }
      ]
    },
    {
      "cell_type": "code",
      "source": [
        "def generate_text(model, start_string):\n",
        "    # Evaluation step (generating text using the learned model)\n",
        "\n",
        "    # Number of characters to generate\n",
        "    num_generate = 500\n",
        "\n",
        "    # Converting our start string to numbers (vectorizing)\n",
        "    input_eval = [char2idx[s] for s in start_string]\n",
        "    input_eval = tf.expand_dims(input_eval, 0)\n",
        "\n",
        "    # Empty string to store our results\n",
        "    text_generated = []\n",
        "\n",
        "    # Low temperature results in more predictable text.\n",
        "    # Higher temperature results in more surprising text.\n",
        "    # Experiment to find the best setting.\n",
        "    temperature = 0.001\n",
        "\n",
        "    # Here batch size == 1\n",
        "    model.reset_states()\n",
        "    for i in range(num_generate):\n",
        "        predictions = model(input_eval)\n",
        "        predictions = tf.squeeze(predictions, 0)\n",
        "        # using a categorical distribution to predict the character returned by the model\n",
        "        predictions = predictions / temperature\n",
        "        predicted_id = tf.random.categorical(predictions, num_samples=1)[-1, 0].numpy()\n",
        "\n",
        "        # Pass the predicted character as the next input to the model\n",
        "        # along with the previous hidden state\n",
        "        input_eval = tf.expand_dims([predicted_id], 0)\n",
        "\n",
        "        text_generated.append(idx2char[predicted_id])\n",
        "\n",
        "    return (start_string + ''.join(text_generated))"
      ],
      "metadata": {
        "id": "SWoyCwWt4urd"
      },
      "execution_count": 81,
      "outputs": []
    },
    {
      "cell_type": "code",
      "source": [
        "text_ = generate_text(model, start_string=u\"И вот идет уже\")\n",
        "print(text_)"
      ],
      "metadata": {
        "colab": {
          "base_uri": "https://localhost:8080/"
        },
        "id": "bLIHqSGO41bc",
        "outputId": "8b087b3d-eece-4f47-8aea-c11e4e21d6e2"
      },
      "execution_count": 82,
      "outputs": [
        {
          "output_type": "stream",
          "name": "stdout",
          "text": [
            "И вот идет ужелит                                                                                                                                                                                                                                                                                                                                                                                                                                                                                                                 \n"
          ]
        }
      ]
    },
    {
      "cell_type": "code",
      "source": [
        "len(text_)"
      ],
      "metadata": {
        "colab": {
          "base_uri": "https://localhost:8080/"
        },
        "id": "jzr_JLK743xk",
        "outputId": "46fd45bc-e092-4dac-d4cf-c409357f64bc"
      },
      "execution_count": 83,
      "outputs": [
        {
          "output_type": "execute_result",
          "data": {
            "text/plain": [
              "514"
            ]
          },
          "metadata": {},
          "execution_count": 83
        }
      ]
    },
    {
      "cell_type": "code",
      "source": [],
      "metadata": {
        "id": "CsnEne9Q5BBI"
      },
      "execution_count": null,
      "outputs": []
    }
  ],
  "metadata": {
    "kernelspec": {
      "display_name": "Python 3 (ipykernel)",
      "language": "python",
      "name": "python3"
    },
    "language_info": {
      "codemirror_mode": {
        "name": "ipython",
        "version": 3
      },
      "file_extension": ".py",
      "mimetype": "text/x-python",
      "name": "python",
      "nbconvert_exporter": "python",
      "pygments_lexer": "ipython3",
      "version": "3.10.9"
    },
    "colab": {
      "provenance": [],
      "include_colab_link": true
    },
    "accelerator": "GPU",
    "gpuClass": "standard"
  },
  "nbformat": 4,
  "nbformat_minor": 0
}