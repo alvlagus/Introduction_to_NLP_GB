{
  "cells": [
    {
      "cell_type": "markdown",
      "metadata": {
        "id": "2QmKO1AuZpv5"
      },
      "source": [
        "# <p style=\"background-color:lightgreen;font-family:newtimeroman;color:black;font-size:150%;text-align:center;border-radius:50px 50px;\">Введение в обработку естественного языка</p>"
      ]
    },
    {
      "cell_type": "markdown",
      "metadata": {
        "id": "0Zv1clznZpv-"
      },
      "source": [
        "<h2 align='center'>Урок 5. Part-of-Speech разметка, NER, извлечение отношений</h2>  "
      ]
    },
    {
      "cell_type": "markdown",
      "metadata": {
        "tags": [],
        "id": "xsoClC63Zpv_"
      },
      "source": [
        "<h3 align='left'>Практическое задание:</h3>  \n",
        "\n",
        "**Задание 1. Написать теггер на данных с русским языком**\n",
        "\n",
        "    1. проверить UnigramTagger, BigramTagger, TrigramTagger и их комбинации\n",
        "    2. написать свой теггер как на занятии, попробовать разные векторайзеры, добавить знание не только букв но и слов\n",
        "    3. сравнить все реализованные методы, сделать выводы  \n",
        "\n",
        "**Задание 2. Проверить, насколько хорошо работает NER**\n",
        "\n",
        "Данные брать из Index of /pub/named_entities\n",
        "\n",
        "    1. проверить NER из nltk/spacy/deeppavlov.\n",
        "    2. написать свой NER, попробовать разные подходы.\n",
        "        a. передаём в сетку токен и его соседей.\n",
        "        b. передаём в сетку только токен.\n",
        "        c. свой вариант.\n",
        "    3. сравнить свои реализованные подходы на качество — вывести precision/recall/f1_score."
      ]
    },
    {
      "cell_type": "markdown",
      "metadata": {
        "id": "Wz4ihelTZpwA"
      },
      "source": [
        "### Библиотеки"
      ]
    },
    {
      "cell_type": "code",
      "execution_count": null,
      "metadata": {
        "tags": [],
        "colab": {
          "base_uri": "https://localhost:8080/"
        },
        "id": "9Xt8_xJKZpwA",
        "outputId": "b5cb7f5f-effd-4207-e664-e766ce25fe2a"
      },
      "outputs": [
        {
          "output_type": "stream",
          "name": "stdout",
          "text": [
            "\u001b[33mWARNING: Ignoring invalid distribution -orch (/usr/local/lib/python3.9/dist-packages)\u001b[0m\u001b[33m\n",
            "\u001b[0m\u001b[33mWARNING: Ignoring invalid distribution -orch (/usr/local/lib/python3.9/dist-packages)\u001b[0m\u001b[33m\n",
            "\u001b[0mLooking in indexes: https://pypi.org/simple, https://us-python.pkg.dev/colab-wheels/public/simple/\n",
            "Requirement already satisfied: pyconll in /usr/local/lib/python3.9/dist-packages (3.1.0)\n",
            "\u001b[33mWARNING: Ignoring invalid distribution -orch (/usr/local/lib/python3.9/dist-packages)\u001b[0m\u001b[33m\n",
            "\u001b[0m\u001b[33mWARNING: Ignoring invalid distribution -orch (/usr/local/lib/python3.9/dist-packages)\u001b[0m\u001b[33m\n",
            "\u001b[0m\u001b[33mWARNING: Ignoring invalid distribution -orch (/usr/local/lib/python3.9/dist-packages)\u001b[0m\u001b[33m\n",
            "\u001b[0mLooking in indexes: https://pypi.org/simple, https://us-python.pkg.dev/colab-wheels/public/simple/\n",
            "Requirement already satisfied: nvidia-tensorrt in /usr/local/lib/python3.9/dist-packages (99.0.0)\n",
            "Requirement already satisfied: tensorrt in /usr/local/lib/python3.9/dist-packages (from nvidia-tensorrt) (8.6.0)\n",
            "Requirement already satisfied: nvidia-cuda-runtime-cu12 in /usr/local/lib/python3.9/dist-packages (from tensorrt->nvidia-tensorrt) (12.1.55)\n",
            "Requirement already satisfied: nvidia-cudnn-cu12 in /usr/local/lib/python3.9/dist-packages (from tensorrt->nvidia-tensorrt) (8.9.0.131)\n",
            "Requirement already satisfied: nvidia-cublas-cu12 in /usr/local/lib/python3.9/dist-packages (from tensorrt->nvidia-tensorrt) (12.1.0.26)\n",
            "\u001b[33mWARNING: Ignoring invalid distribution -orch (/usr/local/lib/python3.9/dist-packages)\u001b[0m\u001b[33m\n",
            "\u001b[0m"
          ]
        }
      ],
      "source": [
        "!pip install pyconll\n",
        "!pip install nvidia-tensorrt"
      ]
    },
    {
      "cell_type": "code",
      "execution_count": null,
      "metadata": {
        "tags": [],
        "id": "rmAnQjBJZpwC"
      },
      "outputs": [],
      "source": [
        "import pandas as pd\n",
        "import pyconll\n",
        "\n",
        "from collections import Counter\n",
        "\n",
        "import numpy as np\n",
        "\n",
        "from nltk.tag import DefaultTagger, UnigramTagger, BigramTagger, TrigramTagger\n",
        "\n",
        "import tensorflow as tf\n",
        "\n",
        "from tensorflow.keras import Sequential\n",
        "from tensorflow.keras import activations\n",
        "from tensorflow.keras.layers import Dense, Embedding, Conv1D, GlobalAveragePooling1D, BatchNormalization, Dropout, LSTM, Activation"
      ]
    },
    {
      "cell_type": "code",
      "execution_count": null,
      "metadata": {
        "tags": [],
        "id": "_ohm_7K_ZpwD"
      },
      "outputs": [],
      "source": [
        "import warnings\n",
        "warnings.filterwarnings(\"ignore\")"
      ]
    },
    {
      "cell_type": "markdown",
      "metadata": {
        "tags": [],
        "id": "d2G-hawiZpwD"
      },
      "source": [
        "## Задание 1"
      ]
    },
    {
      "cell_type": "markdown",
      "metadata": {
        "tags": [],
        "id": "IAEl_THfZpwD"
      },
      "source": [
        "### Данные:"
      ]
    },
    {
      "cell_type": "code",
      "execution_count": null,
      "metadata": {
        "tags": [],
        "colab": {
          "base_uri": "https://localhost:8080/"
        },
        "id": "cHfa8BkgZpwE",
        "outputId": "d359f387-5287-4fed-8a02-7c46eb4c0e89"
      },
      "outputs": [
        {
          "output_type": "stream",
          "name": "stdout",
          "text": [
            "mkdir: cannot create directory ‘dataset_ru’: File exists\n"
          ]
        }
      ],
      "source": [
        "!mkdir dataset_ru"
      ]
    },
    {
      "cell_type": "markdown",
      "metadata": {
        "id": "dRHxb2ryZpwE"
      },
      "source": [
        "данные взяты из \n",
        "\n",
        "https://github.com/UniversalDependencies/UD_Russian-SynTagRus"
      ]
    },
    {
      "cell_type": "code",
      "execution_count": null,
      "metadata": {
        "tags": [],
        "colab": {
          "base_uri": "https://localhost:8080/"
        },
        "id": "Gdxain3cZpwE",
        "outputId": "daac6b95-5440-457c-ad20-2719b7d802b3"
      },
      "outputs": [
        {
          "output_type": "stream",
          "name": "stdout",
          "text": [
            "--2023-04-18 22:44:55--  https://raw.githubusercontent.com/UniversalDependencies/UD_Russian-SynTagRus/master/ru_syntagrus-ud-train-a.conllu\n",
            "Resolving raw.githubusercontent.com (raw.githubusercontent.com)... 185.199.111.133, 185.199.110.133, 185.199.109.133, ...\n",
            "Connecting to raw.githubusercontent.com (raw.githubusercontent.com)|185.199.111.133|:443... connected.\n",
            "HTTP request sent, awaiting response... 200 OK\n",
            "Length: 40736581 (39M) [text/plain]\n",
            "Saving to: ‘./dataset_ru/ru_syntagrus-ud-train-a.conllu’\n",
            "\n",
            "./dataset_ru/ru_syn 100%[===================>]  38.85M  99.9MB/s    in 0.4s    \n",
            "\n",
            "2023-04-18 22:44:55 (99.9 MB/s) - ‘./dataset_ru/ru_syntagrus-ud-train-a.conllu’ saved [40736581/40736581]\n",
            "\n",
            "--2023-04-18 22:44:55--  https://raw.githubusercontent.com/UniversalDependencies/UD_Russian-SynTagRus/master/ru_syntagrus-ud-train-b.conllu\n",
            "Resolving raw.githubusercontent.com (raw.githubusercontent.com)... 185.199.108.133, 185.199.111.133, 185.199.109.133, ...\n",
            "Connecting to raw.githubusercontent.com (raw.githubusercontent.com)|185.199.108.133|:443... connected.\n",
            "HTTP request sent, awaiting response... 200 OK\n",
            "Length: 42819832 (41M) [text/plain]\n",
            "Saving to: ‘./dataset_ru/ru_syntagrus-ud-train-b.conllu’\n",
            "\n",
            "./dataset_ru/ru_syn 100%[===================>]  40.84M  98.0MB/s    in 0.4s    \n",
            "\n",
            "2023-04-18 22:44:56 (98.0 MB/s) - ‘./dataset_ru/ru_syntagrus-ud-train-b.conllu’ saved [42819832/42819832]\n",
            "\n",
            "--2023-04-18 22:44:56--  https://raw.githubusercontent.com/UniversalDependencies/UD_Russian-SynTagRus/master/ru_syntagrus-ud-train-c.conllu\n",
            "Resolving raw.githubusercontent.com (raw.githubusercontent.com)... 185.199.109.133, 185.199.110.133, 185.199.108.133, ...\n",
            "Connecting to raw.githubusercontent.com (raw.githubusercontent.com)|185.199.109.133|:443... connected.\n",
            "HTTP request sent, awaiting response... 200 OK\n",
            "Length: 32367510 (31M) [text/plain]\n",
            "Saving to: ‘./dataset_ru/ru_syntagrus-ud-train-c.conllu’\n",
            "\n",
            "./dataset_ru/ru_syn 100%[===================>]  30.87M   156MB/s    in 0.2s    \n",
            "\n",
            "2023-04-18 22:44:56 (156 MB/s) - ‘./dataset_ru/ru_syntagrus-ud-train-c.conllu’ saved [32367510/32367510]\n",
            "\n",
            "--2023-04-18 22:44:56--  https://raw.githubusercontent.com/UniversalDependencies/UD_Russian-SynTagRus/master/ru_syntagrus-ud-dev.conllu\n",
            "Resolving raw.githubusercontent.com (raw.githubusercontent.com)... 185.199.111.133, 185.199.109.133, 185.199.108.133, ...\n",
            "Connecting to raw.githubusercontent.com (raw.githubusercontent.com)|185.199.111.133|:443... connected.\n",
            "HTTP request sent, awaiting response... 200 OK\n",
            "Length: 14704579 (14M) [text/plain]\n",
            "Saving to: ‘./dataset_ru/ru_syntagrus-ud-dev.conllu’\n",
            "\n",
            "./dataset_ru/ru_syn 100%[===================>]  14.02M  --.-KB/s    in 0.1s    \n",
            "\n",
            "2023-04-18 22:44:57 (115 MB/s) - ‘./dataset_ru/ru_syntagrus-ud-dev.conllu’ saved [14704579/14704579]\n",
            "\n",
            "--2023-04-18 22:44:57--  https://raw.githubusercontent.com/UniversalDependencies/UD_Russian-SynTagRus/master/ru_syntagrus-ud-test.conllu\n",
            "Resolving raw.githubusercontent.com (raw.githubusercontent.com)... 185.199.108.133, 185.199.109.133, 185.199.110.133, ...\n",
            "Connecting to raw.githubusercontent.com (raw.githubusercontent.com)|185.199.108.133|:443... connected.\n",
            "HTTP request sent, awaiting response... 200 OK\n",
            "Length: 14970950 (14M) [text/plain]\n",
            "Saving to: ‘./dataset_ru/ru_syntagrus-ud-test.conllu’\n",
            "\n",
            "./dataset_ru/ru_syn 100%[===================>]  14.28M  --.-KB/s    in 0.1s    \n",
            "\n",
            "2023-04-18 22:44:57 (111 MB/s) - ‘./dataset_ru/ru_syntagrus-ud-test.conllu’ saved [14970950/14970950]\n",
            "\n"
          ]
        }
      ],
      "source": [
        "!wget -O ./dataset_ru/ru_syntagrus-ud-train-a.conllu https://raw.githubusercontent.com/UniversalDependencies/UD_Russian-SynTagRus/master/ru_syntagrus-ud-train-a.conllu\n",
        "!wget -O ./dataset_ru/ru_syntagrus-ud-train-b.conllu https://raw.githubusercontent.com/UniversalDependencies/UD_Russian-SynTagRus/master/ru_syntagrus-ud-train-b.conllu\n",
        "!wget -O ./dataset_ru/ru_syntagrus-ud-train-c.conllu https://raw.githubusercontent.com/UniversalDependencies/UD_Russian-SynTagRus/master/ru_syntagrus-ud-train-c.conllu\n",
        "!wget -O ./dataset_ru/ru_syntagrus-ud-dev.conllu https://raw.githubusercontent.com/UniversalDependencies/UD_Russian-SynTagRus/master/ru_syntagrus-ud-dev.conllu\n",
        "!wget -O ./dataset_ru/ru_syntagrus-ud-test.conllu https://raw.githubusercontent.com/UniversalDependencies/UD_Russian-SynTagRus/master/ru_syntagrus-ud-test.conllu"
      ]
    },
    {
      "cell_type": "code",
      "execution_count": null,
      "metadata": {
        "tags": [],
        "id": "uc97jJZbZpwF"
      },
      "outputs": [],
      "source": [
        "# собирем тренировочный датасет из частей\n",
        "\n",
        "full_train = pyconll.load_from_file('dataset_ru/ru_syntagrus-ud-train-a.conllu')\n",
        "full_train_b = pyconll.load_from_file('dataset_ru/ru_syntagrus-ud-train-b.conllu')\n",
        "full_train_c = pyconll.load_from_file('dataset_ru/ru_syntagrus-ud-train-c.conllu')\n",
        "\n",
        "full_train.extend([*full_train_b, *full_train_c])"
      ]
    },
    {
      "cell_type": "code",
      "execution_count": null,
      "metadata": {
        "tags": [],
        "id": "Wyg12fWhZpwF"
      },
      "outputs": [],
      "source": [
        "full_test = pyconll.load_from_file('dataset_ru/ru_syntagrus-ud-test.conllu')"
      ]
    },
    {
      "cell_type": "code",
      "execution_count": null,
      "metadata": {
        "tags": [],
        "id": "eR_O7RqJZpwF"
      },
      "outputs": [],
      "source": [
        "# full_test2 = pyconll.load_from_file('dataset_ru/ru_syntagrus-ud-dev.conllu')"
      ]
    },
    {
      "cell_type": "code",
      "execution_count": null,
      "metadata": {
        "tags": [],
        "colab": {
          "base_uri": "https://localhost:8080/"
        },
        "id": "za_S6z72ZpwF",
        "outputId": "3e8be3fa-419f-49dc-c8e5-96bfd4e8ef75"
      },
      "outputs": [
        {
          "output_type": "stream",
          "name": "stdout",
          "text": [
            "Анкета NOUN\n",
            ". PUNCT\n",
            "\n",
            "Начальник NOUN\n",
            "областного ADJ\n",
            "управления NOUN\n",
            "связи NOUN\n",
            "Семен PROPN\n",
            "Еремеевич PROPN\n",
            "был AUX\n",
            "человек NOUN\n",
            "простой ADJ\n",
            ", PUNCT\n",
            "приходил VERB\n",
            "на ADP\n",
            "работу NOUN\n",
            "всегда ADV\n",
            "вовремя ADV\n",
            ", PUNCT\n",
            "здоровался VERB\n",
            "с ADP\n",
            "секретаршей NOUN\n",
            "за ADP\n",
            "руку NOUN\n",
            "и CCONJ\n",
            "иногда ADV\n",
            "даже PART\n",
            "писал VERB\n",
            "в ADP\n",
            "стенгазету NOUN\n",
            "заметки NOUN\n",
            "под ADP\n",
            "псевдонимом NOUN\n",
            "\" PUNCT\n",
            "Муха NOUN\n",
            "\" PUNCT\n",
            ". PUNCT\n",
            "\n",
            "В ADP\n",
            "приемной NOUN\n",
            "его PRON\n",
            "с ADP\n",
            "утра NOUN\n",
            "ожидали VERB\n",
            "посетители NOUN\n",
            ", PUNCT\n",
            "- PUNCT\n",
            "кое-кто PRON\n",
            "с ADP\n",
            "важными ADJ\n",
            "делами NOUN\n",
            ", PUNCT\n",
            "а CCONJ\n",
            "кое-кто PRON\n",
            "и PART\n",
            "с ADP\n",
            "такими DET\n",
            ", PUNCT\n",
            "которые PRON\n",
            "легко ADV\n",
            "можно ADV\n",
            "было AUX\n",
            "решить VERB\n",
            "в ADP\n",
            "нижестоящих ADJ\n",
            "инстанциях NOUN\n",
            ", PUNCT\n",
            "не PART\n",
            "затрудняя VERB\n",
            "Семена PROPN\n",
            "Еремеевича PROPN\n",
            ". PUNCT\n",
            "\n"
          ]
        }
      ],
      "source": [
        "for sent in full_train[:3]:\n",
        "    for token in sent:\n",
        "        print(token.form, token.upos)\n",
        "    print()"
      ]
    },
    {
      "cell_type": "code",
      "execution_count": null,
      "metadata": {
        "tags": [],
        "id": "sv7cuQHdZpwG"
      },
      "outputs": [],
      "source": [
        "fdata_train = []\n",
        "for sent in full_train[:]:\n",
        "    fdata_train.append([(token.form, token.upos) for token in sent])\n",
        "    \n",
        "fdata_test = []\n",
        "for sent in full_test[:]:\n",
        "    fdata_test.append([(token.form, token.upos) for token in sent])\n",
        "    \n",
        "fdata_sent_test = []\n",
        "for sent in full_test[:]:\n",
        "    fdata_sent_test.append([token.form for token in sent])"
      ]
    },
    {
      "cell_type": "code",
      "execution_count": null,
      "metadata": {
        "tags": [],
        "colab": {
          "base_uri": "https://localhost:8080/"
        },
        "id": "OxWxF6loZpwG",
        "outputId": "7eb17ec3-25ae-4ff8-bab4-ab796884118b"
      },
      "outputs": [
        {
          "output_type": "stream",
          "name": "stdout",
          "text": [
            "Наибольшая длина предложения 205\n",
            "Наибольшая длина токена 47\n"
          ]
        }
      ],
      "source": [
        "MAX_SENT_LEN = max(len(sent) for sent in full_train)\n",
        "MAX_ORIG_TOKEN_LEN = max(len(\"\" if token.form is None else token.form) for sent in full_train for token in sent)\n",
        "print('Наибольшая длина предложения', MAX_SENT_LEN)\n",
        "print('Наибольшая длина токена', MAX_ORIG_TOKEN_LEN)"
      ]
    },
    {
      "cell_type": "code",
      "execution_count": null,
      "metadata": {
        "tags": [],
        "colab": {
          "base_uri": "https://localhost:8080/"
        },
        "id": "OROKS3vSZpwG",
        "outputId": "602cea1c-7e5f-4cf1-ed78-a7ed42e4daf1"
      },
      "outputs": [
        {
          "output_type": "stream",
          "name": "stdout",
          "text": [
            "Анкета .\n",
            "Начальник областного управления связи Семен Еремеевич был человек простой , приходил на работу всегда вовремя , здоровался с секретаршей за руку и иногда даже писал в стенгазету заметки под псевдонимом \" Муха \" .\n",
            "В приемной его с утра ожидали посетители , - кое-кто с важными делами , а кое-кто и с такими , которые легко можно было решить в нижестоящих инстанциях , не затрудняя Семена Еремеевича .\n",
            "Однако стиль работы Семена Еремеевича заключался в том , чтобы принимать всех желающих и лично вникать в дело .\n",
            "Приемная была обставлена просто , но по-деловому .\n",
            "У двери стоял стол секретарши , на столе - пишущая машинка с широкой кареткой .\n",
            "В углу висел репродуктор и играло радио для развлечения ожидающих и еще для того , чтобы заглушать голос начальника , доносившийся из кабинета , так как , бесспорно , среди посетителей могли находиться и случайные люди .\n",
            "Кабинет отличался скромностью , присущей Семену Еремеевичу .\n",
            "В глубине стоял широкий письменный стол с бронзовыми чернильницами и перед ним два кожаных кресла .\n",
            "Справа был стол для заседаний - длинный , накрытый зеленым сукном и с обеих сторон аккуратно заставленный стульями .\n",
            "NOUN PUNCT\n",
            "NOUN ADJ NOUN NOUN PROPN PROPN AUX NOUN ADJ PUNCT VERB ADP NOUN ADV ADV PUNCT VERB ADP NOUN ADP NOUN CCONJ ADV PART VERB ADP NOUN NOUN ADP NOUN PUNCT NOUN PUNCT PUNCT\n",
            "ADP NOUN PRON ADP NOUN VERB NOUN PUNCT PUNCT PRON ADP ADJ NOUN PUNCT CCONJ PRON PART ADP DET PUNCT PRON ADV ADV AUX VERB ADP ADJ NOUN PUNCT PART VERB PROPN PROPN PUNCT\n",
            "ADV NOUN NOUN PROPN PROPN VERB ADP PRON PUNCT SCONJ VERB DET VERB CCONJ ADV VERB ADP NOUN PUNCT\n",
            "NOUN AUX VERB ADV PUNCT CCONJ ADV PUNCT\n",
            "ADP NOUN VERB NOUN NOUN PUNCT ADP NOUN PUNCT VERB NOUN ADP ADJ NOUN PUNCT\n",
            "ADP NOUN VERB NOUN CCONJ VERB NOUN ADP NOUN VERB CCONJ ADV ADP PRON PUNCT SCONJ VERB NOUN NOUN PUNCT VERB ADP NOUN PUNCT ADV SCONJ PUNCT ADV PUNCT ADP NOUN VERB VERB PART ADJ NOUN PUNCT\n",
            "NOUN VERB NOUN PUNCT ADJ PROPN PROPN PUNCT\n",
            "ADP NOUN VERB ADJ ADJ NOUN ADP ADJ NOUN CCONJ ADP PRON NUM ADJ NOUN PUNCT\n",
            "ADV VERB NOUN ADP NOUN PUNCT ADJ PUNCT VERB ADJ NOUN CCONJ ADP NUM NOUN ADV VERB NOUN PUNCT\n"
          ]
        }
      ],
      "source": [
        "all_train_texts = [' '.join(\"\" if token.form is None else token.form for token in sent) for sent in full_train]\n",
        "all_test_texts = [' '.join(\"\" if token.form is None else token.form for token in sent) for sent in full_test]\n",
        "\n",
        "all_train_labels = [' '.join(\"\" if token.upos is None else token.upos for token in sent) for sent in full_train]\n",
        "all_test_labels = [' '.join(\"\" if token.upos is None else token.upos for token in sent) for sent in full_test]\n",
        "print('\\n'.join(all_train_texts[:10]))\n",
        "print('\\n'.join(all_train_labels[:10]))"
      ]
    },
    {
      "cell_type": "code",
      "execution_count": null,
      "metadata": {
        "tags": [],
        "colab": {
          "base_uri": "https://localhost:8080/"
        },
        "id": "ajRMp1XGZpwH",
        "outputId": "a873ea56-8ed8-4138-8887-0624e7c31dc7"
      },
      "outputs": [
        {
          "output_type": "execute_result",
          "data": {
            "text/plain": [
              "['В',\n",
              " 'советский',\n",
              " 'период',\n",
              " 'времени',\n",
              " 'число',\n",
              " 'ИТ',\n",
              " '-',\n",
              " 'специалистов',\n",
              " 'в',\n",
              " 'Армении',\n",
              " 'составляло',\n",
              " 'около',\n",
              " 'десяти',\n",
              " 'тысяч',\n",
              " '.']"
            ]
          },
          "metadata": {},
          "execution_count": 13
        }
      ],
      "source": [
        "example_tag = fdata_sent_test[0]\n",
        "example_tag"
      ]
    },
    {
      "cell_type": "markdown",
      "metadata": {
        "id": "7aIQ_E77ZpwH"
      },
      "source": [
        "### UnigramTagger"
      ]
    },
    {
      "cell_type": "code",
      "execution_count": null,
      "metadata": {
        "tags": [],
        "colab": {
          "base_uri": "https://localhost:8080/",
          "height": 311
        },
        "id": "jHwb1fTQZpwH",
        "outputId": "7e6c8078-97e2-47d4-db9f-d08d6393d739"
      },
      "outputs": [
        {
          "output_type": "display_data",
          "data": {
            "text/plain": [
              "[('В', 'ADP'),\n",
              " ('советский', 'ADJ'),\n",
              " ('период', 'NOUN'),\n",
              " ('времени', 'NOUN'),\n",
              " ('число', 'NOUN'),\n",
              " ('ИТ', 'PROPN'),\n",
              " ('-', 'PUNCT'),\n",
              " ('специалистов', 'NOUN'),\n",
              " ('в', 'ADP'),\n",
              " ('Армении', 'PROPN'),\n",
              " ('составляло', 'VERB'),\n",
              " ('около', 'ADP'),\n",
              " ('десяти', 'NUM'),\n",
              " ('тысяч', 'NOUN'),\n",
              " ('.', 'PUNCT')]"
            ]
          },
          "metadata": {}
        },
        {
          "output_type": "display_data",
          "data": {
            "text/plain": [
              "0.8880238497616922"
            ]
          },
          "metadata": {}
        }
      ],
      "source": [
        "unigram_tagger = UnigramTagger(fdata_train)\n",
        "display(unigram_tagger.tag(example_tag), unigram_tagger.evaluate(fdata_test))"
      ]
    },
    {
      "cell_type": "markdown",
      "metadata": {
        "id": "AGQMSpr1ZpwI"
      },
      "source": [
        "### BigramTagger"
      ]
    },
    {
      "cell_type": "code",
      "execution_count": null,
      "metadata": {
        "tags": [],
        "colab": {
          "base_uri": "https://localhost:8080/",
          "height": 311
        },
        "id": "7pOBKM95ZpwI",
        "outputId": "c9acb473-0e82-4ae6-98ce-c6cac468692a"
      },
      "outputs": [
        {
          "output_type": "display_data",
          "data": {
            "text/plain": [
              "[('В', 'ADP'),\n",
              " ('советский', 'ADJ'),\n",
              " ('период', 'NOUN'),\n",
              " ('времени', 'NOUN'),\n",
              " ('число', 'NOUN'),\n",
              " ('ИТ', 'PROPN'),\n",
              " ('-', 'PUNCT'),\n",
              " ('специалистов', 'NOUN'),\n",
              " ('в', 'ADP'),\n",
              " ('Армении', 'PROPN'),\n",
              " ('составляло', None),\n",
              " ('около', 'ADP'),\n",
              " ('десяти', 'NUM'),\n",
              " ('тысяч', 'NOUN'),\n",
              " ('.', 'PUNCT')]"
            ]
          },
          "metadata": {}
        },
        {
          "output_type": "display_data",
          "data": {
            "text/plain": [
              "0.7229743842925773"
            ]
          },
          "metadata": {}
        }
      ],
      "source": [
        "bigram_tagger = BigramTagger(fdata_train)\n",
        "display(bigram_tagger.tag(example_tag), bigram_tagger.evaluate(fdata_test))"
      ]
    },
    {
      "cell_type": "markdown",
      "metadata": {
        "id": "v5OA4CygZpwI"
      },
      "source": [
        "Результат хуже, так как многие биграмы довольно редкие и не встречались в тренировочных данных, поэтому для таких биграм нужно использовать униграмы в качестве backoff:"
      ]
    },
    {
      "cell_type": "code",
      "execution_count": null,
      "metadata": {
        "tags": [],
        "colab": {
          "base_uri": "https://localhost:8080/",
          "height": 311
        },
        "id": "Ra-rtqJMZpwI",
        "outputId": "8bf35b9b-ca2d-466f-98d6-326d270cec13"
      },
      "outputs": [
        {
          "output_type": "display_data",
          "data": {
            "text/plain": [
              "[('В', 'ADP'),\n",
              " ('советский', 'ADJ'),\n",
              " ('период', 'NOUN'),\n",
              " ('времени', 'NOUN'),\n",
              " ('число', 'NOUN'),\n",
              " ('ИТ', 'PROPN'),\n",
              " ('-', 'PUNCT'),\n",
              " ('специалистов', 'NOUN'),\n",
              " ('в', 'ADP'),\n",
              " ('Армении', 'PROPN'),\n",
              " ('составляло', 'VERB'),\n",
              " ('около', 'ADP'),\n",
              " ('десяти', 'NUM'),\n",
              " ('тысяч', 'NOUN'),\n",
              " ('.', 'PUNCT')]"
            ]
          },
          "metadata": {}
        },
        {
          "output_type": "display_data",
          "data": {
            "text/plain": [
              "0.89297989100507"
            ]
          },
          "metadata": {}
        }
      ],
      "source": [
        "bigram_tagger = BigramTagger(fdata_train, backoff=unigram_tagger)\n",
        "display(bigram_tagger.tag(example_tag), bigram_tagger.evaluate(fdata_test))"
      ]
    },
    {
      "cell_type": "markdown",
      "metadata": {
        "id": "moTcZi2fZpwI"
      },
      "source": [
        "### TrigramTagger"
      ]
    },
    {
      "cell_type": "code",
      "execution_count": null,
      "metadata": {
        "tags": [],
        "colab": {
          "base_uri": "https://localhost:8080/",
          "height": 311
        },
        "id": "DmeWbTr5ZpwJ",
        "outputId": "d4a7451c-67d1-4866-d55d-95efde7c12f1"
      },
      "outputs": [
        {
          "output_type": "display_data",
          "data": {
            "text/plain": [
              "[('В', 'ADP'),\n",
              " ('советский', 'ADJ'),\n",
              " ('период', 'NOUN'),\n",
              " ('времени', 'NOUN'),\n",
              " ('число', None),\n",
              " ('ИТ', None),\n",
              " ('-', 'PUNCT'),\n",
              " ('специалистов', None),\n",
              " ('в', 'ADP'),\n",
              " ('Армении', None),\n",
              " ('составляло', None),\n",
              " ('около', 'ADP'),\n",
              " ('десяти', 'NUM'),\n",
              " ('тысяч', 'NOUN'),\n",
              " ('.', 'PUNCT')]"
            ]
          },
          "metadata": {}
        },
        {
          "output_type": "display_data",
          "data": {
            "text/plain": [
              "0.4143389729664724"
            ]
          },
          "metadata": {}
        }
      ],
      "source": [
        "trigram_tagger = TrigramTagger(fdata_train)\n",
        "display(trigram_tagger.tag(example_tag), trigram_tagger.evaluate(fdata_test))"
      ]
    },
    {
      "cell_type": "markdown",
      "metadata": {
        "id": "pUV9klXkZpwJ"
      },
      "source": [
        "Тут аналогичная ситуация, как и с биграмами, теперь воспользуемся в качестве backoff биграмами, которые в свою очередь имеют backoff униграмы:"
      ]
    },
    {
      "cell_type": "code",
      "execution_count": null,
      "metadata": {
        "tags": [],
        "colab": {
          "base_uri": "https://localhost:8080/",
          "height": 311
        },
        "id": "Ykv3T7DeZpwJ",
        "outputId": "90bf1382-6551-4b29-d334-4d27575ccf3d"
      },
      "outputs": [
        {
          "output_type": "display_data",
          "data": {
            "text/plain": [
              "[('В', 'ADP'),\n",
              " ('советский', 'ADJ'),\n",
              " ('период', 'NOUN'),\n",
              " ('времени', 'NOUN'),\n",
              " ('число', 'NOUN'),\n",
              " ('ИТ', 'NOUN'),\n",
              " ('-', 'PUNCT'),\n",
              " ('специалистов', 'NOUN'),\n",
              " ('в', 'ADP'),\n",
              " ('Армении', 'PROPN'),\n",
              " ('составляло', 'VERB'),\n",
              " ('около', 'ADP'),\n",
              " ('десяти', 'NUM'),\n",
              " ('тысяч', 'NOUN'),\n",
              " ('.', 'PUNCT')]"
            ]
          },
          "metadata": {}
        },
        {
          "output_type": "display_data",
          "data": {
            "text/plain": [
              "0.8918848780611308"
            ]
          },
          "metadata": {}
        }
      ],
      "source": [
        "trigram_tagger = TrigramTagger(fdata_train, backoff=bigram_tagger)\n",
        "display(trigram_tagger.tag(example_tag), trigram_tagger.evaluate(fdata_test))"
      ]
    },
    {
      "cell_type": "markdown",
      "metadata": {
        "id": "JI8adNtgZpwJ"
      },
      "source": [
        "Результаты чуть хуже, чем у биграм с backoff униграм"
      ]
    },
    {
      "cell_type": "markdown",
      "metadata": {
        "id": "Ml66kKdzZpwJ"
      },
      "source": [
        "### Комбинация тэггеров"
      ]
    },
    {
      "cell_type": "code",
      "execution_count": null,
      "metadata": {
        "tags": [],
        "colab": {
          "base_uri": "https://localhost:8080/",
          "height": 311
        },
        "id": "pFi8XA26ZpwJ",
        "outputId": "c64eb7ca-09aa-448f-b177-0eb7324f66f4"
      },
      "outputs": [
        {
          "output_type": "display_data",
          "data": {
            "text/plain": [
              "[('В', 'ADP'),\n",
              " ('советский', 'ADJ'),\n",
              " ('период', 'NOUN'),\n",
              " ('времени', 'NOUN'),\n",
              " ('число', 'NOUN'),\n",
              " ('ИТ', 'NOUN'),\n",
              " ('-', 'PUNCT'),\n",
              " ('специалистов', 'NOUN'),\n",
              " ('в', 'ADP'),\n",
              " ('Армении', 'PROPN'),\n",
              " ('составляло', 'VERB'),\n",
              " ('около', 'ADP'),\n",
              " ('десяти', 'NUM'),\n",
              " ('тысяч', 'NOUN'),\n",
              " ('.', 'PUNCT')]"
            ]
          },
          "metadata": {}
        },
        {
          "output_type": "display_data",
          "data": {
            "text/plain": [
              "0.9190956332402889"
            ]
          },
          "metadata": {}
        }
      ],
      "source": [
        "def backoff_tagger(train_sents, tagger_classes, backoff=None):\n",
        "    for cls in tagger_classes:\n",
        "        backoff = cls(train_sents, backoff=backoff)\n",
        "    return backoff\n",
        "\n",
        "\n",
        "backoff = DefaultTagger('NOUN') \n",
        "tag = backoff_tagger(fdata_train,  \n",
        "                     [UnigramTagger, BigramTagger, TrigramTagger],  \n",
        "                     backoff = backoff) \n",
        "  \n",
        "display(tag.tag(example_tag), tag.evaluate(fdata_test))"
      ]
    },
    {
      "cell_type": "markdown",
      "metadata": {
        "id": "0GPaatd1ZpwK"
      },
      "source": [
        "Результат получился лучше предыдущих, так как оказывается, что даже некоторых слов не было в тренировочных данных, поэтому при добавлении DefaultTagger('NOUN'), который неизвестным словам ставит в соответсвие существительное, так как это предположительно самая частая часть речи. "
      ]
    },
    {
      "cell_type": "markdown",
      "metadata": {
        "id": "NOZMNM45ZpwK"
      },
      "source": [
        "### Свой тэггер"
      ]
    },
    {
      "cell_type": "markdown",
      "metadata": {
        "id": "iXdFhUGFZpwK"
      },
      "source": [
        "Напишем нейронную сеть"
      ]
    },
    {
      "cell_type": "markdown",
      "metadata": {
        "id": "wmDpcPhmZpwK"
      },
      "source": [
        "Предобработка данных:"
      ]
    },
    {
      "cell_type": "code",
      "execution_count": null,
      "metadata": {
        "tags": [],
        "id": "BmjgU8D_ZpwK"
      },
      "outputs": [],
      "source": [
        "train_tok = []\n",
        "train_label = []\n",
        "for sent in fdata_train[:]:\n",
        "    norm_sent = []\n",
        "    label_sent = []\n",
        "    for tok in sent:\n",
        "        if (tok[0] is None) or (tok[1] is None):\n",
        "            continue\n",
        "        norm_sent.append(tok[0])\n",
        "        label_sent.append(tok[1])\n",
        "    train_tok.append(norm_sent)\n",
        "    train_label.append(label_sent)\n",
        "        \n",
        "test_tok = []\n",
        "test_label = []\n",
        "for sent in fdata_test[:]:\n",
        "    norm_sent = []\n",
        "    label_sent = []\n",
        "    for tok in sent:\n",
        "        if (tok[0] is None) or (tok[1] is None):\n",
        "            continue\n",
        "        norm_sent.append(tok[0])\n",
        "        label_sent.append(tok[1])\n",
        "    test_tok.append(norm_sent)\n",
        "    test_label.append(label_sent)"
      ]
    },
    {
      "cell_type": "code",
      "execution_count": null,
      "metadata": {
        "tags": [],
        "colab": {
          "base_uri": "https://localhost:8080/"
        },
        "id": "EIoLX898ZpwK",
        "outputId": "0097e9a1-e8af-4a86-b8aa-ccc50d85c28f"
      },
      "outputs": [
        {
          "output_type": "execute_result",
          "data": {
            "text/plain": [
              "['Анкета', '.', 'Начальник', 'областного', 'управления']"
            ]
          },
          "metadata": {},
          "execution_count": 21
        }
      ],
      "source": [
        "corpus = [token for sent in train_tok for token in sent]\n",
        "corpus[:5]"
      ]
    },
    {
      "cell_type": "code",
      "execution_count": null,
      "metadata": {
        "tags": [],
        "colab": {
          "base_uri": "https://localhost:8080/"
        },
        "id": "tD6enEBTZpwK",
        "outputId": "98b1ea34-4993-4b59-83cf-4a573d079fd6"
      },
      "outputs": [
        {
          "output_type": "execute_result",
          "data": {
            "text/plain": [
              "[(',', 97978),\n",
              " ('.', 64114),\n",
              " ('в', 30986),\n",
              " ('и', 30064),\n",
              " ('\"', 21639),\n",
              " ('-', 19280),\n",
              " ('не', 15028),\n",
              " ('на', 14637),\n",
              " ('что', 10590),\n",
              " ('с', 9559)]"
            ]
          },
          "metadata": {},
          "execution_count": 22
        }
      ],
      "source": [
        "freq_dict = Counter(corpus)\n",
        "freq_dict_sorted = sorted(freq_dict.items(), key=lambda x: -x[1])\n",
        "list(freq_dict_sorted)[:10]"
      ]
    },
    {
      "cell_type": "code",
      "execution_count": null,
      "metadata": {
        "tags": [],
        "colab": {
          "base_uri": "https://localhost:8080/"
        },
        "id": "3dbtrBnxZpwL",
        "outputId": "c0b08f89-e606-4141-a0f6-0ad8050651a3"
      },
      "outputs": [
        {
          "output_type": "execute_result",
          "data": {
            "text/plain": [
              "132847"
            ]
          },
          "metadata": {},
          "execution_count": 23
        }
      ],
      "source": [
        "vocabulary_size = len(freq_dict)\n",
        "vocabulary_size"
      ]
    },
    {
      "cell_type": "code",
      "execution_count": null,
      "metadata": {
        "tags": [],
        "colab": {
          "base_uri": "https://localhost:8080/"
        },
        "id": "IyAFAiILZpwL",
        "outputId": "18f50d80-4627-4e74-f206-309e94864afc"
      },
      "outputs": [
        {
          "output_type": "execute_result",
          "data": {
            "text/plain": [
              "132847"
            ]
          },
          "metadata": {},
          "execution_count": 24
        }
      ],
      "source": [
        "VOCABULARY_SIZE = vocabulary_size\n",
        "VOCABULARY_SIZE"
      ]
    },
    {
      "cell_type": "code",
      "execution_count": null,
      "metadata": {
        "tags": [],
        "colab": {
          "base_uri": "https://localhost:8080/"
        },
        "id": "dFB9CGfaZpwL",
        "outputId": "dd9ed119-2e8f-4d88-bcf7-f18043837f3b"
      },
      "outputs": [
        {
          "output_type": "execute_result",
          "data": {
            "text/plain": [
              "[',', '.', 'в', 'и', '\"']"
            ]
          },
          "metadata": {},
          "execution_count": 25
        }
      ],
      "source": [
        "top_n_words = [word for word, freq in freq_dict_sorted[:VOCABULARY_SIZE]]\n",
        "top_n_words[:5]"
      ]
    },
    {
      "cell_type": "code",
      "execution_count": null,
      "metadata": {
        "tags": [],
        "colab": {
          "base_uri": "https://localhost:8080/"
        },
        "id": "IVQI8mAZZpwL",
        "outputId": "2fe658e4-11aa-4e5b-c771-78070988d001"
      },
      "outputs": [
        {
          "output_type": "execute_result",
          "data": {
            "text/plain": [
              "[(',', 1), ('.', 2), ('в', 3), ('и', 4), ('\"', 5)]"
            ]
          },
          "metadata": {},
          "execution_count": 26
        }
      ],
      "source": [
        "vocab = {y:x for x,y in enumerate(top_n_words, start=1)}\n",
        "list(vocab.items())[:5]"
      ]
    },
    {
      "cell_type": "code",
      "execution_count": null,
      "metadata": {
        "tags": [],
        "colab": {
          "base_uri": "https://localhost:8080/"
        },
        "id": "kv-Rnc4FZpwL",
        "outputId": "781ecab5-640e-4e1f-eb94-a7d5b37f758a"
      },
      "outputs": [
        {
          "output_type": "stream",
          "name": "stdout",
          "text": [
            "['Анкета', '.']\n",
            "[39888, 2]\n"
          ]
        }
      ],
      "source": [
        "train_tok_num = [[vocab.get(i, 0) for i in j] for j in train_tok]\n",
        "test_tok_num = [[vocab.get(i, 0) for i in j] for j in test_tok]\n",
        "print(train_tok[0])\n",
        "print(train_tok_num[0])"
      ]
    },
    {
      "cell_type": "code",
      "execution_count": null,
      "metadata": {
        "tags": [],
        "colab": {
          "base_uri": "https://localhost:8080/"
        },
        "id": "AgCS7bfSZpwL",
        "outputId": "b7601857-b01f-4eac-e223-4018b8335a38"
      },
      "outputs": [
        {
          "output_type": "execute_result",
          "data": {
            "text/plain": [
              "205"
            ]
          },
          "metadata": {},
          "execution_count": 28
        }
      ],
      "source": [
        "max_len = max(len(sent) for sent in train_tok_num)\n",
        "max_len"
      ]
    },
    {
      "cell_type": "code",
      "execution_count": null,
      "metadata": {
        "tags": [],
        "colab": {
          "base_uri": "https://localhost:8080/"
        },
        "id": "gaurwXBFZpwM",
        "outputId": "df89deff-b8d0-4ed9-c633-ee2e862f4dde"
      },
      "outputs": [
        {
          "output_type": "execute_result",
          "data": {
            "text/plain": [
              "205"
            ]
          },
          "metadata": {},
          "execution_count": 29
        }
      ],
      "source": [
        "MAX_LEN = max_len\n",
        "MAX_LEN"
      ]
    },
    {
      "cell_type": "code",
      "execution_count": null,
      "metadata": {
        "tags": [],
        "colab": {
          "base_uri": "https://localhost:8080/"
        },
        "id": "WBChGBGlZpwM",
        "outputId": "ad1e3960-b8ee-44ac-8049-7480b80f3835"
      },
      "outputs": [
        {
          "output_type": "execute_result",
          "data": {
            "text/plain": [
              "[39888, 2, 0, 0, 0, 0, 0, 0, 0, 0]"
            ]
          },
          "metadata": {},
          "execution_count": 30
        }
      ],
      "source": [
        "x_train_nn = [i+[0]*(MAX_LEN-len(i)) for i in train_tok_num]\n",
        "x_test_nn = [i+[0]*(MAX_LEN-len(i)) for i in test_tok_num]\n",
        "x_train_nn[0][:10]"
      ]
    },
    {
      "cell_type": "code",
      "execution_count": null,
      "metadata": {
        "tags": [],
        "colab": {
          "base_uri": "https://localhost:8080/"
        },
        "id": "oMZQlXfbZpwM",
        "outputId": "6327070b-bcf2-4e1c-80d6-4e66456c48d2"
      },
      "outputs": [
        {
          "output_type": "execute_result",
          "data": {
            "text/plain": [
              "array([39888,     2,     0,     0,     0,     0,     0,     0,     0,\n",
              "           0,     0,     0,     0,     0,     0,     0,     0,     0,\n",
              "           0,     0,     0,     0,     0,     0,     0,     0,     0,\n",
              "           0,     0,     0,     0,     0,     0,     0,     0,     0,\n",
              "           0,     0,     0,     0,     0,     0,     0,     0,     0,\n",
              "           0,     0,     0,     0,     0,     0,     0,     0,     0,\n",
              "           0,     0,     0,     0,     0,     0,     0,     0,     0,\n",
              "           0,     0,     0,     0,     0,     0,     0,     0,     0,\n",
              "           0,     0,     0,     0,     0,     0,     0,     0,     0,\n",
              "           0,     0,     0,     0,     0,     0,     0,     0,     0,\n",
              "           0,     0,     0,     0,     0,     0,     0,     0,     0,\n",
              "           0,     0,     0,     0,     0,     0,     0,     0,     0,\n",
              "           0,     0,     0,     0,     0,     0,     0,     0,     0,\n",
              "           0,     0,     0,     0,     0,     0,     0,     0,     0,\n",
              "           0,     0,     0,     0,     0,     0,     0,     0,     0,\n",
              "           0,     0,     0,     0,     0,     0,     0,     0,     0,\n",
              "           0,     0,     0,     0,     0,     0,     0,     0,     0,\n",
              "           0,     0,     0,     0,     0,     0,     0,     0,     0,\n",
              "           0,     0,     0,     0,     0,     0,     0,     0,     0,\n",
              "           0,     0,     0,     0,     0,     0,     0,     0,     0,\n",
              "           0,     0,     0,     0,     0,     0,     0,     0,     0,\n",
              "           0,     0,     0,     0,     0,     0,     0,     0,     0,\n",
              "           0,     0,     0,     0,     0,     0,     0])"
            ]
          },
          "metadata": {},
          "execution_count": 31
        }
      ],
      "source": [
        "x_train_nn_array = np.array([[j for j in i] for i in x_train_nn])\n",
        "x_test_nn_array = np.array([[j for j in i] for i in x_test_nn])\n",
        "x_train_nn_array[0]"
      ]
    },
    {
      "cell_type": "code",
      "execution_count": null,
      "metadata": {
        "tags": [],
        "id": "QtUxJHfWZpwM"
      },
      "outputs": [],
      "source": [
        "tags = ['ADJ', 'ADP', 'ADV', 'AUX', 'CCONJ', 'DET', 'INTJ', 'NOUN', 'NUM', 'PART', 'PRON', 'PROPN', 'PUNCT', 'SCONJ', 'SYM', 'VERB', 'X']"
      ]
    },
    {
      "cell_type": "code",
      "execution_count": null,
      "metadata": {
        "tags": [],
        "colab": {
          "base_uri": "https://localhost:8080/"
        },
        "id": "GmU7M7cJZpwM",
        "outputId": "fde35a98-41da-44e8-b773-7f6bb6693af5"
      },
      "outputs": [
        {
          "output_type": "execute_result",
          "data": {
            "text/plain": [
              "{1: 'ADJ',\n",
              " 2: 'ADP',\n",
              " 3: 'ADV',\n",
              " 4: 'AUX',\n",
              " 5: 'CCONJ',\n",
              " 6: 'DET',\n",
              " 7: 'INTJ',\n",
              " 8: 'NOUN',\n",
              " 9: 'NUM',\n",
              " 10: 'PART',\n",
              " 11: 'PRON',\n",
              " 12: 'PROPN',\n",
              " 13: 'PUNCT',\n",
              " 14: 'SCONJ',\n",
              " 15: 'SYM',\n",
              " 16: 'VERB',\n",
              " 17: 'X'}"
            ]
          },
          "metadata": {},
          "execution_count": 33
        }
      ],
      "source": [
        "num2tag = dict(zip(range(1, len(tags)+1), tags))\n",
        "num2tag"
      ]
    },
    {
      "cell_type": "code",
      "execution_count": null,
      "metadata": {
        "tags": [],
        "colab": {
          "base_uri": "https://localhost:8080/"
        },
        "id": "hZq8qt_cZpwM",
        "outputId": "66a10b63-6f41-4a36-ec37-8271f92051d8"
      },
      "outputs": [
        {
          "output_type": "execute_result",
          "data": {
            "text/plain": [
              "{'ADJ': 1,\n",
              " 'ADP': 2,\n",
              " 'ADV': 3,\n",
              " 'AUX': 4,\n",
              " 'CCONJ': 5,\n",
              " 'DET': 6,\n",
              " 'INTJ': 7,\n",
              " 'NOUN': 8,\n",
              " 'NUM': 9,\n",
              " 'PART': 10,\n",
              " 'PRON': 11,\n",
              " 'PROPN': 12,\n",
              " 'PUNCT': 13,\n",
              " 'SCONJ': 14,\n",
              " 'SYM': 15,\n",
              " 'VERB': 16,\n",
              " 'X': 17}"
            ]
          },
          "metadata": {},
          "execution_count": 34
        }
      ],
      "source": [
        "tag2num = {j:i for i,j in num2tag.items()}\n",
        "tag2num"
      ]
    },
    {
      "cell_type": "code",
      "execution_count": null,
      "metadata": {
        "tags": [],
        "colab": {
          "base_uri": "https://localhost:8080/"
        },
        "id": "DK7FeoJqZpwM",
        "outputId": "1500cd44-16e0-4b4f-99bf-90c7d5fba350"
      },
      "outputs": [
        {
          "output_type": "execute_result",
          "data": {
            "text/plain": [
              "[8, 13, 0, 0, 0, 0, 0, 0, 0, 0]"
            ]
          },
          "metadata": {},
          "execution_count": 35
        }
      ],
      "source": [
        "y_train_nn = [[tag2num[i] for i in j]+[0]*(MAX_LEN-len(j)) for j in train_label]\n",
        "y_test_nn = [[tag2num[i] for i in j]+[0]*(MAX_LEN-len(j)) for j in test_label]\n",
        "y_train_nn[0][:10]"
      ]
    },
    {
      "cell_type": "code",
      "execution_count": null,
      "metadata": {
        "tags": [],
        "colab": {
          "base_uri": "https://localhost:8080/"
        },
        "id": "eifFZOC-ZpwN",
        "outputId": "def7975d-9e39-4f4e-e0c1-67d26fdfd116"
      },
      "outputs": [
        {
          "output_type": "execute_result",
          "data": {
            "text/plain": [
              "array([ 8, 13,  0,  0,  0,  0,  0,  0,  0,  0,  0,  0,  0,  0,  0,  0,  0,\n",
              "        0,  0,  0,  0,  0,  0,  0,  0,  0,  0,  0,  0,  0,  0,  0,  0,  0,\n",
              "        0,  0,  0,  0,  0,  0,  0,  0,  0,  0,  0,  0,  0,  0,  0,  0,  0,\n",
              "        0,  0,  0,  0,  0,  0,  0,  0,  0,  0,  0,  0,  0,  0,  0,  0,  0,\n",
              "        0,  0,  0,  0,  0,  0,  0,  0,  0,  0,  0,  0,  0,  0,  0,  0,  0,\n",
              "        0,  0,  0,  0,  0,  0,  0,  0,  0,  0,  0,  0,  0,  0,  0,  0,  0,\n",
              "        0,  0,  0,  0,  0,  0,  0,  0,  0,  0,  0,  0,  0,  0,  0,  0,  0,\n",
              "        0,  0,  0,  0,  0,  0,  0,  0,  0,  0,  0,  0,  0,  0,  0,  0,  0,\n",
              "        0,  0,  0,  0,  0,  0,  0,  0,  0,  0,  0,  0,  0,  0,  0,  0,  0,\n",
              "        0,  0,  0,  0,  0,  0,  0,  0,  0,  0,  0,  0,  0,  0,  0,  0,  0,\n",
              "        0,  0,  0,  0,  0,  0,  0,  0,  0,  0,  0,  0,  0,  0,  0,  0,  0,\n",
              "        0,  0,  0,  0,  0,  0,  0,  0,  0,  0,  0,  0,  0,  0,  0,  0,  0,\n",
              "        0])"
            ]
          },
          "metadata": {},
          "execution_count": 36
        }
      ],
      "source": [
        "y_train_nn_array = np.array([[j for j in i] for i in y_train_nn])\n",
        "y_test_nn_array = np.array([[j for j in i] for i in y_test_nn])\n",
        "y_train_nn_array[0]"
      ]
    },
    {
      "cell_type": "markdown",
      "metadata": {
        "id": "ZiXsjCtMZpwN"
      },
      "source": [
        "Модель:"
      ]
    },
    {
      "cell_type": "code",
      "execution_count": null,
      "metadata": {
        "tags": [],
        "id": "tOU9JOUMZpwN"
      },
      "outputs": [],
      "source": [
        "embedding_dim = 64\n",
        "hidden_dim = 32\n",
        "dropout = 0.2"
      ]
    },
    {
      "cell_type": "code",
      "execution_count": null,
      "metadata": {
        "tags": [],
        "id": "BJ-kCU2BZpwN"
      },
      "outputs": [],
      "source": [
        "model = Sequential([\n",
        "    Embedding(VOCABULARY_SIZE+1, embedding_dim), # VOCABULARY_SIZE+1 так как еще 0, который показывает где нет слова\n",
        "    BatchNormalization(),\n",
        "    Dropout(dropout),\n",
        "\n",
        "    LSTM(embedding_dim, return_sequences=True),\n",
        "    BatchNormalization(),\n",
        "    Dropout(dropout),\n",
        "    Activation(activations.relu),\n",
        "\n",
        "    Dense(hidden_dim, activation='relu'),\n",
        "    BatchNormalization(),\n",
        "    Dropout(dropout),\n",
        "\n",
        "    Dense(len(tags)+1, activation='softmax') # len(tags)+1 так как еще 0, который показывает где нет тега\n",
        "])"
      ]
    },
    {
      "cell_type": "code",
      "execution_count": null,
      "metadata": {
        "tags": [],
        "colab": {
          "base_uri": "https://localhost:8080/"
        },
        "id": "h2uxbdRFZpwN",
        "outputId": "d26305dd-667d-4bd1-fdaa-9666bcd784b1"
      },
      "outputs": [
        {
          "output_type": "stream",
          "name": "stdout",
          "text": [
            "Model: \"sequential\"\n",
            "_________________________________________________________________\n",
            " Layer (type)                Output Shape              Param #   \n",
            "=================================================================\n",
            " embedding (Embedding)       (None, None, 64)          8502272   \n",
            "                                                                 \n",
            " batch_normalization (BatchN  (None, None, 64)         256       \n",
            " ormalization)                                                   \n",
            "                                                                 \n",
            " dropout (Dropout)           (None, None, 64)          0         \n",
            "                                                                 \n",
            " lstm (LSTM)                 (None, None, 64)          33024     \n",
            "                                                                 \n",
            " batch_normalization_1 (Batc  (None, None, 64)         256       \n",
            " hNormalization)                                                 \n",
            "                                                                 \n",
            " dropout_1 (Dropout)         (None, None, 64)          0         \n",
            "                                                                 \n",
            " activation (Activation)     (None, None, 64)          0         \n",
            "                                                                 \n",
            " dense (Dense)               (None, None, 32)          2080      \n",
            "                                                                 \n",
            " batch_normalization_2 (Batc  (None, None, 32)         128       \n",
            " hNormalization)                                                 \n",
            "                                                                 \n",
            " dropout_2 (Dropout)         (None, None, 32)          0         \n",
            "                                                                 \n",
            " dense_1 (Dense)             (None, None, 18)          594       \n",
            "                                                                 \n",
            "=================================================================\n",
            "Total params: 8,538,610\n",
            "Trainable params: 8,538,290\n",
            "Non-trainable params: 320\n",
            "_________________________________________________________________\n"
          ]
        }
      ],
      "source": [
        "model.summary()"
      ]
    },
    {
      "cell_type": "code",
      "execution_count": null,
      "metadata": {
        "tags": [],
        "id": "PQ_Rtu1TZpwN"
      },
      "outputs": [],
      "source": [
        "model.compile(optimizer='adam',\n",
        "              loss=tf.keras.losses.SparseCategoricalCrossentropy(),\n",
        "              metrics=['accuracy'])"
      ]
    },
    {
      "cell_type": "code",
      "execution_count": null,
      "metadata": {
        "tags": [],
        "colab": {
          "base_uri": "https://localhost:8080/"
        },
        "id": "K-l-sGGiZpwN",
        "outputId": "1fee7be8-b7c6-423d-e6df-24bd8b91594d"
      },
      "outputs": [
        {
          "output_type": "stream",
          "name": "stdout",
          "text": [
            "Epoch 1/50\n",
            "136/136 [==============================] - 47s 263ms/step - loss: 1.1724 - accuracy: 0.8631\n",
            "Epoch 2/50\n",
            "136/136 [==============================] - 24s 177ms/step - loss: 0.1859 - accuracy: 0.9729\n",
            "Epoch 3/50\n",
            "136/136 [==============================] - 20s 150ms/step - loss: 0.0711 - accuracy: 0.9875\n",
            "Epoch 4/50\n",
            "136/136 [==============================] - 17s 124ms/step - loss: 0.0397 - accuracy: 0.9928\n",
            "Epoch 5/50\n",
            "136/136 [==============================] - 15s 110ms/step - loss: 0.0271 - accuracy: 0.9948\n",
            "Epoch 6/50\n",
            "136/136 [==============================] - 12s 89ms/step - loss: 0.0209 - accuracy: 0.9957\n",
            "Epoch 7/50\n",
            "136/136 [==============================] - 9s 68ms/step - loss: 0.0171 - accuracy: 0.9962\n",
            "Epoch 8/50\n",
            "136/136 [==============================] - 9s 68ms/step - loss: 0.0146 - accuracy: 0.9966\n",
            "Epoch 9/50\n",
            "136/136 [==============================] - 10s 76ms/step - loss: 0.0129 - accuracy: 0.9968\n",
            "Epoch 10/50\n",
            "136/136 [==============================] - 8s 58ms/step - loss: 0.0116 - accuracy: 0.9970\n",
            "Epoch 11/50\n",
            "136/136 [==============================] - 8s 60ms/step - loss: 0.0105 - accuracy: 0.9972\n",
            "Epoch 12/50\n",
            "136/136 [==============================] - 8s 62ms/step - loss: 0.0097 - accuracy: 0.9974\n",
            "Epoch 13/50\n",
            "136/136 [==============================] - 8s 62ms/step - loss: 0.0089 - accuracy: 0.9975\n",
            "Epoch 14/50\n",
            "136/136 [==============================] - 8s 55ms/step - loss: 0.0083 - accuracy: 0.9977\n",
            "Epoch 15/50\n",
            "136/136 [==============================] - 7s 50ms/step - loss: 0.0077 - accuracy: 0.9978\n",
            "Epoch 16/50\n",
            "136/136 [==============================] - 6s 43ms/step - loss: 0.0073 - accuracy: 0.9979\n",
            "Epoch 17/50\n",
            "136/136 [==============================] - 7s 48ms/step - loss: 0.0068 - accuracy: 0.9980\n",
            "Epoch 18/50\n",
            "136/136 [==============================] - 7s 50ms/step - loss: 0.0064 - accuracy: 0.9981\n",
            "Epoch 19/50\n",
            "136/136 [==============================] - 6s 47ms/step - loss: 0.0060 - accuracy: 0.9982\n",
            "Epoch 20/50\n",
            "136/136 [==============================] - 7s 51ms/step - loss: 0.0057 - accuracy: 0.9983\n",
            "Epoch 21/50\n",
            "136/136 [==============================] - 7s 54ms/step - loss: 0.0053 - accuracy: 0.9984\n",
            "Epoch 22/50\n",
            "136/136 [==============================] - 6s 41ms/step - loss: 0.0051 - accuracy: 0.9985\n",
            "Epoch 23/50\n",
            "136/136 [==============================] - 7s 51ms/step - loss: 0.0048 - accuracy: 0.9985\n",
            "Epoch 24/50\n",
            "136/136 [==============================] - 7s 52ms/step - loss: 0.0045 - accuracy: 0.9986\n",
            "Epoch 25/50\n",
            "136/136 [==============================] - 7s 51ms/step - loss: 0.0042 - accuracy: 0.9987\n",
            "Epoch 26/50\n",
            "136/136 [==============================] - 7s 51ms/step - loss: 0.0041 - accuracy: 0.9987\n",
            "Epoch 27/50\n",
            "136/136 [==============================] - 6s 47ms/step - loss: 0.0038 - accuracy: 0.9988\n",
            "Epoch 28/50\n",
            "136/136 [==============================] - 6s 44ms/step - loss: 0.0037 - accuracy: 0.9989\n",
            "Epoch 29/50\n",
            "136/136 [==============================] - 6s 46ms/step - loss: 0.0035 - accuracy: 0.9989\n",
            "Epoch 30/50\n",
            "136/136 [==============================] - 6s 40ms/step - loss: 0.0033 - accuracy: 0.9989\n",
            "Epoch 31/50\n",
            "136/136 [==============================] - 6s 43ms/step - loss: 0.0032 - accuracy: 0.9990\n",
            "Epoch 32/50\n",
            "136/136 [==============================] - 7s 48ms/step - loss: 0.0031 - accuracy: 0.9990\n",
            "Epoch 33/50\n",
            "136/136 [==============================] - 5s 40ms/step - loss: 0.0029 - accuracy: 0.9991\n",
            "Epoch 34/50\n",
            "136/136 [==============================] - 6s 46ms/step - loss: 0.0028 - accuracy: 0.9991\n",
            "Epoch 35/50\n",
            "136/136 [==============================] - 7s 49ms/step - loss: 0.0028 - accuracy: 0.9991\n",
            "Epoch 36/50\n",
            "136/136 [==============================] - 6s 46ms/step - loss: 0.0027 - accuracy: 0.9991\n",
            "Epoch 37/50\n",
            "136/136 [==============================] - 7s 52ms/step - loss: 0.0026 - accuracy: 0.9992\n",
            "Epoch 38/50\n",
            "136/136 [==============================] - 6s 41ms/step - loss: 0.0025 - accuracy: 0.9992\n",
            "Epoch 39/50\n",
            "136/136 [==============================] - 6s 42ms/step - loss: 0.0024 - accuracy: 0.9992\n",
            "Epoch 40/50\n",
            "136/136 [==============================] - 6s 42ms/step - loss: 0.0024 - accuracy: 0.9992\n",
            "Epoch 41/50\n",
            "136/136 [==============================] - 6s 43ms/step - loss: 0.0023 - accuracy: 0.9992\n",
            "Epoch 42/50\n",
            "136/136 [==============================] - 6s 42ms/step - loss: 0.0023 - accuracy: 0.9992\n",
            "Epoch 43/50\n",
            "136/136 [==============================] - 6s 47ms/step - loss: 0.0022 - accuracy: 0.9993\n",
            "Epoch 44/50\n",
            "136/136 [==============================] - 6s 44ms/step - loss: 0.0022 - accuracy: 0.9993\n",
            "Epoch 45/50\n",
            "136/136 [==============================] - 6s 42ms/step - loss: 0.0021 - accuracy: 0.9993\n",
            "Epoch 46/50\n",
            "136/136 [==============================] - 6s 43ms/step - loss: 0.0021 - accuracy: 0.9993\n",
            "Epoch 47/50\n",
            "136/136 [==============================] - 6s 43ms/step - loss: 0.0021 - accuracy: 0.9993\n",
            "Epoch 48/50\n",
            "136/136 [==============================] - 6s 47ms/step - loss: 0.0020 - accuracy: 0.9993\n",
            "Epoch 49/50\n",
            "136/136 [==============================] - 6s 42ms/step - loss: 0.0020 - accuracy: 0.9993\n",
            "Epoch 50/50\n",
            "136/136 [==============================] - 6s 42ms/step - loss: 0.0019 - accuracy: 0.9993\n"
          ]
        }
      ],
      "source": [
        "with tf.device(\"GPU:0\"):\n",
        "  hh = model.fit(x_train_nn_array, y_train_nn_array, epochs=40, batch_size=512)"
      ]
    },
    {
      "cell_type": "markdown",
      "source": [
        "Здесь вычисляется accuracy с учётом нулей, нас это не устраивает, поэтому вычислим заново, а так же вычислим для test:"
      ],
      "metadata": {
        "id": "vgUGUML-bHox"
      }
    },
    {
      "cell_type": "code",
      "execution_count": null,
      "metadata": {
        "colab": {
          "base_uri": "https://localhost:8080/"
        },
        "id": "S2Vftbz-ZpwN",
        "outputId": "e2363d8d-3dae-47dd-f856-4b2538d65982"
      },
      "outputs": [
        {
          "output_type": "stream",
          "name": "stdout",
          "text": [
            "136/136 [==============================] - 2s 12ms/step\n"
          ]
        },
        {
          "output_type": "execute_result",
          "data": {
            "text/plain": [
              "array([[3.1422367e-24, 7.2197972e-09, 3.7137193e-09, 2.2093010e-09,\n",
              "        1.0999845e-09, 3.0601652e-12, 8.3016144e-10, 6.5742072e-11,\n",
              "        1.0000000e+00, 3.0359095e-09, 1.0733720e-14, 3.2602110e-10,\n",
              "        2.5851785e-08, 4.6526242e-12, 9.3042282e-11, 4.9947393e-11,\n",
              "        9.9578958e-09, 1.3953514e-09],\n",
              "       [1.7488636e-25, 3.3843346e-09, 1.6606497e-09, 9.3342660e-11,\n",
              "        5.1412870e-09, 3.6808126e-10, 4.8723986e-10, 6.9108205e-11,\n",
              "        1.6890167e-12, 5.6907448e-09, 1.3038866e-09, 1.9617299e-10,\n",
              "        4.3328285e-08, 9.9999988e-01, 9.9808543e-11, 1.7770946e-11,\n",
              "        8.6758184e-11, 7.6586147e-08]], dtype=float32)"
            ]
          },
          "metadata": {},
          "execution_count": 42
        }
      ],
      "source": [
        "nn_preds_train = model.predict(x_train_nn_array, verbose=1, batch_size=512)\n",
        "nn_preds_train[0][:2]"
      ]
    },
    {
      "cell_type": "code",
      "source": [
        "acc_train = 0\n",
        "for i in range(len(x_train_nn_array)):\n",
        "    len_sent = len(full_train[i])\n",
        "    acc_train += sum(np.argmax(nn_preds_train[i][:len_sent], axis=1) == y_train_nn_array[i][:len_sent])/len_sent\n",
        "acc_train/len(x_train_nn_array)"
      ],
      "metadata": {
        "colab": {
          "base_uri": "https://localhost:8080/"
        },
        "id": "HY_FMvDJbMc1",
        "outputId": "caeff9f7-a76e-43aa-8144-87c7aa2cf2e8"
      },
      "execution_count": null,
      "outputs": [
        {
          "output_type": "execute_result",
          "data": {
            "text/plain": [
              "0.9935468810991621"
            ]
          },
          "metadata": {},
          "execution_count": 43
        }
      ]
    },
    {
      "cell_type": "code",
      "source": [
        "nn_preds_test = model.predict(x_test_nn_array, verbose=1, batch_size=512)\n",
        "nn_preds_test[0][:2]"
      ],
      "metadata": {
        "colab": {
          "base_uri": "https://localhost:8080/"
        },
        "id": "gm89xTVZbQC2",
        "outputId": "2b8e9fbf-0a59-4703-8c12-9608d67e5287"
      },
      "execution_count": null,
      "outputs": [
        {
          "output_type": "stream",
          "name": "stdout",
          "text": [
            "18/18 [==============================] - 0s 16ms/step\n"
          ]
        },
        {
          "output_type": "execute_result",
          "data": {
            "text/plain": [
              "array([[5.3670907e-29, 8.7837012e-12, 9.9999905e-01, 4.8864734e-07,\n",
              "        1.1500502e-08, 1.9924787e-08, 1.7445196e-08, 3.4546281e-07,\n",
              "        4.9748844e-10, 2.0830697e-10, 2.7181279e-08, 3.8997523e-08,\n",
              "        3.0565811e-08, 4.5029309e-09, 8.9661015e-13, 3.2679173e-09,\n",
              "        3.7177270e-09, 6.6532633e-09],\n",
              "       [3.4395186e-31, 9.9999952e-01, 4.7669364e-12, 1.9406718e-07,\n",
              "        1.1630180e-10, 3.7352594e-15, 7.9585639e-08, 6.0669791e-13,\n",
              "        2.1160759e-10, 1.9382108e-08, 1.3440235e-10, 4.1304016e-11,\n",
              "        7.7728842e-08, 8.1818033e-12, 3.6445194e-10, 1.9032291e-12,\n",
              "        3.6835102e-09, 2.0490959e-12]], dtype=float32)"
            ]
          },
          "metadata": {},
          "execution_count": 44
        }
      ]
    },
    {
      "cell_type": "code",
      "source": [
        "acc_test = 0\n",
        "for i in range(len(x_test_nn_array)):\n",
        "    len_sent = len(full_test[i])\n",
        "    acc_test += sum(np.argmax(nn_preds_test[i][:len_sent], axis=1) == y_test_nn_array[i][:len_sent])/len_sent\n",
        "acc_test/len(x_test_nn_array)"
      ],
      "metadata": {
        "colab": {
          "base_uri": "https://localhost:8080/"
        },
        "id": "owXs0ieDbRhA",
        "outputId": "d490f3bb-85b7-4e18-f375-f535038de8ad"
      },
      "execution_count": null,
      "outputs": [
        {
          "output_type": "execute_result",
          "data": {
            "text/plain": [
              "0.9101200792479872"
            ]
          },
          "metadata": {},
          "execution_count": 45
        }
      ]
    },
    {
      "cell_type": "markdown",
      "source": [
        "### Вывод:\n",
        "\n",
        "Лучше всех отработал комбинированный теггер, нейронка тоже неплохо справилась, но при этом для неё нужно подготовить данные, построить модель, обучить и предсказать, это всё оказалось гораздо дольше, чем работать с теггерами из коробки. К тому же, комбинированный теггер показал метрику даже лучше."
      ],
      "metadata": {
        "id": "AbuDjy25bX2Q"
      }
    },
    {
      "cell_type": "markdown",
      "source": [
        "## Задание 2"
      ],
      "metadata": {
        "id": "XR5B3lmbb3xu"
      }
    },
    {
      "cell_type": "markdown",
      "source": [
        "### Данные:"
      ],
      "metadata": {
        "id": "JKb2HxjAb5Si"
      }
    },
    {
      "cell_type": "code",
      "source": [
        "!wget http://www.labinform.ru/pub/named_entities/collection5.zip"
      ],
      "metadata": {
        "colab": {
          "base_uri": "https://localhost:8080/"
        },
        "id": "D_390z0ob6lm",
        "outputId": "91b0ce63-7fae-49a2-b783-a3135701af72"
      },
      "execution_count": null,
      "outputs": [
        {
          "output_type": "stream",
          "name": "stdout",
          "text": [
            "--2023-04-18 22:54:56--  http://www.labinform.ru/pub/named_entities/collection5.zip\n",
            "Resolving www.labinform.ru (www.labinform.ru)... 95.181.230.181\n",
            "Connecting to www.labinform.ru (www.labinform.ru)|95.181.230.181|:80... connected.\n",
            "HTTP request sent, awaiting response... 200 OK\n",
            "Length: 1899530 (1.8M) [application/zip]\n",
            "Saving to: ‘collection5.zip.1’\n",
            "\n",
            "collection5.zip.1   100%[===================>]   1.81M  1.91MB/s    in 0.9s    \n",
            "\n",
            "2023-04-18 22:54:57 (1.91 MB/s) - ‘collection5.zip.1’ saved [1899530/1899530]\n",
            "\n"
          ]
        }
      ]
    },
    {
      "cell_type": "code",
      "source": [
        "!unzip collection5.zip"
      ],
      "metadata": {
        "colab": {
          "base_uri": "https://localhost:8080/"
        },
        "id": "PWJ-_Gzeb91S",
        "outputId": "23bbda42-580b-4e13-8dc3-1ea5fcb4c102"
      },
      "execution_count": null,
      "outputs": [
        {
          "output_type": "stream",
          "name": "stdout",
          "text": [
            "Archive:  collection5.zip\n",
            "replace Collection5/001.ann? [y]es, [n]o, [A]ll, [N]one, [r]ename: n\n",
            "replace Collection5/001.txt? [y]es, [n]o, [A]ll, [N]one, [r]ename: no\n",
            "replace Collection5/002.ann? [y]es, [n]o, [A]ll, [N]one, [r]ename: "
          ]
        }
      ]
    },
    {
      "cell_type": "code",
      "source": [
        "!pip install -qq corus"
      ],
      "metadata": {
        "id": "qFhYF5tab9xK"
      },
      "execution_count": null,
      "outputs": []
    },
    {
      "cell_type": "code",
      "source": [
        "from corus import load_ne5\n",
        "\n",
        "path_coll5 = 'Collection5/'\n",
        "records = load_ne5(path_coll5)\n",
        "next(records)"
      ],
      "metadata": {
        "colab": {
          "base_uri": "https://localhost:8080/"
        },
        "id": "yFtVuw8sb9ui",
        "outputId": "5527f251-391d-446b-f91a-74cdcaf46de5"
      },
      "execution_count": null,
      "outputs": [
        {
          "output_type": "execute_result",
          "data": {
            "text/plain": [
              "Ne5Markup(\n",
              "    id='339',\n",
              "    text='Глава МИД Египта М.Ораби ушел в отставку\\r\\n\\r\\nВ Египте ушел в отставку глава министерства иностранных дел страны Мухаммед Осман Ораби. Как сообщили представители властей, египетский премьер-министр Эссам Шараф принял отставку руководителя внешнеполитического ведомства, передает Би-Би-Си. Они уточнили, что глава правительства также назначил двух вице-премьеров в лице Хазема Беблави и Али аль-Силми.\\r\\n\\r\\nОтметим, что в понедельник, 18 июля, Э.Шараф намерен начать перестановки в правительстве, чтобы успокоить демонстрантов, недовольных медленным ходом реформ в североафриканском государстве.\\r\\n\\r\\nМ.Ораби возглавлял внешнеполитическое ведомство Египта всего на протяжении месяца: 19 июня он сменил на посту руководителя МИД Набиля аль-Араби, которым в середине мая 2011г. был избран генеральным секретарем Лиги арабских государств.\\r\\n\\r\\nНапомним, новое правительство Египта пришло к власти в стране в результате государственного переворота. Бывший президент страны Хосни Мубарак был вынужден уйти в отставку 11 февраля 2011г. после почти трех недель народных выступлений. В ходе египетской революции погибли более 800 человек, несколько тысяч получили ранения.\\r\\n\\r\\nСуд над бывшим президентом Египта Х.Мубараком начнется 3 августа. Экс-главу Египта обвиняют в организации убийств демонстрантов в январе 2011г. Против Х.Мубарака также ведется дело о растрате бюджетных средств и злоупотреблении властными полномочиями в корыстных интересах. В том случае, если его вина будет доказана, экс-главе государства грозит смертная казнь.\\r\\n\\r\\n',\n",
              "    spans=[Ne5Span(\n",
              "         index='T1',\n",
              "         type='ORG',\n",
              "         start=6,\n",
              "         stop=9,\n",
              "         text='МИД'\n",
              "     ),\n",
              "     Ne5Span(\n",
              "         index='T2',\n",
              "         type='GEOPOLIT',\n",
              "         start=10,\n",
              "         stop=16,\n",
              "         text='Египта'\n",
              "     ),\n",
              "     Ne5Span(\n",
              "         index='T3',\n",
              "         type='PER',\n",
              "         start=17,\n",
              "         stop=24,\n",
              "         text='М.Ораби'\n",
              "     ),\n",
              "     Ne5Span(\n",
              "         index='T4',\n",
              "         type='GEOPOLIT',\n",
              "         start=46,\n",
              "         stop=52,\n",
              "         text='Египте'\n",
              "     ),\n",
              "     Ne5Span(\n",
              "         index='T5',\n",
              "         type='PER',\n",
              "         start=111,\n",
              "         stop=131,\n",
              "         text='Мухаммед Осман Ораби'\n",
              "     ),\n",
              "     Ne5Span(\n",
              "         index='T6',\n",
              "         type='PER',\n",
              "         start=196,\n",
              "         stop=207,\n",
              "         text='Эссам Шараф'\n",
              "     ),\n",
              "     Ne5Span(\n",
              "         index='T7',\n",
              "         type='MEDIA',\n",
              "         start=277,\n",
              "         stop=285,\n",
              "         text='Би-Би-Си'\n",
              "     ),\n",
              "     Ne5Span(\n",
              "         index='T8',\n",
              "         type='PER',\n",
              "         start=367,\n",
              "         stop=381,\n",
              "         text='Хазема Беблави'\n",
              "     ),\n",
              "     Ne5Span(\n",
              "         index='T9',\n",
              "         type='PER',\n",
              "         start=384,\n",
              "         stop=397,\n",
              "         text='Али аль-Силми'\n",
              "     ),\n",
              "     Ne5Span(\n",
              "         index='T10',\n",
              "         type='PER',\n",
              "         start=439,\n",
              "         stop=446,\n",
              "         text='Э.Шараф'\n",
              "     ),\n",
              "     Ne5Span(\n",
              "         index='T11',\n",
              "         type='PER',\n",
              "         start=594,\n",
              "         stop=601,\n",
              "         text='М.Ораби'\n",
              "     ),\n",
              "     Ne5Span(\n",
              "         index='T12',\n",
              "         type='GEOPOLIT',\n",
              "         start=642,\n",
              "         stop=648,\n",
              "         text='Египта'\n",
              "     ),\n",
              "     Ne5Span(\n",
              "         index='T13',\n",
              "         type='ORG',\n",
              "         start=717,\n",
              "         stop=720,\n",
              "         text='МИД'\n",
              "     ),\n",
              "     Ne5Span(\n",
              "         index='T14',\n",
              "         type='PER',\n",
              "         start=721,\n",
              "         stop=737,\n",
              "         text='Набиля аль-Араби'\n",
              "     ),\n",
              "     Ne5Span(\n",
              "         index='T15',\n",
              "         type='ORG',\n",
              "         start=803,\n",
              "         stop=827,\n",
              "         text='Лиги арабских государств'\n",
              "     ),\n",
              "     Ne5Span(\n",
              "         index='T16',\n",
              "         type='GEOPOLIT',\n",
              "         start=862,\n",
              "         stop=868,\n",
              "         text='Египта'\n",
              "     ),\n",
              "     Ne5Span(\n",
              "         index='T17',\n",
              "         type='PER',\n",
              "         start=960,\n",
              "         stop=973,\n",
              "         text='Хосни Мубарак'\n",
              "     ),\n",
              "     Ne5Span(\n",
              "         index='T18',\n",
              "         type='GEOPOLIT',\n",
              "         start=1186,\n",
              "         stop=1192,\n",
              "         text='Египта'\n",
              "     ),\n",
              "     Ne5Span(\n",
              "         index='T19',\n",
              "         type='PER',\n",
              "         start=1193,\n",
              "         stop=1204,\n",
              "         text='Х.Мубараком'\n",
              "     ),\n",
              "     Ne5Span(\n",
              "         index='T20',\n",
              "         type='GEOPOLIT',\n",
              "         start=1235,\n",
              "         stop=1241,\n",
              "         text='Египта'\n",
              "     ),\n",
              "     Ne5Span(\n",
              "         index='T21',\n",
              "         type='PER',\n",
              "         start=1310,\n",
              "         stop=1320,\n",
              "         text='Х.Мубарака'\n",
              "     )]\n",
              ")"
            ]
          },
          "metadata": {},
          "execution_count": 49
        }
      ]
    },
    {
      "cell_type": "code",
      "source": [
        "!pip install razdel"
      ],
      "metadata": {
        "colab": {
          "base_uri": "https://localhost:8080/"
        },
        "id": "QioyG1DKb9rz",
        "outputId": "60843cfe-739a-4ff7-e425-08cac68d06cb"
      },
      "execution_count": null,
      "outputs": [
        {
          "output_type": "stream",
          "name": "stdout",
          "text": [
            "Looking in indexes: https://pypi.org/simple, https://us-python.pkg.dev/colab-wheels/public/simple/\n",
            "Requirement already satisfied: razdel in /usr/local/lib/python3.9/dist-packages (0.5.0)\n"
          ]
        }
      ]
    },
    {
      "cell_type": "code",
      "source": [
        "from razdel import tokenize"
      ],
      "metadata": {
        "id": "QaCXNZ3-b9pT"
      },
      "execution_count": null,
      "outputs": []
    },
    {
      "cell_type": "code",
      "source": [
        "words_docs = []\n",
        "text_data = []\n",
        "for ix, rec in enumerate(records):\n",
        "    text_data.append(rec.text)\n",
        "    words = []\n",
        "    for token in tokenize(rec.text):\n",
        "        type_ent = 'OUT'\n",
        "        for ent in rec.spans:\n",
        "            if (token.start >= ent.start) and (token.stop <= ent.stop):\n",
        "                type_ent = ent.type\n",
        "                break\n",
        "        words.append([token.text, type_ent])\n",
        "    words_docs.extend(words)"
      ],
      "metadata": {
        "id": "2gwBbqFZb9mi"
      },
      "execution_count": null,
      "outputs": []
    },
    {
      "cell_type": "code",
      "source": [
        "df_words = pd.DataFrame(words_docs, columns=['word', 'tag'])"
      ],
      "metadata": {
        "id": "YhPEw-SYb9j_"
      },
      "execution_count": null,
      "outputs": []
    },
    {
      "cell_type": "code",
      "source": [
        "df_words['tag'].value_counts()"
      ],
      "metadata": {
        "colab": {
          "base_uri": "https://localhost:8080/"
        },
        "id": "ZlFDzm2wb9g8",
        "outputId": "3f8393ae-4a66-4002-dfda-2d3e3f10cc6f"
      },
      "execution_count": null,
      "outputs": [
        {
          "output_type": "execute_result",
          "data": {
            "text/plain": [
              "OUT         219017\n",
              "PER          21172\n",
              "ORG          13646\n",
              "LOC           4568\n",
              "GEOPOLIT      4350\n",
              "MEDIA         2481\n",
              "Name: tag, dtype: int64"
            ]
          },
          "metadata": {},
          "execution_count": 54
        }
      ]
    },
    {
      "cell_type": "code",
      "source": [
        "df_words.head(3)"
      ],
      "metadata": {
        "colab": {
          "base_uri": "https://localhost:8080/",
          "height": 143
        },
        "id": "LoJzO0RIb9Y6",
        "outputId": "80b46f7d-3354-4b2f-8399-87b8d90387a5"
      },
      "execution_count": null,
      "outputs": [
        {
          "output_type": "execute_result",
          "data": {
            "text/plain": [
              "            word  tag\n",
              "0       Медведев  PER\n",
              "1         уволил  OUT\n",
              "2  Суходольского  PER"
            ],
            "text/html": [
              "\n",
              "  <div id=\"df-412733a5-6fd0-49eb-8a57-449174e4bbd3\">\n",
              "    <div class=\"colab-df-container\">\n",
              "      <div>\n",
              "<style scoped>\n",
              "    .dataframe tbody tr th:only-of-type {\n",
              "        vertical-align: middle;\n",
              "    }\n",
              "\n",
              "    .dataframe tbody tr th {\n",
              "        vertical-align: top;\n",
              "    }\n",
              "\n",
              "    .dataframe thead th {\n",
              "        text-align: right;\n",
              "    }\n",
              "</style>\n",
              "<table border=\"1\" class=\"dataframe\">\n",
              "  <thead>\n",
              "    <tr style=\"text-align: right;\">\n",
              "      <th></th>\n",
              "      <th>word</th>\n",
              "      <th>tag</th>\n",
              "    </tr>\n",
              "  </thead>\n",
              "  <tbody>\n",
              "    <tr>\n",
              "      <th>0</th>\n",
              "      <td>Медведев</td>\n",
              "      <td>PER</td>\n",
              "    </tr>\n",
              "    <tr>\n",
              "      <th>1</th>\n",
              "      <td>уволил</td>\n",
              "      <td>OUT</td>\n",
              "    </tr>\n",
              "    <tr>\n",
              "      <th>2</th>\n",
              "      <td>Суходольского</td>\n",
              "      <td>PER</td>\n",
              "    </tr>\n",
              "  </tbody>\n",
              "</table>\n",
              "</div>\n",
              "      <button class=\"colab-df-convert\" onclick=\"convertToInteractive('df-412733a5-6fd0-49eb-8a57-449174e4bbd3')\"\n",
              "              title=\"Convert this dataframe to an interactive table.\"\n",
              "              style=\"display:none;\">\n",
              "        \n",
              "  <svg xmlns=\"http://www.w3.org/2000/svg\" height=\"24px\"viewBox=\"0 0 24 24\"\n",
              "       width=\"24px\">\n",
              "    <path d=\"M0 0h24v24H0V0z\" fill=\"none\"/>\n",
              "    <path d=\"M18.56 5.44l.94 2.06.94-2.06 2.06-.94-2.06-.94-.94-2.06-.94 2.06-2.06.94zm-11 1L8.5 8.5l.94-2.06 2.06-.94-2.06-.94L8.5 2.5l-.94 2.06-2.06.94zm10 10l.94 2.06.94-2.06 2.06-.94-2.06-.94-.94-2.06-.94 2.06-2.06.94z\"/><path d=\"M17.41 7.96l-1.37-1.37c-.4-.4-.92-.59-1.43-.59-.52 0-1.04.2-1.43.59L10.3 9.45l-7.72 7.72c-.78.78-.78 2.05 0 2.83L4 21.41c.39.39.9.59 1.41.59.51 0 1.02-.2 1.41-.59l7.78-7.78 2.81-2.81c.8-.78.8-2.07 0-2.86zM5.41 20L4 18.59l7.72-7.72 1.47 1.35L5.41 20z\"/>\n",
              "  </svg>\n",
              "      </button>\n",
              "      \n",
              "  <style>\n",
              "    .colab-df-container {\n",
              "      display:flex;\n",
              "      flex-wrap:wrap;\n",
              "      gap: 12px;\n",
              "    }\n",
              "\n",
              "    .colab-df-convert {\n",
              "      background-color: #E8F0FE;\n",
              "      border: none;\n",
              "      border-radius: 50%;\n",
              "      cursor: pointer;\n",
              "      display: none;\n",
              "      fill: #1967D2;\n",
              "      height: 32px;\n",
              "      padding: 0 0 0 0;\n",
              "      width: 32px;\n",
              "    }\n",
              "\n",
              "    .colab-df-convert:hover {\n",
              "      background-color: #E2EBFA;\n",
              "      box-shadow: 0px 1px 2px rgba(60, 64, 67, 0.3), 0px 1px 3px 1px rgba(60, 64, 67, 0.15);\n",
              "      fill: #174EA6;\n",
              "    }\n",
              "\n",
              "    [theme=dark] .colab-df-convert {\n",
              "      background-color: #3B4455;\n",
              "      fill: #D2E3FC;\n",
              "    }\n",
              "\n",
              "    [theme=dark] .colab-df-convert:hover {\n",
              "      background-color: #434B5C;\n",
              "      box-shadow: 0px 1px 3px 1px rgba(0, 0, 0, 0.15);\n",
              "      filter: drop-shadow(0px 1px 2px rgba(0, 0, 0, 0.3));\n",
              "      fill: #FFFFFF;\n",
              "    }\n",
              "  </style>\n",
              "\n",
              "      <script>\n",
              "        const buttonEl =\n",
              "          document.querySelector('#df-412733a5-6fd0-49eb-8a57-449174e4bbd3 button.colab-df-convert');\n",
              "        buttonEl.style.display =\n",
              "          google.colab.kernel.accessAllowed ? 'block' : 'none';\n",
              "\n",
              "        async function convertToInteractive(key) {\n",
              "          const element = document.querySelector('#df-412733a5-6fd0-49eb-8a57-449174e4bbd3');\n",
              "          const dataTable =\n",
              "            await google.colab.kernel.invokeFunction('convertToInteractive',\n",
              "                                                     [key], {});\n",
              "          if (!dataTable) return;\n",
              "\n",
              "          const docLinkHtml = 'Like what you see? Visit the ' +\n",
              "            '<a target=\"_blank\" href=https://colab.research.google.com/notebooks/data_table.ipynb>data table notebook</a>'\n",
              "            + ' to learn more about interactive tables.';\n",
              "          element.innerHTML = '';\n",
              "          dataTable['output_type'] = 'display_data';\n",
              "          await google.colab.output.renderOutput(dataTable, element);\n",
              "          const docLink = document.createElement('div');\n",
              "          docLink.innerHTML = docLinkHtml;\n",
              "          element.appendChild(docLink);\n",
              "        }\n",
              "      </script>\n",
              "    </div>\n",
              "  </div>\n",
              "  "
            ]
          },
          "metadata": {},
          "execution_count": 55
        }
      ]
    },
    {
      "cell_type": "code",
      "source": [
        "df_words.shape"
      ],
      "metadata": {
        "colab": {
          "base_uri": "https://localhost:8080/"
        },
        "id": "bQ-rLZ4pcvRR",
        "outputId": "95393e20-11a1-47c5-db2d-6add1c4c895b"
      },
      "execution_count": null,
      "outputs": [
        {
          "output_type": "execute_result",
          "data": {
            "text/plain": [
              "(265234, 2)"
            ]
          },
          "metadata": {},
          "execution_count": 56
        }
      ]
    },
    {
      "cell_type": "markdown",
      "source": [
        "### NLTK"
      ],
      "metadata": {
        "id": "ReD_lRpmc4lS"
      }
    },
    {
      "cell_type": "markdown",
      "source": [
        "С помощью функции nltk.ne_chunk () мы можем распознавать именованные сущности с помощью классификатора, который добавляет метки категорий, такие как PERSON, ORGANIZATION и GPE."
      ],
      "metadata": {
        "id": "lIA3Rxwwc57Z"
      }
    },
    {
      "cell_type": "code",
      "source": [
        "import nltk\n",
        "nltk.download('punkt')\n",
        "nltk.download('averaged_perceptron_tagger')\n",
        "nltk.download('maxent_ne_chunker')\n",
        "nltk.download('words')"
      ],
      "metadata": {
        "colab": {
          "base_uri": "https://localhost:8080/"
        },
        "id": "96qCRP5qcxnd",
        "outputId": "fa8459f0-13d7-4175-df22-8477d300846d"
      },
      "execution_count": null,
      "outputs": [
        {
          "output_type": "stream",
          "name": "stderr",
          "text": [
            "[nltk_data] Downloading package punkt to /root/nltk_data...\n",
            "[nltk_data]   Package punkt is already up-to-date!\n",
            "[nltk_data] Downloading package averaged_perceptron_tagger to\n",
            "[nltk_data]     /root/nltk_data...\n",
            "[nltk_data]   Package averaged_perceptron_tagger is already up-to-\n",
            "[nltk_data]       date!\n",
            "[nltk_data] Downloading package maxent_ne_chunker to\n",
            "[nltk_data]     /root/nltk_data...\n",
            "[nltk_data]   Package maxent_ne_chunker is already up-to-date!\n",
            "[nltk_data] Downloading package words to /root/nltk_data...\n",
            "[nltk_data]   Package words is already up-to-date!\n"
          ]
        },
        {
          "output_type": "execute_result",
          "data": {
            "text/plain": [
              "True"
            ]
          },
          "metadata": {},
          "execution_count": 57
        }
      ]
    },
    {
      "cell_type": "code",
      "source": [
        "from tqdm import tqdm"
      ],
      "metadata": {
        "id": "Ghw_KHtuc9Uc"
      },
      "execution_count": null,
      "outputs": []
    },
    {
      "cell_type": "code",
      "source": [
        "result_nltk = []\n",
        "for text in tqdm(text_data):\n",
        "  result_nltk.append({(' '.join(c[0] for c in chunk), chunk.label() ) for chunk in nltk.ne_chunk(nltk.pos_tag(nltk.word_tokenize(text))) if hasattr(chunk, 'label')})"
      ],
      "metadata": {
        "colab": {
          "base_uri": "https://localhost:8080/"
        },
        "id": "fokuD4Q0dFm5",
        "outputId": "e2038024-4bce-454b-ce45-8bdd4afd8da5"
      },
      "execution_count": null,
      "outputs": [
        {
          "output_type": "stream",
          "name": "stderr",
          "text": [
            "100%|██████████| 999/999 [01:29<00:00, 11.13it/s]\n"
          ]
        }
      ]
    },
    {
      "cell_type": "code",
      "source": [
        "result_nltk[:2]"
      ],
      "metadata": {
        "colab": {
          "base_uri": "https://localhost:8080/"
        },
        "id": "fP-aZSledG3_",
        "outputId": "ff402d81-b26a-49e0-9fb8-50e901c3a04d"
      },
      "execution_count": null,
      "outputs": [
        {
          "output_type": "execute_result",
          "data": {
            "text/plain": [
              "[{('Алексей Малых', 'PERSON'),\n",
              "  ('Валерий Белоцерковский', 'PERSON'),\n",
              "  ('Денис Иванов', 'PERSON'),\n",
              "  ('Леонтьев', 'ORGANIZATION'),\n",
              "  ('Леонтьеву', 'PERSON'),\n",
              "  ('Малых', 'PERSON'),\n",
              "  ('Медведев', 'PERSON'),\n",
              "  ('Михаил Суходольский', 'PERSON'),\n",
              "  ('Михаила Суходольского', 'PERSON'),\n",
              "  ('РИА Новости', 'ORGANIZATION'),\n",
              "  ('Рашида Нургалиева', 'PERSON'),\n",
              "  ('Рашидом Нургалиевым', 'PERSON'),\n",
              "  ('Рашиду Нургалиеву', 'PERSON'),\n",
              "  ('России', 'PERSON'),\n",
              "  ('России Дмитрий Медведев', 'PERSON'),\n",
              "  ('СМИ', 'ORGANIZATION'),\n",
              "  ('Сергей Умнов', 'PERSON'),\n",
              "  ('Сообщалось', 'PERSON'),\n",
              "  ('Умнов', 'PERSON')},\n",
              " {('Виктор', 'PERSON'),\n",
              "  ('Виктор Шалиманов', 'PERSON'),\n",
              "  ('Шалиманов', 'ORGANIZATION')}]"
            ]
          },
          "metadata": {},
          "execution_count": 60
        }
      ]
    },
    {
      "cell_type": "markdown",
      "source": [
        "### Spacy"
      ],
      "metadata": {
        "id": "DTAEctzZdOcB"
      }
    },
    {
      "cell_type": "code",
      "source": [
        "!pip -qq install spacy\n",
        "!python -m spacy download en\n",
        "!python -m spacy download en_core_web_sm"
      ],
      "metadata": {
        "colab": {
          "base_uri": "https://localhost:8080/"
        },
        "id": "bhonwB7XdG06",
        "outputId": "81b488b7-e135-4816-94d9-9dd0a5f14050"
      },
      "execution_count": null,
      "outputs": [
        {
          "output_type": "stream",
          "name": "stdout",
          "text": [
            "2023-04-18 22:57:28.110398: W tensorflow/compiler/tf2tensorrt/utils/py_utils.cc:38] TF-TRT Warning: Could not find TensorRT\n",
            "\u001b[38;5;3m⚠ As of spaCy v3.0, shortcuts like 'en' are deprecated. Please use the\n",
            "full pipeline package name 'en_core_web_sm' instead.\u001b[0m\n",
            "Looking in indexes: https://pypi.org/simple, https://us-python.pkg.dev/colab-wheels/public/simple/\n",
            "Collecting en-core-web-sm==3.5.0\n",
            "  Downloading https://github.com/explosion/spacy-models/releases/download/en_core_web_sm-3.5.0/en_core_web_sm-3.5.0-py3-none-any.whl (12.8 MB)\n",
            "\u001b[2K     \u001b[90m━━━━━━━━━━━━━━━━━━━━━━━━━━━━━━━━━━━━━━━━\u001b[0m \u001b[32m12.8/12.8 MB\u001b[0m \u001b[31m55.6 MB/s\u001b[0m eta \u001b[36m0:00:00\u001b[0m\n",
            "\u001b[?25hRequirement already satisfied: spacy<3.6.0,>=3.5.0 in /usr/local/lib/python3.9/dist-packages (from en-core-web-sm==3.5.0) (3.5.2)\n",
            "Requirement already satisfied: preshed<3.1.0,>=3.0.2 in /usr/local/lib/python3.9/dist-packages (from spacy<3.6.0,>=3.5.0->en-core-web-sm==3.5.0) (3.0.8)\n",
            "Requirement already satisfied: jinja2 in /usr/local/lib/python3.9/dist-packages (from spacy<3.6.0,>=3.5.0->en-core-web-sm==3.5.0) (3.1.2)\n",
            "Requirement already satisfied: thinc<8.2.0,>=8.1.8 in /usr/local/lib/python3.9/dist-packages (from spacy<3.6.0,>=3.5.0->en-core-web-sm==3.5.0) (8.1.9)\n",
            "Requirement already satisfied: tqdm<5.0.0,>=4.38.0 in /usr/local/lib/python3.9/dist-packages (from spacy<3.6.0,>=3.5.0->en-core-web-sm==3.5.0) (4.64.1)\n",
            "Requirement already satisfied: spacy-legacy<3.1.0,>=3.0.11 in /usr/local/lib/python3.9/dist-packages (from spacy<3.6.0,>=3.5.0->en-core-web-sm==3.5.0) (3.0.12)\n",
            "Requirement already satisfied: numpy>=1.15.0 in /usr/local/lib/python3.9/dist-packages (from spacy<3.6.0,>=3.5.0->en-core-web-sm==3.5.0) (1.22.4)\n",
            "Requirement already satisfied: typer<0.8.0,>=0.3.0 in /usr/local/lib/python3.9/dist-packages (from spacy<3.6.0,>=3.5.0->en-core-web-sm==3.5.0) (0.7.0)\n",
            "Requirement already satisfied: wasabi<1.2.0,>=0.9.1 in /usr/local/lib/python3.9/dist-packages (from spacy<3.6.0,>=3.5.0->en-core-web-sm==3.5.0) (1.1.1)\n",
            "Requirement already satisfied: pydantic!=1.8,!=1.8.1,<1.11.0,>=1.7.4 in /usr/local/lib/python3.9/dist-packages (from spacy<3.6.0,>=3.5.0->en-core-web-sm==3.5.0) (1.10.7)\n",
            "Requirement already satisfied: setuptools in /usr/local/lib/python3.9/dist-packages (from spacy<3.6.0,>=3.5.0->en-core-web-sm==3.5.0) (67.6.1)\n",
            "Requirement already satisfied: murmurhash<1.1.0,>=0.28.0 in /usr/local/lib/python3.9/dist-packages (from spacy<3.6.0,>=3.5.0->en-core-web-sm==3.5.0) (1.0.9)\n",
            "Requirement already satisfied: catalogue<2.1.0,>=2.0.6 in /usr/local/lib/python3.9/dist-packages (from spacy<3.6.0,>=3.5.0->en-core-web-sm==3.5.0) (2.0.8)\n",
            "Requirement already satisfied: srsly<3.0.0,>=2.4.3 in /usr/local/lib/python3.9/dist-packages (from spacy<3.6.0,>=3.5.0->en-core-web-sm==3.5.0) (2.4.6)\n",
            "Requirement already satisfied: requests<3.0.0,>=2.13.0 in /usr/local/lib/python3.9/dist-packages (from spacy<3.6.0,>=3.5.0->en-core-web-sm==3.5.0) (2.27.1)\n",
            "Requirement already satisfied: langcodes<4.0.0,>=3.2.0 in /usr/local/lib/python3.9/dist-packages (from spacy<3.6.0,>=3.5.0->en-core-web-sm==3.5.0) (3.3.0)\n",
            "Requirement already satisfied: spacy-loggers<2.0.0,>=1.0.0 in /usr/local/lib/python3.9/dist-packages (from spacy<3.6.0,>=3.5.0->en-core-web-sm==3.5.0) (1.0.4)\n",
            "Requirement already satisfied: pathy>=0.10.0 in /usr/local/lib/python3.9/dist-packages (from spacy<3.6.0,>=3.5.0->en-core-web-sm==3.5.0) (0.10.1)\n",
            "Requirement already satisfied: smart-open<7.0.0,>=5.2.1 in /usr/local/lib/python3.9/dist-packages (from spacy<3.6.0,>=3.5.0->en-core-web-sm==3.5.0) (6.3.0)\n",
            "Requirement already satisfied: cymem<2.1.0,>=2.0.2 in /usr/local/lib/python3.9/dist-packages (from spacy<3.6.0,>=3.5.0->en-core-web-sm==3.5.0) (2.0.7)\n",
            "Requirement already satisfied: packaging>=20.0 in /usr/local/lib/python3.9/dist-packages (from spacy<3.6.0,>=3.5.0->en-core-web-sm==3.5.0) (23.0)\n",
            "Requirement already satisfied: typing-extensions>=4.2.0 in /usr/local/lib/python3.9/dist-packages (from pydantic!=1.8,!=1.8.1,<1.11.0,>=1.7.4->spacy<3.6.0,>=3.5.0->en-core-web-sm==3.5.0) (4.5.0)\n",
            "Requirement already satisfied: urllib3<1.27,>=1.21.1 in /usr/local/lib/python3.9/dist-packages (from requests<3.0.0,>=2.13.0->spacy<3.6.0,>=3.5.0->en-core-web-sm==3.5.0) (1.26.15)\n",
            "Requirement already satisfied: certifi>=2017.4.17 in /usr/local/lib/python3.9/dist-packages (from requests<3.0.0,>=2.13.0->spacy<3.6.0,>=3.5.0->en-core-web-sm==3.5.0) (2022.12.7)\n",
            "Requirement already satisfied: charset-normalizer~=2.0.0 in /usr/local/lib/python3.9/dist-packages (from requests<3.0.0,>=2.13.0->spacy<3.6.0,>=3.5.0->en-core-web-sm==3.5.0) (2.0.12)\n",
            "Requirement already satisfied: idna<4,>=2.5 in /usr/local/lib/python3.9/dist-packages (from requests<3.0.0,>=2.13.0->spacy<3.6.0,>=3.5.0->en-core-web-sm==3.5.0) (3.4)\n",
            "Requirement already satisfied: blis<0.8.0,>=0.7.8 in /usr/local/lib/python3.9/dist-packages (from thinc<8.2.0,>=8.1.8->spacy<3.6.0,>=3.5.0->en-core-web-sm==3.5.0) (0.7.9)\n",
            "Requirement already satisfied: confection<1.0.0,>=0.0.1 in /usr/local/lib/python3.9/dist-packages (from thinc<8.2.0,>=8.1.8->spacy<3.6.0,>=3.5.0->en-core-web-sm==3.5.0) (0.0.4)\n",
            "Requirement already satisfied: click<9.0.0,>=7.1.1 in /usr/local/lib/python3.9/dist-packages (from typer<0.8.0,>=0.3.0->spacy<3.6.0,>=3.5.0->en-core-web-sm==3.5.0) (8.1.3)\n",
            "Requirement already satisfied: MarkupSafe>=2.0 in /usr/local/lib/python3.9/dist-packages (from jinja2->spacy<3.6.0,>=3.5.0->en-core-web-sm==3.5.0) (2.1.2)\n",
            "\u001b[38;5;2m✔ Download and installation successful\u001b[0m\n",
            "You can now load the package via spacy.load('en_core_web_sm')\n",
            "2023-04-18 22:57:48.525607: W tensorflow/compiler/tf2tensorrt/utils/py_utils.cc:38] TF-TRT Warning: Could not find TensorRT\n",
            "Looking in indexes: https://pypi.org/simple, https://us-python.pkg.dev/colab-wheels/public/simple/\n",
            "Collecting en-core-web-sm==3.5.0\n",
            "  Using cached https://github.com/explosion/spacy-models/releases/download/en_core_web_sm-3.5.0/en_core_web_sm-3.5.0-py3-none-any.whl (12.8 MB)\n",
            "Requirement already satisfied: spacy<3.6.0,>=3.5.0 in /usr/local/lib/python3.9/dist-packages (from en-core-web-sm==3.5.0) (3.5.2)\n",
            "Requirement already satisfied: spacy-legacy<3.1.0,>=3.0.11 in /usr/local/lib/python3.9/dist-packages (from spacy<3.6.0,>=3.5.0->en-core-web-sm==3.5.0) (3.0.12)\n",
            "Requirement already satisfied: langcodes<4.0.0,>=3.2.0 in /usr/local/lib/python3.9/dist-packages (from spacy<3.6.0,>=3.5.0->en-core-web-sm==3.5.0) (3.3.0)\n",
            "Requirement already satisfied: catalogue<2.1.0,>=2.0.6 in /usr/local/lib/python3.9/dist-packages (from spacy<3.6.0,>=3.5.0->en-core-web-sm==3.5.0) (2.0.8)\n",
            "Requirement already satisfied: murmurhash<1.1.0,>=0.28.0 in /usr/local/lib/python3.9/dist-packages (from spacy<3.6.0,>=3.5.0->en-core-web-sm==3.5.0) (1.0.9)\n",
            "Requirement already satisfied: spacy-loggers<2.0.0,>=1.0.0 in /usr/local/lib/python3.9/dist-packages (from spacy<3.6.0,>=3.5.0->en-core-web-sm==3.5.0) (1.0.4)\n",
            "Requirement already satisfied: srsly<3.0.0,>=2.4.3 in /usr/local/lib/python3.9/dist-packages (from spacy<3.6.0,>=3.5.0->en-core-web-sm==3.5.0) (2.4.6)\n",
            "Requirement already satisfied: typer<0.8.0,>=0.3.0 in /usr/local/lib/python3.9/dist-packages (from spacy<3.6.0,>=3.5.0->en-core-web-sm==3.5.0) (0.7.0)\n",
            "Requirement already satisfied: jinja2 in /usr/local/lib/python3.9/dist-packages (from spacy<3.6.0,>=3.5.0->en-core-web-sm==3.5.0) (3.1.2)\n",
            "Requirement already satisfied: numpy>=1.15.0 in /usr/local/lib/python3.9/dist-packages (from spacy<3.6.0,>=3.5.0->en-core-web-sm==3.5.0) (1.22.4)\n",
            "Requirement already satisfied: setuptools in /usr/local/lib/python3.9/dist-packages (from spacy<3.6.0,>=3.5.0->en-core-web-sm==3.5.0) (67.6.1)\n",
            "Requirement already satisfied: thinc<8.2.0,>=8.1.8 in /usr/local/lib/python3.9/dist-packages (from spacy<3.6.0,>=3.5.0->en-core-web-sm==3.5.0) (8.1.9)\n",
            "Requirement already satisfied: requests<3.0.0,>=2.13.0 in /usr/local/lib/python3.9/dist-packages (from spacy<3.6.0,>=3.5.0->en-core-web-sm==3.5.0) (2.27.1)\n",
            "Requirement already satisfied: preshed<3.1.0,>=3.0.2 in /usr/local/lib/python3.9/dist-packages (from spacy<3.6.0,>=3.5.0->en-core-web-sm==3.5.0) (3.0.8)\n",
            "Requirement already satisfied: tqdm<5.0.0,>=4.38.0 in /usr/local/lib/python3.9/dist-packages (from spacy<3.6.0,>=3.5.0->en-core-web-sm==3.5.0) (4.64.1)\n",
            "Requirement already satisfied: cymem<2.1.0,>=2.0.2 in /usr/local/lib/python3.9/dist-packages (from spacy<3.6.0,>=3.5.0->en-core-web-sm==3.5.0) (2.0.7)\n",
            "Requirement already satisfied: wasabi<1.2.0,>=0.9.1 in /usr/local/lib/python3.9/dist-packages (from spacy<3.6.0,>=3.5.0->en-core-web-sm==3.5.0) (1.1.1)\n",
            "Requirement already satisfied: pathy>=0.10.0 in /usr/local/lib/python3.9/dist-packages (from spacy<3.6.0,>=3.5.0->en-core-web-sm==3.5.0) (0.10.1)\n",
            "Requirement already satisfied: pydantic!=1.8,!=1.8.1,<1.11.0,>=1.7.4 in /usr/local/lib/python3.9/dist-packages (from spacy<3.6.0,>=3.5.0->en-core-web-sm==3.5.0) (1.10.7)\n",
            "Requirement already satisfied: smart-open<7.0.0,>=5.2.1 in /usr/local/lib/python3.9/dist-packages (from spacy<3.6.0,>=3.5.0->en-core-web-sm==3.5.0) (6.3.0)\n",
            "Requirement already satisfied: packaging>=20.0 in /usr/local/lib/python3.9/dist-packages (from spacy<3.6.0,>=3.5.0->en-core-web-sm==3.5.0) (23.0)\n",
            "Requirement already satisfied: typing-extensions>=4.2.0 in /usr/local/lib/python3.9/dist-packages (from pydantic!=1.8,!=1.8.1,<1.11.0,>=1.7.4->spacy<3.6.0,>=3.5.0->en-core-web-sm==3.5.0) (4.5.0)\n",
            "Requirement already satisfied: idna<4,>=2.5 in /usr/local/lib/python3.9/dist-packages (from requests<3.0.0,>=2.13.0->spacy<3.6.0,>=3.5.0->en-core-web-sm==3.5.0) (3.4)\n",
            "Requirement already satisfied: urllib3<1.27,>=1.21.1 in /usr/local/lib/python3.9/dist-packages (from requests<3.0.0,>=2.13.0->spacy<3.6.0,>=3.5.0->en-core-web-sm==3.5.0) (1.26.15)\n",
            "Requirement already satisfied: certifi>=2017.4.17 in /usr/local/lib/python3.9/dist-packages (from requests<3.0.0,>=2.13.0->spacy<3.6.0,>=3.5.0->en-core-web-sm==3.5.0) (2022.12.7)\n",
            "Requirement already satisfied: charset-normalizer~=2.0.0 in /usr/local/lib/python3.9/dist-packages (from requests<3.0.0,>=2.13.0->spacy<3.6.0,>=3.5.0->en-core-web-sm==3.5.0) (2.0.12)\n",
            "Requirement already satisfied: confection<1.0.0,>=0.0.1 in /usr/local/lib/python3.9/dist-packages (from thinc<8.2.0,>=8.1.8->spacy<3.6.0,>=3.5.0->en-core-web-sm==3.5.0) (0.0.4)\n",
            "Requirement already satisfied: blis<0.8.0,>=0.7.8 in /usr/local/lib/python3.9/dist-packages (from thinc<8.2.0,>=8.1.8->spacy<3.6.0,>=3.5.0->en-core-web-sm==3.5.0) (0.7.9)\n",
            "Requirement already satisfied: click<9.0.0,>=7.1.1 in /usr/local/lib/python3.9/dist-packages (from typer<0.8.0,>=0.3.0->spacy<3.6.0,>=3.5.0->en-core-web-sm==3.5.0) (8.1.3)\n",
            "Requirement already satisfied: MarkupSafe>=2.0 in /usr/local/lib/python3.9/dist-packages (from jinja2->spacy<3.6.0,>=3.5.0->en-core-web-sm==3.5.0) (2.1.2)\n",
            "\u001b[38;5;2m✔ Download and installation successful\u001b[0m\n",
            "You can now load the package via spacy.load('en_core_web_sm')\n"
          ]
        }
      ]
    },
    {
      "cell_type": "code",
      "source": [
        "!pip install -qq -U spacy\n",
        "!python -m spacy info\n",
        "import spacy\n",
        "from spacy import displacy\n",
        "import en_core_web_sm"
      ],
      "metadata": {
        "colab": {
          "base_uri": "https://localhost:8080/"
        },
        "id": "u4ogCleSdGwe",
        "outputId": "19f4d324-efd3-4585-9f1a-30ef45d14515"
      },
      "execution_count": null,
      "outputs": [
        {
          "output_type": "stream",
          "name": "stdout",
          "text": [
            "2023-04-18 22:58:17.555265: W tensorflow/compiler/tf2tensorrt/utils/py_utils.cc:38] TF-TRT Warning: Could not find TensorRT\n",
            "\u001b[1m\n",
            "============================== Info about spaCy ==============================\u001b[0m\n",
            "\n",
            "spaCy version    3.5.2                         \n",
            "Location         /usr/local/lib/python3.9/dist-packages/spacy\n",
            "Platform         Linux-5.10.147+-x86_64-with-glibc2.31\n",
            "Python version   3.9.16                        \n",
            "Pipelines        en_core_web_sm (3.5.0)        \n",
            "\n"
          ]
        }
      ]
    },
    {
      "cell_type": "code",
      "source": [
        "nlp = en_core_web_sm.load()\n",
        "result_spacy = []\n",
        "for text in tqdm(text_data):\n",
        "    result_spacy.append(nlp(text))"
      ],
      "metadata": {
        "colab": {
          "base_uri": "https://localhost:8080/"
        },
        "id": "PsUNg1WxdGuK",
        "outputId": "15c5eff0-4332-4460-a368-80ec56d75213"
      },
      "execution_count": null,
      "outputs": [
        {
          "output_type": "stream",
          "name": "stderr",
          "text": [
            "100%|██████████| 999/999 [01:00<00:00, 16.55it/s]\n"
          ]
        }
      ]
    },
    {
      "cell_type": "code",
      "source": [
        "for article in result_spacy[:2]:\n",
        "    displacy.render(article, jupyter=True, style='ent')"
      ],
      "metadata": {
        "colab": {
          "base_uri": "https://localhost:8080/",
          "height": 1000
        },
        "id": "Wu0rAcXEdGro",
        "outputId": "eff655fb-3c8f-4d0f-fa30-c769b0a0f918"
      },
      "execution_count": null,
      "outputs": [
        {
          "output_type": "display_data",
          "data": {
            "text/plain": [
              "<IPython.core.display.HTML object>"
            ],
            "text/html": [
              "<span class=\"tex2jax_ignore\"><div class=\"entities\" style=\"line-height: 2.5; direction: ltr\">Медведев уволил Суходольского с должности главы \n",
              "<mark class=\"entity\" style=\"background: #7aecec; padding: 0.45em 0.6em; margin: 0 0.25em; line-height: 1; border-radius: 0.35em;\">\n",
              "    ГУ МВД Петербурга\n",
              "    <span style=\"font-size: 0.8em; font-weight: bold; line-height: 1; border-radius: 0.35em; vertical-align: middle; margin-left: 0.5rem\">ORG</span>\n",
              "</mark>\n",
              "\r</br>\r</br>Президент России Дмитрий Медведев освободил генерал-полковника полиции \n",
              "<mark class=\"entity\" style=\"background: #7aecec; padding: 0.45em 0.6em; margin: 0 0.25em; line-height: 1; border-radius: 0.35em;\">\n",
              "    Михаила Суходольского\n",
              "    <span style=\"font-size: 0.8em; font-weight: bold; line-height: 1; border-radius: 0.35em; vertical-align: middle; margin-left: 0.5rem\">ORG</span>\n",
              "</mark>\n",
              " от должности начальника Главного управления \n",
              "<mark class=\"entity\" style=\"background: #7aecec; padding: 0.45em 0.6em; margin: 0 0.25em; line-height: 1; border-radius: 0.35em;\">\n",
              "    МВД России\n",
              "    <span style=\"font-size: 0.8em; font-weight: bold; line-height: 1; border-radius: 0.35em; vertical-align: middle; margin-left: 0.5rem\">ORG</span>\n",
              "</mark>\n",
              " по \n",
              "<mark class=\"entity\" style=\"background: #7aecec; padding: 0.45em 0.6em; margin: 0 0.25em; line-height: 1; border-radius: 0.35em;\">\n",
              "    Санкт-Петербургу\n",
              "    <span style=\"font-size: 0.8em; font-weight: bold; line-height: 1; border-radius: 0.35em; vertical-align: middle; margin-left: 0.5rem\">ORG</span>\n",
              "</mark>\n",
              " и \n",
              "<mark class=\"entity\" style=\"background: #feca74; padding: 0.45em 0.6em; margin: 0 0.25em; line-height: 1; border-radius: 0.35em;\">\n",
              "    Ленинградской\n",
              "    <span style=\"font-size: 0.8em; font-weight: bold; line-height: 1; border-radius: 0.35em; vertical-align: middle; margin-left: 0.5rem\">GPE</span>\n",
              "</mark>\n",
              " области. \n",
              "<mark class=\"entity\" style=\"background: #aa9cfc; padding: 0.45em 0.6em; margin: 0 0.25em; line-height: 1; border-radius: 0.35em;\">\n",
              "    Об\n",
              "    <span style=\"font-size: 0.8em; font-weight: bold; line-height: 1; border-radius: 0.35em; vertical-align: middle; margin-left: 0.5rem\">PERSON</span>\n",
              "</mark>\n",
              " этом сообщает \n",
              "<mark class=\"entity\" style=\"background: #aa9cfc; padding: 0.45em 0.6em; margin: 0 0.25em; line-height: 1; border-radius: 0.35em;\">\n",
              "    пресс-служба\n",
              "    <span style=\"font-size: 0.8em; font-weight: bold; line-height: 1; border-radius: 0.35em; vertical-align: middle; margin-left: 0.5rem\">PERSON</span>\n",
              "</mark>\n",
              " \n",
              "<mark class=\"entity\" style=\"background: #7aecec; padding: 0.45em 0.6em; margin: 0 0.25em; line-height: 1; border-radius: 0.35em;\">\n",
              "    Кремля\n",
              "    <span style=\"font-size: 0.8em; font-weight: bold; line-height: 1; border-radius: 0.35em; vertical-align: middle; margin-left: 0.5rem\">ORG</span>\n",
              "</mark>\n",
              ".\r</br>\r</br>Суходольский был назначен на эту должность в июне \n",
              "<mark class=\"entity\" style=\"background: #bfe1d9; padding: 0.45em 0.6em; margin: 0 0.25em; line-height: 1; border-radius: 0.35em;\">\n",
              "    2011\n",
              "    <span style=\"font-size: 0.8em; font-weight: bold; line-height: 1; border-radius: 0.35em; vertical-align: middle; margin-left: 0.5rem\">DATE</span>\n",
              "</mark>\n",
              " года. До этого он работал заместителем главы \n",
              "<mark class=\"entity\" style=\"background: #aa9cfc; padding: 0.45em 0.6em; margin: 0 0.25em; line-height: 1; border-radius: 0.35em;\">\n",
              "    МВД Рашида Нургалиева\n",
              "    <span style=\"font-size: 0.8em; font-weight: bold; line-height: 1; border-radius: 0.35em; vertical-align: middle; margin-left: 0.5rem\">PERSON</span>\n",
              "</mark>\n",
              ".\r</br>\r</br>Причины отставки пока не называются.\r</br>\r</br>Как сообщает РИА \n",
              "<mark class=\"entity\" style=\"background: #aa9cfc; padding: 0.45em 0.6em; margin: 0 0.25em; line-height: 1; border-radius: 0.35em;\">\n",
              "    Новости\n",
              "    <span style=\"font-size: 0.8em; font-weight: bold; line-height: 1; border-radius: 0.35em; vertical-align: middle; margin-left: 0.5rem\">PERSON</span>\n",
              "</mark>\n",
              ", исполняющим \n",
              "<mark class=\"entity\" style=\"background: #aa9cfc; padding: 0.45em 0.6em; margin: 0 0.25em; line-height: 1; border-radius: 0.35em;\">\n",
              "    обязанности главы\n",
              "    <span style=\"font-size: 0.8em; font-weight: bold; line-height: 1; border-radius: 0.35em; vertical-align: middle; margin-left: 0.5rem\">PERSON</span>\n",
              "</mark>\n",
              " петербургского управления \n",
              "<mark class=\"entity\" style=\"background: #7aecec; padding: 0.45em 0.6em; margin: 0 0.25em; line-height: 1; border-radius: 0.35em;\">\n",
              "    МВД\n",
              "    <span style=\"font-size: 0.8em; font-weight: bold; line-height: 1; border-radius: 0.35em; vertical-align: middle; margin-left: 0.5rem\">ORG</span>\n",
              "</mark>\n",
              " назначен бывший заместитель \n",
              "<mark class=\"entity\" style=\"background: #aa9cfc; padding: 0.45em 0.6em; margin: 0 0.25em; line-height: 1; border-radius: 0.35em;\">\n",
              "    Суходольского\n",
              "    <span style=\"font-size: 0.8em; font-weight: bold; line-height: 1; border-radius: 0.35em; vertical-align: middle; margin-left: 0.5rem\">PERSON</span>\n",
              "</mark>\n",
              " генерал-майор полиции \n",
              "<mark class=\"entity\" style=\"background: #aa9cfc; padding: 0.45em 0.6em; margin: 0 0.25em; line-height: 1; border-radius: 0.35em;\">\n",
              "    Сергей Умнов\n",
              "    <span style=\"font-size: 0.8em; font-weight: bold; line-height: 1; border-radius: 0.35em; vertical-align: middle; margin-left: 0.5rem\">PERSON</span>\n",
              "</mark>\n",
              ".\r</br>\r</br>Ранее Умнов считался конкурентом \n",
              "<mark class=\"entity\" style=\"background: #7aecec; padding: 0.45em 0.6em; margin: 0 0.25em; line-height: 1; border-radius: 0.35em;\">\n",
              "    Суходольского\n",
              "    <span style=\"font-size: 0.8em; font-weight: bold; line-height: 1; border-radius: 0.35em; vertical-align: middle; margin-left: 0.5rem\">ORG</span>\n",
              "</mark>\n",
              " за место начальника \n",
              "<mark class=\"entity\" style=\"background: #7aecec; padding: 0.45em 0.6em; margin: 0 0.25em; line-height: 1; border-radius: 0.35em;\">\n",
              "    ГУ МВД Петербурга\n",
              "    <span style=\"font-size: 0.8em; font-weight: bold; line-height: 1; border-radius: 0.35em; vertical-align: middle; margin-left: 0.5rem\">ORG</span>\n",
              "</mark>\n",
              ". \n",
              "<mark class=\"entity\" style=\"background: #feca74; padding: 0.45em 0.6em; margin: 0 0.25em; line-height: 1; border-radius: 0.35em;\">\n",
              "    Сообщалось\n",
              "    <span style=\"font-size: 0.8em; font-weight: bold; line-height: 1; border-radius: 0.35em; vertical-align: middle; margin-left: 0.5rem\">GPE</span>\n",
              "</mark>\n",
              ", что за \n",
              "<mark class=\"entity\" style=\"background: #feca74; padding: 0.45em 0.6em; margin: 0 0.25em; line-height: 1; border-radius: 0.35em;\">\n",
              "    его кандидатуру\n",
              "    <span style=\"font-size: 0.8em; font-weight: bold; line-height: 1; border-radius: 0.35em; vertical-align: middle; margin-left: 0.5rem\">GPE</span>\n",
              "</mark>\n",
              " выступал \n",
              "<mark class=\"entity\" style=\"background: #feca74; padding: 0.45em 0.6em; margin: 0 0.25em; line-height: 1; border-radius: 0.35em;\">\n",
              "    предыдущий\n",
              "    <span style=\"font-size: 0.8em; font-weight: bold; line-height: 1; border-radius: 0.35em; vertical-align: middle; margin-left: 0.5rem\">GPE</span>\n",
              "</mark>\n",
              " руководитель управления \n",
              "<mark class=\"entity\" style=\"background: #feca74; padding: 0.45em 0.6em; margin: 0 0.25em; line-height: 1; border-radius: 0.35em;\">\n",
              "    Владислав\n",
              "    <span style=\"font-size: 0.8em; font-weight: bold; line-height: 1; border-radius: 0.35em; vertical-align: middle; margin-left: 0.5rem\">GPE</span>\n",
              "</mark>\n",
              " Пиотровский. Сам Пиотровский летом \n",
              "<mark class=\"entity\" style=\"background: #bfe1d9; padding: 0.45em 0.6em; margin: 0 0.25em; line-height: 1; border-radius: 0.35em;\">\n",
              "    2011\n",
              "    <span style=\"font-size: 0.8em; font-weight: bold; line-height: 1; border-radius: 0.35em; vertical-align: middle; margin-left: 0.5rem\">DATE</span>\n",
              "</mark>\n",
              " года подал рапорт \n",
              "<mark class=\"entity\" style=\"background: #aa9cfc; padding: 0.45em 0.6em; margin: 0 0.25em; line-height: 1; border-radius: 0.35em;\">\n",
              "    об отставке\n",
              "    <span style=\"font-size: 0.8em; font-weight: bold; line-height: 1; border-radius: 0.35em; vertical-align: middle; margin-left: 0.5rem\">PERSON</span>\n",
              "</mark>\n",
              " в связи с тем, что не прошел переаттестацию.\r</br>\r</br>\n",
              "<mark class=\"entity\" style=\"background: #ff8197; padding: 0.45em 0.6em; margin: 0 0.25em; line-height: 1; border-radius: 0.35em;\">\n",
              "    В\n",
              "    <span style=\"font-size: 0.8em; font-weight: bold; line-height: 1; border-radius: 0.35em; vertical-align: middle; margin-left: 0.5rem\">LAW</span>\n",
              "</mark>\n",
              " начале года \n",
              "<mark class=\"entity\" style=\"background: #aa9cfc; padding: 0.45em 0.6em; margin: 0 0.25em; line-height: 1; border-radius: 0.35em;\">\n",
              "    Михаил Суходольский\n",
              "    <span style=\"font-size: 0.8em; font-weight: bold; line-height: 1; border-radius: 0.35em; vertical-align: middle; margin-left: 0.5rem\">PERSON</span>\n",
              "</mark>\n",
              " оказался в центре \n",
              "<mark class=\"entity\" style=\"background: #feca74; padding: 0.45em 0.6em; margin: 0 0.25em; line-height: 1; border-radius: 0.35em;\">\n",
              "    скандала\n",
              "    <span style=\"font-size: 0.8em; font-weight: bold; line-height: 1; border-radius: 0.35em; vertical-align: middle; margin-left: 0.5rem\">GPE</span>\n",
              "</mark>\n",
              ", связанного с гибелью задержанного полицейскими подростка и \n",
              "<mark class=\"entity\" style=\"background: #7aecec; padding: 0.45em 0.6em; margin: 0 0.25em; line-height: 1; border-radius: 0.35em;\">\n",
              "    последовавшей\n",
              "    <span style=\"font-size: 0.8em; font-weight: bold; line-height: 1; border-radius: 0.35em; vertical-align: middle; margin-left: 0.5rem\">ORG</span>\n",
              "</mark>\n",
              " вслед за \n",
              "<mark class=\"entity\" style=\"background: #aa9cfc; padding: 0.45em 0.6em; margin: 0 0.25em; line-height: 1; border-radius: 0.35em;\">\n",
              "    этим проверкой\n",
              "    <span style=\"font-size: 0.8em; font-weight: bold; line-height: 1; border-radius: 0.35em; vertical-align: middle; margin-left: 0.5rem\">PERSON</span>\n",
              "</mark>\n",
              " питерского управления.\r</br>\r</br>\n",
              "<mark class=\"entity\" style=\"background: #e4e7d2; padding: 0.45em 0.6em; margin: 0 0.25em; line-height: 1; border-radius: 0.35em;\">\n",
              "    15\n",
              "    <span style=\"font-size: 0.8em; font-weight: bold; line-height: 1; border-radius: 0.35em; vertical-align: middle; margin-left: 0.5rem\">CARDINAL</span>\n",
              "</mark>\n",
              "-летний \n",
              "<mark class=\"entity\" style=\"background: #7aecec; padding: 0.45em 0.6em; margin: 0 0.25em; line-height: 1; border-radius: 0.35em;\">\n",
              "    Никита Леонтьев\n",
              "    <span style=\"font-size: 0.8em; font-weight: bold; line-height: 1; border-radius: 0.35em; vertical-align: middle; margin-left: 0.5rem\">ORG</span>\n",
              "</mark>\n",
              " был задержан \n",
              "<mark class=\"entity\" style=\"background: #e4e7d2; padding: 0.45em 0.6em; margin: 0 0.25em; line-height: 1; border-radius: 0.35em;\">\n",
              "    22\n",
              "    <span style=\"font-size: 0.8em; font-weight: bold; line-height: 1; border-radius: 0.35em; vertical-align: middle; margin-left: 0.5rem\">CARDINAL</span>\n",
              "</mark>\n",
              " января. \n",
              "<mark class=\"entity\" style=\"background: #7aecec; padding: 0.45em 0.6em; margin: 0 0.25em; line-height: 1; border-radius: 0.35em;\">\n",
              "    Участковый Денис Иванов\n",
              "    <span style=\"font-size: 0.8em; font-weight: bold; line-height: 1; border-radius: 0.35em; vertical-align: middle; margin-left: 0.5rem\">ORG</span>\n",
              "</mark>\n",
              " и заместители начальника \n",
              "<mark class=\"entity\" style=\"background: #e4e7d2; padding: 0.45em 0.6em; margin: 0 0.25em; line-height: 1; border-radius: 0.35em;\">\n",
              "    75\n",
              "    <span style=\"font-size: 0.8em; font-weight: bold; line-height: 1; border-radius: 0.35em; vertical-align: middle; margin-left: 0.5rem\">CARDINAL</span>\n",
              "</mark>\n",
              "-го отдела полиции \n",
              "<mark class=\"entity\" style=\"background: #7aecec; padding: 0.45em 0.6em; margin: 0 0.25em; line-height: 1; border-radius: 0.35em;\">\n",
              "    Олег Прохоренко\n",
              "    <span style=\"font-size: 0.8em; font-weight: bold; line-height: 1; border-radius: 0.35em; vertical-align: middle; margin-left: 0.5rem\">ORG</span>\n",
              "</mark>\n",
              " и Алексей \n",
              "<mark class=\"entity\" style=\"background: #feca74; padding: 0.45em 0.6em; margin: 0 0.25em; line-height: 1; border-radius: 0.35em;\">\n",
              "    Малых\n",
              "    <span style=\"font-size: 0.8em; font-weight: bold; line-height: 1; border-radius: 0.35em; vertical-align: middle; margin-left: 0.5rem\">GPE</span>\n",
              "</mark>\n",
              " заподозрили \n",
              "<mark class=\"entity\" style=\"background: #7aecec; padding: 0.45em 0.6em; margin: 0 0.25em; line-height: 1; border-radius: 0.35em;\">\n",
              "    его в попытке ограблении\n",
              "    <span style=\"font-size: 0.8em; font-weight: bold; line-height: 1; border-radius: 0.35em; vertical-align: middle; margin-left: 0.5rem\">ORG</span>\n",
              "</mark>\n",
              ", после чего \n",
              "<mark class=\"entity\" style=\"background: #bfeeb7; padding: 0.45em 0.6em; margin: 0 0.25em; line-height: 1; border-radius: 0.35em;\">\n",
              "    Иванов\n",
              "    <span style=\"font-size: 0.8em; font-weight: bold; line-height: 1; border-radius: 0.35em; vertical-align: middle; margin-left: 0.5rem\">PRODUCT</span>\n",
              "</mark>\n",
              ", как он позже признался сам, избил юношу. После избиения \n",
              "<mark class=\"entity\" style=\"background: #aa9cfc; padding: 0.45em 0.6em; margin: 0 0.25em; line-height: 1; border-radius: 0.35em;\">\n",
              "    Леонтьеву вызвали скорую помощь\n",
              "    <span style=\"font-size: 0.8em; font-weight: bold; line-height: 1; border-radius: 0.35em; vertical-align: middle; margin-left: 0.5rem\">PERSON</span>\n",
              "</mark>\n",
              ", но он \n",
              "<mark class=\"entity\" style=\"background: #feca74; padding: 0.45em 0.6em; margin: 0 0.25em; line-height: 1; border-radius: 0.35em;\">\n",
              "    умер\n",
              "    <span style=\"font-size: 0.8em; font-weight: bold; line-height: 1; border-radius: 0.35em; vertical-align: middle; margin-left: 0.5rem\">GPE</span>\n",
              "</mark>\n",
              " по дороге в \n",
              "<mark class=\"entity\" style=\"background: #feca74; padding: 0.45em 0.6em; margin: 0 0.25em; line-height: 1; border-radius: 0.35em;\">\n",
              "    больницу\n",
              "    <span style=\"font-size: 0.8em; font-weight: bold; line-height: 1; border-radius: 0.35em; vertical-align: middle; margin-left: 0.5rem\">GPE</span>\n",
              "</mark>\n",
              ".\r</br>\r</br>\n",
              "<mark class=\"entity\" style=\"background: #feca74; padding: 0.45em 0.6em; margin: 0 0.25em; line-height: 1; border-radius: 0.35em;\">\n",
              "    Иванова\n",
              "    <span style=\"font-size: 0.8em; font-weight: bold; line-height: 1; border-radius: 0.35em; vertical-align: middle; margin-left: 0.5rem\">GPE</span>\n",
              "</mark>\n",
              " уволили и \n",
              "<mark class=\"entity\" style=\"background: #7aecec; padding: 0.45em 0.6em; margin: 0 0.25em; line-height: 1; border-radius: 0.35em;\">\n",
              "    предъявили\n",
              "    <span style=\"font-size: 0.8em; font-weight: bold; line-height: 1; border-radius: 0.35em; vertical-align: middle; margin-left: 0.5rem\">ORG</span>\n",
              "</mark>\n",
              " обвинения; кроме того, были уволены \n",
              "<mark class=\"entity\" style=\"background: #7aecec; padding: 0.45em 0.6em; margin: 0 0.25em; line-height: 1; border-radius: 0.35em;\">\n",
              "    Прохоренко\n",
              "    <span style=\"font-size: 0.8em; font-weight: bold; line-height: 1; border-radius: 0.35em; vertical-align: middle; margin-left: 0.5rem\">ORG</span>\n",
              "</mark>\n",
              ", \n",
              "<mark class=\"entity\" style=\"background: #7aecec; padding: 0.45em 0.6em; margin: 0 0.25em; line-height: 1; border-radius: 0.35em;\">\n",
              "    Малых\n",
              "    <span style=\"font-size: 0.8em; font-weight: bold; line-height: 1; border-radius: 0.35em; vertical-align: middle; margin-left: 0.5rem\">ORG</span>\n",
              "</mark>\n",
              " и начальник \n",
              "<mark class=\"entity\" style=\"background: #7aecec; padding: 0.45em 0.6em; margin: 0 0.25em; line-height: 1; border-radius: 0.35em;\">\n",
              "    УМВД\n",
              "    <span style=\"font-size: 0.8em; font-weight: bold; line-height: 1; border-radius: 0.35em; vertical-align: middle; margin-left: 0.5rem\">ORG</span>\n",
              "</mark>\n",
              " по \n",
              "<mark class=\"entity\" style=\"background: #bfeeb7; padding: 0.45em 0.6em; margin: 0 0.25em; line-height: 1; border-radius: 0.35em;\">\n",
              "    Невскому\n",
              "    <span style=\"font-size: 0.8em; font-weight: bold; line-height: 1; border-radius: 0.35em; vertical-align: middle; margin-left: 0.5rem\">PRODUCT</span>\n",
              "</mark>\n",
              " району Валерий Белоцерковский. \n",
              "<mark class=\"entity\" style=\"background: #e4e7d2; padding: 0.45em 0.6em; margin: 0 0.25em; line-height: 1; border-radius: 0.35em;\">\n",
              "    7\n",
              "    <span style=\"font-size: 0.8em; font-weight: bold; line-height: 1; border-radius: 0.35em; vertical-align: middle; margin-left: 0.5rem\">CARDINAL</span>\n",
              "</mark>\n",
              " февраля в \n",
              "<mark class=\"entity\" style=\"background: #7aecec; padding: 0.45em 0.6em; margin: 0 0.25em; line-height: 1; border-radius: 0.35em;\">\n",
              "    управлении началась проверка\n",
              "    <span style=\"font-size: 0.8em; font-weight: bold; line-height: 1; border-radius: 0.35em; vertical-align: middle; margin-left: 0.5rem\">ORG</span>\n",
              "</mark>\n",
              ", инициированная Рашидом Нургалиевым.\r</br>\r</br>При этом Суходольский выступил с публичной критикой \n",
              "<mark class=\"entity\" style=\"background: #7aecec; padding: 0.45em 0.6em; margin: 0 0.25em; line-height: 1; border-radius: 0.35em;\">\n",
              "    этой\n",
              "    <span style=\"font-size: 0.8em; font-weight: bold; line-height: 1; border-radius: 0.35em; vertical-align: middle; margin-left: 0.5rem\">ORG</span>\n",
              "</mark>\n",
              " проверки, заявив, в частности: &quot;\n",
              "<mark class=\"entity\" style=\"background: #aa9cfc; padding: 0.45em 0.6em; margin: 0 0.25em; line-height: 1; border-radius: 0.35em;\">\n",
              "    Мне\n",
              "    <span style=\"font-size: 0.8em; font-weight: bold; line-height: 1; border-radius: 0.35em; vertical-align: middle; margin-left: 0.5rem\">PERSON</span>\n",
              "</mark>\n",
              " не совсем понятно, как организация безопасности дорожного движения, \n",
              "<mark class=\"entity\" style=\"background: #aa9cfc; padding: 0.45em 0.6em; margin: 0 0.25em; line-height: 1; border-radius: 0.35em;\">\n",
              "    внесение предложений по\n",
              "    <span style=\"font-size: 0.8em; font-weight: bold; line-height: 1; border-radius: 0.35em; vertical-align: middle; margin-left: 0.5rem\">PERSON</span>\n",
              "</mark>\n",
              " совершенствованию законодательства или государственная \n",
              "<mark class=\"entity\" style=\"background: #e4e7d2; padding: 0.45em 0.6em; margin: 0 0.25em; line-height: 1; border-radius: 0.35em;\">\n",
              "    защита\n",
              "    <span style=\"font-size: 0.8em; font-weight: bold; line-height: 1; border-radius: 0.35em; vertical-align: middle; margin-left: 0.5rem\">ORDINAL</span>\n",
              "</mark>\n",
              " потерпевших, свидетелей и иных \n",
              "<mark class=\"entity\" style=\"background: #feca74; padding: 0.45em 0.6em; margin: 0 0.25em; line-height: 1; border-radius: 0.35em;\">\n",
              "    участников\n",
              "    <span style=\"font-size: 0.8em; font-weight: bold; line-height: 1; border-radius: 0.35em; vertical-align: middle; margin-left: 0.5rem\">GPE</span>\n",
              "</mark>\n",
              " судопроизводства могли повлиять на эту трагедию&quot;.\r</br>\r</br>\n",
              "<mark class=\"entity\" style=\"background: #aa9cfc; padding: 0.45em 0.6em; margin: 0 0.25em; line-height: 1; border-radius: 0.35em;\">\n",
              "    После\n",
              "    <span style=\"font-size: 0.8em; font-weight: bold; line-height: 1; border-radius: 0.35em; vertical-align: middle; margin-left: 0.5rem\">PERSON</span>\n",
              "</mark>\n",
              " этого стало известно, что Суходольский ушел на больничный и пропустил начало итоговой коллегии \n",
              "<mark class=\"entity\" style=\"background: #7aecec; padding: 0.45em 0.6em; margin: 0 0.25em; line-height: 1; border-radius: 0.35em;\">\n",
              "    МВД РФ в Москве\n",
              "    <span style=\"font-size: 0.8em; font-weight: bold; line-height: 1; border-radius: 0.35em; vertical-align: middle; margin-left: 0.5rem\">ORG</span>\n",
              "</mark>\n",
              ". Как писали СМИ, он направил главе \n",
              "<mark class=\"entity\" style=\"background: #7aecec; padding: 0.45em 0.6em; margin: 0 0.25em; line-height: 1; border-radius: 0.35em;\">\n",
              "    МВД Рашиду\n",
              "    <span style=\"font-size: 0.8em; font-weight: bold; line-height: 1; border-radius: 0.35em; vertical-align: middle; margin-left: 0.5rem\">ORG</span>\n",
              "</mark>\n",
              " Нургалиеву \n",
              "<mark class=\"entity\" style=\"background: #7aecec; padding: 0.45em 0.6em; margin: 0 0.25em; line-height: 1; border-radius: 0.35em;\">\n",
              "    уведомление о причинах\n",
              "    <span style=\"font-size: 0.8em; font-weight: bold; line-height: 1; border-radius: 0.35em; vertical-align: middle; margin-left: 0.5rem\">ORG</span>\n",
              "</mark>\n",
              " своего отсутствия, однако \n",
              "<mark class=\"entity\" style=\"background: #7aecec; padding: 0.45em 0.6em; margin: 0 0.25em; line-height: 1; border-radius: 0.35em;\">\n",
              "    содержание\n",
              "    <span style=\"font-size: 0.8em; font-weight: bold; line-height: 1; border-radius: 0.35em; vertical-align: middle; margin-left: 0.5rem\">ORG</span>\n",
              "</mark>\n",
              " этого документа неизвестно. </div></span>"
            ]
          },
          "metadata": {}
        },
        {
          "output_type": "display_data",
          "data": {
            "text/plain": [
              "<IPython.core.display.HTML object>"
            ],
            "text/html": [
              "<span class=\"tex2jax_ignore\"><div class=\"entities\" style=\"line-height: 2.5; direction: ltr\">\n",
              "<mark class=\"entity\" style=\"background: #aa9cfc; padding: 0.45em 0.6em; margin: 0 0.25em; line-height: 1; border-radius: 0.35em;\">\n",
              "    Виктор\n",
              "    <span style=\"font-size: 0.8em; font-weight: bold; line-height: 1; border-radius: 0.35em; vertical-align: middle; margin-left: 0.5rem\">PERSON</span>\n",
              "</mark>\n",
              " Шалиманов назначен директором департамента кредитных рисков \n",
              "<mark class=\"entity\" style=\"background: #bfeeb7; padding: 0.45em 0.6em; margin: 0 0.25em; line-height: 1; border-radius: 0.35em;\">\n",
              "    Промсвязьбанка\r\n",
              "Виктор\n",
              "    <span style=\"font-size: 0.8em; font-weight: bold; line-height: 1; border-radius: 0.35em; vertical-align: middle; margin-left: 0.5rem\">PRODUCT</span>\n",
              "</mark>\n",
              " Шалиманов назначен \n",
              "<mark class=\"entity\" style=\"background: #7aecec; padding: 0.45em 0.6em; margin: 0 0.25em; line-height: 1; border-radius: 0.35em;\">\n",
              "    Директором\n",
              "    <span style=\"font-size: 0.8em; font-weight: bold; line-height: 1; border-radius: 0.35em; vertical-align: middle; margin-left: 0.5rem\">ORG</span>\n",
              "</mark>\n",
              " департамента анализа кредитных рисков \n",
              "<mark class=\"entity\" style=\"background: #aa9cfc; padding: 0.45em 0.6em; margin: 0 0.25em; line-height: 1; border-radius: 0.35em;\">\n",
              "    Промсвязьбанка\n",
              "    <span style=\"font-size: 0.8em; font-weight: bold; line-height: 1; border-radius: 0.35em; vertical-align: middle; margin-left: 0.5rem\">PERSON</span>\n",
              "</mark>\n",
              ". \n",
              "<mark class=\"entity\" style=\"background: #aa9cfc; padding: 0.45em 0.6em; margin: 0 0.25em; line-height: 1; border-radius: 0.35em;\">\n",
              "    В этой должности\n",
              "    <span style=\"font-size: 0.8em; font-weight: bold; line-height: 1; border-radius: 0.35em; vertical-align: middle; margin-left: 0.5rem\">PERSON</span>\n",
              "</mark>\n",
              " он будет отвечать за анализ рисков при установлении кредитных лимитов на \n",
              "<mark class=\"entity\" style=\"background: #aa9cfc; padding: 0.45em 0.6em; margin: 0 0.25em; line-height: 1; border-radius: 0.35em;\">\n",
              "    корпоративных клиентов\n",
              "    <span style=\"font-size: 0.8em; font-weight: bold; line-height: 1; border-radius: 0.35em; vertical-align: middle; margin-left: 0.5rem\">PERSON</span>\n",
              "</mark>\n",
              ".\r</br>\r</br>До прихода в \n",
              "<mark class=\"entity\" style=\"background: #aa9cfc; padding: 0.45em 0.6em; margin: 0 0.25em; line-height: 1; border-radius: 0.35em;\">\n",
              "    Промсвязьбанк Виктор\n",
              "    <span style=\"font-size: 0.8em; font-weight: bold; line-height: 1; border-radius: 0.35em; vertical-align: middle; margin-left: 0.5rem\">PERSON</span>\n",
              "</mark>\n",
              " Шалиманов с \n",
              "<mark class=\"entity\" style=\"background: #bfe1d9; padding: 0.45em 0.6em; margin: 0 0.25em; line-height: 1; border-radius: 0.35em;\">\n",
              "    1998\n",
              "    <span style=\"font-size: 0.8em; font-weight: bold; line-height: 1; border-radius: 0.35em; vertical-align: middle; margin-left: 0.5rem\">DATE</span>\n",
              "</mark>\n",
              " года работал в \n",
              "<mark class=\"entity\" style=\"background: #7aecec; padding: 0.45em 0.6em; margin: 0 0.25em; line-height: 1; border-radius: 0.35em;\">\n",
              "    МДМ-Банке\n",
              "    <span style=\"font-size: 0.8em; font-weight: bold; line-height: 1; border-radius: 0.35em; vertical-align: middle; margin-left: 0.5rem\">ORG</span>\n",
              "</mark>\n",
              ", \n",
              "<mark class=\"entity\" style=\"background: #aa9cfc; padding: 0.45em 0.6em; margin: 0 0.25em; line-height: 1; border-radius: 0.35em;\">\n",
              "    где\n",
              "    <span style=\"font-size: 0.8em; font-weight: bold; line-height: 1; border-radius: 0.35em; vertical-align: middle; margin-left: 0.5rem\">PERSON</span>\n",
              "</mark>\n",
              " прошел путь от эксперта отдела коммерческого кредитования до \n",
              "<mark class=\"entity\" style=\"background: #aa9cfc; padding: 0.45em 0.6em; margin: 0 0.25em; line-height: 1; border-radius: 0.35em;\">\n",
              "    начальника кредитного\n",
              "    <span style=\"font-size: 0.8em; font-weight: bold; line-height: 1; border-radius: 0.35em; vertical-align: middle; margin-left: 0.5rem\">PERSON</span>\n",
              "</mark>\n",
              " департамента. Внес существенный вклад в \n",
              "<mark class=\"entity\" style=\"background: #7aecec; padding: 0.45em 0.6em; margin: 0 0.25em; line-height: 1; border-radius: 0.35em;\">\n",
              "    построение системы\n",
              "    <span style=\"font-size: 0.8em; font-weight: bold; line-height: 1; border-radius: 0.35em; vertical-align: middle; margin-left: 0.5rem\">ORG</span>\n",
              "</mark>\n",
              " кредитования в филиалах \n",
              "<mark class=\"entity\" style=\"background: #aa9cfc; padding: 0.45em 0.6em; margin: 0 0.25em; line-height: 1; border-radius: 0.35em;\">\n",
              "    МДМ-Банка\n",
              "    <span style=\"font-size: 0.8em; font-weight: bold; line-height: 1; border-radius: 0.35em; vertical-align: middle; margin-left: 0.5rem\">PERSON</span>\n",
              "</mark>\n",
              ", в разработку \n",
              "<mark class=\"entity\" style=\"background: #aa9cfc; padding: 0.45em 0.6em; margin: 0 0.25em; line-height: 1; border-radius: 0.35em;\">\n",
              "    новых банковских продуктов\n",
              "    <span style=\"font-size: 0.8em; font-weight: bold; line-height: 1; border-radius: 0.35em; vertical-align: middle; margin-left: 0.5rem\">PERSON</span>\n",
              "</mark>\n",
              ", в формирование нормативной и регламентной документации \n",
              "<mark class=\"entity\" style=\"background: #7aecec; padding: 0.45em 0.6em; margin: 0 0.25em; line-height: 1; border-radius: 0.35em;\">\n",
              "    по\n",
              "    <span style=\"font-size: 0.8em; font-weight: bold; line-height: 1; border-radius: 0.35em; vertical-align: middle; margin-left: 0.5rem\">ORG</span>\n",
              "</mark>\n",
              " кредитованию. В период с \n",
              "<mark class=\"entity\" style=\"background: #bfe1d9; padding: 0.45em 0.6em; margin: 0 0.25em; line-height: 1; border-radius: 0.35em;\">\n",
              "    2000\n",
              "    <span style=\"font-size: 0.8em; font-weight: bold; line-height: 1; border-radius: 0.35em; vertical-align: middle; margin-left: 0.5rem\">DATE</span>\n",
              "</mark>\n",
              " года по \n",
              "<mark class=\"entity\" style=\"background: #bfe1d9; padding: 0.45em 0.6em; margin: 0 0.25em; line-height: 1; border-radius: 0.35em;\">\n",
              "    2002\n",
              "    <span style=\"font-size: 0.8em; font-weight: bold; line-height: 1; border-radius: 0.35em; vertical-align: middle; margin-left: 0.5rem\">DATE</span>\n",
              "</mark>\n",
              " год \n",
              "<mark class=\"entity\" style=\"background: #e4e7d2; padding: 0.45em 0.6em; margin: 0 0.25em; line-height: 1; border-radius: 0.35em;\">\n",
              "    Виктор\n",
              "    <span style=\"font-size: 0.8em; font-weight: bold; line-height: 1; border-radius: 0.35em; vertical-align: middle; margin-left: 0.5rem\">CARDINAL</span>\n",
              "</mark>\n",
              " Шалиманов руководил кредитным управлением в \n",
              "<mark class=\"entity\" style=\"background: #7aecec; padding: 0.45em 0.6em; margin: 0 0.25em; line-height: 1; border-radius: 0.35em;\">\n",
              "    ЗАО\n",
              "    <span style=\"font-size: 0.8em; font-weight: bold; line-height: 1; border-radius: 0.35em; vertical-align: middle; margin-left: 0.5rem\">ORG</span>\n",
              "</mark>\n",
              " &lt;Конверсбанк&gt;. </div></span>"
            ]
          },
          "metadata": {}
        }
      ]
    },
    {
      "cell_type": "markdown",
      "source": [
        "### Deeppavlov"
      ],
      "metadata": {
        "id": "D8H6sMkdeXGq"
      }
    },
    {
      "cell_type": "code",
      "source": [
        "import locale\n",
        "locale.getpreferredencoding = lambda: \"UTF-8\""
      ],
      "metadata": {
        "id": "lCZd1GVdfJgt"
      },
      "execution_count": null,
      "outputs": []
    },
    {
      "cell_type": "code",
      "source": [
        "!pip install deeppavlov"
      ],
      "metadata": {
        "colab": {
          "base_uri": "https://localhost:8080/"
        },
        "id": "I1g-7GuOdGpZ",
        "outputId": "05cbcc7c-4ebe-4c37-d4e9-97af4319ed77"
      },
      "execution_count": null,
      "outputs": [
        {
          "output_type": "stream",
          "name": "stdout",
          "text": [
            "Looking in indexes: https://pypi.org/simple, https://us-python.pkg.dev/colab-wheels/public/simple/\n",
            "Requirement already satisfied: deeppavlov in /usr/local/lib/python3.9/dist-packages (1.1.1)\n",
            "Requirement already satisfied: numpy<1.24 in /usr/local/lib/python3.9/dist-packages (from deeppavlov) (1.22.4)\n",
            "Requirement already satisfied: fastapi<0.78.0,>=0.47.0 in /usr/local/lib/python3.9/dist-packages (from deeppavlov) (0.77.1)\n",
            "Requirement already satisfied: tqdm<4.65.0,>=4.42.0 in /usr/local/lib/python3.9/dist-packages (from deeppavlov) (4.64.1)\n",
            "Requirement already satisfied: pydantic in /usr/local/lib/python3.9/dist-packages (from deeppavlov) (1.10.7)\n",
            "Requirement already satisfied: filelock<3.10.0,>=3.0.0 in /usr/local/lib/python3.9/dist-packages (from deeppavlov) (3.9.1)\n",
            "Requirement already satisfied: prometheus-client<0.15.0,>=0.13.0 in /usr/local/lib/python3.9/dist-packages (from deeppavlov) (0.14.1)\n",
            "Requirement already satisfied: pybind11==2.2.4 in /usr/local/lib/python3.9/dist-packages (from deeppavlov) (2.2.4)\n",
            "Requirement already satisfied: requests<3.0.0,>=2.19.0 in /usr/local/lib/python3.9/dist-packages (from deeppavlov) (2.27.1)\n",
            "Requirement already satisfied: aio-pika<6.9.0,>=3.2.2 in /usr/local/lib/python3.9/dist-packages (from deeppavlov) (6.8.2)\n",
            "Requirement already satisfied: nltk<3.10.0,>=3.2.5 in /usr/local/lib/python3.9/dist-packages (from deeppavlov) (3.8.1)\n",
            "Requirement already satisfied: pandas<1.6.0,>=1.0.0 in /usr/local/lib/python3.9/dist-packages (from deeppavlov) (1.5.3)\n",
            "Requirement already satisfied: scipy<1.10.0 in /usr/local/lib/python3.9/dist-packages (from deeppavlov) (1.9.3)\n",
            "Requirement already satisfied: overrides==4.1.2 in /usr/local/lib/python3.9/dist-packages (from deeppavlov) (4.1.2)\n",
            "Requirement already satisfied: scikit-learn<1.1.0,>=0.24 in /usr/local/lib/python3.9/dist-packages (from deeppavlov) (1.0.2)\n",
            "Requirement already satisfied: uvicorn<0.19.0,>=0.13.0 in /usr/local/lib/python3.9/dist-packages (from deeppavlov) (0.18.3)\n",
            "Requirement already satisfied: typing-utils>=0.0.3 in /usr/local/lib/python3.9/dist-packages (from overrides==4.1.2->deeppavlov) (0.1.0)\n",
            "Requirement already satisfied: aiormq<4,>=3.2.3 in /usr/local/lib/python3.9/dist-packages (from aio-pika<6.9.0,>=3.2.2->deeppavlov) (3.3.1)\n",
            "Requirement already satisfied: yarl in /usr/local/lib/python3.9/dist-packages (from aio-pika<6.9.0,>=3.2.2->deeppavlov) (1.8.2)\n",
            "Requirement already satisfied: starlette==0.19.1 in /usr/local/lib/python3.9/dist-packages (from fastapi<0.78.0,>=0.47.0->deeppavlov) (0.19.1)\n",
            "Requirement already satisfied: anyio<5,>=3.4.0 in /usr/local/lib/python3.9/dist-packages (from starlette==0.19.1->fastapi<0.78.0,>=0.47.0->deeppavlov) (3.6.2)\n",
            "Requirement already satisfied: typing-extensions>=3.10.0 in /usr/local/lib/python3.9/dist-packages (from starlette==0.19.1->fastapi<0.78.0,>=0.47.0->deeppavlov) (4.5.0)\n",
            "Requirement already satisfied: joblib in /usr/local/lib/python3.9/dist-packages (from nltk<3.10.0,>=3.2.5->deeppavlov) (1.2.0)\n",
            "Requirement already satisfied: regex>=2021.8.3 in /usr/local/lib/python3.9/dist-packages (from nltk<3.10.0,>=3.2.5->deeppavlov) (2022.10.31)\n",
            "Requirement already satisfied: click in /usr/local/lib/python3.9/dist-packages (from nltk<3.10.0,>=3.2.5->deeppavlov) (8.1.3)\n",
            "Requirement already satisfied: python-dateutil>=2.8.1 in /usr/local/lib/python3.9/dist-packages (from pandas<1.6.0,>=1.0.0->deeppavlov) (2.8.2)\n",
            "Requirement already satisfied: pytz>=2020.1 in /usr/local/lib/python3.9/dist-packages (from pandas<1.6.0,>=1.0.0->deeppavlov) (2022.7.1)\n",
            "Requirement already satisfied: charset-normalizer~=2.0.0 in /usr/local/lib/python3.9/dist-packages (from requests<3.0.0,>=2.19.0->deeppavlov) (2.0.12)\n",
            "Requirement already satisfied: urllib3<1.27,>=1.21.1 in /usr/local/lib/python3.9/dist-packages (from requests<3.0.0,>=2.19.0->deeppavlov) (1.26.15)\n",
            "Requirement already satisfied: certifi>=2017.4.17 in /usr/local/lib/python3.9/dist-packages (from requests<3.0.0,>=2.19.0->deeppavlov) (2022.12.7)\n",
            "Requirement already satisfied: idna<4,>=2.5 in /usr/local/lib/python3.9/dist-packages (from requests<3.0.0,>=2.19.0->deeppavlov) (3.4)\n",
            "Requirement already satisfied: threadpoolctl>=2.0.0 in /usr/local/lib/python3.9/dist-packages (from scikit-learn<1.1.0,>=0.24->deeppavlov) (3.1.0)\n",
            "Requirement already satisfied: h11>=0.8 in /usr/local/lib/python3.9/dist-packages (from uvicorn<0.19.0,>=0.13.0->deeppavlov) (0.14.0)\n",
            "Requirement already satisfied: pamqp==2.3.0 in /usr/local/lib/python3.9/dist-packages (from aiormq<4,>=3.2.3->aio-pika<6.9.0,>=3.2.2->deeppavlov) (2.3.0)\n",
            "Requirement already satisfied: six>=1.5 in /usr/local/lib/python3.9/dist-packages (from python-dateutil>=2.8.1->pandas<1.6.0,>=1.0.0->deeppavlov) (1.16.0)\n",
            "Requirement already satisfied: multidict>=4.0 in /usr/local/lib/python3.9/dist-packages (from yarl->aio-pika<6.9.0,>=3.2.2->deeppavlov) (6.0.4)\n",
            "Requirement already satisfied: sniffio>=1.1 in /usr/local/lib/python3.9/dist-packages (from anyio<5,>=3.4.0->starlette==0.19.1->fastapi<0.78.0,>=0.47.0->deeppavlov) (1.3.0)\n"
          ]
        }
      ]
    },
    {
      "cell_type": "code",
      "source": [
        "import deeppavlov\n",
        "from deeppavlov import configs, build_model"
      ],
      "metadata": {
        "id": "eTN58V0wdGmZ"
      },
      "execution_count": null,
      "outputs": []
    },
    {
      "cell_type": "code",
      "source": [
        "!pip install transformers"
      ],
      "metadata": {
        "colab": {
          "base_uri": "https://localhost:8080/"
        },
        "id": "AF4KeYORdGjZ",
        "outputId": "7168a6c5-efc8-43a7-bd2c-fe2c21e9f37e"
      },
      "execution_count": null,
      "outputs": [
        {
          "output_type": "stream",
          "name": "stdout",
          "text": [
            "Looking in indexes: https://pypi.org/simple, https://us-python.pkg.dev/colab-wheels/public/simple/\n",
            "Requirement already satisfied: transformers in /usr/local/lib/python3.9/dist-packages (4.24.0)\n",
            "Requirement already satisfied: filelock in /usr/local/lib/python3.9/dist-packages (from transformers) (3.9.1)\n",
            "Requirement already satisfied: huggingface-hub<1.0,>=0.10.0 in /usr/local/lib/python3.9/dist-packages (from transformers) (0.13.4)\n",
            "Requirement already satisfied: tqdm>=4.27 in /usr/local/lib/python3.9/dist-packages (from transformers) (4.64.1)\n",
            "Requirement already satisfied: numpy>=1.17 in /usr/local/lib/python3.9/dist-packages (from transformers) (1.22.4)\n",
            "Requirement already satisfied: requests in /usr/local/lib/python3.9/dist-packages (from transformers) (2.27.1)\n",
            "Requirement already satisfied: pyyaml>=5.1 in /usr/local/lib/python3.9/dist-packages (from transformers) (6.0)\n",
            "Requirement already satisfied: packaging>=20.0 in /usr/local/lib/python3.9/dist-packages (from transformers) (23.0)\n",
            "Requirement already satisfied: tokenizers!=0.11.3,<0.14,>=0.11.1 in /usr/local/lib/python3.9/dist-packages (from transformers) (0.13.3)\n",
            "Requirement already satisfied: regex!=2019.12.17 in /usr/local/lib/python3.9/dist-packages (from transformers) (2022.10.31)\n",
            "Requirement already satisfied: typing-extensions>=3.7.4.3 in /usr/local/lib/python3.9/dist-packages (from huggingface-hub<1.0,>=0.10.0->transformers) (4.5.0)\n",
            "Requirement already satisfied: certifi>=2017.4.17 in /usr/local/lib/python3.9/dist-packages (from requests->transformers) (2022.12.7)\n",
            "Requirement already satisfied: idna<4,>=2.5 in /usr/local/lib/python3.9/dist-packages (from requests->transformers) (3.4)\n",
            "Requirement already satisfied: urllib3<1.27,>=1.21.1 in /usr/local/lib/python3.9/dist-packages (from requests->transformers) (1.26.15)\n",
            "Requirement already satisfied: charset-normalizer~=2.0.0 in /usr/local/lib/python3.9/dist-packages (from requests->transformers) (2.0.12)\n"
          ]
        }
      ]
    },
    {
      "cell_type": "code",
      "source": [
        "!python -m deeppavlov install ner_ontonotes_bert_torch"
      ],
      "metadata": {
        "colab": {
          "base_uri": "https://localhost:8080/"
        },
        "id": "LULMNCMXg3Vp",
        "outputId": "e8a24e6a-7f8c-4de8-ebcc-6b48c8dcdf78"
      },
      "execution_count": null,
      "outputs": [
        {
          "output_type": "stream",
          "name": "stdout",
          "text": [
            "2023-04-18 23:06:57.899 WARNING in 'deeppavlov.core.common.file'['file'] at line 39: \u001b[31;20m\n",
            "\n",
            "################################################################################\n",
            "# The model 'ner_ontonotes_bert_torch' has been removed from the DeepPavlov configs.\n",
            "# The model 'ner_ontonotes_bert' is used instead.\n",
            "# To disable this message please switch to 'ner_ontonotes_bert'.\n",
            "# Automatic name resolving will be disabled in the deeppavlov 1.2.0,\n",
            "# and if you try to use 'ner_ontonotes_bert_torch' you will get an ERROR.\n",
            "################################################################################\u001b[0m\n",
            "\n",
            "Looking in indexes: https://pypi.org/simple, https://us-python.pkg.dev/colab-wheels/public/simple/\n",
            "Requirement already satisfied: torch<1.14.0,>=1.6.0 in /usr/local/lib/python3.9/dist-packages (1.13.1)\n",
            "Requirement already satisfied: nvidia-cudnn-cu11==8.5.0.96 in /usr/local/lib/python3.9/dist-packages (from torch<1.14.0,>=1.6.0) (8.5.0.96)\n",
            "Requirement already satisfied: nvidia-cublas-cu11==11.10.3.66 in /usr/local/lib/python3.9/dist-packages (from torch<1.14.0,>=1.6.0) (11.10.3.66)\n",
            "Requirement already satisfied: typing-extensions in /usr/local/lib/python3.9/dist-packages (from torch<1.14.0,>=1.6.0) (4.5.0)\n",
            "Requirement already satisfied: nvidia-cuda-runtime-cu11==11.7.99 in /usr/local/lib/python3.9/dist-packages (from torch<1.14.0,>=1.6.0) (11.7.99)\n",
            "Requirement already satisfied: nvidia-cuda-nvrtc-cu11==11.7.99 in /usr/local/lib/python3.9/dist-packages (from torch<1.14.0,>=1.6.0) (11.7.99)\n",
            "Requirement already satisfied: wheel in /usr/local/lib/python3.9/dist-packages (from nvidia-cublas-cu11==11.10.3.66->torch<1.14.0,>=1.6.0) (0.40.0)\n",
            "Requirement already satisfied: setuptools in /usr/local/lib/python3.9/dist-packages (from nvidia-cublas-cu11==11.10.3.66->torch<1.14.0,>=1.6.0) (67.6.1)\n",
            "Looking in indexes: https://pypi.org/simple, https://us-python.pkg.dev/colab-wheels/public/simple/\n",
            "Requirement already satisfied: transformers<4.25.0,>=4.13.0 in /usr/local/lib/python3.9/dist-packages (4.24.0)\n",
            "Requirement already satisfied: tokenizers!=0.11.3,<0.14,>=0.11.1 in /usr/local/lib/python3.9/dist-packages (from transformers<4.25.0,>=4.13.0) (0.13.3)\n",
            "Requirement already satisfied: regex!=2019.12.17 in /usr/local/lib/python3.9/dist-packages (from transformers<4.25.0,>=4.13.0) (2022.10.31)\n",
            "Requirement already satisfied: packaging>=20.0 in /usr/local/lib/python3.9/dist-packages (from transformers<4.25.0,>=4.13.0) (23.0)\n",
            "Requirement already satisfied: huggingface-hub<1.0,>=0.10.0 in /usr/local/lib/python3.9/dist-packages (from transformers<4.25.0,>=4.13.0) (0.13.4)\n",
            "Requirement already satisfied: requests in /usr/local/lib/python3.9/dist-packages (from transformers<4.25.0,>=4.13.0) (2.27.1)\n",
            "Requirement already satisfied: tqdm>=4.27 in /usr/local/lib/python3.9/dist-packages (from transformers<4.25.0,>=4.13.0) (4.64.1)\n",
            "Requirement already satisfied: filelock in /usr/local/lib/python3.9/dist-packages (from transformers<4.25.0,>=4.13.0) (3.9.1)\n",
            "Requirement already satisfied: pyyaml>=5.1 in /usr/local/lib/python3.9/dist-packages (from transformers<4.25.0,>=4.13.0) (6.0)\n",
            "Requirement already satisfied: numpy>=1.17 in /usr/local/lib/python3.9/dist-packages (from transformers<4.25.0,>=4.13.0) (1.22.4)\n",
            "Requirement already satisfied: typing-extensions>=3.7.4.3 in /usr/local/lib/python3.9/dist-packages (from huggingface-hub<1.0,>=0.10.0->transformers<4.25.0,>=4.13.0) (4.5.0)\n",
            "Requirement already satisfied: certifi>=2017.4.17 in /usr/local/lib/python3.9/dist-packages (from requests->transformers<4.25.0,>=4.13.0) (2022.12.7)\n",
            "Requirement already satisfied: charset-normalizer~=2.0.0 in /usr/local/lib/python3.9/dist-packages (from requests->transformers<4.25.0,>=4.13.0) (2.0.12)\n",
            "Requirement already satisfied: urllib3<1.27,>=1.21.1 in /usr/local/lib/python3.9/dist-packages (from requests->transformers<4.25.0,>=4.13.0) (1.26.15)\n",
            "Requirement already satisfied: idna<4,>=2.5 in /usr/local/lib/python3.9/dist-packages (from requests->transformers<4.25.0,>=4.13.0) (3.4)\n",
            "Looking in indexes: https://pypi.org/simple, https://us-python.pkg.dev/colab-wheels/public/simple/\n",
            "Requirement already satisfied: pytorch-crf==0.7.* in /usr/local/lib/python3.9/dist-packages (0.7.2)\n"
          ]
        }
      ]
    },
    {
      "cell_type": "code",
      "source": [
        "deeppavlov_ner = build_model('ner_ontonotes_bert_torch', download=True)"
      ],
      "metadata": {
        "colab": {
          "base_uri": "https://localhost:8080/",
          "height": 565,
          "referenced_widgets": [
            "69dc98f420fb4031a867c24328735da4",
            "f17299ec2b9c4363a347ff08e5bdb272",
            "f1c17ac3785e4e45993f05309e126382",
            "27f1e88a3d524eee91b2cedd2f187057",
            "27a6e02c5b124dc3b7aff4b999e84c13",
            "2b6d51c571964a87bdb15ecca129bb29",
            "f47e3412d80444d9a7952fce71f69c42",
            "f0daef0a608440d6a33ed84bb65ce973",
            "ffc158c3efc446d7a442c38db324e340",
            "0767944adcda4c8ca4e020589459dcaf",
            "c4f2c912409a4d139321ba58275628af"
          ]
        },
        "id": "eMyTPd5uhDb9",
        "outputId": "e61f1cde-b050-4483-9261-c4468f6cf2d7"
      },
      "execution_count": null,
      "outputs": [
        {
          "output_type": "stream",
          "name": "stderr",
          "text": [
            "2023-04-18 23:07:58.426 WARNING in 'deeppavlov.core.common.file'['file'] at line 39: \u001b[31;20m\n",
            "\n",
            "################################################################################\n",
            "# The model 'ner_ontonotes_bert_torch' has been removed from the DeepPavlov configs.\n",
            "# The model 'ner_ontonotes_bert' is used instead.\n",
            "# To disable this message please switch to 'ner_ontonotes_bert'.\n",
            "# Automatic name resolving will be disabled in the deeppavlov 1.2.0,\n",
            "# and if you try to use 'ner_ontonotes_bert_torch' you will get an ERROR.\n",
            "################################################################################\u001b[0m\n",
            "\n",
            "WARNING:deeppavlov.core.common.file:\u001b[31;20m\n",
            "\n",
            "################################################################################\n",
            "# The model 'ner_ontonotes_bert_torch' has been removed from the DeepPavlov configs.\n",
            "# The model 'ner_ontonotes_bert' is used instead.\n",
            "# To disable this message please switch to 'ner_ontonotes_bert'.\n",
            "# Automatic name resolving will be disabled in the deeppavlov 1.2.0,\n",
            "# and if you try to use 'ner_ontonotes_bert_torch' you will get an ERROR.\n",
            "################################################################################\u001b[0m\n",
            "\n",
            "2023-04-18 23:08:06.971 INFO in 'deeppavlov.download'['download'] at line 138: Skipped http://files.deeppavlov.ai/v1/ner/ner_ontonotes_bert_torch_crf.tar.gz download because of matching hashes\n",
            "INFO:deeppavlov.download:Skipped http://files.deeppavlov.ai/v1/ner/ner_ontonotes_bert_torch_crf.tar.gz download because of matching hashes\n"
          ]
        },
        {
          "output_type": "display_data",
          "data": {
            "text/plain": [
              "Downloading pytorch_model.bin:   0%|          | 0.00/436M [00:00<?, ?B/s]"
            ],
            "application/vnd.jupyter.widget-view+json": {
              "version_major": 2,
              "version_minor": 0,
              "model_id": "69dc98f420fb4031a867c24328735da4"
            }
          },
          "metadata": {}
        },
        {
          "output_type": "stream",
          "name": "stderr",
          "text": [
            "Some weights of the model checkpoint at bert-base-cased were not used when initializing BertForTokenClassification: ['cls.predictions.bias', 'cls.predictions.transform.LayerNorm.weight', 'cls.predictions.decoder.weight', 'cls.predictions.transform.dense.bias', 'cls.seq_relationship.weight', 'cls.predictions.transform.dense.weight', 'cls.predictions.transform.LayerNorm.bias', 'cls.seq_relationship.bias']\n",
            "- This IS expected if you are initializing BertForTokenClassification from the checkpoint of a model trained on another task or with another architecture (e.g. initializing a BertForSequenceClassification model from a BertForPreTraining model).\n",
            "- This IS NOT expected if you are initializing BertForTokenClassification from the checkpoint of a model that you expect to be exactly identical (initializing a BertForSequenceClassification model from a BertForSequenceClassification model).\n",
            "Some weights of BertForTokenClassification were not initialized from the model checkpoint at bert-base-cased and are newly initialized: ['classifier.weight', 'classifier.bias']\n",
            "You should probably TRAIN this model on a down-stream task to be able to use it for predictions and inference.\n"
          ]
        }
      ]
    },
    {
      "cell_type": "markdown",
      "source": [
        "Как видно, модель ждёт длину не более 512 символов, поэтому предварительно нужно разделить на предложения."
      ],
      "metadata": {
        "id": "lqDthoNLefV2"
      }
    },
    {
      "cell_type": "code",
      "source": [
        "from nltk.tokenize import sent_tokenize"
      ],
      "metadata": {
        "id": "39O-ZgN6eaom"
      },
      "execution_count": null,
      "outputs": []
    },
    {
      "cell_type": "code",
      "source": [
        "result_deeppavlov = []\n",
        "for text in tqdm(text_data):\n",
        "  res = []\n",
        "  for sent in sent_tokenize(text):\n",
        "    if len(sent)<=512:\n",
        "      res.extend(deeppavlov_ner([sent])[1][0])\n",
        "    else:\n",
        "      for i in range(1, (-1*len(sent)//512*-1)+1):\n",
        "        res.extend(deeppavlov_ner([sent[(i-1)*512:i*512]])[1][0])\n",
        "  result_deeppavlov.append(res)"
      ],
      "metadata": {
        "colab": {
          "base_uri": "https://localhost:8080/"
        },
        "id": "e2HS3ybIeal_",
        "outputId": "b28166db-eb99-49b6-af9e-7d1b97676bb0"
      },
      "execution_count": null,
      "outputs": [
        {
          "output_type": "stream",
          "name": "stderr",
          "text": [
            "100%|██████████| 999/999 [04:26<00:00,  3.75it/s]\n"
          ]
        }
      ]
    },
    {
      "cell_type": "code",
      "source": [
        "result_deeppavlov[:2]"
      ],
      "metadata": {
        "colab": {
          "base_uri": "https://localhost:8080/"
        },
        "id": "ybZrp91Ceajh",
        "outputId": "2dfb203d-fd28-483b-ea44-c0abe49fe1e7"
      },
      "execution_count": null,
      "outputs": [
        {
          "output_type": "execute_result",
          "data": {
            "text/plain": [
              "[['O',\n",
              "  'O',\n",
              "  'O',\n",
              "  'O',\n",
              "  'O',\n",
              "  'O',\n",
              "  'O',\n",
              "  'O',\n",
              "  'O',\n",
              "  'O',\n",
              "  'O',\n",
              "  'O',\n",
              "  'O',\n",
              "  'O',\n",
              "  'O',\n",
              "  'O',\n",
              "  'O',\n",
              "  'O',\n",
              "  'O',\n",
              "  'O',\n",
              "  'O',\n",
              "  'O',\n",
              "  'O',\n",
              "  'O',\n",
              "  'O',\n",
              "  'O',\n",
              "  'O',\n",
              "  'O',\n",
              "  'O',\n",
              "  'O',\n",
              "  'O',\n",
              "  'O',\n",
              "  'O',\n",
              "  'O',\n",
              "  'O',\n",
              "  'O',\n",
              "  'O',\n",
              "  'O',\n",
              "  'O',\n",
              "  'O',\n",
              "  'O',\n",
              "  'O',\n",
              "  'O',\n",
              "  'O',\n",
              "  'O',\n",
              "  'O',\n",
              "  'O',\n",
              "  'O',\n",
              "  'O',\n",
              "  'O',\n",
              "  'O',\n",
              "  'O',\n",
              "  'O',\n",
              "  'O',\n",
              "  'O',\n",
              "  'B-DATE',\n",
              "  'O',\n",
              "  'O',\n",
              "  'O',\n",
              "  'O',\n",
              "  'O',\n",
              "  'O',\n",
              "  'O',\n",
              "  'O',\n",
              "  'B-ORG',\n",
              "  'I-ORG',\n",
              "  'I-ORG',\n",
              "  'O',\n",
              "  'O',\n",
              "  'O',\n",
              "  'O',\n",
              "  'O',\n",
              "  'O',\n",
              "  'O',\n",
              "  'O',\n",
              "  'O',\n",
              "  'O',\n",
              "  'O',\n",
              "  'O',\n",
              "  'O',\n",
              "  'O',\n",
              "  'O',\n",
              "  'O',\n",
              "  'O',\n",
              "  'O',\n",
              "  'O',\n",
              "  'O',\n",
              "  'O',\n",
              "  'O',\n",
              "  'O',\n",
              "  'O',\n",
              "  'O',\n",
              "  'O',\n",
              "  'O',\n",
              "  'O',\n",
              "  'O',\n",
              "  'O',\n",
              "  'O',\n",
              "  'O',\n",
              "  'O',\n",
              "  'O',\n",
              "  'O',\n",
              "  'O',\n",
              "  'O',\n",
              "  'O',\n",
              "  'O',\n",
              "  'O',\n",
              "  'O',\n",
              "  'O',\n",
              "  'O',\n",
              "  'O',\n",
              "  'O',\n",
              "  'O',\n",
              "  'O',\n",
              "  'O',\n",
              "  'O',\n",
              "  'O',\n",
              "  'O',\n",
              "  'O',\n",
              "  'O',\n",
              "  'O',\n",
              "  'O',\n",
              "  'O',\n",
              "  'O',\n",
              "  'B-DATE',\n",
              "  'O',\n",
              "  'O',\n",
              "  'O',\n",
              "  'O',\n",
              "  'O',\n",
              "  'O',\n",
              "  'O',\n",
              "  'O',\n",
              "  'O',\n",
              "  'O',\n",
              "  'O',\n",
              "  'O',\n",
              "  'O',\n",
              "  'O',\n",
              "  'O',\n",
              "  'O',\n",
              "  'O',\n",
              "  'O',\n",
              "  'O',\n",
              "  'O',\n",
              "  'O',\n",
              "  'O',\n",
              "  'O',\n",
              "  'O',\n",
              "  'O',\n",
              "  'O',\n",
              "  'O',\n",
              "  'O',\n",
              "  'O',\n",
              "  'O',\n",
              "  'O',\n",
              "  'O',\n",
              "  'O',\n",
              "  'O',\n",
              "  'O',\n",
              "  'O',\n",
              "  'O',\n",
              "  'O',\n",
              "  'O',\n",
              "  'O',\n",
              "  'B-CARDINAL',\n",
              "  'O',\n",
              "  'O',\n",
              "  'O',\n",
              "  'O',\n",
              "  'O',\n",
              "  'O',\n",
              "  'B-CARDINAL',\n",
              "  'O',\n",
              "  'O',\n",
              "  'O',\n",
              "  'O',\n",
              "  'O',\n",
              "  'O',\n",
              "  'O',\n",
              "  'O',\n",
              "  'B-CARDINAL',\n",
              "  'O',\n",
              "  'O',\n",
              "  'O',\n",
              "  'O',\n",
              "  'O',\n",
              "  'O',\n",
              "  'O',\n",
              "  'O',\n",
              "  'O',\n",
              "  'O',\n",
              "  'O',\n",
              "  'O',\n",
              "  'O',\n",
              "  'O',\n",
              "  'O',\n",
              "  'O',\n",
              "  'O',\n",
              "  'O',\n",
              "  'O',\n",
              "  'O',\n",
              "  'O',\n",
              "  'O',\n",
              "  'O',\n",
              "  'O',\n",
              "  'O',\n",
              "  'O',\n",
              "  'O',\n",
              "  'O',\n",
              "  'O',\n",
              "  'O',\n",
              "  'O',\n",
              "  'O',\n",
              "  'O',\n",
              "  'O',\n",
              "  'O',\n",
              "  'O',\n",
              "  'O',\n",
              "  'O',\n",
              "  'O',\n",
              "  'O',\n",
              "  'O',\n",
              "  'O',\n",
              "  'O',\n",
              "  'O',\n",
              "  'O',\n",
              "  'O',\n",
              "  'O',\n",
              "  'O',\n",
              "  'O',\n",
              "  'O',\n",
              "  'O',\n",
              "  'O',\n",
              "  'O',\n",
              "  'O',\n",
              "  'O',\n",
              "  'O',\n",
              "  'O',\n",
              "  'O',\n",
              "  'O',\n",
              "  'O',\n",
              "  'O',\n",
              "  'O',\n",
              "  'O',\n",
              "  'O',\n",
              "  'O',\n",
              "  'O',\n",
              "  'O',\n",
              "  'O',\n",
              "  'O',\n",
              "  'O',\n",
              "  'O',\n",
              "  'O',\n",
              "  'O',\n",
              "  'O',\n",
              "  'O',\n",
              "  'O',\n",
              "  'O',\n",
              "  'O',\n",
              "  'O',\n",
              "  'O',\n",
              "  'O',\n",
              "  'O',\n",
              "  'O',\n",
              "  'O',\n",
              "  'O',\n",
              "  'O',\n",
              "  'O',\n",
              "  'O',\n",
              "  'O',\n",
              "  'O',\n",
              "  'O',\n",
              "  'O',\n",
              "  'O',\n",
              "  'O',\n",
              "  'O',\n",
              "  'O',\n",
              "  'O',\n",
              "  'O',\n",
              "  'O',\n",
              "  'O',\n",
              "  'O',\n",
              "  'O',\n",
              "  'O',\n",
              "  'O',\n",
              "  'O',\n",
              "  'O',\n",
              "  'O',\n",
              "  'O',\n",
              "  'O',\n",
              "  'O',\n",
              "  'O',\n",
              "  'O',\n",
              "  'O',\n",
              "  'O',\n",
              "  'O',\n",
              "  'O',\n",
              "  'O',\n",
              "  'O',\n",
              "  'O',\n",
              "  'O',\n",
              "  'O',\n",
              "  'O',\n",
              "  'O',\n",
              "  'O',\n",
              "  'O',\n",
              "  'O',\n",
              "  'O',\n",
              "  'O',\n",
              "  'O',\n",
              "  'O',\n",
              "  'O',\n",
              "  'O',\n",
              "  'O',\n",
              "  'O',\n",
              "  'O',\n",
              "  'O',\n",
              "  'O',\n",
              "  'O',\n",
              "  'O',\n",
              "  'O',\n",
              "  'O',\n",
              "  'B-ORG',\n",
              "  'I-ORG',\n",
              "  'O',\n",
              "  'O',\n",
              "  'O',\n",
              "  'O',\n",
              "  'O',\n",
              "  'O',\n",
              "  'O',\n",
              "  'O',\n",
              "  'O',\n",
              "  'O',\n",
              "  'O',\n",
              "  'O',\n",
              "  'O',\n",
              "  'O',\n",
              "  'O',\n",
              "  'O',\n",
              "  'O',\n",
              "  'O',\n",
              "  'O',\n",
              "  'O',\n",
              "  'O',\n",
              "  'O',\n",
              "  'O',\n",
              "  'O',\n",
              "  'O'],\n",
              " ['B-PERSON',\n",
              "  'I-PERSON',\n",
              "  'O',\n",
              "  'O',\n",
              "  'O',\n",
              "  'O',\n",
              "  'O',\n",
              "  'O',\n",
              "  'O',\n",
              "  'O',\n",
              "  'O',\n",
              "  'O',\n",
              "  'O',\n",
              "  'O',\n",
              "  'O',\n",
              "  'O',\n",
              "  'O',\n",
              "  'O',\n",
              "  'O',\n",
              "  'O',\n",
              "  'O',\n",
              "  'O',\n",
              "  'O',\n",
              "  'O',\n",
              "  'O',\n",
              "  'O',\n",
              "  'O',\n",
              "  'O',\n",
              "  'O',\n",
              "  'O',\n",
              "  'O',\n",
              "  'O',\n",
              "  'O',\n",
              "  'O',\n",
              "  'O',\n",
              "  'O',\n",
              "  'O',\n",
              "  'O',\n",
              "  'O',\n",
              "  'O',\n",
              "  'O',\n",
              "  'O',\n",
              "  'O',\n",
              "  'O',\n",
              "  'B-DATE',\n",
              "  'O',\n",
              "  'O',\n",
              "  'O',\n",
              "  'O',\n",
              "  'O',\n",
              "  'O',\n",
              "  'O',\n",
              "  'O',\n",
              "  'O',\n",
              "  'O',\n",
              "  'O',\n",
              "  'O',\n",
              "  'O',\n",
              "  'O',\n",
              "  'O',\n",
              "  'O',\n",
              "  'O',\n",
              "  'O',\n",
              "  'O',\n",
              "  'O',\n",
              "  'O',\n",
              "  'O',\n",
              "  'O',\n",
              "  'O',\n",
              "  'O',\n",
              "  'O',\n",
              "  'O',\n",
              "  'O',\n",
              "  'O',\n",
              "  'O',\n",
              "  'O',\n",
              "  'O',\n",
              "  'O',\n",
              "  'O',\n",
              "  'O',\n",
              "  'O',\n",
              "  'O',\n",
              "  'O',\n",
              "  'O',\n",
              "  'O',\n",
              "  'O',\n",
              "  'O',\n",
              "  'O',\n",
              "  'O',\n",
              "  'O',\n",
              "  'O',\n",
              "  'O',\n",
              "  'O',\n",
              "  'O',\n",
              "  'O',\n",
              "  'O',\n",
              "  'B-CARDINAL',\n",
              "  'O',\n",
              "  'O',\n",
              "  'O',\n",
              "  'O',\n",
              "  'O',\n",
              "  'O',\n",
              "  'O',\n",
              "  'O',\n",
              "  'O',\n",
              "  'O',\n",
              "  'O',\n",
              "  'O',\n",
              "  'O',\n",
              "  'O',\n",
              "  'O']]"
            ]
          },
          "metadata": {},
          "execution_count": 73
        }
      ]
    },
    {
      "cell_type": "markdown",
      "source": [
        "### Свой NER"
      ],
      "metadata": {
        "id": "SBUndv96pXXt"
      }
    },
    {
      "cell_type": "code",
      "source": [
        "import tensorflow as tf\n",
        "\n",
        "from tensorflow.keras import Sequential\n",
        "from tensorflow.keras.layers import Dense, Embedding, GlobalAveragePooling1D, GlobalMaxPooling1D, Conv1D, GRU, LSTM, Dropout, Input\n",
        "from tensorflow.keras.layers.experimental.preprocessing import TextVectorization"
      ],
      "metadata": {
        "id": "wWIOjcyZeag3"
      },
      "execution_count": null,
      "outputs": []
    },
    {
      "cell_type": "markdown",
      "source": [
        "#### a. Передаём в сетку токен и его соседей."
      ],
      "metadata": {
        "id": "AGxDbGfUpfIs"
      }
    },
    {
      "cell_type": "code",
      "source": [
        "a_x = []\n",
        "a_y = []\n",
        "for i in range(len(words_docs)):\n",
        "  a_y.append(words_docs[i][1])\n",
        "  if i==0:\n",
        "    a_x.append(['', words_docs[i][0], words_docs[i+1][0]])\n",
        "  elif i==(len(words_docs)-1):\n",
        "    a_x.append([words_docs[i-1][0], words_docs[i][0], ''])\n",
        "  else:\n",
        "    a_x.append([words_docs[i-1][0], words_docs[i][0], words_docs[i+1][0]])"
      ],
      "metadata": {
        "id": "fji9R3u1ead2"
      },
      "execution_count": null,
      "outputs": []
    },
    {
      "cell_type": "code",
      "source": [
        "count_ner = dict(sorted(Counter(a_y).items(), key=lambda x: -x[1]))\n",
        "ner2num = dict(zip(count_ner.keys(), range(len(count_ner))))\n",
        "ner2num"
      ],
      "metadata": {
        "colab": {
          "base_uri": "https://localhost:8080/"
        },
        "id": "cCeFtacjeabY",
        "outputId": "d5f67f9d-75c7-4d2e-ff99-244a1a0f8a6e"
      },
      "execution_count": null,
      "outputs": [
        {
          "output_type": "execute_result",
          "data": {
            "text/plain": [
              "{'OUT': 0, 'PER': 1, 'ORG': 2, 'LOC': 3, 'GEOPOLIT': 4, 'MEDIA': 5}"
            ]
          },
          "metadata": {},
          "execution_count": 76
        }
      ]
    },
    {
      "cell_type": "code",
      "source": [
        "for i in range(len(a_y)):\n",
        "    a_y[i]=[ner2num[a_y[i]]]"
      ],
      "metadata": {
        "id": "mXKgyeXDeaX_"
      },
      "execution_count": null,
      "outputs": []
    },
    {
      "cell_type": "code",
      "source": [
        "bow = []\n",
        "for i in a_x:\n",
        "  for j in i:\n",
        "    bow.append(j)\n",
        "count_bow = dict(sorted(Counter(bow).items(), key=lambda x: -x[1]))\n",
        "word2num = dict(zip(count_bow.keys(), range(1, len(count_bow))))\n",
        "list(word2num.items())[:10]"
      ],
      "metadata": {
        "colab": {
          "base_uri": "https://localhost:8080/"
        },
        "id": "4hUv5xVRplnZ",
        "outputId": "6b6e8fad-f23b-4848-8d31-fd5e8ed26886"
      },
      "execution_count": null,
      "outputs": [
        {
          "output_type": "execute_result",
          "data": {
            "text/plain": [
              "[(',', 1),\n",
              " ('.', 2),\n",
              " ('в', 3),\n",
              " ('\"', 4),\n",
              " ('и', 5),\n",
              " ('на', 6),\n",
              " ('с', 7),\n",
              " ('что', 8),\n",
              " ('по', 9),\n",
              " ('В', 10)]"
            ]
          },
          "metadata": {},
          "execution_count": 78
        }
      ]
    },
    {
      "cell_type": "code",
      "source": [
        "vocab_size = len(word2num)\n",
        "vocab_size"
      ],
      "metadata": {
        "colab": {
          "base_uri": "https://localhost:8080/"
        },
        "id": "Gib0GVTLpm5R",
        "outputId": "08a30022-852c-4509-f321-771392a265d8"
      },
      "execution_count": null,
      "outputs": [
        {
          "output_type": "execute_result",
          "data": {
            "text/plain": [
              "34926"
            ]
          },
          "metadata": {},
          "execution_count": 79
        }
      ]
    },
    {
      "cell_type": "code",
      "source": [
        "for i in range(len(a_x)):\n",
        "  for j in range(3):\n",
        "    a_x[i][j]=word2num.get(a_x[i][j], 0)"
      ],
      "metadata": {
        "id": "9kwSuYWbpoxB"
      },
      "execution_count": null,
      "outputs": []
    },
    {
      "cell_type": "code",
      "source": [
        "from sklearn import model_selection, preprocessing, linear_model\n",
        "\n",
        "train_x, test_x, train_y, test_y = model_selection.train_test_split(a_x, a_y)"
      ],
      "metadata": {
        "id": "YnM63VGzpqiZ"
      },
      "execution_count": null,
      "outputs": []
    },
    {
      "cell_type": "code",
      "source": [
        "embedding_dim = 64\n",
        "\n",
        "class modelNER(tf.keras.Model):\n",
        "    def __init__(self):\n",
        "        super(modelNER, self).__init__()\n",
        "        self.emb = Embedding(vocab_size+1, embedding_dim)\n",
        "        self.gPool = GlobalMaxPooling1D()\n",
        "        self.fc1 = Dense(300, activation='relu')\n",
        "        self.fc2 = Dense(50, activation='relu')\n",
        "        self.fc3 = Dense(6, activation='softmax')\n",
        "\n",
        "    def call(self, x):\n",
        "        x = self.emb(x)\n",
        "        pool_x = self.gPool(x)\n",
        "        \n",
        "        fc_x = self.fc1(pool_x)\n",
        "        fc_x = self.fc2(fc_x)\n",
        "        \n",
        "        concat_x = tf.concat([pool_x, fc_x], axis=1)\n",
        "        prob = self.fc3(concat_x)\n",
        "        return prob"
      ],
      "metadata": {
        "id": "GYiq4377pseZ"
      },
      "execution_count": null,
      "outputs": []
    },
    {
      "cell_type": "code",
      "source": [
        "mmodel = modelNER()"
      ],
      "metadata": {
        "id": "H9WEzBSMpuHA"
      },
      "execution_count": null,
      "outputs": []
    },
    {
      "cell_type": "code",
      "source": [
        "mmodel.compile(optimizer='adam',\n",
        "              loss=tf.keras.losses.SparseCategoricalCrossentropy(),\n",
        "              metrics=['accuracy'])"
      ],
      "metadata": {
        "id": "hVdGRqGvpxCf"
      },
      "execution_count": null,
      "outputs": []
    },
    {
      "cell_type": "code",
      "source": [
        "mmodel.fit(train_x, train_y, epochs=3)"
      ],
      "metadata": {
        "colab": {
          "base_uri": "https://localhost:8080/"
        },
        "id": "KtLUBIncpyWg",
        "outputId": "310c33f7-3ef9-4aab-e62e-e41e64ba7b98"
      },
      "execution_count": null,
      "outputs": [
        {
          "output_type": "stream",
          "name": "stdout",
          "text": [
            "Epoch 1/3\n",
            "6217/6217 [==============================] - 45s 7ms/step - loss: 0.3542 - accuracy: 0.8896\n",
            "Epoch 2/3\n",
            "6217/6217 [==============================] - 34s 5ms/step - loss: 0.1620 - accuracy: 0.9442\n",
            "Epoch 3/3\n",
            "6217/6217 [==============================] - 35s 6ms/step - loss: 0.0994 - accuracy: 0.9644\n"
          ]
        },
        {
          "output_type": "execute_result",
          "data": {
            "text/plain": [
              "<keras.callbacks.History at 0x7f76f7356340>"
            ]
          },
          "metadata": {},
          "execution_count": 85
        }
      ]
    },
    {
      "cell_type": "markdown",
      "source": [
        "Вместо передачи слова, также передаём его соседей слева и справа, но предсказываем мы так же только одну метку для слова по центру."
      ],
      "metadata": {
        "id": "iFQ83ecyp4zk"
      }
    },
    {
      "cell_type": "code",
      "source": [
        "from sklearn.metrics import classification_report"
      ],
      "metadata": {
        "id": "NzDBWpTAp0Hw"
      },
      "execution_count": null,
      "outputs": []
    },
    {
      "cell_type": "code",
      "source": [
        "print(classification_report(test_y, np.argmax(mmodel.predict(test_x), axis=1)))"
      ],
      "metadata": {
        "colab": {
          "base_uri": "https://localhost:8080/"
        },
        "id": "TGQqVvwSqTa7",
        "outputId": "a153a86f-fead-4dae-e460-e73ff35b6a6a"
      },
      "execution_count": null,
      "outputs": [
        {
          "output_type": "stream",
          "name": "stdout",
          "text": [
            "2073/2073 [==============================] - 4s 2ms/step\n",
            "              precision    recall  f1-score   support\n",
            "\n",
            "           0       0.95      0.96      0.96     54782\n",
            "           1       0.82      0.81      0.82      5181\n",
            "           2       0.78      0.68      0.73      3508\n",
            "           3       0.77      0.64      0.70      1137\n",
            "           4       0.63      0.59      0.61      1062\n",
            "           5       0.85      0.72      0.78       639\n",
            "\n",
            "    accuracy                           0.92     66309\n",
            "   macro avg       0.80      0.74      0.76     66309\n",
            "weighted avg       0.92      0.92      0.92     66309\n",
            "\n"
          ]
        }
      ]
    },
    {
      "cell_type": "markdown",
      "source": [
        "Видно, что 0 класс предсказывается лучше всего, а 4 класс предсказывает хуже всего, посмотрим, что это за классы:"
      ],
      "metadata": {
        "id": "9pX5VEg8qflz"
      }
    },
    {
      "cell_type": "code",
      "source": [
        "num2ner = {j:i for i,j in ner2num.items()}\n",
        "print(0, num2ner[0])\n",
        "print(4, num2ner[4])"
      ],
      "metadata": {
        "colab": {
          "base_uri": "https://localhost:8080/"
        },
        "id": "isgMpHwVqaAf",
        "outputId": "de752ab7-83c0-44c2-a9d2-f4ba1b4e1184"
      },
      "execution_count": null,
      "outputs": [
        {
          "output_type": "stream",
          "name": "stdout",
          "text": [
            "0 OUT\n",
            "4 GEOPOLIT\n"
          ]
        }
      ]
    },
    {
      "cell_type": "markdown",
      "source": [
        "В целом метрики очень хорошие, теперь посмотрим, что будет, если передовать по одному слову:"
      ],
      "metadata": {
        "id": "PvOxopMXqk_T"
      }
    },
    {
      "cell_type": "markdown",
      "source": [
        "#### b. передаём в сетку только токен."
      ],
      "metadata": {
        "id": "AI9gYg7ZqoO0"
      }
    },
    {
      "cell_type": "code",
      "source": [
        "b_x = []\n",
        "for i in range(len(words_docs)):\n",
        "  b_x.append(words_docs[i][0])"
      ],
      "metadata": {
        "id": "rHOiw0yFqi6W"
      },
      "execution_count": null,
      "outputs": []
    },
    {
      "cell_type": "code",
      "source": [
        "for i in range(len(b_x)):\n",
        "    b_x[i]=word2num.get(b_x[i], 0)"
      ],
      "metadata": {
        "id": "fwXedQe8qp9W"
      },
      "execution_count": null,
      "outputs": []
    },
    {
      "cell_type": "code",
      "source": [
        "train_x, test_x, train_y, test_y = model_selection.train_test_split(b_x, a_y)"
      ],
      "metadata": {
        "id": "TmnFw7Q_qruY"
      },
      "execution_count": null,
      "outputs": []
    },
    {
      "cell_type": "markdown",
      "source": [
        "Только уберём MaxPool"
      ],
      "metadata": {
        "id": "TMcupNDXqwLh"
      }
    },
    {
      "cell_type": "code",
      "source": [
        "embedding_dim = 64\n",
        "\n",
        "class modelNER(tf.keras.Model):\n",
        "    def __init__(self):\n",
        "        super(modelNER, self).__init__()\n",
        "        self.emb = Embedding(vocab_size+1, embedding_dim)\n",
        "        self.fc1 = Dense(300, activation='relu')\n",
        "        self.fc2 = Dense(50, activation='relu')\n",
        "        self.fc3 = Dense(6, activation='softmax')\n",
        "\n",
        "    def call(self, x):\n",
        "        x = self.emb(x)\n",
        "        \n",
        "        fc_x = self.fc1(x)\n",
        "        fc_x = self.fc2(fc_x)\n",
        "        \n",
        "        concat_x = tf.concat([x, fc_x], axis=1)\n",
        "        prob = self.fc3(concat_x)\n",
        "        return prob"
      ],
      "metadata": {
        "id": "atKsnyzNquAW"
      },
      "execution_count": null,
      "outputs": []
    },
    {
      "cell_type": "code",
      "source": [
        "mmodel = modelNER()"
      ],
      "metadata": {
        "id": "vHlqqiZjq0wn"
      },
      "execution_count": null,
      "outputs": []
    },
    {
      "cell_type": "code",
      "source": [
        "mmodel.compile(optimizer='adam',\n",
        "              loss=tf.keras.losses.SparseCategoricalCrossentropy(),\n",
        "              metrics=['accuracy'])"
      ],
      "metadata": {
        "id": "XVEygQxAq3I2"
      },
      "execution_count": null,
      "outputs": []
    },
    {
      "cell_type": "code",
      "source": [
        "mmodel.fit(train_x, train_y, epochs=3)"
      ],
      "metadata": {
        "colab": {
          "base_uri": "https://localhost:8080/"
        },
        "id": "KdcWCZc9q4eu",
        "outputId": "780e2fe3-0e73-4559-dcc1-7785766e8285"
      },
      "execution_count": null,
      "outputs": [
        {
          "output_type": "stream",
          "name": "stdout",
          "text": [
            "Epoch 1/3\n",
            "6217/6217 [==============================] - 34s 5ms/step - loss: 0.2881 - accuracy: 0.9166\n",
            "Epoch 2/3\n",
            "6217/6217 [==============================] - 31s 5ms/step - loss: 0.1208 - accuracy: 0.9634\n",
            "Epoch 3/3\n",
            "6217/6217 [==============================] - 29s 5ms/step - loss: 0.1078 - accuracy: 0.9656\n"
          ]
        },
        {
          "output_type": "execute_result",
          "data": {
            "text/plain": [
              "<keras.callbacks.History at 0x7f76f71d9190>"
            ]
          },
          "metadata": {},
          "execution_count": 95
        }
      ]
    },
    {
      "cell_type": "code",
      "source": [
        "print(classification_report(test_y, np.argmax(mmodel.predict(test_x), axis=1)))"
      ],
      "metadata": {
        "colab": {
          "base_uri": "https://localhost:8080/"
        },
        "id": "wWzlXt4yq5zm",
        "outputId": "c172492a-ffee-44f3-8ffc-2e7869f700ef"
      },
      "execution_count": null,
      "outputs": [
        {
          "output_type": "stream",
          "name": "stdout",
          "text": [
            "2073/2073 [==============================] - 8s 4ms/step\n",
            "              precision    recall  f1-score   support\n",
            "\n",
            "           0       0.96      0.94      0.95     54706\n",
            "           1       0.57      0.83      0.68      5287\n",
            "           2       0.83      0.54      0.66      3494\n",
            "           3       0.80      0.82      0.81      1099\n",
            "           4       0.89      0.88      0.89      1103\n",
            "           5       0.96      0.75      0.84       620\n",
            "\n",
            "    accuracy                           0.91     66309\n",
            "   macro avg       0.84      0.79      0.80     66309\n",
            "weighted avg       0.92      0.91      0.91     66309\n",
            "\n"
          ]
        }
      ]
    },
    {
      "cell_type": "markdown",
      "source": [
        "Усреднённые метрики такие же или даже чуть лучше, при этом мы просто обучались на словах, тоесть даже не пытались уловить контекст и всё равно accuracy=0.92.\n",
        "\n",
        "Стоит отметить, что теперь у 4 класса метрки одни из лучших, это может говорить о том, что геополитику проще распознать по частотным словам, которых там видимо мало и они постоянно повторяются, чем через контекст."
      ],
      "metadata": {
        "id": "4C6ykmuurjGg"
      }
    },
    {
      "cell_type": "markdown",
      "source": [
        "#### c. свой вариант"
      ],
      "metadata": {
        "id": "kehTeCKGrr3Q"
      }
    },
    {
      "cell_type": "markdown",
      "source": [
        "Я попробую улучшить вариант с соседями (вариант a), только добавлю ещё туда слой lstm, который будет проходить в двух направлениях, чтобы всё таки попробывать распознавать контекст, а не затачиваться под частотные слова"
      ],
      "metadata": {
        "id": "Zakh66cSrthU"
      }
    },
    {
      "cell_type": "code",
      "source": [
        "embedding_dim = 64\n",
        "\n",
        "class modelNER(tf.keras.Model):\n",
        "    def __init__(self):\n",
        "        super(modelNER, self).__init__()\n",
        "        self.emb = Embedding(vocab_size+1, embedding_dim)\n",
        "        self.lstm_to = LSTM(embedding_dim, return_sequences=True)\n",
        "        self.lstm_back = LSTM(embedding_dim, return_sequences=True, go_backwards=True)\n",
        "        self.gPool = GlobalMaxPooling1D()\n",
        "        self.fc1 = Dense(300, activation='relu')\n",
        "        self.fc2 = Dense(50, activation='relu')\n",
        "        self.fc3 = Dense(6, activation='softmax')\n",
        "\n",
        "    def call(self, x):\n",
        "        x = self.emb(x)\n",
        "\n",
        "        lstm_x = self.lstm_to(x)\n",
        "        lstm_x = self.lstm_back(x)\n",
        "\n",
        "        concat_x = tf.concat([x, lstm_x], axis=1)\n",
        "        pool_x = self.gPool(concat_x)\n",
        "        \n",
        "        fc_x = self.fc1(pool_x)\n",
        "        fc_x = self.fc2(fc_x)\n",
        "        \n",
        "        concat_x = tf.concat([pool_x, fc_x], axis=1)\n",
        "        prob = self.fc3(concat_x)\n",
        "        return prob"
      ],
      "metadata": {
        "id": "UUO5V-HLre9r"
      },
      "execution_count": null,
      "outputs": []
    },
    {
      "cell_type": "code",
      "source": [
        "train_x, test_x, train_y, test_y = model_selection.train_test_split(a_x, a_y)"
      ],
      "metadata": {
        "id": "STzdTWH0ryAk"
      },
      "execution_count": null,
      "outputs": []
    },
    {
      "cell_type": "code",
      "source": [
        "mmodel = modelNER()"
      ],
      "metadata": {
        "id": "34swzbGarzuk"
      },
      "execution_count": null,
      "outputs": []
    },
    {
      "cell_type": "code",
      "source": [
        "mmodel.compile(optimizer='adam',\n",
        "              loss=tf.keras.losses.SparseCategoricalCrossentropy(),\n",
        "              metrics=['accuracy'])"
      ],
      "metadata": {
        "id": "KtuOnQRTr1NU"
      },
      "execution_count": null,
      "outputs": []
    },
    {
      "cell_type": "code",
      "source": [
        "mmodel.fit(train_x, train_y, epochs=3)"
      ],
      "metadata": {
        "colab": {
          "base_uri": "https://localhost:8080/"
        },
        "id": "QAoGpBxEr2f8",
        "outputId": "57a84797-686f-43be-f646-3b519f42a3b0"
      },
      "execution_count": null,
      "outputs": [
        {
          "output_type": "stream",
          "name": "stdout",
          "text": [
            "Epoch 1/3\n"
          ]
        },
        {
          "output_type": "stream",
          "name": "stderr",
          "text": [
            "WARNING:tensorflow:Gradients do not exist for variables ['model_ner_2/lstm_1/lstm_cell_1/kernel:0', 'model_ner_2/lstm_1/lstm_cell_1/recurrent_kernel:0', 'model_ner_2/lstm_1/lstm_cell_1/bias:0'] when minimizing the loss. If you're using `model.compile()`, did you forget to provide a `loss` argument?\n",
            "WARNING:tensorflow:Gradients do not exist for variables ['model_ner_2/lstm_1/lstm_cell_1/kernel:0', 'model_ner_2/lstm_1/lstm_cell_1/recurrent_kernel:0', 'model_ner_2/lstm_1/lstm_cell_1/bias:0'] when minimizing the loss. If you're using `model.compile()`, did you forget to provide a `loss` argument?\n",
            "WARNING:tensorflow:Gradients do not exist for variables ['model_ner_2/lstm_1/lstm_cell_1/kernel:0', 'model_ner_2/lstm_1/lstm_cell_1/recurrent_kernel:0', 'model_ner_2/lstm_1/lstm_cell_1/bias:0'] when minimizing the loss. If you're using `model.compile()`, did you forget to provide a `loss` argument?\n",
            "WARNING:tensorflow:Gradients do not exist for variables ['model_ner_2/lstm_1/lstm_cell_1/kernel:0', 'model_ner_2/lstm_1/lstm_cell_1/recurrent_kernel:0', 'model_ner_2/lstm_1/lstm_cell_1/bias:0'] when minimizing the loss. If you're using `model.compile()`, did you forget to provide a `loss` argument?\n"
          ]
        },
        {
          "output_type": "stream",
          "name": "stdout",
          "text": [
            "6217/6217 [==============================] - 56s 8ms/step - loss: 0.2228 - accuracy: 0.9326\n",
            "Epoch 2/3\n",
            "6217/6217 [==============================] - 47s 7ms/step - loss: 0.0460 - accuracy: 0.9859\n",
            "Epoch 3/3\n",
            "6217/6217 [==============================] - 54s 9ms/step - loss: 0.0254 - accuracy: 0.9920\n"
          ]
        },
        {
          "output_type": "execute_result",
          "data": {
            "text/plain": [
              "<keras.callbacks.History at 0x7f76f707bcd0>"
            ]
          },
          "metadata": {},
          "execution_count": 101
        }
      ]
    },
    {
      "cell_type": "code",
      "source": [
        "print(classification_report(test_y, np.argmax(mmodel.predict(test_x), axis=1)))"
      ],
      "metadata": {
        "colab": {
          "base_uri": "https://localhost:8080/"
        },
        "id": "Yu2UWkM9r3uj",
        "outputId": "f0a293db-9a6a-4346-ffc8-b3954f217330"
      },
      "execution_count": null,
      "outputs": [
        {
          "output_type": "stream",
          "name": "stdout",
          "text": [
            "2073/2073 [==============================] - 6s 2ms/step\n",
            "              precision    recall  f1-score   support\n",
            "\n",
            "           0       0.98      0.99      0.98     54689\n",
            "           1       0.99      0.92      0.96      5281\n",
            "           2       0.81      0.88      0.84      3498\n",
            "           3       0.91      0.83      0.87      1168\n",
            "           4       0.94      0.88      0.91      1058\n",
            "           5       0.93      0.86      0.89       615\n",
            "\n",
            "    accuracy                           0.97     66309\n",
            "   macro avg       0.93      0.89      0.91     66309\n",
            "weighted avg       0.97      0.97      0.97     66309\n",
            "\n"
          ]
        }
      ]
    },
    {
      "cell_type": "markdown",
      "source": [
        "Результаты очень хорошие. Оказывается, если предсказывать по контексту, используя соседей, то метрики будут лучше, просто до этого мы не использовали lstm слой, который как раз и помогает модели понять контекст, а так же я использовал связку из двух слоёв, где первый идёт в прямом направлении, а второй в обратном, таким образом у нас есть информация и по левому и по правому слову, это честно, так как когда человек пытается выделить сущность, то он в том числе смотрит и на следующее слово, так как оно тоже несёт очень много информации.\n",
        "\n",
        "Так же я почти не настраивал модель и обучал всего 3 эпохи, я почти уверен, что этой архитектурой можно добиться и 0.99-1.00 accuracy, если не будет получаться, то можно попробывать взять большего размера окно, размером не 3, а например 5, тоесть слева будет 2 слова-соседа и справа 2 слова-соседа."
      ],
      "metadata": {
        "id": "j4S4CTp-sY52"
      }
    },
    {
      "cell_type": "markdown",
      "source": [
        "## Задание 3"
      ],
      "metadata": {
        "id": "3MN9hfYRs4g9"
      }
    },
    {
      "cell_type": "markdown",
      "source": [
        "### Вывод:"
      ],
      "metadata": {
        "id": "-eNbuxtCs6S9"
      }
    },
    {
      "cell_type": "markdown",
      "source": [
        "Я сравнил подходы к задаче Ner и вывел classification_report для каждого. Я сделал выводы после каждого подхода и убедился, что предсказывать по котнексту, тоесть зная информацию о соседях, в задаче Ner гораздо эффективнее, чего и следовало ожидать."
      ],
      "metadata": {
        "id": "2wWvRcJFs67W"
      }
    }
  ],
  "metadata": {
    "kernelspec": {
      "display_name": "Python 3 (ipykernel)",
      "language": "python",
      "name": "python3"
    },
    "language_info": {
      "codemirror_mode": {
        "name": "ipython",
        "version": 3
      },
      "file_extension": ".py",
      "mimetype": "text/x-python",
      "name": "python",
      "nbconvert_exporter": "python",
      "pygments_lexer": "ipython3",
      "version": "3.10.9"
    },
    "colab": {
      "provenance": []
    },
    "accelerator": "GPU",
    "gpuClass": "standard",
    "widgets": {
      "application/vnd.jupyter.widget-state+json": {
        "69dc98f420fb4031a867c24328735da4": {
          "model_module": "@jupyter-widgets/controls",
          "model_name": "HBoxModel",
          "model_module_version": "1.5.0",
          "state": {
            "_dom_classes": [],
            "_model_module": "@jupyter-widgets/controls",
            "_model_module_version": "1.5.0",
            "_model_name": "HBoxModel",
            "_view_count": null,
            "_view_module": "@jupyter-widgets/controls",
            "_view_module_version": "1.5.0",
            "_view_name": "HBoxView",
            "box_style": "",
            "children": [
              "IPY_MODEL_f17299ec2b9c4363a347ff08e5bdb272",
              "IPY_MODEL_f1c17ac3785e4e45993f05309e126382",
              "IPY_MODEL_27f1e88a3d524eee91b2cedd2f187057"
            ],
            "layout": "IPY_MODEL_27a6e02c5b124dc3b7aff4b999e84c13"
          }
        },
        "f17299ec2b9c4363a347ff08e5bdb272": {
          "model_module": "@jupyter-widgets/controls",
          "model_name": "HTMLModel",
          "model_module_version": "1.5.0",
          "state": {
            "_dom_classes": [],
            "_model_module": "@jupyter-widgets/controls",
            "_model_module_version": "1.5.0",
            "_model_name": "HTMLModel",
            "_view_count": null,
            "_view_module": "@jupyter-widgets/controls",
            "_view_module_version": "1.5.0",
            "_view_name": "HTMLView",
            "description": "",
            "description_tooltip": null,
            "layout": "IPY_MODEL_2b6d51c571964a87bdb15ecca129bb29",
            "placeholder": "​",
            "style": "IPY_MODEL_f47e3412d80444d9a7952fce71f69c42",
            "value": "Downloading pytorch_model.bin: 100%"
          }
        },
        "f1c17ac3785e4e45993f05309e126382": {
          "model_module": "@jupyter-widgets/controls",
          "model_name": "FloatProgressModel",
          "model_module_version": "1.5.0",
          "state": {
            "_dom_classes": [],
            "_model_module": "@jupyter-widgets/controls",
            "_model_module_version": "1.5.0",
            "_model_name": "FloatProgressModel",
            "_view_count": null,
            "_view_module": "@jupyter-widgets/controls",
            "_view_module_version": "1.5.0",
            "_view_name": "ProgressView",
            "bar_style": "success",
            "description": "",
            "description_tooltip": null,
            "layout": "IPY_MODEL_f0daef0a608440d6a33ed84bb65ce973",
            "max": 435779157,
            "min": 0,
            "orientation": "horizontal",
            "style": "IPY_MODEL_ffc158c3efc446d7a442c38db324e340",
            "value": 435779157
          }
        },
        "27f1e88a3d524eee91b2cedd2f187057": {
          "model_module": "@jupyter-widgets/controls",
          "model_name": "HTMLModel",
          "model_module_version": "1.5.0",
          "state": {
            "_dom_classes": [],
            "_model_module": "@jupyter-widgets/controls",
            "_model_module_version": "1.5.0",
            "_model_name": "HTMLModel",
            "_view_count": null,
            "_view_module": "@jupyter-widgets/controls",
            "_view_module_version": "1.5.0",
            "_view_name": "HTMLView",
            "description": "",
            "description_tooltip": null,
            "layout": "IPY_MODEL_0767944adcda4c8ca4e020589459dcaf",
            "placeholder": "​",
            "style": "IPY_MODEL_c4f2c912409a4d139321ba58275628af",
            "value": " 436M/436M [00:04&lt;00:00, 99.4MB/s]"
          }
        },
        "27a6e02c5b124dc3b7aff4b999e84c13": {
          "model_module": "@jupyter-widgets/base",
          "model_name": "LayoutModel",
          "model_module_version": "1.2.0",
          "state": {
            "_model_module": "@jupyter-widgets/base",
            "_model_module_version": "1.2.0",
            "_model_name": "LayoutModel",
            "_view_count": null,
            "_view_module": "@jupyter-widgets/base",
            "_view_module_version": "1.2.0",
            "_view_name": "LayoutView",
            "align_content": null,
            "align_items": null,
            "align_self": null,
            "border": null,
            "bottom": null,
            "display": null,
            "flex": null,
            "flex_flow": null,
            "grid_area": null,
            "grid_auto_columns": null,
            "grid_auto_flow": null,
            "grid_auto_rows": null,
            "grid_column": null,
            "grid_gap": null,
            "grid_row": null,
            "grid_template_areas": null,
            "grid_template_columns": null,
            "grid_template_rows": null,
            "height": null,
            "justify_content": null,
            "justify_items": null,
            "left": null,
            "margin": null,
            "max_height": null,
            "max_width": null,
            "min_height": null,
            "min_width": null,
            "object_fit": null,
            "object_position": null,
            "order": null,
            "overflow": null,
            "overflow_x": null,
            "overflow_y": null,
            "padding": null,
            "right": null,
            "top": null,
            "visibility": null,
            "width": null
          }
        },
        "2b6d51c571964a87bdb15ecca129bb29": {
          "model_module": "@jupyter-widgets/base",
          "model_name": "LayoutModel",
          "model_module_version": "1.2.0",
          "state": {
            "_model_module": "@jupyter-widgets/base",
            "_model_module_version": "1.2.0",
            "_model_name": "LayoutModel",
            "_view_count": null,
            "_view_module": "@jupyter-widgets/base",
            "_view_module_version": "1.2.0",
            "_view_name": "LayoutView",
            "align_content": null,
            "align_items": null,
            "align_self": null,
            "border": null,
            "bottom": null,
            "display": null,
            "flex": null,
            "flex_flow": null,
            "grid_area": null,
            "grid_auto_columns": null,
            "grid_auto_flow": null,
            "grid_auto_rows": null,
            "grid_column": null,
            "grid_gap": null,
            "grid_row": null,
            "grid_template_areas": null,
            "grid_template_columns": null,
            "grid_template_rows": null,
            "height": null,
            "justify_content": null,
            "justify_items": null,
            "left": null,
            "margin": null,
            "max_height": null,
            "max_width": null,
            "min_height": null,
            "min_width": null,
            "object_fit": null,
            "object_position": null,
            "order": null,
            "overflow": null,
            "overflow_x": null,
            "overflow_y": null,
            "padding": null,
            "right": null,
            "top": null,
            "visibility": null,
            "width": null
          }
        },
        "f47e3412d80444d9a7952fce71f69c42": {
          "model_module": "@jupyter-widgets/controls",
          "model_name": "DescriptionStyleModel",
          "model_module_version": "1.5.0",
          "state": {
            "_model_module": "@jupyter-widgets/controls",
            "_model_module_version": "1.5.0",
            "_model_name": "DescriptionStyleModel",
            "_view_count": null,
            "_view_module": "@jupyter-widgets/base",
            "_view_module_version": "1.2.0",
            "_view_name": "StyleView",
            "description_width": ""
          }
        },
        "f0daef0a608440d6a33ed84bb65ce973": {
          "model_module": "@jupyter-widgets/base",
          "model_name": "LayoutModel",
          "model_module_version": "1.2.0",
          "state": {
            "_model_module": "@jupyter-widgets/base",
            "_model_module_version": "1.2.0",
            "_model_name": "LayoutModel",
            "_view_count": null,
            "_view_module": "@jupyter-widgets/base",
            "_view_module_version": "1.2.0",
            "_view_name": "LayoutView",
            "align_content": null,
            "align_items": null,
            "align_self": null,
            "border": null,
            "bottom": null,
            "display": null,
            "flex": null,
            "flex_flow": null,
            "grid_area": null,
            "grid_auto_columns": null,
            "grid_auto_flow": null,
            "grid_auto_rows": null,
            "grid_column": null,
            "grid_gap": null,
            "grid_row": null,
            "grid_template_areas": null,
            "grid_template_columns": null,
            "grid_template_rows": null,
            "height": null,
            "justify_content": null,
            "justify_items": null,
            "left": null,
            "margin": null,
            "max_height": null,
            "max_width": null,
            "min_height": null,
            "min_width": null,
            "object_fit": null,
            "object_position": null,
            "order": null,
            "overflow": null,
            "overflow_x": null,
            "overflow_y": null,
            "padding": null,
            "right": null,
            "top": null,
            "visibility": null,
            "width": null
          }
        },
        "ffc158c3efc446d7a442c38db324e340": {
          "model_module": "@jupyter-widgets/controls",
          "model_name": "ProgressStyleModel",
          "model_module_version": "1.5.0",
          "state": {
            "_model_module": "@jupyter-widgets/controls",
            "_model_module_version": "1.5.0",
            "_model_name": "ProgressStyleModel",
            "_view_count": null,
            "_view_module": "@jupyter-widgets/base",
            "_view_module_version": "1.2.0",
            "_view_name": "StyleView",
            "bar_color": null,
            "description_width": ""
          }
        },
        "0767944adcda4c8ca4e020589459dcaf": {
          "model_module": "@jupyter-widgets/base",
          "model_name": "LayoutModel",
          "model_module_version": "1.2.0",
          "state": {
            "_model_module": "@jupyter-widgets/base",
            "_model_module_version": "1.2.0",
            "_model_name": "LayoutModel",
            "_view_count": null,
            "_view_module": "@jupyter-widgets/base",
            "_view_module_version": "1.2.0",
            "_view_name": "LayoutView",
            "align_content": null,
            "align_items": null,
            "align_self": null,
            "border": null,
            "bottom": null,
            "display": null,
            "flex": null,
            "flex_flow": null,
            "grid_area": null,
            "grid_auto_columns": null,
            "grid_auto_flow": null,
            "grid_auto_rows": null,
            "grid_column": null,
            "grid_gap": null,
            "grid_row": null,
            "grid_template_areas": null,
            "grid_template_columns": null,
            "grid_template_rows": null,
            "height": null,
            "justify_content": null,
            "justify_items": null,
            "left": null,
            "margin": null,
            "max_height": null,
            "max_width": null,
            "min_height": null,
            "min_width": null,
            "object_fit": null,
            "object_position": null,
            "order": null,
            "overflow": null,
            "overflow_x": null,
            "overflow_y": null,
            "padding": null,
            "right": null,
            "top": null,
            "visibility": null,
            "width": null
          }
        },
        "c4f2c912409a4d139321ba58275628af": {
          "model_module": "@jupyter-widgets/controls",
          "model_name": "DescriptionStyleModel",
          "model_module_version": "1.5.0",
          "state": {
            "_model_module": "@jupyter-widgets/controls",
            "_model_module_version": "1.5.0",
            "_model_name": "DescriptionStyleModel",
            "_view_count": null,
            "_view_module": "@jupyter-widgets/base",
            "_view_module_version": "1.2.0",
            "_view_name": "StyleView",
            "description_width": ""
          }
        }
      }
    }
  },
  "nbformat": 4,
  "nbformat_minor": 0
}