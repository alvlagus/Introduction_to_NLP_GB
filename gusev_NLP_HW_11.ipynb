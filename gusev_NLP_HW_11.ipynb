{
  "nbformat": 4,
  "nbformat_minor": 0,
  "metadata": {
    "accelerator": "GPU",
    "colab": {
      "provenance": [],
      "gpuType": "T4"
    },
    "kernelspec": {
      "display_name": "Python 3",
      "name": "python3"
    },
    "gpuClass": "standard"
  },
  "cells": [
    {
      "cell_type": "markdown",
      "source": [
        "<h1 align='center'>Введение в обработку естественного языка</h1>  "
      ],
      "metadata": {
        "id": "XZK7O96c2GDz"
      }
    },
    {
      "cell_type": "markdown",
      "metadata": {
        "id": "J0Qjg6vuaHNt"
      },
      "source": [
        "<h2 align='center'>Урок 11. Модель Transformer-1</h2>  "
      ]
    },
    {
      "cell_type": "markdown",
      "source": [
        "Практическое задание:\n",
        "Разобраться с моделькой перевода как она устроена (c механизмом внимания), запустить для перевода с русского на английский (при желании можно взять другие пары языков)\n",
        "**внимание классическое** с RNN-ками в энкодере и декодере\n",
        "ноутбук в архиве\n",
        "lesson11_actual.zip\n",
        "называется\n",
        "`nmt_with_attention.ipynb`"
      ],
      "metadata": {
        "id": "e_79Rkt-2aA0"
      }
    },
    {
      "cell_type": "code",
      "metadata": {
        "id": "tnxXKDjq3jEL"
      },
      "source": [
        "import tensorflow as tf\n",
        "\n",
        "import matplotlib.pyplot as plt\n",
        "import matplotlib.ticker as ticker\n",
        "from sklearn.model_selection import train_test_split\n",
        "\n",
        "import unicodedata\n",
        "import re\n",
        "import numpy as np\n",
        "import os\n",
        "import io\n",
        "import time"
      ],
      "execution_count": 7,
      "outputs": []
    },
    {
      "cell_type": "markdown",
      "metadata": {
        "id": "wfodePkj3jEa"
      },
      "source": [
        "## Скачиваем и обрабатываем датасет\n",
        "\n",
        "We'll use a language dataset provided by http://www.manythings.org/anki/"
      ]
    },
    {
      "cell_type": "code",
      "metadata": {
        "id": "CNvjhDyAKk3U",
        "colab": {
          "base_uri": "https://localhost:8080/"
        },
        "outputId": "25fca150-db25-4ad4-a7d1-170ed90a1687"
      },
      "source": [
        "!wget http://www.manythings.org/anki/rus-eng.zip"
      ],
      "execution_count": 1,
      "outputs": [
        {
          "output_type": "stream",
          "name": "stdout",
          "text": [
            "--2023-05-18 21:53:29--  http://www.manythings.org/anki/rus-eng.zip\n",
            "Resolving www.manythings.org (www.manythings.org)... 173.254.30.110\n",
            "Connecting to www.manythings.org (www.manythings.org)|173.254.30.110|:80... connected.\n",
            "HTTP request sent, awaiting response... 200 OK\n",
            "Length: 15460248 (15M) [application/zip]\n",
            "Saving to: ‘rus-eng.zip’\n",
            "\n",
            "rus-eng.zip         100%[===================>]  14.74M  25.6MB/s    in 0.6s    \n",
            "\n",
            "2023-05-18 21:53:30 (25.6 MB/s) - ‘rus-eng.zip’ saved [15460248/15460248]\n",
            "\n"
          ]
        }
      ]
    },
    {
      "cell_type": "code",
      "metadata": {
        "id": "83bg17Lr-7XK",
        "colab": {
          "base_uri": "https://localhost:8080/"
        },
        "outputId": "6553e730-f761-41ff-fe18-0782b5244e4c"
      },
      "source": [
        "!mkdir rus-eng\n",
        "!unzip rus-eng.zip -d rus-eng/"
      ],
      "execution_count": 2,
      "outputs": [
        {
          "output_type": "stream",
          "name": "stdout",
          "text": [
            "Archive:  rus-eng.zip\n",
            "  inflating: rus-eng/rus.txt         \n",
            "  inflating: rus-eng/_about.txt      \n"
          ]
        }
      ]
    },
    {
      "cell_type": "code",
      "metadata": {
        "id": "7o5L92efMMhf",
        "colab": {
          "base_uri": "https://localhost:8080/"
        },
        "outputId": "2db53752-3576-47ed-f2d7-91e0f0d83c6b"
      },
      "source": [
        "!ls /content/rus-eng/ -lah"
      ],
      "execution_count": 3,
      "outputs": [
        {
          "output_type": "stream",
          "name": "stdout",
          "text": [
            "total 74M\n",
            "drwxr-xr-x 2 root root 4.0K May 18 21:53 .\n",
            "drwxr-xr-x 1 root root 4.0K May 18 21:53 ..\n",
            "-rw-r--r-- 1 root root 1.5K Apr  2 03:16 _about.txt\n",
            "-rw-r--r-- 1 root root  74M Apr  2 03:16 rus.txt\n"
          ]
        }
      ]
    },
    {
      "cell_type": "code",
      "metadata": {
        "id": "kRVATYOgJs1b"
      },
      "source": [
        "# Download the file\n",
        "path_to_file = \"/content/rus-eng/rus.txt\""
      ],
      "execution_count": 4,
      "outputs": []
    },
    {
      "cell_type": "markdown",
      "source": [
        "Функция препроцессинга"
      ],
      "metadata": {
        "id": "yI3ccFVk277w"
      }
    },
    {
      "cell_type": "code",
      "metadata": {
        "id": "rd0jw-eC3jEh"
      },
      "source": [
        "def preprocess_sentence(w):\n",
        "  w = w.lower().strip()\n",
        "\n",
        "# вставим пробелы между словом и следующими за ним знаками препинания\n",
        "  # например: \"he is a boy.\" => \"he is a boy .\"\n",
        "  # Источник:- https://stackoverflow.com/questions/3645931/python-padding-punctuation-with-white-spaces-keeping-punctuation\n",
        "  w = re.sub(r\"([?.!,])\", r\" \\1 \", w)\n",
        "  w = re.sub(r'[\" \"]+', \" \", w)\n",
        "\n",
        "  # заменим всё пробелами, кроме (a-z, A-Z, \".\", \"?\", \"!\", \",\")\n",
        "  w = re.sub(r\"[^a-zA-Zа-яА-Я?.!,']+\", \" \", w)\n",
        "\n",
        "  w = w.strip()\n",
        "\n",
        "  # добавление начального и конечного токенов в предложение\n",
        "  # так модель будет знать, когда начать и закончить предсказание  \n",
        "  w = '<start> ' + w + ' <end>'\n",
        "  return w"
      ],
      "execution_count": 8,
      "outputs": []
    },
    {
      "cell_type": "markdown",
      "source": [
        "Пример:"
      ],
      "metadata": {
        "id": "gaqhlCgd2-1r"
      }
    },
    {
      "cell_type": "code",
      "metadata": {
        "id": "yV9lZXQXNbnH",
        "colab": {
          "base_uri": "https://localhost:8080/",
          "height": 35
        },
        "outputId": "9846546d-9d2b-40f0-ece5-1cbb5513bbbe"
      },
      "source": [
        "preprocess_sentence(\"I can't go.\")"
      ],
      "execution_count": 9,
      "outputs": [
        {
          "output_type": "execute_result",
          "data": {
            "text/plain": [
              "\"<start> i can't go . <end>\""
            ],
            "application/vnd.google.colaboratory.intrinsic+json": {
              "type": "string"
            }
          },
          "metadata": {},
          "execution_count": 9
        }
      ]
    },
    {
      "cell_type": "code",
      "metadata": {
        "id": "OHn4Dct23jEm"
      },
      "source": [
        "# 1. Уберём акценты\n",
        "# 2. Вычислим предложения\n",
        "# 3. Вернём пары слов в формате: [ENG, RUS]\n",
        "def create_dataset(path, num_examples):\n",
        "  lines = io.open(path, encoding='UTF-8').read().strip().split('\\n')\n",
        "\n",
        "  word_pairs = [[preprocess_sentence(w) for w in l.split('\\t')[:2]]  for l in lines[:num_examples]]\n",
        "\n",
        "  return zip(*word_pairs)"
      ],
      "execution_count": 10,
      "outputs": []
    },
    {
      "cell_type": "code",
      "metadata": {
        "id": "cTbSbBz55QtF",
        "colab": {
          "base_uri": "https://localhost:8080/"
        },
        "outputId": "a484721a-e429-44c7-8c05-5902ef8db2a9"
      },
      "source": [
        "en, ru = create_dataset(path_to_file, None)\n",
        "print(en[-1])\n",
        "print(ru[-1])"
      ],
      "execution_count": 11,
      "outputs": [
        {
          "output_type": "stream",
          "name": "stdout",
          "text": [
            "<start> doubtless there exists in this world precisely the right woman for any given man to marry and vice versa but when you consider that a human being has the opportunity of being acquainted with only a few hundred people , and out of the few hundred that there are but a dozen or less whom he knows intimately , and out of the dozen , one or two friends at most , it will easily be seen , when we remember the number of millions who inhabit this world , that probably , since the earth was created , the right man has never yet met the right woman . <end>\n",
            "<start> несомненно , для каждого мужчины в этом мире где то есть подходящая женщина , которая может стать ему женой , обратное верно и для женщин . но если учесть , что у человека может быть максимум несколько сотен знакомых , из которых лишь дюжина , а то и меньше , тех , кого он знает близко , а из этой дюжины у него один или от силы два друга , то можно легко увидеть , что с уч том миллионов живущих на земле людей , ни один подходящий мужчина , возможно , ещ не встретил подходящую женщину . <end>\n"
          ]
        }
      ]
    },
    {
      "cell_type": "code",
      "metadata": {
        "id": "bIOn8RCNDJXG"
      },
      "source": [
        "def tokenize(lang):\n",
        "  lang_tokenizer = tf.keras.preprocessing.text.Tokenizer(\n",
        "      filters='')\n",
        "  lang_tokenizer.fit_on_texts(lang)\n",
        "\n",
        "  tensor = lang_tokenizer.texts_to_sequences(lang)\n",
        "\n",
        "  tensor = tf.keras.preprocessing.sequence.pad_sequences(tensor,\n",
        "                                                         padding='post')\n",
        "\n",
        "  return tensor, lang_tokenizer"
      ],
      "execution_count": 12,
      "outputs": []
    },
    {
      "cell_type": "code",
      "metadata": {
        "id": "eAY9k49G3jE_"
      },
      "source": [
        "def load_dataset(path, num_examples=None):\n",
        "  # creating cleaned input, output pairs\n",
        "  targ_lang, inp_lang = create_dataset(path, num_examples)\n",
        "\n",
        "  input_tensor, inp_lang_tokenizer = tokenize(inp_lang)\n",
        "  target_tensor, targ_lang_tokenizer = tokenize(targ_lang)\n",
        "\n",
        "  return input_tensor, target_tensor, inp_lang_tokenizer, targ_lang_tokenizer"
      ],
      "execution_count": 13,
      "outputs": []
    },
    {
      "cell_type": "markdown",
      "metadata": {
        "id": "GOi42V79Ydlr"
      },
      "source": [
        "### Ограничем размер набора данных для ускорения экспериментов (необязательно)\n",
        "\n"
      ]
    },
    {
      "cell_type": "code",
      "metadata": {
        "id": "C8j9g9AnIeZV",
        "colab": {
          "base_uri": "https://localhost:8080/"
        },
        "outputId": "8916f2dc-4b51-487c-d386-1ad28cce546d"
      },
      "source": [
        "len(en), len(ru)"
      ],
      "execution_count": 14,
      "outputs": [
        {
          "output_type": "execute_result",
          "data": {
            "text/plain": [
              "(467119, 467119)"
            ]
          },
          "metadata": {},
          "execution_count": 14
        }
      ]
    },
    {
      "cell_type": "code",
      "metadata": {
        "id": "cnxC7q-j3jFD"
      },
      "source": [
        "# Попробуем поэкспериментировать с размером набора данных\n",
        "num_examples = 100000\n",
        "input_tensor, target_tensor, inp_lang, targ_lang = load_dataset(path_to_file, num_examples)\n",
        "\n",
        "# Подсчитаем максимальную длину (max_length) искомого тензора\n",
        "max_length_targ, max_length_inp = target_tensor.shape[1], input_tensor.shape[1]"
      ],
      "execution_count": 15,
      "outputs": []
    },
    {
      "cell_type": "code",
      "metadata": {
        "id": "4QILQkOs3jFG",
        "colab": {
          "base_uri": "https://localhost:8080/"
        },
        "outputId": "9b1a57dc-7780-4893-ed1b-b2634a06f752"
      },
      "source": [
        "# Создание обучающих и проверочных наборов с использованием разделения 80 на 20\n",
        "input_tensor_train, input_tensor_val, target_tensor_train, target_tensor_val = train_test_split(input_tensor, target_tensor, test_size=0.2)\n",
        "\n",
        "# Посмотрим на их длину\n",
        "print(len(input_tensor_train), len(target_tensor_train), len(input_tensor_val), len(target_tensor_val))"
      ],
      "execution_count": 16,
      "outputs": [
        {
          "output_type": "stream",
          "name": "stdout",
          "text": [
            "80000 80000 20000 20000\n"
          ]
        }
      ]
    },
    {
      "cell_type": "code",
      "metadata": {
        "id": "lJPmLZGMeD5q"
      },
      "source": [
        "def convert(lang, tensor):\n",
        "  for t in tensor:\n",
        "    if t!=0:\n",
        "      print (\"%d ----> %s\" % (t, lang.index_word[t]))"
      ],
      "execution_count": 17,
      "outputs": []
    },
    {
      "cell_type": "code",
      "metadata": {
        "id": "VXukARTDd7MT",
        "colab": {
          "base_uri": "https://localhost:8080/"
        },
        "outputId": "db5686b3-6fee-4a8c-c530-a7e59adca3d2"
      },
      "source": [
        "print (\"Input Language; index to word mapping\")\n",
        "convert(inp_lang, input_tensor_train[0])\n",
        "print ()\n",
        "print (\"Target Language; index to word mapping\")\n",
        "convert(targ_lang, target_tensor_train[0])"
      ],
      "execution_count": 18,
      "outputs": [
        {
          "output_type": "stream",
          "name": "stdout",
          "text": [
            "Input Language; index to word mapping\n",
            "1 ----> <start>\n",
            "4 ----> я\n",
            "17836 ----> углубился\n",
            "15 ----> в\n",
            "9375 ----> детали\n",
            "3 ----> .\n",
            "2 ----> <end>\n",
            "\n",
            "Target Language; index to word mapping\n",
            "1 ----> <start>\n",
            "4 ----> i\n",
            "144 ----> went\n",
            "493 ----> into\n",
            "1369 ----> details\n",
            "3 ----> .\n",
            "2 ----> <end>\n"
          ]
        }
      ]
    },
    {
      "cell_type": "markdown",
      "metadata": {
        "id": "rgCLkfv5uO3d"
      },
      "source": [
        "### Создадим tf.data dataset"
      ]
    },
    {
      "cell_type": "code",
      "metadata": {
        "id": "TqHsArVZ3jFS"
      },
      "source": [
        "BUFFER_SIZE = len(input_tensor_train)\n",
        "BATCH_SIZE = 64\n",
        "steps_per_epoch = len(input_tensor_train)//BATCH_SIZE\n",
        "embedding_dim = 256\n",
        "units = 1024\n",
        "vocab_inp_size = len(inp_lang.word_index)+1\n",
        "vocab_tar_size = len(targ_lang.word_index)+1\n",
        "\n",
        "dataset = tf.data.Dataset.from_tensor_slices((input_tensor_train, target_tensor_train)).shuffle(BUFFER_SIZE)\n",
        "dataset = dataset.batch(BATCH_SIZE, drop_remainder=True)"
      ],
      "execution_count": 19,
      "outputs": []
    },
    {
      "cell_type": "code",
      "metadata": {
        "id": "qc6-NK1GtWQt",
        "colab": {
          "base_uri": "https://localhost:8080/"
        },
        "outputId": "6aca72b6-fb7c-44fd-f807-253ea63e704f"
      },
      "source": [
        "example_input_batch, example_target_batch = next(iter(dataset))\n",
        "example_input_batch.shape, example_target_batch.shape"
      ],
      "execution_count": 20,
      "outputs": [
        {
          "output_type": "execute_result",
          "data": {
            "text/plain": [
              "(TensorShape([64, 15]), TensorShape([64, 11]))"
            ]
          },
          "metadata": {},
          "execution_count": 20
        }
      ]
    },
    {
      "cell_type": "code",
      "metadata": {
        "id": "nZ2rI24i3jFg"
      },
      "source": [
        "class Encoder(tf.keras.Model):\n",
        "  def __init__(self, vocab_size, embedding_dim, enc_units, batch_sz):\n",
        "    super(Encoder, self).__init__()\n",
        "    self.batch_sz = batch_sz\n",
        "    self.enc_units = enc_units\n",
        "    self.embedding = tf.keras.layers.Embedding(vocab_size, embedding_dim)\n",
        "    self.gru = tf.keras.layers.GRU(self.enc_units,\n",
        "                                   return_sequences=True,\n",
        "                                   return_state=True,\n",
        "                                   recurrent_initializer='glorot_uniform')\n",
        "\n",
        "  def call(self, x, hidden):\n",
        "    x = self.embedding(x)\n",
        "    output, state = self.gru(x, initial_state = hidden)\n",
        "    return output, state\n",
        "\n",
        "  def initialize_hidden_state(self):\n",
        "    return tf.zeros((self.batch_sz, self.enc_units))"
      ],
      "execution_count": 21,
      "outputs": []
    },
    {
      "cell_type": "code",
      "metadata": {
        "id": "60gSVh05Jl6l",
        "colab": {
          "base_uri": "https://localhost:8080/"
        },
        "outputId": "4360ce0d-9a83-44b0-9352-3e1f8b6c50e7"
      },
      "source": [
        "encoder = Encoder(vocab_inp_size, embedding_dim, units, BATCH_SIZE)\n",
        "\n",
        "# sample input\n",
        "sample_hidden = encoder.initialize_hidden_state()\n",
        "sample_output, sample_hidden = encoder(example_input_batch, sample_hidden)\n",
        "print ('Encoder output shape: (batch size, sequence length, units) {}'.format(sample_output.shape))\n",
        "print ('Encoder Hidden state shape: (batch size, units) {}'.format(sample_hidden.shape))"
      ],
      "execution_count": 22,
      "outputs": [
        {
          "output_type": "stream",
          "name": "stdout",
          "text": [
            "Encoder output shape: (batch size, sequence length, units) (64, 15, 1024)\n",
            "Encoder Hidden state shape: (batch size, units) (64, 1024)\n"
          ]
        }
      ]
    },
    {
      "cell_type": "code",
      "metadata": {
        "id": "YTyhL28Niqk1"
      },
      "source": [
        "class BahdanauAttention(tf.keras.layers.Layer):\n",
        "  def __init__(self, units):\n",
        "    super(BahdanauAttention, self).__init__()\n",
        "    self.W1 = tf.keras.layers.Dense(units)\n",
        "    self.W2 = tf.keras.layers.Dense(units)\n",
        "    self.V = tf.keras.layers.Dense(1)\n",
        "\n",
        "  def call(self, query, values):\n",
        "    # query hidden state shape == (batch_size, hidden size)\n",
        "    # query_with_time_axis shape == (batch_size, 1, hidden size)\n",
        "    # values shape == (batch_size, max_len, hidden size)   \n",
        "    # мы делаем это, чтобы транслировать сложение по оси времени для вычисления балла\n",
        "    query_with_time_axis = tf.expand_dims(query, 1)\n",
        "\n",
        "    # score shape == (batch_size, max_length, 1)\n",
        "    # мы получаем 1 на последней оси, потому что мы применяем оценку к self.V\n",
        "    # # форма тензора перед применением self.V равно (batch_size, max_length, units)\n",
        "    score = self.V(tf.nn.tanh(\n",
        "        self.W1(query_with_time_axis) + self.W2(values)))\n",
        "\n",
        "    # attention_weights shape == (batch_size, max_length, 1)\n",
        "    attention_weights = tf.nn.softmax(score, axis=1)\n",
        "\n",
        "    # context_vector shape after sum == (batch_size, hidden_size)\n",
        "    context_vector = attention_weights * values\n",
        "    context_vector = tf.reduce_sum(context_vector, axis=1)\n",
        "\n",
        "    return context_vector, attention_weights"
      ],
      "execution_count": 23,
      "outputs": []
    },
    {
      "cell_type": "code",
      "metadata": {
        "colab": {
          "base_uri": "https://localhost:8080/"
        },
        "id": "XUqssWcci1XJ",
        "outputId": "77e322bd-dd36-4701-dc49-f97b9727ae67"
      },
      "source": [
        "attention_layer = BahdanauAttention(10)\n",
        "attention_result, attention_weights = attention_layer(sample_hidden, sample_output)\n",
        "\n",
        "print(\"Attention result shape: (batch size, units) {}\".format(attention_result.shape))\n",
        "print(\"Attention weights shape: (batch_size, sequence_length, 1) {}\".format(attention_weights.shape))"
      ],
      "execution_count": 24,
      "outputs": [
        {
          "output_type": "stream",
          "name": "stdout",
          "text": [
            "Attention result shape: (batch size, units) (64, 1024)\n",
            "Attention weights shape: (batch_size, sequence_length, 1) (64, 15, 1)\n"
          ]
        }
      ]
    },
    {
      "cell_type": "code",
      "metadata": {
        "id": "yJ_B3mhW3jFk"
      },
      "source": [
        "class Decoder(tf.keras.Model):\n",
        "  def __init__(self, vocab_size, embedding_dim, dec_units, batch_sz):\n",
        "    super(Decoder, self).__init__()\n",
        "    self.batch_sz = batch_sz\n",
        "    self.dec_units = dec_units\n",
        "    self.embedding = tf.keras.layers.Embedding(vocab_size, embedding_dim)\n",
        "    self.gru = tf.keras.layers.GRU(self.dec_units,\n",
        "                                   return_sequences=True,\n",
        "                                   return_state=True,\n",
        "                                   recurrent_initializer='glorot_uniform')\n",
        "    self.fc = tf.keras.layers.Dense(vocab_size)\n",
        "\n",
        "    # used for attention\n",
        "    self.attention = BahdanauAttention(self.dec_units)\n",
        "\n",
        "  def call(self, x, hidden, enc_output):\n",
        "    # enc_output shape == (batch_size, max_length, hidden_size)\n",
        "    context_vector, attention_weights = self.attention(hidden, enc_output)\n",
        "\n",
        "    # x shape after passing through embedding == (batch_size, 1, embedding_dim)\n",
        "    x = self.embedding(x)\n",
        "\n",
        "    # x shape after concatenation == (batch_size, 1, embedding_dim + hidden_size)\n",
        "    x = tf.concat([tf.expand_dims(context_vector, 1), x], axis=-1)\n",
        "\n",
        "    # передача объединенного вектора в GRU\n",
        "    output, state = self.gru(x)\n",
        "\n",
        "    # output shape == (batch_size * 1, hidden_size)\n",
        "    output = tf.reshape(output, (-1, output.shape[2]))\n",
        "\n",
        "    # output shape == (batch_size, vocab)\n",
        "    x = self.fc(output)\n",
        "\n",
        "    return x, state, attention_weights"
      ],
      "execution_count": 25,
      "outputs": []
    },
    {
      "cell_type": "code",
      "metadata": {
        "id": "P5UY8wko3jFp",
        "colab": {
          "base_uri": "https://localhost:8080/"
        },
        "outputId": "72454b17-e417-48e4-e2c0-d78a37c7c652"
      },
      "source": [
        "decoder = Decoder(vocab_tar_size, embedding_dim, units, BATCH_SIZE)\n",
        "\n",
        "sample_decoder_output, _, _ = decoder(tf.random.uniform((BATCH_SIZE, 1)),\n",
        "                                      sample_hidden, sample_output)\n",
        "\n",
        "print ('Decoder output shape: (batch_size, vocab size) {}'.format(sample_decoder_output.shape))"
      ],
      "execution_count": 26,
      "outputs": [
        {
          "output_type": "stream",
          "name": "stdout",
          "text": [
            "Decoder output shape: (batch_size, vocab size) (64, 7362)\n"
          ]
        }
      ]
    },
    {
      "cell_type": "markdown",
      "metadata": {
        "id": "_ch_71VbIRfK"
      },
      "source": [
        "## Определим оптимизатор и функцию потерь"
      ]
    },
    {
      "cell_type": "code",
      "metadata": {
        "id": "WmTHr5iV3jFr"
      },
      "source": [
        "optimizer = tf.keras.optimizers.Adam()\n",
        "loss_object = tf.keras.losses.SparseCategoricalCrossentropy(\n",
        "    from_logits=True, reduction='none')\n",
        "\n",
        "def loss_function(real, pred):\n",
        "  mask = tf.math.logical_not(tf.math.equal(real, 0))\n",
        "  loss_ = loss_object(real, pred)\n",
        "\n",
        "  mask = tf.cast(mask, dtype=loss_.dtype)\n",
        "  loss_ *= mask\n",
        "\n",
        "  return tf.reduce_mean(loss_)"
      ],
      "execution_count": 27,
      "outputs": []
    },
    {
      "cell_type": "markdown",
      "metadata": {
        "id": "DMVWzzsfNl4e"
      },
      "source": [
        "## Checkpoints (Object-based saving)"
      ]
    },
    {
      "cell_type": "code",
      "metadata": {
        "id": "Zj8bXQTgNwrF"
      },
      "source": [
        "checkpoint_dir = './training_attention_checkpoints'\n",
        "checkpoint_prefix = os.path.join(checkpoint_dir, \"ckpt\")\n",
        "checkpoint = tf.train.Checkpoint(optimizer=optimizer,\n",
        "                                 encoder=encoder,\n",
        "                                 decoder=decoder)"
      ],
      "execution_count": 28,
      "outputs": []
    },
    {
      "cell_type": "code",
      "metadata": {
        "id": "sC9ArXSsVfqn"
      },
      "source": [
        "@tf.function\n",
        "def train_step(inp, targ, enc_hidden):\n",
        "  loss = 0\n",
        "\n",
        "  with tf.GradientTape() as tape:\n",
        "    enc_output, enc_hidden = encoder(inp, enc_hidden)\n",
        "\n",
        "    dec_hidden = enc_hidden\n",
        "\n",
        "    dec_input = tf.expand_dims([targ_lang.word_index['<start>']] * BATCH_SIZE, 1)\n",
        "\n",
        "    # Teacher forcing - ввод таргета в качестве следующего входного сигнала\n",
        "    for t in range(1, targ.shape[1]):\n",
        "      # проброс enc_output в decoder\n",
        "      predictions, dec_hidden, _ = decoder(dec_input, dec_hidden, enc_output)\n",
        "\n",
        "      loss += loss_function(targ[:, t], predictions)\n",
        "\n",
        "      # использование teacher forcing\n",
        "      dec_input = tf.expand_dims(targ[:, t], 1)\n",
        "\n",
        "  batch_loss = (loss / int(targ.shape[1]))\n",
        "\n",
        "  variables = encoder.trainable_variables + decoder.trainable_variables\n",
        "\n",
        "  gradients = tape.gradient(loss, variables)\n",
        "\n",
        "  optimizer.apply_gradients(zip(gradients, variables))\n",
        "\n",
        "  return batch_loss"
      ],
      "execution_count": 29,
      "outputs": []
    },
    {
      "cell_type": "code",
      "metadata": {
        "id": "ddefjBMa3jF0",
        "colab": {
          "base_uri": "https://localhost:8080/"
        },
        "outputId": "4c402df3-624b-4c77-f9e2-d614f0228fbb"
      },
      "source": [
        "%%time\n",
        "\n",
        "EPOCHS = 15\n",
        "\n",
        "for epoch in range(EPOCHS):\n",
        "  start = time.time()\n",
        "\n",
        "  enc_hidden = encoder.initialize_hidden_state()\n",
        "  total_loss = 0\n",
        "\n",
        "  for (batch, (inp, targ)) in enumerate(dataset.take(steps_per_epoch)):\n",
        "    batch_loss = train_step(inp, targ, enc_hidden)\n",
        "    total_loss += batch_loss\n",
        "\n",
        "    if batch % 100 == 0:\n",
        "      print('Epoch {} Batch {} Loss {:.4f}'.format(epoch + 1,\n",
        "                                                   batch,\n",
        "                                                   batch_loss.numpy()))\n",
        "  # сохраняем (checkpoint) модель каждые 2 эпохи\n",
        "  if (epoch + 1) % 2 == 0:\n",
        "    checkpoint.save(file_prefix = checkpoint_prefix)\n",
        "\n",
        "  print('Epoch {} Loss {:.4f}'.format(epoch + 1,\n",
        "                                      total_loss / steps_per_epoch))\n",
        "  print('Time taken for 1 epoch {} sec\\n'.format(time.time() - start))"
      ],
      "execution_count": 30,
      "outputs": [
        {
          "output_type": "stream",
          "name": "stdout",
          "text": [
            "Epoch 1 Batch 0 Loss 4.6288\n",
            "Epoch 1 Batch 100 Loss 2.1812\n",
            "Epoch 1 Batch 200 Loss 1.7445\n",
            "Epoch 1 Batch 300 Loss 1.7338\n",
            "Epoch 1 Batch 400 Loss 1.5353\n",
            "Epoch 1 Batch 500 Loss 1.5323\n",
            "Epoch 1 Batch 600 Loss 1.4231\n",
            "Epoch 1 Batch 700 Loss 1.3557\n",
            "Epoch 1 Batch 800 Loss 1.3046\n",
            "Epoch 1 Batch 900 Loss 1.1441\n",
            "Epoch 1 Batch 1000 Loss 1.1485\n",
            "Epoch 1 Batch 1100 Loss 0.9412\n",
            "Epoch 1 Batch 1200 Loss 1.1029\n",
            "Epoch 1 Loss 1.4813\n",
            "Time taken for 1 epoch 125.60211539268494 sec\n",
            "\n",
            "Epoch 2 Batch 0 Loss 0.9335\n",
            "Epoch 2 Batch 100 Loss 0.7797\n",
            "Epoch 2 Batch 200 Loss 0.7251\n",
            "Epoch 2 Batch 300 Loss 0.6422\n",
            "Epoch 2 Batch 400 Loss 0.8735\n",
            "Epoch 2 Batch 500 Loss 0.7005\n",
            "Epoch 2 Batch 600 Loss 0.6538\n",
            "Epoch 2 Batch 700 Loss 0.5894\n",
            "Epoch 2 Batch 800 Loss 0.5971\n",
            "Epoch 2 Batch 900 Loss 0.6157\n",
            "Epoch 2 Batch 1000 Loss 0.6544\n",
            "Epoch 2 Batch 1100 Loss 0.4860\n",
            "Epoch 2 Batch 1200 Loss 0.4455\n",
            "Epoch 2 Loss 0.6573\n",
            "Time taken for 1 epoch 98.51700711250305 sec\n",
            "\n",
            "Epoch 3 Batch 0 Loss 0.3256\n",
            "Epoch 3 Batch 100 Loss 0.3247\n",
            "Epoch 3 Batch 200 Loss 0.3679\n",
            "Epoch 3 Batch 300 Loss 0.4121\n",
            "Epoch 3 Batch 400 Loss 0.3422\n",
            "Epoch 3 Batch 500 Loss 0.3972\n",
            "Epoch 3 Batch 600 Loss 0.4144\n",
            "Epoch 3 Batch 700 Loss 0.3033\n",
            "Epoch 3 Batch 800 Loss 0.2572\n",
            "Epoch 3 Batch 900 Loss 0.3939\n",
            "Epoch 3 Batch 1000 Loss 0.2991\n",
            "Epoch 3 Batch 1100 Loss 0.3184\n",
            "Epoch 3 Batch 1200 Loss 0.3388\n",
            "Epoch 3 Loss 0.3427\n",
            "Time taken for 1 epoch 94.74785208702087 sec\n",
            "\n",
            "Epoch 4 Batch 0 Loss 0.1973\n",
            "Epoch 4 Batch 100 Loss 0.2081\n",
            "Epoch 4 Batch 200 Loss 0.2185\n",
            "Epoch 4 Batch 300 Loss 0.1922\n",
            "Epoch 4 Batch 400 Loss 0.1535\n",
            "Epoch 4 Batch 500 Loss 0.1945\n",
            "Epoch 4 Batch 600 Loss 0.1980\n",
            "Epoch 4 Batch 700 Loss 0.2377\n",
            "Epoch 4 Batch 800 Loss 0.2349\n",
            "Epoch 4 Batch 900 Loss 0.2789\n",
            "Epoch 4 Batch 1000 Loss 0.2380\n",
            "Epoch 4 Batch 1100 Loss 0.2083\n",
            "Epoch 4 Batch 1200 Loss 0.2044\n",
            "Epoch 4 Loss 0.2103\n",
            "Time taken for 1 epoch 100.5558533668518 sec\n",
            "\n",
            "Epoch 5 Batch 0 Loss 0.1283\n",
            "Epoch 5 Batch 100 Loss 0.1942\n",
            "Epoch 5 Batch 200 Loss 0.1289\n",
            "Epoch 5 Batch 300 Loss 0.1407\n",
            "Epoch 5 Batch 400 Loss 0.1353\n",
            "Epoch 5 Batch 500 Loss 0.1400\n",
            "Epoch 5 Batch 600 Loss 0.1828\n",
            "Epoch 5 Batch 700 Loss 0.1852\n",
            "Epoch 5 Batch 800 Loss 0.1461\n",
            "Epoch 5 Batch 900 Loss 0.1691\n",
            "Epoch 5 Batch 1000 Loss 0.1723\n",
            "Epoch 5 Batch 1100 Loss 0.1493\n",
            "Epoch 5 Batch 1200 Loss 0.1437\n",
            "Epoch 5 Loss 0.1491\n",
            "Time taken for 1 epoch 94.55734205245972 sec\n",
            "\n",
            "Epoch 6 Batch 0 Loss 0.0633\n",
            "Epoch 6 Batch 100 Loss 0.0832\n",
            "Epoch 6 Batch 200 Loss 0.1276\n",
            "Epoch 6 Batch 300 Loss 0.1117\n",
            "Epoch 6 Batch 400 Loss 0.1154\n",
            "Epoch 6 Batch 500 Loss 0.1142\n",
            "Epoch 6 Batch 600 Loss 0.1214\n",
            "Epoch 6 Batch 700 Loss 0.0765\n",
            "Epoch 6 Batch 800 Loss 0.1265\n",
            "Epoch 6 Batch 900 Loss 0.1167\n",
            "Epoch 6 Batch 1000 Loss 0.1207\n",
            "Epoch 6 Batch 1100 Loss 0.0841\n",
            "Epoch 6 Batch 1200 Loss 0.1593\n",
            "Epoch 6 Loss 0.1156\n",
            "Time taken for 1 epoch 100.12512993812561 sec\n",
            "\n",
            "Epoch 7 Batch 0 Loss 0.0892\n",
            "Epoch 7 Batch 100 Loss 0.0666\n",
            "Epoch 7 Batch 200 Loss 0.0876\n",
            "Epoch 7 Batch 300 Loss 0.1165\n",
            "Epoch 7 Batch 400 Loss 0.0862\n",
            "Epoch 7 Batch 500 Loss 0.1104\n",
            "Epoch 7 Batch 600 Loss 0.0459\n",
            "Epoch 7 Batch 700 Loss 0.0911\n",
            "Epoch 7 Batch 800 Loss 0.0717\n",
            "Epoch 7 Batch 900 Loss 0.0955\n",
            "Epoch 7 Batch 1000 Loss 0.0975\n",
            "Epoch 7 Batch 1100 Loss 0.0913\n",
            "Epoch 7 Batch 1200 Loss 0.1078\n",
            "Epoch 7 Loss 0.0980\n",
            "Time taken for 1 epoch 94.29982662200928 sec\n",
            "\n",
            "Epoch 8 Batch 0 Loss 0.0500\n",
            "Epoch 8 Batch 100 Loss 0.0475\n",
            "Epoch 8 Batch 200 Loss 0.0564\n",
            "Epoch 8 Batch 300 Loss 0.0387\n",
            "Epoch 8 Batch 400 Loss 0.0607\n",
            "Epoch 8 Batch 500 Loss 0.0829\n",
            "Epoch 8 Batch 600 Loss 0.0826\n",
            "Epoch 8 Batch 700 Loss 0.0707\n",
            "Epoch 8 Batch 800 Loss 0.0943\n",
            "Epoch 8 Batch 900 Loss 0.1107\n",
            "Epoch 8 Batch 1000 Loss 0.1233\n",
            "Epoch 8 Batch 1100 Loss 0.0738\n",
            "Epoch 8 Batch 1200 Loss 0.0919\n",
            "Epoch 8 Loss 0.0873\n",
            "Time taken for 1 epoch 100.01870632171631 sec\n",
            "\n",
            "Epoch 9 Batch 0 Loss 0.0643\n",
            "Epoch 9 Batch 100 Loss 0.0485\n",
            "Epoch 9 Batch 200 Loss 0.1140\n",
            "Epoch 9 Batch 300 Loss 0.0727\n",
            "Epoch 9 Batch 400 Loss 0.0744\n",
            "Epoch 9 Batch 500 Loss 0.0973\n",
            "Epoch 9 Batch 600 Loss 0.0898\n",
            "Epoch 9 Batch 700 Loss 0.0914\n",
            "Epoch 9 Batch 800 Loss 0.0779\n",
            "Epoch 9 Batch 900 Loss 0.1094\n",
            "Epoch 9 Batch 1000 Loss 0.1171\n",
            "Epoch 9 Batch 1100 Loss 0.1123\n",
            "Epoch 9 Batch 1200 Loss 0.0827\n",
            "Epoch 9 Loss 0.0807\n",
            "Time taken for 1 epoch 94.28891348838806 sec\n",
            "\n",
            "Epoch 10 Batch 0 Loss 0.0533\n",
            "Epoch 10 Batch 100 Loss 0.0560\n",
            "Epoch 10 Batch 200 Loss 0.0737\n",
            "Epoch 10 Batch 300 Loss 0.0737\n",
            "Epoch 10 Batch 400 Loss 0.0651\n",
            "Epoch 10 Batch 500 Loss 0.0785\n",
            "Epoch 10 Batch 600 Loss 0.0540\n",
            "Epoch 10 Batch 700 Loss 0.1009\n",
            "Epoch 10 Batch 800 Loss 0.0659\n",
            "Epoch 10 Batch 900 Loss 0.0705\n",
            "Epoch 10 Batch 1000 Loss 0.0681\n",
            "Epoch 10 Batch 1100 Loss 0.0966\n",
            "Epoch 10 Batch 1200 Loss 0.0714\n",
            "Epoch 10 Loss 0.0752\n",
            "Time taken for 1 epoch 100.04293918609619 sec\n",
            "\n",
            "Epoch 11 Batch 0 Loss 0.0695\n",
            "Epoch 11 Batch 100 Loss 0.0569\n",
            "Epoch 11 Batch 200 Loss 0.0499\n",
            "Epoch 11 Batch 300 Loss 0.0480\n",
            "Epoch 11 Batch 400 Loss 0.0595\n",
            "Epoch 11 Batch 500 Loss 0.0602\n",
            "Epoch 11 Batch 600 Loss 0.1285\n",
            "Epoch 11 Batch 700 Loss 0.0729\n",
            "Epoch 11 Batch 800 Loss 0.1141\n",
            "Epoch 11 Batch 900 Loss 0.0796\n",
            "Epoch 11 Batch 1000 Loss 0.0495\n",
            "Epoch 11 Batch 1100 Loss 0.0742\n",
            "Epoch 11 Batch 1200 Loss 0.0661\n",
            "Epoch 11 Loss 0.0713\n",
            "Time taken for 1 epoch 94.2143726348877 sec\n",
            "\n",
            "Epoch 12 Batch 0 Loss 0.0575\n",
            "Epoch 12 Batch 100 Loss 0.0904\n",
            "Epoch 12 Batch 200 Loss 0.0641\n",
            "Epoch 12 Batch 300 Loss 0.0534\n",
            "Epoch 12 Batch 400 Loss 0.0567\n",
            "Epoch 12 Batch 500 Loss 0.0545\n",
            "Epoch 12 Batch 600 Loss 0.0504\n",
            "Epoch 12 Batch 700 Loss 0.0631\n",
            "Epoch 12 Batch 800 Loss 0.0558\n",
            "Epoch 12 Batch 900 Loss 0.0656\n",
            "Epoch 12 Batch 1000 Loss 0.0725\n",
            "Epoch 12 Batch 1100 Loss 0.0947\n",
            "Epoch 12 Batch 1200 Loss 0.0870\n",
            "Epoch 12 Loss 0.0684\n",
            "Time taken for 1 epoch 99.94378304481506 sec\n",
            "\n",
            "Epoch 13 Batch 0 Loss 0.0605\n",
            "Epoch 13 Batch 100 Loss 0.0517\n",
            "Epoch 13 Batch 200 Loss 0.0386\n",
            "Epoch 13 Batch 300 Loss 0.0799\n",
            "Epoch 13 Batch 400 Loss 0.0485\n",
            "Epoch 13 Batch 500 Loss 0.0594\n",
            "Epoch 13 Batch 600 Loss 0.0655\n",
            "Epoch 13 Batch 700 Loss 0.1123\n",
            "Epoch 13 Batch 800 Loss 0.0991\n",
            "Epoch 13 Batch 900 Loss 0.0864\n",
            "Epoch 13 Batch 1000 Loss 0.0776\n",
            "Epoch 13 Batch 1100 Loss 0.0716\n",
            "Epoch 13 Batch 1200 Loss 0.1105\n",
            "Epoch 13 Loss 0.0648\n",
            "Time taken for 1 epoch 94.09973430633545 sec\n",
            "\n",
            "Epoch 14 Batch 0 Loss 0.0283\n",
            "Epoch 14 Batch 100 Loss 0.0427\n",
            "Epoch 14 Batch 200 Loss 0.0675\n",
            "Epoch 14 Batch 300 Loss 0.0444\n",
            "Epoch 14 Batch 400 Loss 0.0569\n",
            "Epoch 14 Batch 500 Loss 0.0831\n",
            "Epoch 14 Batch 600 Loss 0.0852\n",
            "Epoch 14 Batch 700 Loss 0.0609\n",
            "Epoch 14 Batch 800 Loss 0.0614\n",
            "Epoch 14 Batch 900 Loss 0.0847\n",
            "Epoch 14 Batch 1000 Loss 0.0767\n",
            "Epoch 14 Batch 1100 Loss 0.0810\n",
            "Epoch 14 Batch 1200 Loss 0.0593\n",
            "Epoch 14 Loss 0.0621\n",
            "Time taken for 1 epoch 96.30732369422913 sec\n",
            "\n",
            "Epoch 15 Batch 0 Loss 0.0401\n",
            "Epoch 15 Batch 100 Loss 0.0620\n",
            "Epoch 15 Batch 200 Loss 0.0677\n",
            "Epoch 15 Batch 300 Loss 0.0575\n",
            "Epoch 15 Batch 400 Loss 0.0462\n",
            "Epoch 15 Batch 500 Loss 0.0786\n",
            "Epoch 15 Batch 600 Loss 0.0337\n",
            "Epoch 15 Batch 700 Loss 0.0768\n",
            "Epoch 15 Batch 800 Loss 0.0809\n",
            "Epoch 15 Batch 900 Loss 0.0653\n",
            "Epoch 15 Batch 1000 Loss 0.0899\n",
            "Epoch 15 Batch 1100 Loss 0.0698\n",
            "Epoch 15 Batch 1200 Loss 0.0553\n",
            "Epoch 15 Loss 0.0603\n",
            "Time taken for 1 epoch 94.39054489135742 sec\n",
            "\n",
            "CPU times: user 10min 48s, sys: 1min, total: 11min 49s\n",
            "Wall time: 24min 41s\n"
          ]
        }
      ]
    },
    {
      "cell_type": "markdown",
      "metadata": {
        "id": "mU3Ce8M6I3rz"
      },
      "source": [
        "## Перевод\n",
        "\n",
        "* Функция оценки аналогична циклу обучения, за исключением того, что здесь мы не используем \"teacher forcing\". Входными данными для декодера на каждом временном шаге являются его предыдущие предсказания вместе со скрытым состоянием и выходными данными кодера.\n",
        "* Прекратить прогнозирование, когда модель предскажет *конечный токен*.\n",
        "* И сохранить значения *веса внимания для каждого временного шага*.\n",
        "\n",
        "Примечание: Выходной сигнал энкодера вычисляется только один раз для одного входа."
      ]
    },
    {
      "cell_type": "code",
      "metadata": {
        "id": "EbQpyYs13jF_"
      },
      "source": [
        "def evaluate(sentence):\n",
        "  attention_plot = np.zeros((max_length_targ, max_length_inp))\n",
        "\n",
        "  sentence = preprocess_sentence(sentence)\n",
        "\n",
        "  inputs = [inp_lang.word_index[i] for i in sentence.split(' ')]\n",
        "  inputs = tf.keras.preprocessing.sequence.pad_sequences([inputs],\n",
        "                                                         maxlen=max_length_inp,\n",
        "                                                         padding='post')\n",
        "  inputs = tf.convert_to_tensor(inputs)\n",
        "\n",
        "  result = ''\n",
        "\n",
        "  hidden = [tf.zeros((1, units))]\n",
        "  enc_out, enc_hidden = encoder(inputs, hidden)\n",
        "\n",
        "  dec_hidden = enc_hidden\n",
        "  dec_input = tf.expand_dims([targ_lang.word_index['<start>']], 0)\n",
        "\n",
        "  for t in range(max_length_targ):\n",
        "    predictions, dec_hidden, attention_weights = decoder(dec_input,\n",
        "                                                         dec_hidden,\n",
        "                                                         enc_out)\n",
        "\n",
        "    # сохранение весов внимания для последующего построения графика\n",
        "    attention_weights = tf.reshape(attention_weights, (-1, ))\n",
        "    attention_plot[t] = attention_weights.numpy()\n",
        "\n",
        "    predicted_id = tf.argmax(predictions[0]).numpy()\n",
        "\n",
        "    result += targ_lang.index_word[predicted_id] + ' '\n",
        "\n",
        "    if targ_lang.index_word[predicted_id] == '<end>':\n",
        "      return result, sentence, attention_plot\n",
        "\n",
        "    # прогнозируемый идентификатор вводится обратно в модель\n",
        "    dec_input = tf.expand_dims([predicted_id], 0)\n",
        "\n",
        "  return result, sentence, attention_plot"
      ],
      "execution_count": 31,
      "outputs": []
    },
    {
      "cell_type": "code",
      "metadata": {
        "id": "Qjy26Fe8Bv5d"
      },
      "source": [
        "# функция для печати весов внимания\n",
        "def plot_attention(attention, sentence, predicted_sentence):\n",
        "  fig = plt.figure(figsize=(10,10))\n",
        "  ax = fig.add_subplot(1, 1, 1)\n",
        "  ax.matshow(attention, cmap='viridis')\n",
        "\n",
        "  fontdict = {'fontsize': 14}\n",
        "\n",
        "  ax.set_xticklabels([''] + sentence, fontdict=fontdict, rotation=90)\n",
        "  ax.set_yticklabels([''] + predicted_sentence, fontdict=fontdict)\n",
        "\n",
        "  ax.xaxis.set_major_locator(ticker.MultipleLocator(1))\n",
        "  ax.yaxis.set_major_locator(ticker.MultipleLocator(1))\n",
        "\n",
        "  plt.show()"
      ],
      "execution_count": 32,
      "outputs": []
    },
    {
      "cell_type": "code",
      "metadata": {
        "id": "sl9zUHzg3jGI"
      },
      "source": [
        "def translate(sentence):\n",
        "  result, sentence, attention_plot = evaluate(sentence)\n",
        "\n",
        "  print('Input: %s' % (sentence))\n",
        "  print('Predicted translation: {}'.format(result))\n",
        "\n",
        "  attention_plot = attention_plot[:len(result.split(' ')), :len(sentence.split(' '))]\n",
        "  plot_attention(attention_plot, sentence.split(' '), result.split(' '))"
      ],
      "execution_count": 33,
      "outputs": []
    },
    {
      "cell_type": "markdown",
      "metadata": {
        "id": "n250XbnjOaqP"
      },
      "source": [
        "## Восстановим последнюю контрольную точку и протестируем"
      ]
    },
    {
      "cell_type": "code",
      "metadata": {
        "id": "UJpT9D5_OgP6",
        "colab": {
          "base_uri": "https://localhost:8080/"
        },
        "outputId": "a2d45833-8276-4e6c-d83a-2e1ddf85fbc6"
      },
      "source": [
        "# восстановим последнюю контрольную точку из checkpoint_dir\n",
        "checkpoint.restore(tf.train.latest_checkpoint(checkpoint_dir))"
      ],
      "execution_count": 34,
      "outputs": [
        {
          "output_type": "execute_result",
          "data": {
            "text/plain": [
              "<tensorflow.python.checkpoint.checkpoint.CheckpointLoadStatus at 0x7f5cf68b1270>"
            ]
          },
          "metadata": {},
          "execution_count": 34
        }
      ]
    },
    {
      "cell_type": "code",
      "metadata": {
        "id": "WrAM0FDomq3E",
        "colab": {
          "base_uri": "https://localhost:8080/",
          "height": 1000
        },
        "outputId": "ec90b49c-3e8b-4d49-c99f-b664c3f1cab1"
      },
      "source": [
        "translate('Здесь хорошо.')"
      ],
      "execution_count": 35,
      "outputs": [
        {
          "output_type": "stream",
          "name": "stdout",
          "text": [
            "Input: <start> здесь хорошо . <end>\n",
            "Predicted translation: it's fine here . <end> \n"
          ]
        },
        {
          "output_type": "stream",
          "name": "stderr",
          "text": [
            "<ipython-input-32-d1c5afd39da3>:9: UserWarning: FixedFormatter should only be used together with FixedLocator\n",
            "  ax.set_xticklabels([''] + sentence, fontdict=fontdict, rotation=90)\n",
            "<ipython-input-32-d1c5afd39da3>:10: UserWarning: FixedFormatter should only be used together with FixedLocator\n",
            "  ax.set_yticklabels([''] + predicted_sentence, fontdict=fontdict)\n"
          ]
        },
        {
          "output_type": "display_data",
          "data": {
            "text/plain": [
              "<Figure size 1000x1000 with 1 Axes>"
            ],
            "image/png": "[encoded data removed]"
          },
          "metadata": {}
        }
      ]
    },
    {
      "cell_type": "code",
      "metadata": {
        "id": "5bhFfwcIMX5i",
        "colab": {
          "base_uri": "https://localhost:8080/",
          "height": 908
        },
        "outputId": "634cf9fd-819c-458b-bc1f-5a799bd83c84"
      },
      "source": [
        "translate('Я не смогу поехать.')"
      ],
      "execution_count": 36,
      "outputs": [
        {
          "output_type": "stream",
          "name": "stdout",
          "text": [
            "Input: <start> я не смогу поехать . <end>\n",
            "Predicted translation: i can't go . <end> \n"
          ]
        },
        {
          "output_type": "stream",
          "name": "stderr",
          "text": [
            "<ipython-input-32-d1c5afd39da3>:9: UserWarning: FixedFormatter should only be used together with FixedLocator\n",
            "  ax.set_xticklabels([''] + sentence, fontdict=fontdict, rotation=90)\n",
            "<ipython-input-32-d1c5afd39da3>:10: UserWarning: FixedFormatter should only be used together with FixedLocator\n",
            "  ax.set_yticklabels([''] + predicted_sentence, fontdict=fontdict)\n"
          ]
        },
        {
          "output_type": "display_data",
          "data": {
            "text/plain": [
              "<Figure size 1000x1000 with 1 Axes>"
            ],
            "image/png": "[encoded data removed]"
          },
          "metadata": {}
        }
      ]
    },
    {
      "cell_type": "code",
      "metadata": {
        "id": "zSx2iM36EZQZ",
        "colab": {
          "base_uri": "https://localhost:8080/",
          "height": 1000
        },
        "outputId": "2dd4d03d-3f7d-489d-da4b-258b77dd9e3f"
      },
      "source": [
        "translate(u'Вы еще дома?')"
      ],
      "execution_count": 37,
      "outputs": [
        {
          "output_type": "stream",
          "name": "stdout",
          "text": [
            "Input: <start> вы еще дома ? <end>\n",
            "Predicted translation: are you still home ? <end> \n"
          ]
        },
        {
          "output_type": "stream",
          "name": "stderr",
          "text": [
            "<ipython-input-32-d1c5afd39da3>:9: UserWarning: FixedFormatter should only be used together with FixedLocator\n",
            "  ax.set_xticklabels([''] + sentence, fontdict=fontdict, rotation=90)\n",
            "<ipython-input-32-d1c5afd39da3>:10: UserWarning: FixedFormatter should only be used together with FixedLocator\n",
            "  ax.set_yticklabels([''] + predicted_sentence, fontdict=fontdict)\n"
          ]
        },
        {
          "output_type": "display_data",
          "data": {
            "text/plain": [
              "<Figure size 1000x1000 with 1 Axes>"
            ],
            "image/png": "[encoded data removed]"
          },
          "metadata": {}
        }
      ]
    },
    {
      "cell_type": "code",
      "metadata": {
        "id": "A3LLCx3ZE0Ls",
        "colab": {
          "base_uri": "https://localhost:8080/",
          "height": 1000
        },
        "outputId": "f9b13978-8068-43c3-80e0-290859d96024"
      },
      "source": [
        "translate(u'Вы все еще дома?')"
      ],
      "execution_count": 38,
      "outputs": [
        {
          "output_type": "stream",
          "name": "stdout",
          "text": [
            "Input: <start> вы все еще дома ? <end>\n",
            "Predicted translation: are you still home ? <end> \n"
          ]
        },
        {
          "output_type": "stream",
          "name": "stderr",
          "text": [
            "<ipython-input-32-d1c5afd39da3>:9: UserWarning: FixedFormatter should only be used together with FixedLocator\n",
            "  ax.set_xticklabels([''] + sentence, fontdict=fontdict, rotation=90)\n",
            "<ipython-input-32-d1c5afd39da3>:10: UserWarning: FixedFormatter should only be used together with FixedLocator\n",
            "  ax.set_yticklabels([''] + predicted_sentence, fontdict=fontdict)\n"
          ]
        },
        {
          "output_type": "display_data",
          "data": {
            "text/plain": [
              "<Figure size 1000x1000 with 1 Axes>"
            ],
            "image/png": "[encoded data removed]"
          },
          "metadata": {}
        }
      ]
    },
    {
      "cell_type": "code",
      "metadata": {
        "id": "DUQVLVqUE1YW",
        "colab": {
          "base_uri": "https://localhost:8080/",
          "height": 1000
        },
        "outputId": "374f0dc5-a480-42b0-b52e-25929194059a"
      },
      "source": [
        "translate(u'Попробуй сделать это.')"
      ],
      "execution_count": 39,
      "outputs": [
        {
          "output_type": "stream",
          "name": "stdout",
          "text": [
            "Input: <start> попробуй сделать это . <end>\n",
            "Predicted translation: try to do it . <end> \n"
          ]
        },
        {
          "output_type": "stream",
          "name": "stderr",
          "text": [
            "<ipython-input-32-d1c5afd39da3>:9: UserWarning: FixedFormatter should only be used together with FixedLocator\n",
            "  ax.set_xticklabels([''] + sentence, fontdict=fontdict, rotation=90)\n",
            "<ipython-input-32-d1c5afd39da3>:10: UserWarning: FixedFormatter should only be used together with FixedLocator\n",
            "  ax.set_yticklabels([''] + predicted_sentence, fontdict=fontdict)\n"
          ]
        },
        {
          "output_type": "display_data",
          "data": {
            "text/plain": [
              "<Figure size 1000x1000 with 1 Axes>"
            ],
            "image/png": "[encoded data removed]"
          },
          "metadata": {}
        }
      ]
    },
    {
      "cell_type": "code",
      "metadata": {
        "id": "f09_hUFx9EJh",
        "colab": {
          "base_uri": "https://localhost:8080/",
          "height": 859
        },
        "outputId": "5ab98068-7d09-48b9-a974-c1516f70f077"
      },
      "source": [
        "translate(u'Я не люблю, когда идет снег.')"
      ],
      "execution_count": 40,
      "outputs": [
        {
          "output_type": "stream",
          "name": "stdout",
          "text": [
            "Input: <start> я не люблю , когда идет снег . <end>\n",
            "Predicted translation: i don't like tom sing . <end> \n"
          ]
        },
        {
          "output_type": "stream",
          "name": "stderr",
          "text": [
            "<ipython-input-32-d1c5afd39da3>:9: UserWarning: FixedFormatter should only be used together with FixedLocator\n",
            "  ax.set_xticklabels([''] + sentence, fontdict=fontdict, rotation=90)\n",
            "<ipython-input-32-d1c5afd39da3>:10: UserWarning: FixedFormatter should only be used together with FixedLocator\n",
            "  ax.set_yticklabels([''] + predicted_sentence, fontdict=fontdict)\n"
          ]
        },
        {
          "output_type": "display_data",
          "data": {
            "text/plain": [
              "<Figure size 1000x1000 with 1 Axes>"
            ],
            "image/png": "[encoded data removed]"
          },
          "metadata": {}
        }
      ]
    },
    {
      "cell_type": "code",
      "metadata": {
        "id": "e7c5p8rmkHQG",
        "colab": {
          "base_uri": "https://localhost:8080/",
          "height": 924
        },
        "outputId": "f37e8d3c-2cdc-4e23-c15b-d4063c576bd6"
      },
      "source": [
        "translate(u'Я никогда такого не делаю.')"
      ],
      "execution_count": 41,
      "outputs": [
        {
          "output_type": "stream",
          "name": "stdout",
          "text": [
            "Input: <start> я никогда такого не делаю . <end>\n",
            "Predicted translation: i never do that . <end> \n"
          ]
        },
        {
          "output_type": "stream",
          "name": "stderr",
          "text": [
            "<ipython-input-32-d1c5afd39da3>:9: UserWarning: FixedFormatter should only be used together with FixedLocator\n",
            "  ax.set_xticklabels([''] + sentence, fontdict=fontdict, rotation=90)\n",
            "<ipython-input-32-d1c5afd39da3>:10: UserWarning: FixedFormatter should only be used together with FixedLocator\n",
            "  ax.set_yticklabels([''] + predicted_sentence, fontdict=fontdict)\n"
          ]
        },
        {
          "output_type": "display_data",
          "data": {
            "text/plain": [
              "<Figure size 1000x1000 with 1 Axes>"
            ],
            "image/png": "[encoded data removed]"
          },
          "metadata": {}
        }
      ]
    },
    {
      "cell_type": "markdown",
      "source": [
        "**Вывод:**  \n",
        "\n",
        "По сравнению с обучением без механизма внимания, обучение проходит в 1,5 - 2 раза дольше.  \n",
        "Видно, что короткие предложения переводятся также достаточно хорошо. На длинных текстах (два последних) я не заметил особого улучшения. ИМХО, даже хуже. Вероятно, это из-за малого количества эпох. Если учеличить их более 15-ти качество будет повыше."
      ],
      "metadata": {
        "id": "XOTo2bQSFAwF"
      }
    },
    {
      "cell_type": "code",
      "source": [],
      "metadata": {
        "id": "uaJTKYeuFrMp"
      },
      "execution_count": null,
      "outputs": []
    }
  ]
}