{
  "cells": [
    {
      "cell_type": "markdown",
      "metadata": {
        "id": "view-in-github",
        "colab_type": "text"
      },
      "source": [
        "<a href=\"https://colab.research.google.com/github/alvlagus/Introduction_to_NLP_GB/blob/Lesson_7/gusev_NLP_HW_7.ipynb\" target=\"_parent\"><img src=\"https://colab.research.google.com/assets/colab-badge.svg\" alt=\"Open In Colab\"/></a>"
      ]
    },
    {
      "cell_type": "markdown",
      "metadata": {
        "id": "2NzKxbJYNUvi"
      },
      "source": [
        "<h1 align='center'>Введение в обработку естественного языка</h1>  "
      ]
    },
    {
      "cell_type": "markdown",
      "metadata": {
        "id": "0NQPkTf_NUvz"
      },
      "source": [
        "<h2 align='center'>Урок 2. Создание признакового пространства</h2>  "
      ]
    },
    {
      "cell_type": "markdown",
      "metadata": {
        "tags": [],
        "id": "s7PfQR95NUv1"
      },
      "source": [
        "<h3 align='left'>Практическое задание:</h3>  \n",
        "\n",
        "Берем отызывы за лето (из архива с материалами или предыдущего занятия)\n",
        "1. Учим conv сеть для классификации\n",
        "2. Рассмотреть 2-а варианта сеточек  \n",
        "\n",
        "    2.1 Инициализировать tf.keras.layers.Embedding предобученными векторами взять к примеру с https://rusvectores.org/ru/\n",
        "    \n",
        "    2.2 Инициализировать слой tf.keras.layers.Embedding по умолчанию (ну то есть вам ничего не делать с весами)\n",
        " \t\t\t\t\n",
        "Сравнить две архитектуры с предобученными весами и когда tf.keras.layers.Embedding обучается сразу со всей сеточкой, что получилось лучше"
      ]
    },
    {
      "cell_type": "markdown",
      "source": [
        "###Загружаем библиотеки:"
      ],
      "metadata": {
        "id": "STnArECqPFhK"
      }
    },
    {
      "cell_type": "code",
      "source": [
        "import pandas as pd\n",
        "import numpy as np\n",
        "\n",
        "from sklearn.model_selection import train_test_split"
      ],
      "metadata": {
        "id": "O-J1CTQ8PCb_"
      },
      "execution_count": null,
      "outputs": []
    },
    {
      "cell_type": "markdown",
      "source": [
        "###Загружаем данные:"
      ],
      "metadata": {
        "id": "j-gREqhIPZXk"
      }
    },
    {
      "cell_type": "code",
      "source": [
        "from google.colab import drive\n",
        "drive.mount('/content/drive')"
      ],
      "metadata": {
        "colab": {
          "base_uri": "https://localhost:8080/"
        },
        "id": "Dj63TnYPPW2n",
        "outputId": "5111af63-e25c-486c-a05b-ae432b6f3b21"
      },
      "execution_count": null,
      "outputs": [
        {
          "output_type": "stream",
          "name": "stdout",
          "text": [
            "Drive already mounted at /content/drive; to attempt to forcibly remount, call drive.mount(\"/content/drive\", force_remount=True).\n"
          ]
        }
      ]
    },
    {
      "cell_type": "code",
      "source": [
        "df = pd.read_excel('/content/drive/MyDrive/Colab_Notebooks/25_NLP/work_7/data/отзывы за лето.xls')\n",
        "df.sample(5)"
      ],
      "metadata": {
        "colab": {
          "base_uri": "https://localhost:8080/",
          "height": 206
        },
        "id": "6vwSyMWcPlw1",
        "outputId": "bb26f36d-22a3-476f-9f47-a14db52cfbc7"
      },
      "execution_count": null,
      "outputs": [
        {
          "output_type": "execute_result",
          "data": {
            "text/plain": [
              "       Rating                                            Content        Date\n",
              "3855        5               Очень удобно и практично. Я доволен.  2017-08-08\n",
              "15726       5                                  очен хороший банк  2017-07-21\n",
              "17094       2  Перестал работать на Meizu M3 после штатного о...  2017-07-14\n",
              "788         5                                Отличное приложение  2017-08-12\n",
              "2459        5                          Очень удобное приложение.  2017-08-10"
            ],
            "text/html": [
              "\n",
              "  <div id=\"df-a0e79485-8b92-49fc-b27b-8a21c589c584\">\n",
              "    <div class=\"colab-df-container\">\n",
              "      <div>\n",
              "<style scoped>\n",
              "    .dataframe tbody tr th:only-of-type {\n",
              "        vertical-align: middle;\n",
              "    }\n",
              "\n",
              "    .dataframe tbody tr th {\n",
              "        vertical-align: top;\n",
              "    }\n",
              "\n",
              "    .dataframe thead th {\n",
              "        text-align: right;\n",
              "    }\n",
              "</style>\n",
              "<table border=\"1\" class=\"dataframe\">\n",
              "  <thead>\n",
              "    <tr style=\"text-align: right;\">\n",
              "      <th></th>\n",
              "      <th>Rating</th>\n",
              "      <th>Content</th>\n",
              "      <th>Date</th>\n",
              "    </tr>\n",
              "  </thead>\n",
              "  <tbody>\n",
              "    <tr>\n",
              "      <th>3855</th>\n",
              "      <td>5</td>\n",
              "      <td>Очень удобно и практично. Я доволен.</td>\n",
              "      <td>2017-08-08</td>\n",
              "    </tr>\n",
              "    <tr>\n",
              "      <th>15726</th>\n",
              "      <td>5</td>\n",
              "      <td>очен хороший банк</td>\n",
              "      <td>2017-07-21</td>\n",
              "    </tr>\n",
              "    <tr>\n",
              "      <th>17094</th>\n",
              "      <td>2</td>\n",
              "      <td>Перестал работать на Meizu M3 после штатного о...</td>\n",
              "      <td>2017-07-14</td>\n",
              "    </tr>\n",
              "    <tr>\n",
              "      <th>788</th>\n",
              "      <td>5</td>\n",
              "      <td>Отличное приложение</td>\n",
              "      <td>2017-08-12</td>\n",
              "    </tr>\n",
              "    <tr>\n",
              "      <th>2459</th>\n",
              "      <td>5</td>\n",
              "      <td>Очень удобное приложение.</td>\n",
              "      <td>2017-08-10</td>\n",
              "    </tr>\n",
              "  </tbody>\n",
              "</table>\n",
              "</div>\n",
              "      <button class=\"colab-df-convert\" onclick=\"convertToInteractive('df-a0e79485-8b92-49fc-b27b-8a21c589c584')\"\n",
              "              title=\"Convert this dataframe to an interactive table.\"\n",
              "              style=\"display:none;\">\n",
              "        \n",
              "  <svg xmlns=\"http://www.w3.org/2000/svg\" height=\"24px\"viewBox=\"0 0 24 24\"\n",
              "       width=\"24px\">\n",
              "    <path d=\"M0 0h24v24H0V0z\" fill=\"none\"/>\n",
              "    <path d=\"M18.56 5.44l.94 2.06.94-2.06 2.06-.94-2.06-.94-.94-2.06-.94 2.06-2.06.94zm-11 1L8.5 8.5l.94-2.06 2.06-.94-2.06-.94L8.5 2.5l-.94 2.06-2.06.94zm10 10l.94 2.06.94-2.06 2.06-.94-2.06-.94-.94-2.06-.94 2.06-2.06.94z\"/><path d=\"M17.41 7.96l-1.37-1.37c-.4-.4-.92-.59-1.43-.59-.52 0-1.04.2-1.43.59L10.3 9.45l-7.72 7.72c-.78.78-.78 2.05 0 2.83L4 21.41c.39.39.9.59 1.41.59.51 0 1.02-.2 1.41-.59l7.78-7.78 2.81-2.81c.8-.78.8-2.07 0-2.86zM5.41 20L4 18.59l7.72-7.72 1.47 1.35L5.41 20z\"/>\n",
              "  </svg>\n",
              "      </button>\n",
              "      \n",
              "  <style>\n",
              "    .colab-df-container {\n",
              "      display:flex;\n",
              "      flex-wrap:wrap;\n",
              "      gap: 12px;\n",
              "    }\n",
              "\n",
              "    .colab-df-convert {\n",
              "      background-color: #E8F0FE;\n",
              "      border: none;\n",
              "      border-radius: 50%;\n",
              "      cursor: pointer;\n",
              "      display: none;\n",
              "      fill: #1967D2;\n",
              "      height: 32px;\n",
              "      padding: 0 0 0 0;\n",
              "      width: 32px;\n",
              "    }\n",
              "\n",
              "    .colab-df-convert:hover {\n",
              "      background-color: #E2EBFA;\n",
              "      box-shadow: 0px 1px 2px rgba(60, 64, 67, 0.3), 0px 1px 3px 1px rgba(60, 64, 67, 0.15);\n",
              "      fill: #174EA6;\n",
              "    }\n",
              "\n",
              "    [theme=dark] .colab-df-convert {\n",
              "      background-color: #3B4455;\n",
              "      fill: #D2E3FC;\n",
              "    }\n",
              "\n",
              "    [theme=dark] .colab-df-convert:hover {\n",
              "      background-color: #434B5C;\n",
              "      box-shadow: 0px 1px 3px 1px rgba(0, 0, 0, 0.15);\n",
              "      filter: drop-shadow(0px 1px 2px rgba(0, 0, 0, 0.3));\n",
              "      fill: #FFFFFF;\n",
              "    }\n",
              "  </style>\n",
              "\n",
              "      <script>\n",
              "        const buttonEl =\n",
              "          document.querySelector('#df-a0e79485-8b92-49fc-b27b-8a21c589c584 button.colab-df-convert');\n",
              "        buttonEl.style.display =\n",
              "          google.colab.kernel.accessAllowed ? 'block' : 'none';\n",
              "\n",
              "        async function convertToInteractive(key) {\n",
              "          const element = document.querySelector('#df-a0e79485-8b92-49fc-b27b-8a21c589c584');\n",
              "          const dataTable =\n",
              "            await google.colab.kernel.invokeFunction('convertToInteractive',\n",
              "                                                     [key], {});\n",
              "          if (!dataTable) return;\n",
              "\n",
              "          const docLinkHtml = 'Like what you see? Visit the ' +\n",
              "            '<a target=\"_blank\" href=https://colab.research.google.com/notebooks/data_table.ipynb>data table notebook</a>'\n",
              "            + ' to learn more about interactive tables.';\n",
              "          element.innerHTML = '';\n",
              "          dataTable['output_type'] = 'display_data';\n",
              "          await google.colab.output.renderOutput(dataTable, element);\n",
              "          const docLink = document.createElement('div');\n",
              "          docLink.innerHTML = docLinkHtml;\n",
              "          element.appendChild(docLink);\n",
              "        }\n",
              "      </script>\n",
              "    </div>\n",
              "  </div>\n",
              "  "
            ]
          },
          "metadata": {},
          "execution_count": 3
        }
      ]
    },
    {
      "cell_type": "code",
      "source": [
        "X_train, X_test, y_train, y_test = train_test_split(df.drop('Rating', axis=1), df['Rating'], test_size=0.2, random_state=42, shuffle=True)\n",
        "X_train.head()"
      ],
      "metadata": {
        "colab": {
          "base_uri": "https://localhost:8080/",
          "height": 206
        },
        "id": "gHLG4Zn8QQ2N",
        "outputId": "2494792c-93d5-4d9c-d272-a49b05c6179d"
      },
      "execution_count": null,
      "outputs": [
        {
          "output_type": "execute_result",
          "data": {
            "text/plain": [
              "                                          Content        Date\n",
              "2680                              Очень удобно!!!  2017-08-10\n",
              "844    Не приходит смс код для входа в приложение  2017-08-12\n",
              "18714                  Пока все удобно и понятно.  2017-07-01\n",
              "13842       Удобное приложение. Работает отлично.  2017-07-24\n",
              "11974                  Очень удобное приложение!!  2017-07-28"
            ],
            "text/html": [
              "\n",
              "  <div id=\"df-5c4b6438-b2d0-417a-afdd-74ee791b1b7d\">\n",
              "    <div class=\"colab-df-container\">\n",
              "      <div>\n",
              "<style scoped>\n",
              "    .dataframe tbody tr th:only-of-type {\n",
              "        vertical-align: middle;\n",
              "    }\n",
              "\n",
              "    .dataframe tbody tr th {\n",
              "        vertical-align: top;\n",
              "    }\n",
              "\n",
              "    .dataframe thead th {\n",
              "        text-align: right;\n",
              "    }\n",
              "</style>\n",
              "<table border=\"1\" class=\"dataframe\">\n",
              "  <thead>\n",
              "    <tr style=\"text-align: right;\">\n",
              "      <th></th>\n",
              "      <th>Content</th>\n",
              "      <th>Date</th>\n",
              "    </tr>\n",
              "  </thead>\n",
              "  <tbody>\n",
              "    <tr>\n",
              "      <th>2680</th>\n",
              "      <td>Очень удобно!!!</td>\n",
              "      <td>2017-08-10</td>\n",
              "    </tr>\n",
              "    <tr>\n",
              "      <th>844</th>\n",
              "      <td>Не приходит смс код для входа в приложение</td>\n",
              "      <td>2017-08-12</td>\n",
              "    </tr>\n",
              "    <tr>\n",
              "      <th>18714</th>\n",
              "      <td>Пока все удобно и понятно.</td>\n",
              "      <td>2017-07-01</td>\n",
              "    </tr>\n",
              "    <tr>\n",
              "      <th>13842</th>\n",
              "      <td>Удобное приложение. Работает отлично.</td>\n",
              "      <td>2017-07-24</td>\n",
              "    </tr>\n",
              "    <tr>\n",
              "      <th>11974</th>\n",
              "      <td>Очень удобное приложение!!</td>\n",
              "      <td>2017-07-28</td>\n",
              "    </tr>\n",
              "  </tbody>\n",
              "</table>\n",
              "</div>\n",
              "      <button class=\"colab-df-convert\" onclick=\"convertToInteractive('df-5c4b6438-b2d0-417a-afdd-74ee791b1b7d')\"\n",
              "              title=\"Convert this dataframe to an interactive table.\"\n",
              "              style=\"display:none;\">\n",
              "        \n",
              "  <svg xmlns=\"http://www.w3.org/2000/svg\" height=\"24px\"viewBox=\"0 0 24 24\"\n",
              "       width=\"24px\">\n",
              "    <path d=\"M0 0h24v24H0V0z\" fill=\"none\"/>\n",
              "    <path d=\"M18.56 5.44l.94 2.06.94-2.06 2.06-.94-2.06-.94-.94-2.06-.94 2.06-2.06.94zm-11 1L8.5 8.5l.94-2.06 2.06-.94-2.06-.94L8.5 2.5l-.94 2.06-2.06.94zm10 10l.94 2.06.94-2.06 2.06-.94-2.06-.94-.94-2.06-.94 2.06-2.06.94z\"/><path d=\"M17.41 7.96l-1.37-1.37c-.4-.4-.92-.59-1.43-.59-.52 0-1.04.2-1.43.59L10.3 9.45l-7.72 7.72c-.78.78-.78 2.05 0 2.83L4 21.41c.39.39.9.59 1.41.59.51 0 1.02-.2 1.41-.59l7.78-7.78 2.81-2.81c.8-.78.8-2.07 0-2.86zM5.41 20L4 18.59l7.72-7.72 1.47 1.35L5.41 20z\"/>\n",
              "  </svg>\n",
              "      </button>\n",
              "      \n",
              "  <style>\n",
              "    .colab-df-container {\n",
              "      display:flex;\n",
              "      flex-wrap:wrap;\n",
              "      gap: 12px;\n",
              "    }\n",
              "\n",
              "    .colab-df-convert {\n",
              "      background-color: #E8F0FE;\n",
              "      border: none;\n",
              "      border-radius: 50%;\n",
              "      cursor: pointer;\n",
              "      display: none;\n",
              "      fill: #1967D2;\n",
              "      height: 32px;\n",
              "      padding: 0 0 0 0;\n",
              "      width: 32px;\n",
              "    }\n",
              "\n",
              "    .colab-df-convert:hover {\n",
              "      background-color: #E2EBFA;\n",
              "      box-shadow: 0px 1px 2px rgba(60, 64, 67, 0.3), 0px 1px 3px 1px rgba(60, 64, 67, 0.15);\n",
              "      fill: #174EA6;\n",
              "    }\n",
              "\n",
              "    [theme=dark] .colab-df-convert {\n",
              "      background-color: #3B4455;\n",
              "      fill: #D2E3FC;\n",
              "    }\n",
              "\n",
              "    [theme=dark] .colab-df-convert:hover {\n",
              "      background-color: #434B5C;\n",
              "      box-shadow: 0px 1px 3px 1px rgba(0, 0, 0, 0.15);\n",
              "      filter: drop-shadow(0px 1px 2px rgba(0, 0, 0, 0.3));\n",
              "      fill: #FFFFFF;\n",
              "    }\n",
              "  </style>\n",
              "\n",
              "      <script>\n",
              "        const buttonEl =\n",
              "          document.querySelector('#df-5c4b6438-b2d0-417a-afdd-74ee791b1b7d button.colab-df-convert');\n",
              "        buttonEl.style.display =\n",
              "          google.colab.kernel.accessAllowed ? 'block' : 'none';\n",
              "\n",
              "        async function convertToInteractive(key) {\n",
              "          const element = document.querySelector('#df-5c4b6438-b2d0-417a-afdd-74ee791b1b7d');\n",
              "          const dataTable =\n",
              "            await google.colab.kernel.invokeFunction('convertToInteractive',\n",
              "                                                     [key], {});\n",
              "          if (!dataTable) return;\n",
              "\n",
              "          const docLinkHtml = 'Like what you see? Visit the ' +\n",
              "            '<a target=\"_blank\" href=https://colab.research.google.com/notebooks/data_table.ipynb>data table notebook</a>'\n",
              "            + ' to learn more about interactive tables.';\n",
              "          element.innerHTML = '';\n",
              "          dataTable['output_type'] = 'display_data';\n",
              "          await google.colab.output.renderOutput(dataTable, element);\n",
              "          const docLink = document.createElement('div');\n",
              "          docLink.innerHTML = docLinkHtml;\n",
              "          element.appendChild(docLink);\n",
              "        }\n",
              "      </script>\n",
              "    </div>\n",
              "  </div>\n",
              "  "
            ]
          },
          "metadata": {},
          "execution_count": 4
        }
      ]
    },
    {
      "cell_type": "code",
      "source": [
        "y_train.value_counts()"
      ],
      "metadata": {
        "colab": {
          "base_uri": "https://localhost:8080/"
        },
        "id": "uGrx-WG_T0Fm",
        "outputId": "89931ba4-b1e1-446c-fe4c-5c07cad3aad0"
      },
      "execution_count": null,
      "outputs": [
        {
          "output_type": "execute_result",
          "data": {
            "text/plain": [
              "5    11654\n",
              "1     1822\n",
              "4     1735\n",
              "3      724\n",
              "2      592\n",
              "Name: Rating, dtype: int64"
            ]
          },
          "metadata": {},
          "execution_count": 5
        }
      ]
    },
    {
      "cell_type": "code",
      "source": [
        "disbalance = (y_train.value_counts().sort_index().max()/y_train.value_counts().sort_index()).values\n",
        "disbalance"
      ],
      "metadata": {
        "colab": {
          "base_uri": "https://localhost:8080/"
        },
        "id": "j9gkY6KxUnIr",
        "outputId": "90d96fd6-592f-4bbc-f52a-b2087f27cc41"
      },
      "execution_count": null,
      "outputs": [
        {
          "output_type": "execute_result",
          "data": {
            "text/plain": [
              "array([ 6.39626784, 19.68581081, 16.09668508,  6.71700288,  1.        ])"
            ]
          },
          "metadata": {},
          "execution_count": 6
        }
      ]
    },
    {
      "cell_type": "markdown",
      "source": [
        "### Предобработка"
      ],
      "metadata": {
        "id": "-digPIW7Vmsg"
      }
    },
    {
      "cell_type": "code",
      "source": [
        "!pip install -qq stop_words\n",
        "!pip install -qq pymorphy2"
      ],
      "metadata": {
        "id": "OTX2OO38VMB-"
      },
      "execution_count": null,
      "outputs": []
    },
    {
      "cell_type": "code",
      "source": [
        "from string import punctuation\n",
        "from stop_words import get_stop_words\n",
        "from pymorphy2 import MorphAnalyzer\n",
        "import re"
      ],
      "metadata": {
        "id": "F1Fmorm8VstF"
      },
      "execution_count": null,
      "outputs": []
    },
    {
      "cell_type": "code",
      "source": [
        "import nltk\n",
        "nltk.download('punkt')"
      ],
      "metadata": {
        "colab": {
          "base_uri": "https://localhost:8080/"
        },
        "id": "TTukivxmVx5F",
        "outputId": "c21ab36d-3e29-4d21-f4bc-e1f08d4dc47b"
      },
      "execution_count": null,
      "outputs": [
        {
          "output_type": "stream",
          "name": "stderr",
          "text": [
            "[nltk_data] Downloading package punkt to /root/nltk_data...\n",
            "[nltk_data]   Package punkt is already up-to-date!\n"
          ]
        },
        {
          "output_type": "execute_result",
          "data": {
            "text/plain": [
              "True"
            ]
          },
          "metadata": {},
          "execution_count": 9
        }
      ]
    },
    {
      "cell_type": "code",
      "source": [
        "sw = set(get_stop_words(\"ru\"))\n",
        "exclude = set(punctuation)\n",
        "morpher = MorphAnalyzer()\n",
        "\n",
        "def preprocess_text(txt):\n",
        "    txt = str(txt)\n",
        "    txt = \"\".join(c for c in txt if c not in exclude)\n",
        "    txt = txt.lower()\n",
        "    txt = re.sub(\"\\sне\", \"не\", txt)\n",
        "    txt = [morpher.parse(word)[0].normal_form for word in nltk.word_tokenize(txt) if word not in sw]\n",
        "    return \" \".join(txt)\n",
        "\n",
        "X_train['Content_preprocess'] = X_train['Content'].apply(preprocess_text)\n",
        "X_test['Content_preprocess'] = X_test['Content'].apply(preprocess_text)\n",
        "X_train.head()"
      ],
      "metadata": {
        "colab": {
          "base_uri": "https://localhost:8080/",
          "height": 206
        },
        "id": "iKoCQfvZV0-n",
        "outputId": "e8bc4029-a85a-405b-9472-459c0641efa5"
      },
      "execution_count": null,
      "outputs": [
        {
          "output_type": "execute_result",
          "data": {
            "text/plain": [
              "                                          Content        Date  \\\n",
              "2680                              Очень удобно!!!  2017-08-10   \n",
              "844    Не приходит смс код для входа в приложение  2017-08-12   \n",
              "18714                  Пока все удобно и понятно.  2017-07-01   \n",
              "13842       Удобное приложение. Работает отлично.  2017-07-24   \n",
              "11974                  Очень удобное приложение!!  2017-07-28   \n",
              "\n",
              "                        Content_preprocess  \n",
              "2680                                удобно  \n",
              "844      приходить смс код вход приложение  \n",
              "18714                       удобно понятно  \n",
              "13842  удобный приложение работать отлично  \n",
              "11974                   удобный приложение  "
            ],
            "text/html": [
              "\n",
              "  <div id=\"df-57127401-a9c0-4c6e-b57b-e2c1a26a0a0b\">\n",
              "    <div class=\"colab-df-container\">\n",
              "      <div>\n",
              "<style scoped>\n",
              "    .dataframe tbody tr th:only-of-type {\n",
              "        vertical-align: middle;\n",
              "    }\n",
              "\n",
              "    .dataframe tbody tr th {\n",
              "        vertical-align: top;\n",
              "    }\n",
              "\n",
              "    .dataframe thead th {\n",
              "        text-align: right;\n",
              "    }\n",
              "</style>\n",
              "<table border=\"1\" class=\"dataframe\">\n",
              "  <thead>\n",
              "    <tr style=\"text-align: right;\">\n",
              "      <th></th>\n",
              "      <th>Content</th>\n",
              "      <th>Date</th>\n",
              "      <th>Content_preprocess</th>\n",
              "    </tr>\n",
              "  </thead>\n",
              "  <tbody>\n",
              "    <tr>\n",
              "      <th>2680</th>\n",
              "      <td>Очень удобно!!!</td>\n",
              "      <td>2017-08-10</td>\n",
              "      <td>удобно</td>\n",
              "    </tr>\n",
              "    <tr>\n",
              "      <th>844</th>\n",
              "      <td>Не приходит смс код для входа в приложение</td>\n",
              "      <td>2017-08-12</td>\n",
              "      <td>приходить смс код вход приложение</td>\n",
              "    </tr>\n",
              "    <tr>\n",
              "      <th>18714</th>\n",
              "      <td>Пока все удобно и понятно.</td>\n",
              "      <td>2017-07-01</td>\n",
              "      <td>удобно понятно</td>\n",
              "    </tr>\n",
              "    <tr>\n",
              "      <th>13842</th>\n",
              "      <td>Удобное приложение. Работает отлично.</td>\n",
              "      <td>2017-07-24</td>\n",
              "      <td>удобный приложение работать отлично</td>\n",
              "    </tr>\n",
              "    <tr>\n",
              "      <th>11974</th>\n",
              "      <td>Очень удобное приложение!!</td>\n",
              "      <td>2017-07-28</td>\n",
              "      <td>удобный приложение</td>\n",
              "    </tr>\n",
              "  </tbody>\n",
              "</table>\n",
              "</div>\n",
              "      <button class=\"colab-df-convert\" onclick=\"convertToInteractive('df-57127401-a9c0-4c6e-b57b-e2c1a26a0a0b')\"\n",
              "              title=\"Convert this dataframe to an interactive table.\"\n",
              "              style=\"display:none;\">\n",
              "        \n",
              "  <svg xmlns=\"http://www.w3.org/2000/svg\" height=\"24px\"viewBox=\"0 0 24 24\"\n",
              "       width=\"24px\">\n",
              "    <path d=\"M0 0h24v24H0V0z\" fill=\"none\"/>\n",
              "    <path d=\"M18.56 5.44l.94 2.06.94-2.06 2.06-.94-2.06-.94-.94-2.06-.94 2.06-2.06.94zm-11 1L8.5 8.5l.94-2.06 2.06-.94-2.06-.94L8.5 2.5l-.94 2.06-2.06.94zm10 10l.94 2.06.94-2.06 2.06-.94-2.06-.94-.94-2.06-.94 2.06-2.06.94z\"/><path d=\"M17.41 7.96l-1.37-1.37c-.4-.4-.92-.59-1.43-.59-.52 0-1.04.2-1.43.59L10.3 9.45l-7.72 7.72c-.78.78-.78 2.05 0 2.83L4 21.41c.39.39.9.59 1.41.59.51 0 1.02-.2 1.41-.59l7.78-7.78 2.81-2.81c.8-.78.8-2.07 0-2.86zM5.41 20L4 18.59l7.72-7.72 1.47 1.35L5.41 20z\"/>\n",
              "  </svg>\n",
              "      </button>\n",
              "      \n",
              "  <style>\n",
              "    .colab-df-container {\n",
              "      display:flex;\n",
              "      flex-wrap:wrap;\n",
              "      gap: 12px;\n",
              "    }\n",
              "\n",
              "    .colab-df-convert {\n",
              "      background-color: #E8F0FE;\n",
              "      border: none;\n",
              "      border-radius: 50%;\n",
              "      cursor: pointer;\n",
              "      display: none;\n",
              "      fill: #1967D2;\n",
              "      height: 32px;\n",
              "      padding: 0 0 0 0;\n",
              "      width: 32px;\n",
              "    }\n",
              "\n",
              "    .colab-df-convert:hover {\n",
              "      background-color: #E2EBFA;\n",
              "      box-shadow: 0px 1px 2px rgba(60, 64, 67, 0.3), 0px 1px 3px 1px rgba(60, 64, 67, 0.15);\n",
              "      fill: #174EA6;\n",
              "    }\n",
              "\n",
              "    [theme=dark] .colab-df-convert {\n",
              "      background-color: #3B4455;\n",
              "      fill: #D2E3FC;\n",
              "    }\n",
              "\n",
              "    [theme=dark] .colab-df-convert:hover {\n",
              "      background-color: #434B5C;\n",
              "      box-shadow: 0px 1px 3px 1px rgba(0, 0, 0, 0.15);\n",
              "      filter: drop-shadow(0px 1px 2px rgba(0, 0, 0, 0.3));\n",
              "      fill: #FFFFFF;\n",
              "    }\n",
              "  </style>\n",
              "\n",
              "      <script>\n",
              "        const buttonEl =\n",
              "          document.querySelector('#df-57127401-a9c0-4c6e-b57b-e2c1a26a0a0b button.colab-df-convert');\n",
              "        buttonEl.style.display =\n",
              "          google.colab.kernel.accessAllowed ? 'block' : 'none';\n",
              "\n",
              "        async function convertToInteractive(key) {\n",
              "          const element = document.querySelector('#df-57127401-a9c0-4c6e-b57b-e2c1a26a0a0b');\n",
              "          const dataTable =\n",
              "            await google.colab.kernel.invokeFunction('convertToInteractive',\n",
              "                                                     [key], {});\n",
              "          if (!dataTable) return;\n",
              "\n",
              "          const docLinkHtml = 'Like what you see? Visit the ' +\n",
              "            '<a target=\"_blank\" href=https://colab.research.google.com/notebooks/data_table.ipynb>data table notebook</a>'\n",
              "            + ' to learn more about interactive tables.';\n",
              "          element.innerHTML = '';\n",
              "          dataTable['output_type'] = 'display_data';\n",
              "          await google.colab.output.renderOutput(dataTable, element);\n",
              "          const docLink = document.createElement('div');\n",
              "          docLink.innerHTML = docLinkHtml;\n",
              "          element.appendChild(docLink);\n",
              "        }\n",
              "      </script>\n",
              "    </div>\n",
              "  </div>\n",
              "  "
            ]
          },
          "metadata": {},
          "execution_count": 10
        }
      ]
    },
    {
      "cell_type": "code",
      "source": [
        "from collections import Counter"
      ],
      "metadata": {
        "id": "Gol47aoGXUDq"
      },
      "execution_count": null,
      "outputs": []
    },
    {
      "cell_type": "code",
      "source": [
        "corpus = (\" \".join(X_train['Content_preprocess'])).split()\n",
        "corpus_count = Counter(corpus)\n",
        "corpus_count.most_common(10)"
      ],
      "metadata": {
        "colab": {
          "base_uri": "https://localhost:8080/"
        },
        "id": "Bq-rFtE4Yd12",
        "outputId": "ba3957b8-dfdc-40df-e19d-4e5263662659"
      },
      "execution_count": null,
      "outputs": [
        {
          "output_type": "execute_result",
          "data": {
            "text/plain": [
              "[('приложение', 4936),\n",
              " ('удобно', 2606),\n",
              " ('работать', 1550),\n",
              " ('удобный', 1413),\n",
              " ('отлично', 1034),\n",
              " ('нравиться', 899),\n",
              " ('отличный', 821),\n",
              " ('хороший', 809),\n",
              " ('телефон', 754),\n",
              " ('супер', 660)]"
            ]
          },
          "metadata": {},
          "execution_count": 12
        }
      ]
    },
    {
      "cell_type": "code",
      "source": [
        "max_words_true = len(corpus_count)\n",
        "max_words_true"
      ],
      "metadata": {
        "colab": {
          "base_uri": "https://localhost:8080/"
        },
        "id": "WX1lYm44ZdXu",
        "outputId": "96294a2f-2ee7-49df-d3d7-db5ff078aa55"
      },
      "execution_count": null,
      "outputs": [
        {
          "output_type": "execute_result",
          "data": {
            "text/plain": [
              "11524"
            ]
          },
          "metadata": {},
          "execution_count": 13
        }
      ]
    },
    {
      "cell_type": "code",
      "source": [
        "MAX_WORDS = max_words_true\n",
        "MAX_WORDS"
      ],
      "metadata": {
        "colab": {
          "base_uri": "https://localhost:8080/"
        },
        "id": "96xOSPHpZhym",
        "outputId": "c97f1db9-f9c1-4bf4-9a87-b88d74f79626"
      },
      "execution_count": null,
      "outputs": [
        {
          "output_type": "execute_result",
          "data": {
            "text/plain": [
              "11524"
            ]
          },
          "metadata": {},
          "execution_count": 14
        }
      ]
    },
    {
      "cell_type": "code",
      "source": [
        "vocabulary = {j:i for i, (j, _) in enumerate(corpus_count.most_common()[:MAX_WORDS], 1)}\n",
        "list(vocabulary.items())[:10]"
      ],
      "metadata": {
        "colab": {
          "base_uri": "https://localhost:8080/"
        },
        "id": "oX-0kivGZl7S",
        "outputId": "1b1d0412-79c4-45db-eb7c-834b76c879b0"
      },
      "execution_count": null,
      "outputs": [
        {
          "output_type": "execute_result",
          "data": {
            "text/plain": [
              "[('приложение', 1),\n",
              " ('удобно', 2),\n",
              " ('работать', 3),\n",
              " ('удобный', 4),\n",
              " ('отлично', 5),\n",
              " ('нравиться', 6),\n",
              " ('отличный', 7),\n",
              " ('хороший', 8),\n",
              " ('телефон', 9),\n",
              " ('супер', 10)]"
            ]
          },
          "metadata": {},
          "execution_count": 15
        }
      ]
    },
    {
      "cell_type": "code",
      "source": [
        "max_len_true = max([len(txt) for txt in X_train['Content_preprocess']])\n",
        "max_len_true"
      ],
      "metadata": {
        "colab": {
          "base_uri": "https://localhost:8080/"
        },
        "id": "Z3COygkUZ679",
        "outputId": "b119cf19-e91d-4e1b-adf6-f22ed1632ac2"
      },
      "execution_count": null,
      "outputs": [
        {
          "output_type": "execute_result",
          "data": {
            "text/plain": [
              "907"
            ]
          },
          "metadata": {},
          "execution_count": 16
        }
      ]
    },
    {
      "cell_type": "code",
      "source": [
        "np.mean([len(txt) for txt in X_train['Content_preprocess']])"
      ],
      "metadata": {
        "colab": {
          "base_uri": "https://localhost:8080/"
        },
        "id": "tkpUl-obaB80",
        "outputId": "dc4e686f-ca9e-4dcf-f1c6-362db42c5395"
      },
      "execution_count": null,
      "outputs": [
        {
          "output_type": "execute_result",
          "data": {
            "text/plain": [
              "41.75010588733588"
            ]
          },
          "metadata": {},
          "execution_count": 17
        }
      ]
    },
    {
      "cell_type": "code",
      "source": [
        "MAX_LEN = 100\n",
        "MAX_LEN"
      ],
      "metadata": {
        "colab": {
          "base_uri": "https://localhost:8080/"
        },
        "id": "YT8W2ryXaIu8",
        "outputId": "1d98c6ac-8ba9-44db-c398-b620d176a179"
      },
      "execution_count": null,
      "outputs": [
        {
          "output_type": "execute_result",
          "data": {
            "text/plain": [
              "100"
            ]
          },
          "metadata": {},
          "execution_count": 18
        }
      ]
    },
    {
      "cell_type": "code",
      "source": [
        "X_train['Content_sequence'] = X_train['Content_preprocess'].apply(lambda text: [vocabulary.get(word, 0) for word in text.split()][:MAX_LEN]+[0]*(MAX_LEN-len(text.split())))\n",
        "X_test['Content_sequence'] = X_test['Content_preprocess'].apply(lambda text: [vocabulary.get(word, 0) for word in text.split()][:MAX_LEN]+[0]*(MAX_LEN-len(text.split())))\n",
        "X_train.head()"
      ],
      "metadata": {
        "colab": {
          "base_uri": "https://localhost:8080/",
          "height": 206
        },
        "id": "a7hipuzCaQFB",
        "outputId": "064b4044-5593-4b56-a3a9-e9651ad9132e"
      },
      "execution_count": null,
      "outputs": [
        {
          "output_type": "execute_result",
          "data": {
            "text/plain": [
              "                                          Content        Date  \\\n",
              "2680                              Очень удобно!!!  2017-08-10   \n",
              "844    Не приходит смс код для входа в приложение  2017-08-12   \n",
              "18714                  Пока все удобно и понятно.  2017-07-01   \n",
              "13842       Удобное приложение. Работает отлично.  2017-07-24   \n",
              "11974                  Очень удобное приложение!!  2017-07-28   \n",
              "\n",
              "                        Content_preprocess  \\\n",
              "2680                                удобно   \n",
              "844      приходить смс код вход приложение   \n",
              "18714                       удобно понятно   \n",
              "13842  удобный приложение работать отлично   \n",
              "11974                   удобный приложение   \n",
              "\n",
              "                                        Content_sequence  \n",
              "2680   [2, 0, 0, 0, 0, 0, 0, 0, 0, 0, 0, 0, 0, 0, 0, ...  \n",
              "844    [57, 45, 42, 18, 1, 0, 0, 0, 0, 0, 0, 0, 0, 0,...  \n",
              "18714  [2, 46, 0, 0, 0, 0, 0, 0, 0, 0, 0, 0, 0, 0, 0,...  \n",
              "13842  [4, 1, 3, 5, 0, 0, 0, 0, 0, 0, 0, 0, 0, 0, 0, ...  \n",
              "11974  [4, 1, 0, 0, 0, 0, 0, 0, 0, 0, 0, 0, 0, 0, 0, ...  "
            ],
            "text/html": [
              "\n",
              "  <div id=\"df-c496e142-bb69-4243-91fc-1dc798806073\">\n",
              "    <div class=\"colab-df-container\">\n",
              "      <div>\n",
              "<style scoped>\n",
              "    .dataframe tbody tr th:only-of-type {\n",
              "        vertical-align: middle;\n",
              "    }\n",
              "\n",
              "    .dataframe tbody tr th {\n",
              "        vertical-align: top;\n",
              "    }\n",
              "\n",
              "    .dataframe thead th {\n",
              "        text-align: right;\n",
              "    }\n",
              "</style>\n",
              "<table border=\"1\" class=\"dataframe\">\n",
              "  <thead>\n",
              "    <tr style=\"text-align: right;\">\n",
              "      <th></th>\n",
              "      <th>Content</th>\n",
              "      <th>Date</th>\n",
              "      <th>Content_preprocess</th>\n",
              "      <th>Content_sequence</th>\n",
              "    </tr>\n",
              "  </thead>\n",
              "  <tbody>\n",
              "    <tr>\n",
              "      <th>2680</th>\n",
              "      <td>Очень удобно!!!</td>\n",
              "      <td>2017-08-10</td>\n",
              "      <td>удобно</td>\n",
              "      <td>[2, 0, 0, 0, 0, 0, 0, 0, 0, 0, 0, 0, 0, 0, 0, ...</td>\n",
              "    </tr>\n",
              "    <tr>\n",
              "      <th>844</th>\n",
              "      <td>Не приходит смс код для входа в приложение</td>\n",
              "      <td>2017-08-12</td>\n",
              "      <td>приходить смс код вход приложение</td>\n",
              "      <td>[57, 45, 42, 18, 1, 0, 0, 0, 0, 0, 0, 0, 0, 0,...</td>\n",
              "    </tr>\n",
              "    <tr>\n",
              "      <th>18714</th>\n",
              "      <td>Пока все удобно и понятно.</td>\n",
              "      <td>2017-07-01</td>\n",
              "      <td>удобно понятно</td>\n",
              "      <td>[2, 46, 0, 0, 0, 0, 0, 0, 0, 0, 0, 0, 0, 0, 0,...</td>\n",
              "    </tr>\n",
              "    <tr>\n",
              "      <th>13842</th>\n",
              "      <td>Удобное приложение. Работает отлично.</td>\n",
              "      <td>2017-07-24</td>\n",
              "      <td>удобный приложение работать отлично</td>\n",
              "      <td>[4, 1, 3, 5, 0, 0, 0, 0, 0, 0, 0, 0, 0, 0, 0, ...</td>\n",
              "    </tr>\n",
              "    <tr>\n",
              "      <th>11974</th>\n",
              "      <td>Очень удобное приложение!!</td>\n",
              "      <td>2017-07-28</td>\n",
              "      <td>удобный приложение</td>\n",
              "      <td>[4, 1, 0, 0, 0, 0, 0, 0, 0, 0, 0, 0, 0, 0, 0, ...</td>\n",
              "    </tr>\n",
              "  </tbody>\n",
              "</table>\n",
              "</div>\n",
              "      <button class=\"colab-df-convert\" onclick=\"convertToInteractive('df-c496e142-bb69-4243-91fc-1dc798806073')\"\n",
              "              title=\"Convert this dataframe to an interactive table.\"\n",
              "              style=\"display:none;\">\n",
              "        \n",
              "  <svg xmlns=\"http://www.w3.org/2000/svg\" height=\"24px\"viewBox=\"0 0 24 24\"\n",
              "       width=\"24px\">\n",
              "    <path d=\"M0 0h24v24H0V0z\" fill=\"none\"/>\n",
              "    <path d=\"M18.56 5.44l.94 2.06.94-2.06 2.06-.94-2.06-.94-.94-2.06-.94 2.06-2.06.94zm-11 1L8.5 8.5l.94-2.06 2.06-.94-2.06-.94L8.5 2.5l-.94 2.06-2.06.94zm10 10l.94 2.06.94-2.06 2.06-.94-2.06-.94-.94-2.06-.94 2.06-2.06.94z\"/><path d=\"M17.41 7.96l-1.37-1.37c-.4-.4-.92-.59-1.43-.59-.52 0-1.04.2-1.43.59L10.3 9.45l-7.72 7.72c-.78.78-.78 2.05 0 2.83L4 21.41c.39.39.9.59 1.41.59.51 0 1.02-.2 1.41-.59l7.78-7.78 2.81-2.81c.8-.78.8-2.07 0-2.86zM5.41 20L4 18.59l7.72-7.72 1.47 1.35L5.41 20z\"/>\n",
              "  </svg>\n",
              "      </button>\n",
              "      \n",
              "  <style>\n",
              "    .colab-df-container {\n",
              "      display:flex;\n",
              "      flex-wrap:wrap;\n",
              "      gap: 12px;\n",
              "    }\n",
              "\n",
              "    .colab-df-convert {\n",
              "      background-color: #E8F0FE;\n",
              "      border: none;\n",
              "      border-radius: 50%;\n",
              "      cursor: pointer;\n",
              "      display: none;\n",
              "      fill: #1967D2;\n",
              "      height: 32px;\n",
              "      padding: 0 0 0 0;\n",
              "      width: 32px;\n",
              "    }\n",
              "\n",
              "    .colab-df-convert:hover {\n",
              "      background-color: #E2EBFA;\n",
              "      box-shadow: 0px 1px 2px rgba(60, 64, 67, 0.3), 0px 1px 3px 1px rgba(60, 64, 67, 0.15);\n",
              "      fill: #174EA6;\n",
              "    }\n",
              "\n",
              "    [theme=dark] .colab-df-convert {\n",
              "      background-color: #3B4455;\n",
              "      fill: #D2E3FC;\n",
              "    }\n",
              "\n",
              "    [theme=dark] .colab-df-convert:hover {\n",
              "      background-color: #434B5C;\n",
              "      box-shadow: 0px 1px 3px 1px rgba(0, 0, 0, 0.15);\n",
              "      filter: drop-shadow(0px 1px 2px rgba(0, 0, 0, 0.3));\n",
              "      fill: #FFFFFF;\n",
              "    }\n",
              "  </style>\n",
              "\n",
              "      <script>\n",
              "        const buttonEl =\n",
              "          document.querySelector('#df-c496e142-bb69-4243-91fc-1dc798806073 button.colab-df-convert');\n",
              "        buttonEl.style.display =\n",
              "          google.colab.kernel.accessAllowed ? 'block' : 'none';\n",
              "\n",
              "        async function convertToInteractive(key) {\n",
              "          const element = document.querySelector('#df-c496e142-bb69-4243-91fc-1dc798806073');\n",
              "          const dataTable =\n",
              "            await google.colab.kernel.invokeFunction('convertToInteractive',\n",
              "                                                     [key], {});\n",
              "          if (!dataTable) return;\n",
              "\n",
              "          const docLinkHtml = 'Like what you see? Visit the ' +\n",
              "            '<a target=\"_blank\" href=https://colab.research.google.com/notebooks/data_table.ipynb>data table notebook</a>'\n",
              "            + ' to learn more about interactive tables.';\n",
              "          element.innerHTML = '';\n",
              "          dataTable['output_type'] = 'display_data';\n",
              "          await google.colab.output.renderOutput(dataTable, element);\n",
              "          const docLink = document.createElement('div');\n",
              "          docLink.innerHTML = docLinkHtml;\n",
              "          element.appendChild(docLink);\n",
              "        }\n",
              "      </script>\n",
              "    </div>\n",
              "  </div>\n",
              "  "
            ]
          },
          "metadata": {},
          "execution_count": 19
        }
      ]
    },
    {
      "cell_type": "code",
      "source": [
        "X_train_array = np.array([[j for j in i] for i in X_train['Content_sequence']])\n",
        "X_test_array = np.array([[j for j in i] for i in X_test['Content_sequence']])\n",
        "X_train_array[0][:10]"
      ],
      "metadata": {
        "colab": {
          "base_uri": "https://localhost:8080/"
        },
        "id": "nSm3q3aAaWvJ",
        "outputId": "cc1eddd0-87dd-4169-8c62-0f9f45e4a849"
      },
      "execution_count": null,
      "outputs": [
        {
          "output_type": "execute_result",
          "data": {
            "text/plain": [
              "array([2, 0, 0, 0, 0, 0, 0, 0, 0, 0])"
            ]
          },
          "metadata": {},
          "execution_count": 20
        }
      ]
    },
    {
      "cell_type": "code",
      "source": [
        "y_train_array = y_train-1\n",
        "y_test_array = y_test-1\n",
        "y_train_array.head()"
      ],
      "metadata": {
        "colab": {
          "base_uri": "https://localhost:8080/"
        },
        "id": "PLuK0xktaeYM",
        "outputId": "bd55098c-9e93-4bc4-b12f-2dbf0437f4aa"
      },
      "execution_count": null,
      "outputs": [
        {
          "output_type": "execute_result",
          "data": {
            "text/plain": [
              "2680     4\n",
              "844      1\n",
              "18714    3\n",
              "13842    4\n",
              "11974    4\n",
              "Name: Rating, dtype: int64"
            ]
          },
          "metadata": {},
          "execution_count": 21
        }
      ]
    },
    {
      "cell_type": "markdown",
      "source": [
        "### Модель"
      ],
      "metadata": {
        "id": "ArDkMGWsbWwD"
      }
    },
    {
      "cell_type": "code",
      "source": [
        "import tensorflow as tf\n",
        "from tensorflow.keras import Sequential\n",
        "from tensorflow.keras.layers import Dense, Embedding, GlobalMaxPooling1D, Dropout, BatchNormalization, Conv1D"
      ],
      "metadata": {
        "id": "CKUQYgukag9w"
      },
      "execution_count": null,
      "outputs": []
    },
    {
      "cell_type": "code",
      "source": [
        "embedding_dim = 300\n",
        "hidden_dim = 512"
      ],
      "metadata": {
        "id": "OYC7Wek2bZR2"
      },
      "execution_count": null,
      "outputs": []
    },
    {
      "cell_type": "code",
      "source": [
        "model = Sequential([\n",
        "    Embedding(MAX_WORDS+1, embedding_dim),\n",
        "    Conv1D(embedding_dim*2, 3),\n",
        "    GlobalMaxPooling1D(),\n",
        "    Dense(hidden_dim, activation='relu'),\n",
        "    Dense(hidden_dim//2, activation='relu'),\n",
        "\n",
        "    Dense(units=5, activation='sigmoid')\n",
        "])"
      ],
      "metadata": {
        "id": "aLI25Cq5bdnZ"
      },
      "execution_count": null,
      "outputs": []
    },
    {
      "cell_type": "code",
      "source": [
        "model.summary()\n",
        "model.compile(loss=tf.keras.losses.SparseCategoricalCrossentropy(),\n",
        "              loss_weights=disbalance,\n",
        "              optimizer='adam',\n",
        "              metrics=['accuracy'])"
      ],
      "metadata": {
        "colab": {
          "base_uri": "https://localhost:8080/"
        },
        "id": "AzlO75GXbjOq",
        "outputId": "82061aec-9817-47c9-918d-9d6e56ab6e82"
      },
      "execution_count": null,
      "outputs": [
        {
          "output_type": "stream",
          "name": "stdout",
          "text": [
            "Model: \"sequential\"\n",
            "_________________________________________________________________\n",
            " Layer (type)                Output Shape              Param #   \n",
            "=================================================================\n",
            " embedding (Embedding)       (None, None, 300)         3457500   \n",
            "                                                                 \n",
            " conv1d (Conv1D)             (None, None, 600)         540600    \n",
            "                                                                 \n",
            " global_max_pooling1d (Globa  (None, 600)              0         \n",
            " lMaxPooling1D)                                                  \n",
            "                                                                 \n",
            " dense (Dense)               (None, 512)               307712    \n",
            "                                                                 \n",
            " dense_1 (Dense)             (None, 256)               131328    \n",
            "                                                                 \n",
            " dense_2 (Dense)             (None, 5)                 1285      \n",
            "                                                                 \n",
            "=================================================================\n",
            "Total params: 4,438,425\n",
            "Trainable params: 4,438,425\n",
            "Non-trainable params: 0\n",
            "_________________________________________________________________\n"
          ]
        }
      ]
    },
    {
      "cell_type": "code",
      "source": [
        "with tf.device(\"GPU:0\"):\n",
        "    hh = model.fit(X_train_array, y_train_array, validation_data=(X_test_array, y_test_array), epochs=10)"
      ],
      "metadata": {
        "colab": {
          "base_uri": "https://localhost:8080/"
        },
        "id": "FUiyPAilblZp",
        "outputId": "2fafb552-9872-481d-8360-b3e9a587996b"
      },
      "execution_count": null,
      "outputs": [
        {
          "output_type": "stream",
          "name": "stdout",
          "text": [
            "Epoch 1/10\n",
            "517/517 [==============================] - 65s 103ms/step - loss: 6.9348 - accuracy: 0.7620 - val_loss: 6.4315 - val_accuracy: 0.7776\n",
            "Epoch 2/10\n",
            "517/517 [==============================] - 9s 18ms/step - loss: 5.4352 - accuracy: 0.8053 - val_loss: 6.7912 - val_accuracy: 0.7665\n",
            "Epoch 3/10\n",
            "517/517 [==============================] - 6s 12ms/step - loss: 4.1257 - accuracy: 0.8571 - val_loss: 7.3967 - val_accuracy: 0.7677\n",
            "Epoch 4/10\n",
            "517/517 [==============================] - 8s 15ms/step - loss: 3.0934 - accuracy: 0.8980 - val_loss: 8.1721 - val_accuracy: 0.7548\n",
            "Epoch 5/10\n",
            "517/517 [==============================] - 7s 13ms/step - loss: 2.2949 - accuracy: 0.9268 - val_loss: 10.1510 - val_accuracy: 0.7381\n",
            "Epoch 6/10\n",
            "517/517 [==============================] - 6s 11ms/step - loss: 1.9726 - accuracy: 0.9394 - val_loss: 12.3605 - val_accuracy: 0.7345\n",
            "Epoch 7/10\n",
            "517/517 [==============================] - 5s 10ms/step - loss: 1.7782 - accuracy: 0.9458 - val_loss: 13.4252 - val_accuracy: 0.7512\n",
            "Epoch 8/10\n",
            "517/517 [==============================] - 5s 9ms/step - loss: 1.6931 - accuracy: 0.9484 - val_loss: 14.6799 - val_accuracy: 0.7384\n",
            "Epoch 9/10\n",
            "517/517 [==============================] - 7s 13ms/step - loss: 1.6386 - accuracy: 0.9504 - val_loss: 14.4025 - val_accuracy: 0.7512\n",
            "Epoch 10/10\n",
            "517/517 [==============================] - 5s 10ms/step - loss: 1.5169 - accuracy: 0.9537 - val_loss: 15.0733 - val_accuracy: 0.7495\n"
          ]
        }
      ]
    },
    {
      "cell_type": "code",
      "source": [
        "from sklearn.metrics import classification_report"
      ],
      "metadata": {
        "id": "ELfD_Ewobr8G"
      },
      "execution_count": null,
      "outputs": []
    },
    {
      "cell_type": "code",
      "source": [
        "print(classification_report(np.argmax(model.predict(X_test_array), axis=1), y_test_array))"
      ],
      "metadata": {
        "colab": {
          "base_uri": "https://localhost:8080/"
        },
        "id": "zrs0mgu6b2Ui",
        "outputId": "36ca4f08-a164-4676-bc9e-b1cda00b6228"
      },
      "execution_count": null,
      "outputs": [
        {
          "output_type": "stream",
          "name": "stdout",
          "text": [
            "130/130 [==============================] - 0s 2ms/step\n",
            "              precision    recall  f1-score   support\n",
            "\n",
            "           0       0.56      0.51      0.54       500\n",
            "           1       0.12      0.18      0.15       103\n",
            "           2       0.14      0.20      0.17       136\n",
            "           3       0.14      0.29      0.19       199\n",
            "           4       0.93      0.86      0.89      3194\n",
            "\n",
            "    accuracy                           0.75      4132\n",
            "   macro avg       0.38      0.41      0.39      4132\n",
            "weighted avg       0.80      0.75      0.77      4132\n",
            "\n"
          ]
        }
      ]
    },
    {
      "cell_type": "markdown",
      "source": [
        "### Теперь с предобученными весами для слоя Embedding"
      ],
      "metadata": {
        "id": "P9yQo8eDcrkc"
      }
    },
    {
      "cell_type": "markdown",
      "source": [
        "Данные были взяты здесь: http://vectors.nlpl.eu/repository/20/220.zip"
      ],
      "metadata": {
        "id": "az3QIqwofk_w"
      }
    },
    {
      "cell_type": "code",
      "source": [
        "with open('/content/drive/MyDrive/Colab_Notebooks/25_NLP/work_7/data/220/model.txt', 'r') as f:\n",
        "    data = f.read()"
      ],
      "metadata": {
        "id": "j85PvJ1Jb2K8"
      },
      "execution_count": null,
      "outputs": []
    },
    {
      "cell_type": "code",
      "source": [
        "data = [line.split() for line in data.split('\\n')]\n",
        "data[0][:10]"
      ],
      "metadata": {
        "colab": {
          "base_uri": "https://localhost:8080/"
        },
        "id": "Dn0gSJ6mb2AR",
        "outputId": "7d98ad27-53ad-4839-d9a2-391a68fdd0dc"
      },
      "execution_count": null,
      "outputs": [
        {
          "output_type": "execute_result",
          "data": {
            "text/plain": [
              "['249333', '300']"
            ]
          },
          "metadata": {},
          "execution_count": 30
        }
      ]
    },
    {
      "cell_type": "code",
      "source": [
        "from tqdm import tqdm"
      ],
      "metadata": {
        "id": "NPRX1rhKb13S"
      },
      "execution_count": null,
      "outputs": []
    },
    {
      "cell_type": "code",
      "source": [
        "word2vec = {}\n",
        "for word in tqdm(data[:-1]):\n",
        "  word2vec[word[0].split('_')[0]] = np.array(word[1:]).astype(float)\n",
        "list(word2vec.items())[0]"
      ],
      "metadata": {
        "colab": {
          "base_uri": "https://localhost:8080/"
        },
        "id": "Oy21Mdywb1vV",
        "outputId": "d141fe44-ef40-49d4-d067-f79e72e5aec6"
      },
      "execution_count": null,
      "outputs": [
        {
          "output_type": "stream",
          "name": "stderr",
          "text": [
            "100%|██████████| 249334/249334 [00:49<00:00, 4989.71it/s]\n"
          ]
        },
        {
          "output_type": "execute_result",
          "data": {
            "text/plain": [
              "('249333', array([300.]))"
            ]
          },
          "metadata": {},
          "execution_count": 32
        }
      ]
    },
    {
      "cell_type": "code",
      "source": [
        "word2num = {j:i for i,j in enumerate(word2vec.keys(), 1)}\n",
        "list(word2num.items())[:10]"
      ],
      "metadata": {
        "colab": {
          "base_uri": "https://localhost:8080/"
        },
        "id": "ewB11w4Cg664",
        "outputId": "5670b2ae-c99b-4764-fc5e-8018ae79d2be"
      },
      "execution_count": null,
      "outputs": [
        {
          "output_type": "execute_result",
          "data": {
            "text/plain": [
              "[('249333', 1),\n",
              " ('xxxxxxxx', 2),\n",
              " ('год', 3),\n",
              " ('xxxxxx', 4),\n",
              " ('xxxxxxx', 5),\n",
              " ('первый', 6),\n",
              " ('время', 7),\n",
              " ('человек', 8),\n",
              " ('introduction', 9),\n",
              " ('один', 10)]"
            ]
          },
          "metadata": {},
          "execution_count": 33
        }
      ]
    },
    {
      "cell_type": "code",
      "source": [
        "MAX_WORDS = len(word2num)\n",
        "MAX_WORDS"
      ],
      "metadata": {
        "colab": {
          "base_uri": "https://localhost:8080/"
        },
        "id": "tj_u0_p5g621",
        "outputId": "9ee3207d-e8b2-40d5-db74-df2519e71357"
      },
      "execution_count": null,
      "outputs": [
        {
          "output_type": "execute_result",
          "data": {
            "text/plain": [
              "205708"
            ]
          },
          "metadata": {},
          "execution_count": 34
        }
      ]
    },
    {
      "cell_type": "code",
      "source": [
        "X_train['Content_sequence_word2num'] = X_train['Content_preprocess'].apply(lambda text: [word2num.get(word, 0) for word in text.split()][:MAX_LEN]+[0]*(MAX_LEN-len(text.split())))\n",
        "X_test['Content_sequence_word2num'] = X_test['Content_preprocess'].apply(lambda text: [word2num.get(word, 0) for word in text.split()][:MAX_LEN]+[0]*(MAX_LEN-len(text.split())))\n",
        "X_train.head()"
      ],
      "metadata": {
        "colab": {
          "base_uri": "https://localhost:8080/",
          "height": 206
        },
        "id": "vSx_SLLxg6w_",
        "outputId": "32686136-fe98-4e27-9d94-8d6bb2379419"
      },
      "execution_count": null,
      "outputs": [
        {
          "output_type": "execute_result",
          "data": {
            "text/plain": [
              "                                          Content        Date  \\\n",
              "2680                              Очень удобно!!!  2017-08-10   \n",
              "844    Не приходит смс код для входа в приложение  2017-08-12   \n",
              "18714                  Пока все удобно и понятно.  2017-07-01   \n",
              "13842       Удобное приложение. Работает отлично.  2017-07-24   \n",
              "11974                  Очень удобное приложение!!  2017-07-28   \n",
              "\n",
              "                        Content_preprocess  \\\n",
              "2680                                удобно   \n",
              "844      приходить смс код вход приложение   \n",
              "18714                       удобно понятно   \n",
              "13842  удобный приложение работать отлично   \n",
              "11974                   удобный приложение   \n",
              "\n",
              "                                        Content_sequence  \\\n",
              "2680   [2, 0, 0, 0, 0, 0, 0, 0, 0, 0, 0, 0, 0, 0, 0, ...   \n",
              "844    [57, 45, 42, 18, 1, 0, 0, 0, 0, 0, 0, 0, 0, 0,...   \n",
              "18714  [2, 46, 0, 0, 0, 0, 0, 0, 0, 0, 0, 0, 0, 0, 0,...   \n",
              "13842  [4, 1, 3, 5, 0, 0, 0, 0, 0, 0, 0, 0, 0, 0, 0, ...   \n",
              "11974  [4, 1, 0, 0, 0, 0, 0, 0, 0, 0, 0, 0, 0, 0, 0, ...   \n",
              "\n",
              "                               Content_sequence_word2num  \n",
              "2680   [32634, 0, 0, 0, 0, 0, 0, 0, 0, 0, 0, 0, 0, 0,...  \n",
              "844    [1126, 21771, 621, 1868, 2235, 0, 0, 0, 0, 0, ...  \n",
              "18714  [32634, 28407, 0, 0, 0, 0, 0, 0, 0, 0, 0, 0, 0...  \n",
              "13842  [2713, 2235, 62, 5154, 0, 0, 0, 0, 0, 0, 0, 0,...  \n",
              "11974  [2713, 2235, 0, 0, 0, 0, 0, 0, 0, 0, 0, 0, 0, ...  "
            ],
            "text/html": [
              "\n",
              "  <div id=\"df-ccf7b9eb-19f2-4e8b-b847-2599dbeca5b9\">\n",
              "    <div class=\"colab-df-container\">\n",
              "      <div>\n",
              "<style scoped>\n",
              "    .dataframe tbody tr th:only-of-type {\n",
              "        vertical-align: middle;\n",
              "    }\n",
              "\n",
              "    .dataframe tbody tr th {\n",
              "        vertical-align: top;\n",
              "    }\n",
              "\n",
              "    .dataframe thead th {\n",
              "        text-align: right;\n",
              "    }\n",
              "</style>\n",
              "<table border=\"1\" class=\"dataframe\">\n",
              "  <thead>\n",
              "    <tr style=\"text-align: right;\">\n",
              "      <th></th>\n",
              "      <th>Content</th>\n",
              "      <th>Date</th>\n",
              "      <th>Content_preprocess</th>\n",
              "      <th>Content_sequence</th>\n",
              "      <th>Content_sequence_word2num</th>\n",
              "    </tr>\n",
              "  </thead>\n",
              "  <tbody>\n",
              "    <tr>\n",
              "      <th>2680</th>\n",
              "      <td>Очень удобно!!!</td>\n",
              "      <td>2017-08-10</td>\n",
              "      <td>удобно</td>\n",
              "      <td>[2, 0, 0, 0, 0, 0, 0, 0, 0, 0, 0, 0, 0, 0, 0, ...</td>\n",
              "      <td>[32634, 0, 0, 0, 0, 0, 0, 0, 0, 0, 0, 0, 0, 0,...</td>\n",
              "    </tr>\n",
              "    <tr>\n",
              "      <th>844</th>\n",
              "      <td>Не приходит смс код для входа в приложение</td>\n",
              "      <td>2017-08-12</td>\n",
              "      <td>приходить смс код вход приложение</td>\n",
              "      <td>[57, 45, 42, 18, 1, 0, 0, 0, 0, 0, 0, 0, 0, 0,...</td>\n",
              "      <td>[1126, 21771, 621, 1868, 2235, 0, 0, 0, 0, 0, ...</td>\n",
              "    </tr>\n",
              "    <tr>\n",
              "      <th>18714</th>\n",
              "      <td>Пока все удобно и понятно.</td>\n",
              "      <td>2017-07-01</td>\n",
              "      <td>удобно понятно</td>\n",
              "      <td>[2, 46, 0, 0, 0, 0, 0, 0, 0, 0, 0, 0, 0, 0, 0,...</td>\n",
              "      <td>[32634, 28407, 0, 0, 0, 0, 0, 0, 0, 0, 0, 0, 0...</td>\n",
              "    </tr>\n",
              "    <tr>\n",
              "      <th>13842</th>\n",
              "      <td>Удобное приложение. Работает отлично.</td>\n",
              "      <td>2017-07-24</td>\n",
              "      <td>удобный приложение работать отлично</td>\n",
              "      <td>[4, 1, 3, 5, 0, 0, 0, 0, 0, 0, 0, 0, 0, 0, 0, ...</td>\n",
              "      <td>[2713, 2235, 62, 5154, 0, 0, 0, 0, 0, 0, 0, 0,...</td>\n",
              "    </tr>\n",
              "    <tr>\n",
              "      <th>11974</th>\n",
              "      <td>Очень удобное приложение!!</td>\n",
              "      <td>2017-07-28</td>\n",
              "      <td>удобный приложение</td>\n",
              "      <td>[4, 1, 0, 0, 0, 0, 0, 0, 0, 0, 0, 0, 0, 0, 0, ...</td>\n",
              "      <td>[2713, 2235, 0, 0, 0, 0, 0, 0, 0, 0, 0, 0, 0, ...</td>\n",
              "    </tr>\n",
              "  </tbody>\n",
              "</table>\n",
              "</div>\n",
              "      <button class=\"colab-df-convert\" onclick=\"convertToInteractive('df-ccf7b9eb-19f2-4e8b-b847-2599dbeca5b9')\"\n",
              "              title=\"Convert this dataframe to an interactive table.\"\n",
              "              style=\"display:none;\">\n",
              "        \n",
              "  <svg xmlns=\"http://www.w3.org/2000/svg\" height=\"24px\"viewBox=\"0 0 24 24\"\n",
              "       width=\"24px\">\n",
              "    <path d=\"M0 0h24v24H0V0z\" fill=\"none\"/>\n",
              "    <path d=\"M18.56 5.44l.94 2.06.94-2.06 2.06-.94-2.06-.94-.94-2.06-.94 2.06-2.06.94zm-11 1L8.5 8.5l.94-2.06 2.06-.94-2.06-.94L8.5 2.5l-.94 2.06-2.06.94zm10 10l.94 2.06.94-2.06 2.06-.94-2.06-.94-.94-2.06-.94 2.06-2.06.94z\"/><path d=\"M17.41 7.96l-1.37-1.37c-.4-.4-.92-.59-1.43-.59-.52 0-1.04.2-1.43.59L10.3 9.45l-7.72 7.72c-.78.78-.78 2.05 0 2.83L4 21.41c.39.39.9.59 1.41.59.51 0 1.02-.2 1.41-.59l7.78-7.78 2.81-2.81c.8-.78.8-2.07 0-2.86zM5.41 20L4 18.59l7.72-7.72 1.47 1.35L5.41 20z\"/>\n",
              "  </svg>\n",
              "      </button>\n",
              "      \n",
              "  <style>\n",
              "    .colab-df-container {\n",
              "      display:flex;\n",
              "      flex-wrap:wrap;\n",
              "      gap: 12px;\n",
              "    }\n",
              "\n",
              "    .colab-df-convert {\n",
              "      background-color: #E8F0FE;\n",
              "      border: none;\n",
              "      border-radius: 50%;\n",
              "      cursor: pointer;\n",
              "      display: none;\n",
              "      fill: #1967D2;\n",
              "      height: 32px;\n",
              "      padding: 0 0 0 0;\n",
              "      width: 32px;\n",
              "    }\n",
              "\n",
              "    .colab-df-convert:hover {\n",
              "      background-color: #E2EBFA;\n",
              "      box-shadow: 0px 1px 2px rgba(60, 64, 67, 0.3), 0px 1px 3px 1px rgba(60, 64, 67, 0.15);\n",
              "      fill: #174EA6;\n",
              "    }\n",
              "\n",
              "    [theme=dark] .colab-df-convert {\n",
              "      background-color: #3B4455;\n",
              "      fill: #D2E3FC;\n",
              "    }\n",
              "\n",
              "    [theme=dark] .colab-df-convert:hover {\n",
              "      background-color: #434B5C;\n",
              "      box-shadow: 0px 1px 3px 1px rgba(0, 0, 0, 0.15);\n",
              "      filter: drop-shadow(0px 1px 2px rgba(0, 0, 0, 0.3));\n",
              "      fill: #FFFFFF;\n",
              "    }\n",
              "  </style>\n",
              "\n",
              "      <script>\n",
              "        const buttonEl =\n",
              "          document.querySelector('#df-ccf7b9eb-19f2-4e8b-b847-2599dbeca5b9 button.colab-df-convert');\n",
              "        buttonEl.style.display =\n",
              "          google.colab.kernel.accessAllowed ? 'block' : 'none';\n",
              "\n",
              "        async function convertToInteractive(key) {\n",
              "          const element = document.querySelector('#df-ccf7b9eb-19f2-4e8b-b847-2599dbeca5b9');\n",
              "          const dataTable =\n",
              "            await google.colab.kernel.invokeFunction('convertToInteractive',\n",
              "                                                     [key], {});\n",
              "          if (!dataTable) return;\n",
              "\n",
              "          const docLinkHtml = 'Like what you see? Visit the ' +\n",
              "            '<a target=\"_blank\" href=https://colab.research.google.com/notebooks/data_table.ipynb>data table notebook</a>'\n",
              "            + ' to learn more about interactive tables.';\n",
              "          element.innerHTML = '';\n",
              "          dataTable['output_type'] = 'display_data';\n",
              "          await google.colab.output.renderOutput(dataTable, element);\n",
              "          const docLink = document.createElement('div');\n",
              "          docLink.innerHTML = docLinkHtml;\n",
              "          element.appendChild(docLink);\n",
              "        }\n",
              "      </script>\n",
              "    </div>\n",
              "  </div>\n",
              "  "
            ]
          },
          "metadata": {},
          "execution_count": 35
        }
      ]
    },
    {
      "cell_type": "code",
      "source": [
        "num2vec = {word2num[i]:j for i,j in word2vec.items()}"
      ],
      "metadata": {
        "id": "g-bVwGfNg6sK"
      },
      "execution_count": null,
      "outputs": []
    },
    {
      "cell_type": "code",
      "source": [
        "embedding_dim = len(list(word2vec.items())[0][1])\n",
        "embedding_dim"
      ],
      "metadata": {
        "id": "2pVlGdPrg6mg"
      },
      "execution_count": null,
      "outputs": []
    },
    {
      "cell_type": "code",
      "source": [
        "zero_vec = [0]*embedding_dim"
      ],
      "metadata": {
        "id": "CXMFASLsg6cU"
      },
      "execution_count": null,
      "outputs": []
    },
    {
      "cell_type": "code",
      "source": [
        "num2vec[0] = zero_vec"
      ],
      "metadata": {
        "id": "EWuyP952g6TV"
      },
      "execution_count": null,
      "outputs": []
    },
    {
      "cell_type": "code",
      "source": [
        "embedding_start_weights = np.array([j for i,j in sorted(num2vec.items(), key=lambda x: x[0])])\n",
        "embedding_start_weights.shape"
      ],
      "metadata": {
        "colab": {
          "base_uri": "https://localhost:8080/"
        },
        "id": "N7whLTrOhQ2e",
        "outputId": "00fc8dda-3137-4412-c7d6-25aa1f5afe8a"
      },
      "execution_count": null,
      "outputs": [
        {
          "output_type": "stream",
          "name": "stderr",
          "text": [
            "<ipython-input-41-8b49ebc23827>:1: VisibleDeprecationWarning: Creating an ndarray from ragged nested sequences (which is a list-or-tuple of lists-or-tuples-or ndarrays with different lengths or shapes) is deprecated. If you meant to do this, you must specify 'dtype=object' when creating the ndarray.\n",
            "  embedding_start_weights = np.array([j for i,j in sorted(num2vec.items(), key=lambda x: x[0])])\n"
          ]
        },
        {
          "output_type": "execute_result",
          "data": {
            "text/plain": [
              "(205709,)"
            ]
          },
          "metadata": {},
          "execution_count": 41
        }
      ]
    },
    {
      "cell_type": "code",
      "source": [
        "X_train_array = np.array([[j for j in i] for i in X_train['Content_sequence_word2num']])\n",
        "X_test_array = np.array([[j for j in i] for i in X_test['Content_sequence_word2num']])\n",
        "X_train_array.shape"
      ],
      "metadata": {
        "colab": {
          "base_uri": "https://localhost:8080/"
        },
        "id": "ejcpP0qIhQp5",
        "outputId": "8d2c2292-3e73-4c86-e747-1e4409207a2f"
      },
      "execution_count": null,
      "outputs": [
        {
          "output_type": "execute_result",
          "data": {
            "text/plain": [
              "(16527, 100)"
            ]
          },
          "metadata": {},
          "execution_count": 42
        }
      ]
    },
    {
      "cell_type": "code",
      "source": [
        "embedding_dim = 300\n",
        "hidden_dim = 512"
      ],
      "metadata": {
        "id": "PMnpz2T2hQe-"
      },
      "execution_count": null,
      "outputs": []
    },
    {
      "cell_type": "code",
      "source": [
        "model = Sequential([\n",
        "    Embedding(MAX_WORDS+1, embedding_dim),\n",
        "    Conv1D(embedding_dim*2, 3),\n",
        "    GlobalMaxPooling1D(),\n",
        "    Dense(hidden_dim, activation='relu'),\n",
        "    Dense(hidden_dim//2, activation='relu'),\n",
        "\n",
        "    Dense(units=5, activation='sigmoid')\n",
        "])"
      ],
      "metadata": {
        "id": "agm_9lEbhQTC"
      },
      "execution_count": null,
      "outputs": []
    },
    {
      "cell_type": "code",
      "source": [
        "model.layers[0].get_weights()[0].shape"
      ],
      "metadata": {
        "colab": {
          "base_uri": "https://localhost:8080/"
        },
        "id": "BIJG6RbehQJ5",
        "outputId": "05c4a079-38c1-46cd-a31d-c47be02e6137"
      },
      "execution_count": null,
      "outputs": [
        {
          "output_type": "execute_result",
          "data": {
            "text/plain": [
              "(205709, 300)"
            ]
          },
          "metadata": {},
          "execution_count": 45
        }
      ]
    },
    {
      "cell_type": "code",
      "source": [
        "embedding_start_weights.shape"
      ],
      "metadata": {
        "colab": {
          "base_uri": "https://localhost:8080/"
        },
        "id": "Qw0qLmi_hQCe",
        "outputId": "2ec48a19-40b9-43a5-dbda-5a45bbf18ecb"
      },
      "execution_count": null,
      "outputs": [
        {
          "output_type": "execute_result",
          "data": {
            "text/plain": [
              "(205709,)"
            ]
          },
          "metadata": {},
          "execution_count": 46
        }
      ]
    },
    {
      "cell_type": "markdown",
      "source": [
        "Инициализируем веса:"
      ],
      "metadata": {
        "id": "BWxp7uAkjvDR"
      }
    },
    {
      "cell_type": "code",
      "source": [
        "model.layers[0].set_weights([embedding_start_weights])"
      ],
      "metadata": {
        "colab": {
          "base_uri": "https://localhost:8080/",
          "height": 287
        },
        "id": "9uAxd_VFhP4k",
        "outputId": "2acba5e1-758a-4544-d853-047b93605700"
      },
      "execution_count": null,
      "outputs": [
        {
          "output_type": "error",
          "ename": "ValueError",
          "evalue": "ignored",
          "traceback": [
            "\u001b[0;31m---------------------------------------------------------------------------\u001b[0m",
            "\u001b[0;31mValueError\u001b[0m                                Traceback (most recent call last)",
            "\u001b[0;32m<ipython-input-47-349178de5905>\u001b[0m in \u001b[0;36m<cell line: 1>\u001b[0;34m()\u001b[0m\n\u001b[0;32m----> 1\u001b[0;31m \u001b[0mmodel\u001b[0m\u001b[0;34m.\u001b[0m\u001b[0mlayers\u001b[0m\u001b[0;34m[\u001b[0m\u001b[0;36m0\u001b[0m\u001b[0;34m]\u001b[0m\u001b[0;34m.\u001b[0m\u001b[0mset_weights\u001b[0m\u001b[0;34m(\u001b[0m\u001b[0;34m[\u001b[0m\u001b[0membedding_start_weights\u001b[0m\u001b[0;34m]\u001b[0m\u001b[0;34m)\u001b[0m\u001b[0;34m\u001b[0m\u001b[0;34m\u001b[0m\u001b[0m\n\u001b[0m",
            "\u001b[0;32m/usr/local/lib/python3.9/dist-packages/keras/engine/base_layer.py\u001b[0m in \u001b[0;36mset_weights\u001b[0;34m(self, weights)\u001b[0m\n\u001b[1;32m   1825\u001b[0m                 \u001b[0mref_shape\u001b[0m \u001b[0;34m=\u001b[0m \u001b[0mparam\u001b[0m\u001b[0;34m.\u001b[0m\u001b[0mshape\u001b[0m\u001b[0;34m\u001b[0m\u001b[0;34m\u001b[0m\u001b[0m\n\u001b[1;32m   1826\u001b[0m                 \u001b[0;32mif\u001b[0m \u001b[0;32mnot\u001b[0m \u001b[0mref_shape\u001b[0m\u001b[0;34m.\u001b[0m\u001b[0mis_compatible_with\u001b[0m\u001b[0;34m(\u001b[0m\u001b[0mweight_shape\u001b[0m\u001b[0;34m)\u001b[0m\u001b[0;34m:\u001b[0m\u001b[0;34m\u001b[0m\u001b[0;34m\u001b[0m\u001b[0m\n\u001b[0;32m-> 1827\u001b[0;31m                     raise ValueError(\n\u001b[0m\u001b[1;32m   1828\u001b[0m                         \u001b[0;34mf\"Layer {self.name} weight shape {ref_shape} \"\u001b[0m\u001b[0;34m\u001b[0m\u001b[0;34m\u001b[0m\u001b[0m\n\u001b[1;32m   1829\u001b[0m                         \u001b[0;34m\"is not compatible with provided weight \"\u001b[0m\u001b[0;34m\u001b[0m\u001b[0;34m\u001b[0m\u001b[0m\n",
            "\u001b[0;31mValueError\u001b[0m: Layer embedding_1 weight shape (205709, 300) is not compatible with provided weight shape (205709,)."
          ]
        }
      ]
    },
    {
      "cell_type": "code",
      "source": [
        "model.build((None, MAX_LEN, embedding_dim))\n",
        "model.summary()\n",
        "model.compile(loss=tf.keras.losses.SparseCategoricalCrossentropy(),\n",
        "              loss_weights=disbalance,\n",
        "              optimizer='adam',\n",
        "              metrics=['accuracy'])"
      ],
      "metadata": {
        "colab": {
          "base_uri": "https://localhost:8080/"
        },
        "id": "_xxKtACHjrIm",
        "outputId": "e7258b26-c138-4149-a0a9-6bf6e32310fb"
      },
      "execution_count": null,
      "outputs": [
        {
          "output_type": "stream",
          "name": "stdout",
          "text": [
            "Model: \"sequential_1\"\n",
            "_________________________________________________________________\n",
            " Layer (type)                Output Shape              Param #   \n",
            "=================================================================\n",
            " embedding_1 (Embedding)     (None, None, 300)         61712700  \n",
            "                                                                 \n",
            " conv1d_1 (Conv1D)           (None, None, 600)         540600    \n",
            "                                                                 \n",
            " global_max_pooling1d_1 (Glo  (None, 600)              0         \n",
            " balMaxPooling1D)                                                \n",
            "                                                                 \n",
            " dense_3 (Dense)             (None, 512)               307712    \n",
            "                                                                 \n",
            " dense_4 (Dense)             (None, 256)               131328    \n",
            "                                                                 \n",
            " dense_5 (Dense)             (None, 5)                 1285      \n",
            "                                                                 \n",
            "=================================================================\n",
            "Total params: 62,693,625\n",
            "Trainable params: 62,693,625\n",
            "Non-trainable params: 0\n",
            "_________________________________________________________________\n"
          ]
        }
      ]
    },
    {
      "cell_type": "code",
      "source": [
        "with tf.device(\"GPU:0\"):\n",
        "  hh = model.fit(X_train_array, y_train_array, validation_data=(X_test_array, y_test_array), epochs=10)"
      ],
      "metadata": {
        "colab": {
          "base_uri": "https://localhost:8080/"
        },
        "id": "E4R3vapMlzd-",
        "outputId": "e2d7277e-b87f-4643-9622-58373a19a6bd"
      },
      "execution_count": null,
      "outputs": [
        {
          "output_type": "stream",
          "name": "stdout",
          "text": [
            "Epoch 1/10\n",
            "517/517 [==============================] - 41s 72ms/step - loss: 6.9520 - accuracy: 0.7629 - val_loss: 6.9886 - val_accuracy: 0.7662\n",
            "Epoch 2/10\n",
            "517/517 [==============================] - 15s 30ms/step - loss: 5.8554 - accuracy: 0.7965 - val_loss: 6.6199 - val_accuracy: 0.7740\n",
            "Epoch 3/10\n",
            "517/517 [==============================] - 12s 24ms/step - loss: 5.0341 - accuracy: 0.8222 - val_loss: 7.0128 - val_accuracy: 0.7640\n",
            "Epoch 4/10\n",
            "517/517 [==============================] - 13s 25ms/step - loss: 4.2882 - accuracy: 0.8542 - val_loss: 7.7749 - val_accuracy: 0.7505\n",
            "Epoch 5/10\n",
            "517/517 [==============================] - 13s 25ms/step - loss: 3.5936 - accuracy: 0.8806 - val_loss: 9.0820 - val_accuracy: 0.7478\n",
            "Epoch 6/10\n",
            "517/517 [==============================] - 11s 21ms/step - loss: 3.0167 - accuracy: 0.9044 - val_loss: 10.6143 - val_accuracy: 0.7466\n",
            "Epoch 7/10\n",
            "517/517 [==============================] - 11s 22ms/step - loss: 2.6563 - accuracy: 0.9155 - val_loss: 11.8314 - val_accuracy: 0.7430\n",
            "Epoch 8/10\n",
            "517/517 [==============================] - 11s 22ms/step - loss: 2.4101 - accuracy: 0.9245 - val_loss: 12.6193 - val_accuracy: 0.7357\n",
            "Epoch 9/10\n",
            "517/517 [==============================] - 12s 24ms/step - loss: 2.2572 - accuracy: 0.9294 - val_loss: 13.3300 - val_accuracy: 0.7386\n",
            "Epoch 10/10\n",
            "517/517 [==============================] - 11s 22ms/step - loss: 2.0612 - accuracy: 0.9370 - val_loss: 14.5046 - val_accuracy: 0.7461\n"
          ]
        }
      ]
    },
    {
      "cell_type": "code",
      "source": [
        "from sklearn.metrics import classification_report"
      ],
      "metadata": {
        "id": "5vqDKzVllzXd"
      },
      "execution_count": null,
      "outputs": []
    },
    {
      "cell_type": "code",
      "source": [
        "print(classification_report(np.argmax(model.predict(X_test_array), axis=1), y_test_array))"
      ],
      "metadata": {
        "colab": {
          "base_uri": "https://localhost:8080/"
        },
        "id": "M2jF-IfqlzS6",
        "outputId": "f6e3a47a-ade8-4e2e-84bf-68045e56241f"
      },
      "execution_count": null,
      "outputs": [
        {
          "output_type": "stream",
          "name": "stdout",
          "text": [
            "130/130 [==============================] - 0s 3ms/step\n",
            "              precision    recall  f1-score   support\n",
            "\n",
            "           0       0.47      0.58      0.52       372\n",
            "           1       0.09      0.14      0.11        98\n",
            "           2       0.15      0.17      0.16       160\n",
            "           3       0.13      0.30      0.19       180\n",
            "           4       0.95      0.83      0.89      3322\n",
            "\n",
            "    accuracy                           0.75      4132\n",
            "   macro avg       0.36      0.41      0.37      4132\n",
            "weighted avg       0.82      0.75      0.78      4132\n",
            "\n"
          ]
        }
      ]
    },
    {
      "cell_type": "markdown",
      "source": [
        "### Теперь попробуем без дообучения, заморозим слой Embedding"
      ],
      "metadata": {
        "id": "3IlRr-66l9q8"
      }
    },
    {
      "cell_type": "code",
      "source": [
        "model = Sequential([\n",
        "    Embedding(MAX_WORDS+1, embedding_dim),\n",
        "    Conv1D(embedding_dim*2, 3),\n",
        "    GlobalMaxPooling1D(),\n",
        "    Dense(hidden_dim, activation='relu'),\n",
        "    Dense(hidden_dim//2, activation='relu'),\n",
        "\n",
        "    Dense(units=5, activation='sigmoid')\n",
        "])"
      ],
      "metadata": {
        "id": "IfOkfjJYlzLZ"
      },
      "execution_count": null,
      "outputs": []
    },
    {
      "cell_type": "code",
      "source": [
        "model.layers[0].set_weights([embedding_start_weights])"
      ],
      "metadata": {
        "colab": {
          "base_uri": "https://localhost:8080/",
          "height": 287
        },
        "id": "mxv7B-qElzEZ",
        "outputId": "7c8aa6ca-7867-471d-e76f-eafb5ed5f6c8"
      },
      "execution_count": null,
      "outputs": [
        {
          "output_type": "error",
          "ename": "ValueError",
          "evalue": "ignored",
          "traceback": [
            "\u001b[0;31m---------------------------------------------------------------------------\u001b[0m",
            "\u001b[0;31mValueError\u001b[0m                                Traceback (most recent call last)",
            "\u001b[0;32m<ipython-input-52-349178de5905>\u001b[0m in \u001b[0;36m<cell line: 1>\u001b[0;34m()\u001b[0m\n\u001b[0;32m----> 1\u001b[0;31m \u001b[0mmodel\u001b[0m\u001b[0;34m.\u001b[0m\u001b[0mlayers\u001b[0m\u001b[0;34m[\u001b[0m\u001b[0;36m0\u001b[0m\u001b[0;34m]\u001b[0m\u001b[0;34m.\u001b[0m\u001b[0mset_weights\u001b[0m\u001b[0;34m(\u001b[0m\u001b[0;34m[\u001b[0m\u001b[0membedding_start_weights\u001b[0m\u001b[0;34m]\u001b[0m\u001b[0;34m)\u001b[0m\u001b[0;34m\u001b[0m\u001b[0;34m\u001b[0m\u001b[0m\n\u001b[0m",
            "\u001b[0;32m/usr/local/lib/python3.9/dist-packages/keras/engine/base_layer.py\u001b[0m in \u001b[0;36mset_weights\u001b[0;34m(self, weights)\u001b[0m\n\u001b[1;32m   1825\u001b[0m                 \u001b[0mref_shape\u001b[0m \u001b[0;34m=\u001b[0m \u001b[0mparam\u001b[0m\u001b[0;34m.\u001b[0m\u001b[0mshape\u001b[0m\u001b[0;34m\u001b[0m\u001b[0;34m\u001b[0m\u001b[0m\n\u001b[1;32m   1826\u001b[0m                 \u001b[0;32mif\u001b[0m \u001b[0;32mnot\u001b[0m \u001b[0mref_shape\u001b[0m\u001b[0;34m.\u001b[0m\u001b[0mis_compatible_with\u001b[0m\u001b[0;34m(\u001b[0m\u001b[0mweight_shape\u001b[0m\u001b[0;34m)\u001b[0m\u001b[0;34m:\u001b[0m\u001b[0;34m\u001b[0m\u001b[0;34m\u001b[0m\u001b[0m\n\u001b[0;32m-> 1827\u001b[0;31m                     raise ValueError(\n\u001b[0m\u001b[1;32m   1828\u001b[0m                         \u001b[0;34mf\"Layer {self.name} weight shape {ref_shape} \"\u001b[0m\u001b[0;34m\u001b[0m\u001b[0;34m\u001b[0m\u001b[0m\n\u001b[1;32m   1829\u001b[0m                         \u001b[0;34m\"is not compatible with provided weight \"\u001b[0m\u001b[0;34m\u001b[0m\u001b[0;34m\u001b[0m\u001b[0m\n",
            "\u001b[0;31mValueError\u001b[0m: Layer embedding_2 weight shape (205709, 300) is not compatible with provided weight shape (205709,)."
          ]
        }
      ]
    },
    {
      "cell_type": "code",
      "source": [
        "model.layers[0].trainable=False"
      ],
      "metadata": {
        "id": "MO4aaWvwly99"
      },
      "execution_count": null,
      "outputs": []
    },
    {
      "cell_type": "code",
      "source": [
        "model.build((None, MAX_LEN, embedding_dim))\n",
        "model.summary()\n",
        "model.compile(loss=tf.keras.losses.SparseCategoricalCrossentropy(),\n",
        "              loss_weights=disbalance,\n",
        "              optimizer='adam',\n",
        "              metrics=['accuracy'])"
      ],
      "metadata": {
        "colab": {
          "base_uri": "https://localhost:8080/"
        },
        "id": "epVNbbI6mIQB",
        "outputId": "ba16d712-f741-435e-bb8f-70211ac9456c"
      },
      "execution_count": null,
      "outputs": [
        {
          "output_type": "stream",
          "name": "stdout",
          "text": [
            "Model: \"sequential_2\"\n",
            "_________________________________________________________________\n",
            " Layer (type)                Output Shape              Param #   \n",
            "=================================================================\n",
            " embedding_2 (Embedding)     (None, None, 300)         61712700  \n",
            "                                                                 \n",
            " conv1d_2 (Conv1D)           (None, None, 600)         540600    \n",
            "                                                                 \n",
            " global_max_pooling1d_2 (Glo  (None, 600)              0         \n",
            " balMaxPooling1D)                                                \n",
            "                                                                 \n",
            " dense_6 (Dense)             (None, 512)               307712    \n",
            "                                                                 \n",
            " dense_7 (Dense)             (None, 256)               131328    \n",
            "                                                                 \n",
            " dense_8 (Dense)             (None, 5)                 1285      \n",
            "                                                                 \n",
            "=================================================================\n",
            "Total params: 62,693,625\n",
            "Trainable params: 980,925\n",
            "Non-trainable params: 61,712,700\n",
            "_________________________________________________________________\n"
          ]
        }
      ]
    },
    {
      "cell_type": "code",
      "source": [
        "with tf.device(\"GPU:0\"):\n",
        "  hh = model.fit(X_train_array, y_train_array, validation_data=(X_test_array, y_test_array), epochs=10)"
      ],
      "metadata": {
        "colab": {
          "base_uri": "https://localhost:8080/"
        },
        "id": "vDJukxIqmIH4",
        "outputId": "c19d389d-69e9-4897-80e4-309f3b1da2ca"
      },
      "execution_count": null,
      "outputs": [
        {
          "output_type": "stream",
          "name": "stdout",
          "text": [
            "Epoch 1/10\n",
            "517/517 [==============================] - 6s 8ms/step - loss: 7.3158 - accuracy: 0.7476 - val_loss: 6.8889 - val_accuracy: 0.7570\n",
            "Epoch 2/10\n",
            "517/517 [==============================] - 3s 6ms/step - loss: 6.4386 - accuracy: 0.7774 - val_loss: 6.7127 - val_accuracy: 0.7633\n",
            "Epoch 3/10\n",
            "517/517 [==============================] - 3s 6ms/step - loss: 5.7616 - accuracy: 0.8023 - val_loss: 6.9189 - val_accuracy: 0.7674\n",
            "Epoch 4/10\n",
            "517/517 [==============================] - 4s 7ms/step - loss: 4.9607 - accuracy: 0.8315 - val_loss: 7.7159 - val_accuracy: 0.7517\n",
            "Epoch 5/10\n",
            "517/517 [==============================] - 4s 7ms/step - loss: 4.1965 - accuracy: 0.8586 - val_loss: 9.0690 - val_accuracy: 0.7623\n",
            "Epoch 6/10\n",
            "517/517 [==============================] - 3s 6ms/step - loss: 3.5986 - accuracy: 0.8822 - val_loss: 9.6861 - val_accuracy: 0.7430\n",
            "Epoch 7/10\n",
            "517/517 [==============================] - 3s 6ms/step - loss: 3.0824 - accuracy: 0.9023 - val_loss: 10.9615 - val_accuracy: 0.7544\n",
            "Epoch 8/10\n",
            "517/517 [==============================] - 5s 10ms/step - loss: 2.9139 - accuracy: 0.9060 - val_loss: 11.5043 - val_accuracy: 0.7473\n",
            "Epoch 9/10\n",
            "517/517 [==============================] - 3s 6ms/step - loss: 2.7018 - accuracy: 0.9160 - val_loss: 12.4630 - val_accuracy: 0.7449\n",
            "Epoch 10/10\n",
            "517/517 [==============================] - 3s 7ms/step - loss: 2.5600 - accuracy: 0.9228 - val_loss: 13.0125 - val_accuracy: 0.7539\n"
          ]
        }
      ]
    },
    {
      "cell_type": "code",
      "source": [
        "print(classification_report(np.argmax(model.predict(X_test_array), axis=1), y_test_array))"
      ],
      "metadata": {
        "colab": {
          "base_uri": "https://localhost:8080/"
        },
        "id": "01FgWvp4mH_T",
        "outputId": "183036fe-d0ea-4468-f413-7f5529ba2744"
      },
      "execution_count": null,
      "outputs": [
        {
          "output_type": "stream",
          "name": "stdout",
          "text": [
            "130/130 [==============================] - 0s 3ms/step\n",
            "              precision    recall  f1-score   support\n",
            "\n",
            "           0       0.62      0.51      0.56       552\n",
            "           1       0.06      0.15      0.08        60\n",
            "           2       0.10      0.14      0.12       125\n",
            "           3       0.14      0.31      0.19       182\n",
            "           4       0.94      0.86      0.90      3213\n",
            "\n",
            "    accuracy                           0.75      4132\n",
            "   macro avg       0.37      0.39      0.37      4132\n",
            "weighted avg       0.82      0.75      0.78      4132\n",
            "\n"
          ]
        }
      ]
    },
    {
      "cell_type": "markdown",
      "source": [
        "### Посмотрим как будет обучаться модель со случайными весами Embedding слоя"
      ],
      "metadata": {
        "id": "4oscdmcrmWMG"
      }
    },
    {
      "cell_type": "code",
      "source": [
        "model = Sequential([\n",
        "    Embedding(MAX_WORDS+1, embedding_dim),\n",
        "    Conv1D(embedding_dim*2, 3),\n",
        "    GlobalMaxPooling1D(),\n",
        "    Dense(hidden_dim, activation='relu'),\n",
        "    Dense(hidden_dim//2, activation='relu'),\n",
        "\n",
        "    Dense(units=5, activation='sigmoid')\n",
        "])"
      ],
      "metadata": {
        "id": "JQKjcDZ2mH2U"
      },
      "execution_count": null,
      "outputs": []
    },
    {
      "cell_type": "code",
      "source": [
        "model.layers[0].trainable=False"
      ],
      "metadata": {
        "id": "m4CjGXP2lyzm"
      },
      "execution_count": null,
      "outputs": []
    },
    {
      "cell_type": "code",
      "source": [
        "model.build((None, MAX_LEN, embedding_dim))\n",
        "model.summary()\n",
        "model.compile(loss=tf.keras.losses.SparseCategoricalCrossentropy(),\n",
        "              loss_weights=disbalance,\n",
        "              optimizer='adam',\n",
        "              metrics=['accuracy'])"
      ],
      "metadata": {
        "colab": {
          "base_uri": "https://localhost:8080/"
        },
        "id": "gbpWzt4amh2i",
        "outputId": "e6b4a891-a262-49d4-9f1b-afab528eca02"
      },
      "execution_count": null,
      "outputs": [
        {
          "output_type": "stream",
          "name": "stdout",
          "text": [
            "Model: \"sequential_3\"\n",
            "_________________________________________________________________\n",
            " Layer (type)                Output Shape              Param #   \n",
            "=================================================================\n",
            " embedding_3 (Embedding)     (None, None, 300)         61712700  \n",
            "                                                                 \n",
            " conv1d_3 (Conv1D)           (None, None, 600)         540600    \n",
            "                                                                 \n",
            " global_max_pooling1d_3 (Glo  (None, 600)              0         \n",
            " balMaxPooling1D)                                                \n",
            "                                                                 \n",
            " dense_9 (Dense)             (None, 512)               307712    \n",
            "                                                                 \n",
            " dense_10 (Dense)            (None, 256)               131328    \n",
            "                                                                 \n",
            " dense_11 (Dense)            (None, 5)                 1285      \n",
            "                                                                 \n",
            "=================================================================\n",
            "Total params: 62,693,625\n",
            "Trainable params: 980,925\n",
            "Non-trainable params: 61,712,700\n",
            "_________________________________________________________________\n"
          ]
        }
      ]
    },
    {
      "cell_type": "code",
      "source": [
        "with tf.device(\"GPU:0\"):\n",
        "  hh = model.fit(X_train_array, y_train_array, validation_data=(X_test_array, y_test_array), epochs=10)"
      ],
      "metadata": {
        "colab": {
          "base_uri": "https://localhost:8080/"
        },
        "id": "iSt93Yd5mhuH",
        "outputId": "aff16bc7-1966-4a9a-c225-c17d5428ca2e"
      },
      "execution_count": null,
      "outputs": [
        {
          "output_type": "stream",
          "name": "stdout",
          "text": [
            "Epoch 1/10\n",
            "517/517 [==============================] - 5s 7ms/step - loss: 7.2980 - accuracy: 0.7522 - val_loss: 6.8244 - val_accuracy: 0.7628\n",
            "Epoch 2/10\n",
            "517/517 [==============================] - 4s 7ms/step - loss: 6.3791 - accuracy: 0.7779 - val_loss: 6.9776 - val_accuracy: 0.7669\n",
            "Epoch 3/10\n",
            "517/517 [==============================] - 3s 6ms/step - loss: 5.6843 - accuracy: 0.8024 - val_loss: 7.0005 - val_accuracy: 0.7587\n",
            "Epoch 4/10\n",
            "517/517 [==============================] - 3s 6ms/step - loss: 4.8692 - accuracy: 0.8323 - val_loss: 7.5687 - val_accuracy: 0.7544\n",
            "Epoch 5/10\n",
            "517/517 [==============================] - 4s 7ms/step - loss: 4.0840 - accuracy: 0.8636 - val_loss: 9.3308 - val_accuracy: 0.7531\n",
            "Epoch 6/10\n",
            "517/517 [==============================] - 4s 7ms/step - loss: 3.5430 - accuracy: 0.8841 - val_loss: 10.0920 - val_accuracy: 0.7348\n",
            "Epoch 7/10\n",
            "517/517 [==============================] - 3s 6ms/step - loss: 3.1262 - accuracy: 0.9003 - val_loss: 11.1243 - val_accuracy: 0.7580\n",
            "Epoch 8/10\n",
            "517/517 [==============================] - 4s 7ms/step - loss: 2.8723 - accuracy: 0.9111 - val_loss: 11.4107 - val_accuracy: 0.7403\n",
            "Epoch 9/10\n",
            "517/517 [==============================] - 4s 7ms/step - loss: 2.5616 - accuracy: 0.9212 - val_loss: 12.9799 - val_accuracy: 0.7425\n",
            "Epoch 10/10\n",
            "517/517 [==============================] - 3s 6ms/step - loss: 2.5196 - accuracy: 0.9225 - val_loss: 13.5146 - val_accuracy: 0.7423\n"
          ]
        }
      ]
    },
    {
      "cell_type": "code",
      "source": [
        "print(classification_report(np.argmax(model.predict(X_test_array), axis=1), y_test_array))"
      ],
      "metadata": {
        "colab": {
          "base_uri": "https://localhost:8080/"
        },
        "id": "4stQrxdomhcO",
        "outputId": "09b37542-d573-484a-9000-57819f40921a"
      },
      "execution_count": null,
      "outputs": [
        {
          "output_type": "stream",
          "name": "stdout",
          "text": [
            "130/130 [==============================] - 1s 5ms/step\n",
            "              precision    recall  f1-score   support\n",
            "\n",
            "           0       0.65      0.48      0.55       620\n",
            "           1       0.05      0.23      0.08        35\n",
            "           2       0.12      0.16      0.14       135\n",
            "           3       0.22      0.26      0.24       336\n",
            "           4       0.90      0.88      0.89      3006\n",
            "\n",
            "    accuracy                           0.74      4132\n",
            "   macro avg       0.39      0.40      0.38      4132\n",
            "weighted avg       0.78      0.74      0.76      4132\n",
            "\n"
          ]
        }
      ]
    },
    {
      "cell_type": "markdown",
      "source": [
        "Метрики остались такими же. Даже со случайными векторами сетка может обучаться до 0.92 accuracy на train.\n",
        "\n",
        "### Вывод:\n",
        "\n",
        "Все результаты оказались приблизительно одинаково плохими, возможно стоит обратить внимание на сами данные и как делается их предобработка. Так же можно попробывать dropout и batchnorm чтоби снизить явное переобучение. Возможно стоит поискать word2vec веса получше. \n",
        "\n",
        "Стоит отметить, что метрика на train при обучении Embedding без предобученных весов оказалась выше. Так как модель начала быстро затачиваться под конкретные слова и набирать большую метрику.\n",
        "\n",
        "Так как в последнем эксперименте сетка смогла обучиться даже на случайных векторах (хотя метрика на train меньше, чем когда мы обучали слой Embedding), то очевидно, что проблема в переобучении. Поэтому есть веский повод попробывать заменить некоторые слова на сущности/тэги, которые так кстати давались вместе с word2vec данными. Тогда переобучение должно будет уменьшиться."
      ],
      "metadata": {
        "id": "RlpypnvNpmMb"
      }
    }
  ],
  "metadata": {
    "kernelspec": {
      "display_name": "Python 3 (ipykernel)",
      "language": "python",
      "name": "python3"
    },
    "language_info": {
      "codemirror_mode": {
        "name": "ipython",
        "version": 3
      },
      "file_extension": ".py",
      "mimetype": "text/x-python",
      "name": "python",
      "nbconvert_exporter": "python",
      "pygments_lexer": "ipython3",
      "version": "3.10.9"
    },
    "colab": {
      "provenance": [],
      "include_colab_link": true
    },
    "accelerator": "GPU",
    "gpuClass": "standard"
  },
  "nbformat": 4,
  "nbformat_minor": 0
}